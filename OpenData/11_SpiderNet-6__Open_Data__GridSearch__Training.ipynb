{
 "cells": [
  {
   "cell_type": "markdown",
   "metadata": {},
   "source": [
    "# Data preprocessing, GridSearch and Training SpiderNet-6 on Open Data"
   ]
  },
  {
   "cell_type": "code",
   "execution_count": 1,
   "metadata": {},
   "outputs": [
    {
     "name": "stderr",
     "output_type": "stream",
     "text": [
      "C:\\Anaconda3\\lib\\site-packages\\sklearn\\utils\\deprecation.py:144: FutureWarning: The sklearn.ensemble.forest module is  deprecated in version 0.22 and will be removed in version 0.24. The corresponding classes / functions should instead be imported from sklearn.ensemble. Anything that cannot be imported from sklearn.ensemble is now part of the private API.\n",
      "  warnings.warn(message, FutureWarning)\n"
     ]
    }
   ],
   "source": [
    "import numpy as np\n",
    "from numpy import array\n",
    "import pandas as pd\n",
    "\n",
    "from sklearn.ensemble import RandomForestClassifier\n",
    "from sklearn.model_selection import train_test_split\n",
    "from sklearn.decomposition import PCA\n",
    "\n",
    "import math\n",
    "\n",
    "import matplotlib.pylab as plt\n",
    "from matplotlib.pyplot import cm\n",
    "import seaborn as sns\n",
    "import itertools\n",
    "import collections\n",
    "from collections import OrderedDict, Counter\n",
    "\n",
    "import scipy.stats as stats\n",
    "from scipy.stats import normaltest, kstest, ttest_ind, ttest_rel, mannwhitneyu, wilcoxon, levene, bartlett\n",
    "from scipy.stats import chi2_contingency, fisher_exact, mode, pearsonr, f_oneway, kruskal, spearmanr\n",
    "\n",
    "from rfpimp import *\n",
    "\n",
    "from datetime import datetime\n",
    "import re\n",
    "from seaborn import heatmap\n",
    "import random\n",
    "import statsmodels.distributions.empirical_distribution as edf\n",
    "from scipy.interpolate import interp1d\n",
    "from statsmodels.stats.outliers_influence import variance_inflation_factor\n",
    "\n",
    "from sklearn.utils import resample\n",
    "from functools import reduce\n",
    "from sklearn.model_selection import KFold, StratifiedKFold, cross_val_score\n",
    "\n",
    "from sklearn import metrics, preprocessing\n",
    "from sklearn.metrics import roc_auc_score, average_precision_score, f1_score, log_loss, recall_score\n",
    "from sklearn.preprocessing import OneHotEncoder, LabelEncoder, StandardScaler, PowerTransformer\n",
    "\n",
    "from sklearn.utils import check_consistent_length, column_or_1d, assert_all_finite\n",
    "from sklearn.utils.extmath import stable_cumsum\n",
    "from sklearn.utils.multiclass import type_of_target\n",
    "from sklearn.linear_model import LogisticRegression\n",
    "import re\n",
    "import gc\n",
    "\n",
    "import os\n",
    "\n",
    "#from sklearn.externals import joblib\n",
    "import joblib\n",
    "\n",
    "from importlib import reload\n",
    "import Filter_and_Grid_Search\n",
    "Filter_and_Grid_Search = reload(Filter_and_Grid_Search)\n",
    "from Filter_and_Grid_Search import stratified_split\n",
    "from Filter_and_Grid_Search import attributes_list, attributes_list_new\n",
    "from Filter_and_Grid_Search import get_s_stat, get_PSI_stat, get_stats_by_month, get_stats, stable_unstable\n",
    "from Filter_and_Grid_Search import stable_unstable_by_month_divide, union_datas, individual_hists_all \n",
    "from Filter_and_Grid_Search import paired_time_hists_by_month, statistics_with_target\n",
    "from Filter_and_Grid_Search import receive_correlations, find_doubles_corr\n",
    "from Filter_and_Grid_Search import statistics_with_target, attributes_list, attributes_list_new, make_standard\n",
    "from Filter_and_Grid_Search import data_preprocessing_train, data_preprocessing_test\n",
    "from Filter_and_Grid_Search import receive_correlations, find_doubles_corr\n",
    "from Filter_and_Grid_Search import stratified_split, two_forests, turn_variables_with_values\n",
    "from Filter_and_Grid_Search import find_meta_params, calculate_vif#, find_meta_params_mem\n",
    "from Filter_and_Grid_Search import plot_meta_2d, data_preprocessing, find_ouliers_iqr\n",
    "from Filter_and_Grid_Search import train_model_receive_stats, simple_b_score_risk\n",
    "from Filter_and_Grid_Search import max_prof_corve, by_month_gini, check_attribute_list_cases\n",
    "\n",
    "from Filter_and_Grid_Search import to_zip, br_correction, br_stat\n",
    "\n",
    "from statsmodels.stats.proportion import proportions_ztest\n",
    "\n",
    "from sklearn.model_selection import GridSearchCV, RandomizedSearchCV\n",
    "import pathlib\n",
    "import psutil"
   ]
  },
  {
   "cell_type": "code",
   "execution_count": 2,
   "metadata": {},
   "outputs": [
    {
     "name": "stdout",
     "output_type": "stream",
     "text": [
      "D:/Share/01 -Risk Desc Science/AntiFraud/Chinese_data/Datasets/\n",
      "D:/Share/safanasev/Python-notebook/AF_ML_chinese/\n"
     ]
    }
   ],
   "source": [
    "PATH_DATA = 'D:/Share/01 -Risk Desc Science/AntiFraud/Chinese_data/Datasets/'\n",
    "PATH = 'D:/Share/safanasev/Python-notebook/AF_ML_chinese/'\n",
    "print(PATH_DATA)\n",
    "print(PATH)"
   ]
  },
  {
   "cell_type": "code",
   "execution_count": 24,
   "metadata": {},
   "outputs": [],
   "source": [
    "train_data = 'Chinese_train.csv'\n",
    "#test_data  = 'Chinese_forest.csv'\n",
    "val_data   = 'Chinese_valid.csv'"
   ]
  },
  {
   "cell_type": "code",
   "execution_count": 25,
   "metadata": {},
   "outputs": [],
   "source": [
    "task = 'binary'\n",
    "missing_strings = 'MISSING'\n",
    "p_value = 0.05\n",
    "target_dict = {'good': 0, 'bad': 1}"
   ]
  },
  {
   "cell_type": "code",
   "execution_count": 27,
   "metadata": {},
   "outputs": [],
   "source": [
    "target = 'LABEL'\n",
    "index_month = 'MONTH'\n",
    "list_of_vars_for_strat = ['MONTH']\n",
    "sort_by_var = 'ID'\n",
    "\n",
    "necessary_fields = [target, index_month, sort_by_var]\n",
    "\n",
    "COL_DEL = ['Unnamed: 0'] \n",
    "COL_DEL = [x.upper() for x in COL_DEL]\n",
    "COL_TRG = target"
   ]
  },
  {
   "cell_type": "code",
   "execution_count": 28,
   "metadata": {},
   "outputs": [
    {
     "data": {
      "text/plain": [
       "['UNNAMED: 0']"
      ]
     },
     "execution_count": 28,
     "metadata": {},
     "output_type": "execute_result"
    }
   ],
   "source": [
    "COL_DEL"
   ]
  },
  {
   "cell_type": "code",
   "execution_count": 29,
   "metadata": {},
   "outputs": [
    {
     "data": {
      "text/plain": [
       "['LABEL', 'MONTH', 'ID']"
      ]
     },
     "execution_count": 29,
     "metadata": {},
     "output_type": "execute_result"
    }
   ],
   "source": [
    "necessary_fields"
   ]
  },
  {
   "cell_type": "code",
   "execution_count": 30,
   "metadata": {},
   "outputs": [],
   "source": [
    "n_jobs = 3"
   ]
  },
  {
   "cell_type": "code",
   "execution_count": 31,
   "metadata": {},
   "outputs": [],
   "source": [
    "path_train_data = PATH_DATA  +  train_data\n",
    "#path_train_data = PATH_DATA + val_data"
   ]
  },
  {
   "cell_type": "markdown",
   "metadata": {},
   "source": [
    "## Start of selection"
   ]
  },
  {
   "cell_type": "code",
   "execution_count": 32,
   "metadata": {},
   "outputs": [],
   "source": [
    "data = pd.read_csv(path_train_data, sep = '&', encoding = 'cp1251'\n",
    "                   #, index_col = 0\n",
    "                   , nrows = 10\n",
    "                  )\n",
    "data_columns = data.columns"
   ]
  },
  {
   "cell_type": "code",
   "execution_count": 33,
   "metadata": {},
   "outputs": [
    {
     "data": {
      "text/html": [
       "<div>\n",
       "<style scoped>\n",
       "    .dataframe tbody tr th:only-of-type {\n",
       "        vertical-align: middle;\n",
       "    }\n",
       "\n",
       "    .dataframe tbody tr th {\n",
       "        vertical-align: top;\n",
       "    }\n",
       "\n",
       "    .dataframe thead th {\n",
       "        text-align: right;\n",
       "    }\n",
       "</style>\n",
       "<table border=\"1\" class=\"dataframe\">\n",
       "  <thead>\n",
       "    <tr style=\"text-align: right;\">\n",
       "      <th></th>\n",
       "      <th>Unnamed: 0</th>\n",
       "      <th>ID</th>\n",
       "      <th>DATE</th>\n",
       "      <th>F1</th>\n",
       "      <th>F2</th>\n",
       "      <th>F3</th>\n",
       "      <th>F4</th>\n",
       "      <th>F5</th>\n",
       "      <th>F6</th>\n",
       "      <th>F7</th>\n",
       "      <th>...</th>\n",
       "      <th>F289</th>\n",
       "      <th>F290</th>\n",
       "      <th>F291</th>\n",
       "      <th>F292</th>\n",
       "      <th>F293</th>\n",
       "      <th>F294</th>\n",
       "      <th>F295</th>\n",
       "      <th>F296</th>\n",
       "      <th>F297</th>\n",
       "      <th>LABEL</th>\n",
       "    </tr>\n",
       "  </thead>\n",
       "  <tbody>\n",
       "    <tr>\n",
       "      <th>0</th>\n",
       "      <td>0</td>\n",
       "      <td>d861929b67938d06538b910b9f6b85f5eb62b6ad7361ba...</td>\n",
       "      <td>20170917</td>\n",
       "      <td>0</td>\n",
       "      <td>1</td>\n",
       "      <td>1</td>\n",
       "      <td>1</td>\n",
       "      <td>100805.0</td>\n",
       "      <td>1</td>\n",
       "      <td>5</td>\n",
       "      <td>...</td>\n",
       "      <td>324.0</td>\n",
       "      <td>391.0</td>\n",
       "      <td>13.0</td>\n",
       "      <td>302.0</td>\n",
       "      <td>160.0</td>\n",
       "      <td>160.0</td>\n",
       "      <td>161.0</td>\n",
       "      <td>8.0</td>\n",
       "      <td>160.0</td>\n",
       "      <td>0</td>\n",
       "    </tr>\n",
       "    <tr>\n",
       "      <th>1</th>\n",
       "      <td>1</td>\n",
       "      <td>9fa009724ee7ff9d688ae321304fbc78f608cdabbfdd2b...</td>\n",
       "      <td>20171029</td>\n",
       "      <td>0</td>\n",
       "      <td>0</td>\n",
       "      <td>0</td>\n",
       "      <td>1</td>\n",
       "      <td>100807.0</td>\n",
       "      <td>1</td>\n",
       "      <td>4</td>\n",
       "      <td>...</td>\n",
       "      <td>322.0</td>\n",
       "      <td>341.0</td>\n",
       "      <td>57.0</td>\n",
       "      <td>251.0</td>\n",
       "      <td>175.0</td>\n",
       "      <td>176.0</td>\n",
       "      <td>176.0</td>\n",
       "      <td>49.0</td>\n",
       "      <td>150.0</td>\n",
       "      <td>0</td>\n",
       "    </tr>\n",
       "    <tr>\n",
       "      <th>2</th>\n",
       "      <td>2</td>\n",
       "      <td>1da482485d7e8bcefae7e9d0d1167cec3ac111cfa71d8b...</td>\n",
       "      <td>20171002</td>\n",
       "      <td>1</td>\n",
       "      <td>1</td>\n",
       "      <td>0</td>\n",
       "      <td>1</td>\n",
       "      <td>100805.0</td>\n",
       "      <td>1</td>\n",
       "      <td>5</td>\n",
       "      <td>...</td>\n",
       "      <td>301.0</td>\n",
       "      <td>301.0</td>\n",
       "      <td>74.0</td>\n",
       "      <td>302.0</td>\n",
       "      <td>182.0</td>\n",
       "      <td>181.0</td>\n",
       "      <td>182.0</td>\n",
       "      <td>51.0</td>\n",
       "      <td>181.0</td>\n",
       "      <td>0</td>\n",
       "    </tr>\n",
       "    <tr>\n",
       "      <th>3</th>\n",
       "      <td>3</td>\n",
       "      <td>81b481d377dc060f6c3249d086d28b0fb4c3781a72927d...</td>\n",
       "      <td>20171012</td>\n",
       "      <td>0</td>\n",
       "      <td>0</td>\n",
       "      <td>1</td>\n",
       "      <td>1</td>\n",
       "      <td>100802.0</td>\n",
       "      <td>0</td>\n",
       "      <td>6</td>\n",
       "      <td>...</td>\n",
       "      <td>6.0</td>\n",
       "      <td>5.0</td>\n",
       "      <td>5.0</td>\n",
       "      <td>6.0</td>\n",
       "      <td>2.0</td>\n",
       "      <td>1.0</td>\n",
       "      <td>2.0</td>\n",
       "      <td>2.0</td>\n",
       "      <td>2.0</td>\n",
       "      <td>0</td>\n",
       "    </tr>\n",
       "    <tr>\n",
       "      <th>4</th>\n",
       "      <td>4</td>\n",
       "      <td>19d100ff146a203f0e558fd60534b8ece650be4ecb4564...</td>\n",
       "      <td>20171027</td>\n",
       "      <td>1</td>\n",
       "      <td>0</td>\n",
       "      <td>0</td>\n",
       "      <td>1</td>\n",
       "      <td>100802.0</td>\n",
       "      <td>0</td>\n",
       "      <td>6</td>\n",
       "      <td>...</td>\n",
       "      <td>314.0</td>\n",
       "      <td>321.0</td>\n",
       "      <td>150.0</td>\n",
       "      <td>302.0</td>\n",
       "      <td>189.0</td>\n",
       "      <td>188.0</td>\n",
       "      <td>189.0</td>\n",
       "      <td>92.0</td>\n",
       "      <td>188.0</td>\n",
       "      <td>0</td>\n",
       "    </tr>\n",
       "    <tr>\n",
       "      <th>5</th>\n",
       "      <td>5</td>\n",
       "      <td>49ff13e491c3e4c680cdf39e9b3b85560a4bb80994ac63...</td>\n",
       "      <td>20170926</td>\n",
       "      <td>1</td>\n",
       "      <td>1</td>\n",
       "      <td>1</td>\n",
       "      <td>1</td>\n",
       "      <td>100802.0</td>\n",
       "      <td>0</td>\n",
       "      <td>7</td>\n",
       "      <td>...</td>\n",
       "      <td>1.0</td>\n",
       "      <td>1.0</td>\n",
       "      <td>1.0</td>\n",
       "      <td>2.0</td>\n",
       "      <td>2.0</td>\n",
       "      <td>1.0</td>\n",
       "      <td>2.0</td>\n",
       "      <td>2.0</td>\n",
       "      <td>2.0</td>\n",
       "      <td>0</td>\n",
       "    </tr>\n",
       "    <tr>\n",
       "      <th>6</th>\n",
       "      <td>6</td>\n",
       "      <td>ee3adc3a1b88a30297f86cf77c0fcd1d5c17653f1a9828...</td>\n",
       "      <td>20171011</td>\n",
       "      <td>1</td>\n",
       "      <td>1</td>\n",
       "      <td>1</td>\n",
       "      <td>0</td>\n",
       "      <td>100804.0</td>\n",
       "      <td>0</td>\n",
       "      <td>2</td>\n",
       "      <td>...</td>\n",
       "      <td>356.0</td>\n",
       "      <td>613.0</td>\n",
       "      <td>82.0</td>\n",
       "      <td>216.0</td>\n",
       "      <td>155.0</td>\n",
       "      <td>156.0</td>\n",
       "      <td>155.0</td>\n",
       "      <td>52.0</td>\n",
       "      <td>116.0</td>\n",
       "      <td>0</td>\n",
       "    </tr>\n",
       "    <tr>\n",
       "      <th>7</th>\n",
       "      <td>7</td>\n",
       "      <td>741b5ae5f9f722faca496194ace8bc7920edb8fa1d4477...</td>\n",
       "      <td>20171104</td>\n",
       "      <td>0</td>\n",
       "      <td>0</td>\n",
       "      <td>1</td>\n",
       "      <td>1</td>\n",
       "      <td>100807.0</td>\n",
       "      <td>0</td>\n",
       "      <td>1</td>\n",
       "      <td>...</td>\n",
       "      <td>305.0</td>\n",
       "      <td>321.0</td>\n",
       "      <td>246.0</td>\n",
       "      <td>301.0</td>\n",
       "      <td>132.0</td>\n",
       "      <td>133.0</td>\n",
       "      <td>133.0</td>\n",
       "      <td>100.0</td>\n",
       "      <td>131.0</td>\n",
       "      <td>0</td>\n",
       "    </tr>\n",
       "    <tr>\n",
       "      <th>8</th>\n",
       "      <td>8</td>\n",
       "      <td>fa592b16296ad2b2af574bca9d07a48cb2e5fc4e213a34...</td>\n",
       "      <td>20170916</td>\n",
       "      <td>0</td>\n",
       "      <td>1</td>\n",
       "      <td>1</td>\n",
       "      <td>1</td>\n",
       "      <td>100804.0</td>\n",
       "      <td>0</td>\n",
       "      <td>1</td>\n",
       "      <td>...</td>\n",
       "      <td>12.0</td>\n",
       "      <td>14.0</td>\n",
       "      <td>2.0</td>\n",
       "      <td>1.0</td>\n",
       "      <td>2.0</td>\n",
       "      <td>1.0</td>\n",
       "      <td>2.0</td>\n",
       "      <td>2.0</td>\n",
       "      <td>2.0</td>\n",
       "      <td>0</td>\n",
       "    </tr>\n",
       "    <tr>\n",
       "      <th>9</th>\n",
       "      <td>9</td>\n",
       "      <td>6970c7e69aaec5efba9d6daf130d9ff632bf2f714f5c44...</td>\n",
       "      <td>20171030</td>\n",
       "      <td>1</td>\n",
       "      <td>0</td>\n",
       "      <td>0</td>\n",
       "      <td>1</td>\n",
       "      <td>100803.0</td>\n",
       "      <td>0</td>\n",
       "      <td>5</td>\n",
       "      <td>...</td>\n",
       "      <td>341.0</td>\n",
       "      <td>379.0</td>\n",
       "      <td>129.0</td>\n",
       "      <td>301.0</td>\n",
       "      <td>203.0</td>\n",
       "      <td>202.0</td>\n",
       "      <td>203.0</td>\n",
       "      <td>100.0</td>\n",
       "      <td>202.0</td>\n",
       "      <td>0</td>\n",
       "    </tr>\n",
       "  </tbody>\n",
       "</table>\n",
       "<p>10 rows × 301 columns</p>\n",
       "</div>"
      ],
      "text/plain": [
       "   Unnamed: 0                                                 ID      DATE  \\\n",
       "0           0  d861929b67938d06538b910b9f6b85f5eb62b6ad7361ba...  20170917   \n",
       "1           1  9fa009724ee7ff9d688ae321304fbc78f608cdabbfdd2b...  20171029   \n",
       "2           2  1da482485d7e8bcefae7e9d0d1167cec3ac111cfa71d8b...  20171002   \n",
       "3           3  81b481d377dc060f6c3249d086d28b0fb4c3781a72927d...  20171012   \n",
       "4           4  19d100ff146a203f0e558fd60534b8ece650be4ecb4564...  20171027   \n",
       "5           5  49ff13e491c3e4c680cdf39e9b3b85560a4bb80994ac63...  20170926   \n",
       "6           6  ee3adc3a1b88a30297f86cf77c0fcd1d5c17653f1a9828...  20171011   \n",
       "7           7  741b5ae5f9f722faca496194ace8bc7920edb8fa1d4477...  20171104   \n",
       "8           8  fa592b16296ad2b2af574bca9d07a48cb2e5fc4e213a34...  20170916   \n",
       "9           9  6970c7e69aaec5efba9d6daf130d9ff632bf2f714f5c44...  20171030   \n",
       "\n",
       "   F1  F2  F3  F4        F5  F6  F7  ...   F289   F290   F291   F292   F293  \\\n",
       "0   0   1   1   1  100805.0   1   5  ...  324.0  391.0   13.0  302.0  160.0   \n",
       "1   0   0   0   1  100807.0   1   4  ...  322.0  341.0   57.0  251.0  175.0   \n",
       "2   1   1   0   1  100805.0   1   5  ...  301.0  301.0   74.0  302.0  182.0   \n",
       "3   0   0   1   1  100802.0   0   6  ...    6.0    5.0    5.0    6.0    2.0   \n",
       "4   1   0   0   1  100802.0   0   6  ...  314.0  321.0  150.0  302.0  189.0   \n",
       "5   1   1   1   1  100802.0   0   7  ...    1.0    1.0    1.0    2.0    2.0   \n",
       "6   1   1   1   0  100804.0   0   2  ...  356.0  613.0   82.0  216.0  155.0   \n",
       "7   0   0   1   1  100807.0   0   1  ...  305.0  321.0  246.0  301.0  132.0   \n",
       "8   0   1   1   1  100804.0   0   1  ...   12.0   14.0    2.0    1.0    2.0   \n",
       "9   1   0   0   1  100803.0   0   5  ...  341.0  379.0  129.0  301.0  203.0   \n",
       "\n",
       "    F294   F295   F296   F297  LABEL  \n",
       "0  160.0  161.0    8.0  160.0      0  \n",
       "1  176.0  176.0   49.0  150.0      0  \n",
       "2  181.0  182.0   51.0  181.0      0  \n",
       "3    1.0    2.0    2.0    2.0      0  \n",
       "4  188.0  189.0   92.0  188.0      0  \n",
       "5    1.0    2.0    2.0    2.0      0  \n",
       "6  156.0  155.0   52.0  116.0      0  \n",
       "7  133.0  133.0  100.0  131.0      0  \n",
       "8    1.0    2.0    2.0    2.0      0  \n",
       "9  202.0  203.0  100.0  202.0      0  \n",
       "\n",
       "[10 rows x 301 columns]"
      ]
     },
     "execution_count": 33,
     "metadata": {},
     "output_type": "execute_result"
    }
   ],
   "source": [
    "data"
   ]
  },
  {
   "cell_type": "code",
   "execution_count": 13,
   "metadata": {},
   "outputs": [
    {
     "data": {
      "text/plain": [
       "'D:/Share/01 -Risk Desc Science/AntiFraud/Data Sets/antifraud_data_train_with_2014.csv'"
      ]
     },
     "execution_count": 13,
     "metadata": {},
     "output_type": "execute_result"
    }
   ],
   "source": [
    "path_train_data"
   ]
  },
  {
   "cell_type": "code",
   "execution_count": 8,
   "metadata": {},
   "outputs": [
    {
     "name": "stdout",
     "output_type": "stream",
     "text": [
      "Unnamed: 0\n",
      "ID\n",
      "DATE\n",
      "F1\n",
      "F2\n",
      "F3\n",
      "F4\n",
      "F5\n",
      "F6\n",
      "F7\n",
      "F8\n",
      "F9\n",
      "F10\n",
      "F11\n",
      "F12\n",
      "F13\n",
      "F14\n",
      "F15\n",
      "F16\n",
      "F17\n",
      "F18\n",
      "F19\n",
      "F20\n",
      "F21\n",
      "F22\n",
      "F23\n",
      "F24\n",
      "F25\n",
      "F26\n",
      "F27\n",
      "F28\n",
      "F29\n",
      "F30\n",
      "F31\n",
      "F32\n",
      "F33\n",
      "F34\n",
      "F35\n",
      "F36\n",
      "F37\n",
      "F38\n",
      "F39\n",
      "F40\n",
      "F41\n",
      "F42\n",
      "F43\n",
      "F44\n",
      "F45\n",
      "F46\n",
      "F47\n",
      "F48\n",
      "F49\n",
      "F50\n",
      "F51\n",
      "F52\n",
      "F53\n",
      "F54\n",
      "F55\n",
      "F56\n",
      "F57\n",
      "F58\n",
      "F59\n",
      "F60\n",
      "F61\n",
      "F62\n",
      "F63\n",
      "F64\n",
      "F65\n",
      "F66\n",
      "F67\n",
      "F68\n",
      "F69\n",
      "F70\n",
      "F71\n",
      "F72\n",
      "F73\n",
      "F74\n",
      "F75\n",
      "F76\n",
      "F77\n",
      "F78\n",
      "F79\n",
      "F80\n",
      "F81\n",
      "F82\n",
      "F83\n",
      "F84\n",
      "F85\n",
      "F86\n",
      "F87\n",
      "F88\n",
      "F89\n",
      "F90\n",
      "F91\n",
      "F92\n",
      "F93\n",
      "F94\n",
      "F95\n",
      "F96\n",
      "F97\n",
      "F98\n",
      "F99\n",
      "F100\n",
      "F101\n",
      "F102\n",
      "F103\n",
      "F104\n",
      "F105\n",
      "F106\n",
      "F107\n",
      "F108\n",
      "F109\n",
      "F110\n",
      "F111\n",
      "F112\n",
      "F113\n",
      "F114\n",
      "F115\n",
      "F116\n",
      "F117\n",
      "F118\n",
      "F119\n",
      "F120\n",
      "F121\n",
      "F122\n",
      "F123\n",
      "F124\n",
      "F125\n",
      "F126\n",
      "F127\n",
      "F128\n",
      "F129\n",
      "F130\n",
      "F131\n",
      "F132\n",
      "F133\n",
      "F134\n",
      "F135\n",
      "F136\n",
      "F137\n",
      "F138\n",
      "F139\n",
      "F140\n",
      "F141\n",
      "F142\n",
      "F143\n",
      "F144\n",
      "F145\n",
      "F146\n",
      "F147\n",
      "F148\n",
      "F149\n",
      "F150\n",
      "F151\n",
      "F152\n",
      "F153\n",
      "F154\n",
      "F155\n",
      "F156\n",
      "F157\n",
      "F158\n",
      "F159\n",
      "F160\n",
      "F161\n",
      "F162\n",
      "F163\n",
      "F164\n",
      "F165\n",
      "F166\n",
      "F167\n",
      "F168\n",
      "F169\n",
      "F170\n",
      "F171\n",
      "F172\n",
      "F173\n",
      "F174\n",
      "F175\n",
      "F176\n",
      "F177\n",
      "F178\n",
      "F179\n",
      "F180\n",
      "F181\n",
      "F182\n",
      "F183\n",
      "F184\n",
      "F185\n",
      "F186\n",
      "F187\n",
      "F188\n",
      "F189\n",
      "F190\n",
      "F191\n",
      "F192\n",
      "F193\n",
      "F194\n",
      "F195\n",
      "F196\n",
      "F197\n",
      "F198\n",
      "F199\n",
      "F200\n",
      "F201\n",
      "F202\n",
      "F203\n",
      "F204\n",
      "F205\n",
      "F206\n",
      "F207\n",
      "F208\n",
      "F209\n",
      "F210\n",
      "F211\n",
      "F212\n",
      "F213\n",
      "F214\n",
      "F215\n",
      "F216\n",
      "F217\n",
      "F218\n",
      "F219\n",
      "F220\n",
      "F221\n",
      "F222\n",
      "F223\n",
      "F224\n",
      "F225\n",
      "F226\n",
      "F227\n",
      "F228\n",
      "F229\n",
      "F230\n",
      "F231\n",
      "F232\n",
      "F233\n",
      "F234\n",
      "F235\n",
      "F236\n",
      "F237\n",
      "F238\n",
      "F239\n",
      "F240\n",
      "F241\n",
      "F242\n",
      "F243\n",
      "F244\n",
      "F245\n",
      "F246\n",
      "F247\n",
      "F248\n",
      "F249\n",
      "F250\n",
      "F251\n",
      "F252\n",
      "F253\n",
      "F254\n",
      "F255\n",
      "F256\n",
      "F257\n",
      "F258\n",
      "F259\n",
      "F260\n",
      "F261\n",
      "F262\n",
      "F263\n",
      "F264\n",
      "F265\n",
      "F266\n",
      "F267\n",
      "F268\n",
      "F269\n",
      "F270\n",
      "F271\n",
      "F272\n",
      "F273\n",
      "F274\n",
      "F275\n",
      "F276\n",
      "F277\n",
      "F278\n",
      "F279\n",
      "F280\n",
      "F281\n",
      "F282\n",
      "F283\n",
      "F284\n",
      "F285\n",
      "F286\n",
      "F287\n",
      "F288\n",
      "F289\n",
      "F290\n",
      "F291\n",
      "F292\n",
      "F293\n",
      "F294\n",
      "F295\n",
      "F296\n",
      "F297\n",
      "LABEL\n"
     ]
    }
   ],
   "source": [
    "for k in data_columns:\n",
    "    print(k)"
   ]
  },
  {
   "cell_type": "code",
   "execution_count": 34,
   "metadata": {},
   "outputs": [
    {
     "data": {
      "text/plain": [
       "{'LABEL': 'int', 'MONTH': 'int', 'ID': 'int'}"
      ]
     },
     "execution_count": 34,
     "metadata": {},
     "output_type": "execute_result"
    }
   ],
   "source": [
    "type_cols = {c:'int' for c in necessary_fields}\n",
    "type_cols"
   ]
  },
  {
   "cell_type": "code",
   "execution_count": 27,
   "metadata": {},
   "outputs": [],
   "source": [
    "col_out = ['APPPOSID', 'PERIOD_7', 'SUB_CHANNEL', 'COUNT_APP_7', 'DIVISION', 'MONTH_YEAR', 'BAD_FLAG',\n",
    "          'COUNT_APP_7' , 'COUNT_CONT_7' , 'COUNT_APP_14' , 'COUNT_CONT_14' , 'COUNT_APP_30' , 'COUNT_CONT_30',\n",
    "           'COUNT_APP_60', 'COUNT_CONT_60']"
   ]
  },
  {
   "cell_type": "code",
   "execution_count": 28,
   "metadata": {},
   "outputs": [],
   "source": [
    "data_1 = data = pd.read_csv(path_train_data, sep = '&', encoding = 'utf-8', usecols = [c for c in col_out])"
   ]
  },
  {
   "cell_type": "code",
   "execution_count": 30,
   "metadata": {},
   "outputs": [
    {
     "data": {
      "text/html": [
       "<div>\n",
       "<style scoped>\n",
       "    .dataframe tbody tr th:only-of-type {\n",
       "        vertical-align: middle;\n",
       "    }\n",
       "\n",
       "    .dataframe tbody tr th {\n",
       "        vertical-align: top;\n",
       "    }\n",
       "\n",
       "    .dataframe thead th {\n",
       "        text-align: right;\n",
       "    }\n",
       "</style>\n",
       "<table border=\"1\" class=\"dataframe\">\n",
       "  <thead>\n",
       "    <tr style=\"text-align: right;\">\n",
       "      <th></th>\n",
       "      <th>APPPOSID</th>\n",
       "      <th>PERIOD_7</th>\n",
       "      <th>SUB_CHANNEL</th>\n",
       "      <th>COUNT_APP_7</th>\n",
       "      <th>COUNT_CONT_7</th>\n",
       "      <th>COUNT_APP_14</th>\n",
       "      <th>COUNT_CONT_14</th>\n",
       "      <th>COUNT_APP_30</th>\n",
       "      <th>COUNT_CONT_30</th>\n",
       "      <th>COUNT_APP_60</th>\n",
       "      <th>COUNT_CONT_60</th>\n",
       "      <th>DIVISION</th>\n",
       "      <th>MONTH_YEAR</th>\n",
       "      <th>BAD_FLAG</th>\n",
       "    </tr>\n",
       "  </thead>\n",
       "  <tbody>\n",
       "    <tr>\n",
       "      <td>0</td>\n",
       "      <td>3175</td>\n",
       "      <td>124</td>\n",
       "      <td>LOCALS_OFFLINE</td>\n",
       "      <td>7</td>\n",
       "      <td>3</td>\n",
       "      <td>9</td>\n",
       "      <td>5</td>\n",
       "      <td>12</td>\n",
       "      <td>5</td>\n",
       "      <td>24</td>\n",
       "      <td>11</td>\n",
       "      <td>Приволжский</td>\n",
       "      <td>201710</td>\n",
       "      <td>0</td>\n",
       "    </tr>\n",
       "    <tr>\n",
       "      <td>1</td>\n",
       "      <td>3175</td>\n",
       "      <td>125</td>\n",
       "      <td>LOCALS_OFFLINE</td>\n",
       "      <td>2</td>\n",
       "      <td>2</td>\n",
       "      <td>3</td>\n",
       "      <td>2</td>\n",
       "      <td>9</td>\n",
       "      <td>4</td>\n",
       "      <td>19</td>\n",
       "      <td>10</td>\n",
       "      <td>Приволжский</td>\n",
       "      <td>201710</td>\n",
       "      <td>0</td>\n",
       "    </tr>\n",
       "    <tr>\n",
       "      <td>2</td>\n",
       "      <td>3175</td>\n",
       "      <td>126</td>\n",
       "      <td>LOCALS_OFFLINE</td>\n",
       "      <td>1</td>\n",
       "      <td>0</td>\n",
       "      <td>3</td>\n",
       "      <td>0</td>\n",
       "      <td>11</td>\n",
       "      <td>3</td>\n",
       "      <td>20</td>\n",
       "      <td>9</td>\n",
       "      <td>Приволжский</td>\n",
       "      <td>201710</td>\n",
       "      <td>0</td>\n",
       "    </tr>\n",
       "    <tr>\n",
       "      <td>3</td>\n",
       "      <td>3175</td>\n",
       "      <td>127</td>\n",
       "      <td>LOCALS_OFFLINE</td>\n",
       "      <td>2</td>\n",
       "      <td>0</td>\n",
       "      <td>4</td>\n",
       "      <td>0</td>\n",
       "      <td>10</td>\n",
       "      <td>3</td>\n",
       "      <td>22</td>\n",
       "      <td>11</td>\n",
       "      <td>Приволжский</td>\n",
       "      <td>201709</td>\n",
       "      <td>0</td>\n",
       "    </tr>\n",
       "    <tr>\n",
       "      <td>4</td>\n",
       "      <td>3175</td>\n",
       "      <td>128</td>\n",
       "      <td>LOCALS_OFFLINE</td>\n",
       "      <td>2</td>\n",
       "      <td>0</td>\n",
       "      <td>7</td>\n",
       "      <td>2</td>\n",
       "      <td>12</td>\n",
       "      <td>6</td>\n",
       "      <td>22</td>\n",
       "      <td>12</td>\n",
       "      <td>Приволжский</td>\n",
       "      <td>201709</td>\n",
       "      <td>0</td>\n",
       "    </tr>\n",
       "  </tbody>\n",
       "</table>\n",
       "</div>"
      ],
      "text/plain": [
       "   APPPOSID  PERIOD_7     SUB_CHANNEL  COUNT_APP_7  COUNT_CONT_7  \\\n",
       "0      3175       124  LOCALS_OFFLINE            7             3   \n",
       "1      3175       125  LOCALS_OFFLINE            2             2   \n",
       "2      3175       126  LOCALS_OFFLINE            1             0   \n",
       "3      3175       127  LOCALS_OFFLINE            2             0   \n",
       "4      3175       128  LOCALS_OFFLINE            2             0   \n",
       "\n",
       "   COUNT_APP_14  COUNT_CONT_14  COUNT_APP_30  COUNT_CONT_30  COUNT_APP_60  \\\n",
       "0             9              5            12              5            24   \n",
       "1             3              2             9              4            19   \n",
       "2             3              0            11              3            20   \n",
       "3             4              0            10              3            22   \n",
       "4             7              2            12              6            22   \n",
       "\n",
       "   COUNT_CONT_60     DIVISION  MONTH_YEAR  BAD_FLAG  \n",
       "0             11  Приволжский      201710         0  \n",
       "1             10  Приволжский      201710         0  \n",
       "2              9  Приволжский      201710         0  \n",
       "3             11  Приволжский      201709         0  \n",
       "4             12  Приволжский      201709         0  "
      ]
     },
     "execution_count": 30,
     "metadata": {},
     "output_type": "execute_result"
    }
   ],
   "source": [
    "data_1.head()"
   ]
  },
  {
   "cell_type": "code",
   "execution_count": 31,
   "metadata": {},
   "outputs": [],
   "source": [
    "data_1.to_csv(PATH + 'train_cut_aug.csv')"
   ]
  },
  {
   "cell_type": "code",
   "execution_count": 32,
   "metadata": {},
   "outputs": [
    {
     "data": {
      "text/plain": [
       "'D:/Share/safanasev/Python-notebook/AF_ML_chinese/'"
      ]
     },
     "execution_count": 32,
     "metadata": {},
     "output_type": "execute_result"
    }
   ],
   "source": [
    "PATH"
   ]
  },
  {
   "cell_type": "code",
   "execution_count": 35,
   "metadata": {},
   "outputs": [
    {
     "name": "stdout",
     "output_type": "stream",
     "text": [
      "<class 'pandas.core.frame.DataFrame'>\n",
      "RangeIndex: 792004 entries, 0 to 792003\n",
      "Columns: 300 entries, ID to LABEL\n",
      "dtypes: float64(279), int64(20), object(1)\n",
      "memory usage: 1.8+ GB\n"
     ]
    }
   ],
   "source": [
    "data = pd.read_csv(path_train_data, sep = '&', encoding = 'utf-8' #'cp1251'\n",
    "                   #, index_col = 0\n",
    "                   , usecols = [c for c in data_columns if c.upper() not in COL_DEL]\n",
    " #                  , dtype={c:type_cols.get(c.upper(),'float32') for c in data_columns}\n",
    "                 # , nrows = 100000\n",
    "                  )\n",
    "data.columns = [col.upper() for col in data.columns]\n",
    "data.info()"
   ]
  },
  {
   "cell_type": "code",
   "execution_count": 36,
   "metadata": {},
   "outputs": [
    {
     "data": {
      "text/html": [
       "<div>\n",
       "<style scoped>\n",
       "    .dataframe tbody tr th:only-of-type {\n",
       "        vertical-align: middle;\n",
       "    }\n",
       "\n",
       "    .dataframe tbody tr th {\n",
       "        vertical-align: top;\n",
       "    }\n",
       "\n",
       "    .dataframe thead th {\n",
       "        text-align: right;\n",
       "    }\n",
       "</style>\n",
       "<table border=\"1\" class=\"dataframe\">\n",
       "  <thead>\n",
       "    <tr style=\"text-align: right;\">\n",
       "      <th></th>\n",
       "      <th>ID</th>\n",
       "      <th>DATE</th>\n",
       "      <th>F1</th>\n",
       "      <th>F2</th>\n",
       "      <th>F3</th>\n",
       "      <th>F4</th>\n",
       "      <th>F5</th>\n",
       "      <th>F6</th>\n",
       "      <th>F7</th>\n",
       "      <th>F8</th>\n",
       "      <th>...</th>\n",
       "      <th>F289</th>\n",
       "      <th>F290</th>\n",
       "      <th>F291</th>\n",
       "      <th>F292</th>\n",
       "      <th>F293</th>\n",
       "      <th>F294</th>\n",
       "      <th>F295</th>\n",
       "      <th>F296</th>\n",
       "      <th>F297</th>\n",
       "      <th>LABEL</th>\n",
       "    </tr>\n",
       "  </thead>\n",
       "  <tbody>\n",
       "    <tr>\n",
       "      <th>0</th>\n",
       "      <td>d861929b67938d06538b910b9f6b85f5eb62b6ad7361ba...</td>\n",
       "      <td>20170917</td>\n",
       "      <td>0</td>\n",
       "      <td>1</td>\n",
       "      <td>1</td>\n",
       "      <td>1</td>\n",
       "      <td>100805.0</td>\n",
       "      <td>1</td>\n",
       "      <td>5</td>\n",
       "      <td>2</td>\n",
       "      <td>...</td>\n",
       "      <td>324.0</td>\n",
       "      <td>391.0</td>\n",
       "      <td>13.0</td>\n",
       "      <td>302.0</td>\n",
       "      <td>160.0</td>\n",
       "      <td>160.0</td>\n",
       "      <td>161.0</td>\n",
       "      <td>8.0</td>\n",
       "      <td>160.0</td>\n",
       "      <td>0</td>\n",
       "    </tr>\n",
       "    <tr>\n",
       "      <th>1</th>\n",
       "      <td>9fa009724ee7ff9d688ae321304fbc78f608cdabbfdd2b...</td>\n",
       "      <td>20171029</td>\n",
       "      <td>0</td>\n",
       "      <td>0</td>\n",
       "      <td>0</td>\n",
       "      <td>1</td>\n",
       "      <td>100807.0</td>\n",
       "      <td>1</td>\n",
       "      <td>4</td>\n",
       "      <td>1</td>\n",
       "      <td>...</td>\n",
       "      <td>322.0</td>\n",
       "      <td>341.0</td>\n",
       "      <td>57.0</td>\n",
       "      <td>251.0</td>\n",
       "      <td>175.0</td>\n",
       "      <td>176.0</td>\n",
       "      <td>176.0</td>\n",
       "      <td>49.0</td>\n",
       "      <td>150.0</td>\n",
       "      <td>0</td>\n",
       "    </tr>\n",
       "    <tr>\n",
       "      <th>2</th>\n",
       "      <td>1da482485d7e8bcefae7e9d0d1167cec3ac111cfa71d8b...</td>\n",
       "      <td>20171002</td>\n",
       "      <td>1</td>\n",
       "      <td>1</td>\n",
       "      <td>0</td>\n",
       "      <td>1</td>\n",
       "      <td>100805.0</td>\n",
       "      <td>1</td>\n",
       "      <td>5</td>\n",
       "      <td>1</td>\n",
       "      <td>...</td>\n",
       "      <td>301.0</td>\n",
       "      <td>301.0</td>\n",
       "      <td>74.0</td>\n",
       "      <td>302.0</td>\n",
       "      <td>182.0</td>\n",
       "      <td>181.0</td>\n",
       "      <td>182.0</td>\n",
       "      <td>51.0</td>\n",
       "      <td>181.0</td>\n",
       "      <td>0</td>\n",
       "    </tr>\n",
       "    <tr>\n",
       "      <th>3</th>\n",
       "      <td>81b481d377dc060f6c3249d086d28b0fb4c3781a72927d...</td>\n",
       "      <td>20171012</td>\n",
       "      <td>0</td>\n",
       "      <td>0</td>\n",
       "      <td>1</td>\n",
       "      <td>1</td>\n",
       "      <td>100802.0</td>\n",
       "      <td>0</td>\n",
       "      <td>6</td>\n",
       "      <td>2</td>\n",
       "      <td>...</td>\n",
       "      <td>6.0</td>\n",
       "      <td>5.0</td>\n",
       "      <td>5.0</td>\n",
       "      <td>6.0</td>\n",
       "      <td>2.0</td>\n",
       "      <td>1.0</td>\n",
       "      <td>2.0</td>\n",
       "      <td>2.0</td>\n",
       "      <td>2.0</td>\n",
       "      <td>0</td>\n",
       "    </tr>\n",
       "    <tr>\n",
       "      <th>4</th>\n",
       "      <td>19d100ff146a203f0e558fd60534b8ece650be4ecb4564...</td>\n",
       "      <td>20171027</td>\n",
       "      <td>1</td>\n",
       "      <td>0</td>\n",
       "      <td>0</td>\n",
       "      <td>1</td>\n",
       "      <td>100802.0</td>\n",
       "      <td>0</td>\n",
       "      <td>6</td>\n",
       "      <td>2</td>\n",
       "      <td>...</td>\n",
       "      <td>314.0</td>\n",
       "      <td>321.0</td>\n",
       "      <td>150.0</td>\n",
       "      <td>302.0</td>\n",
       "      <td>189.0</td>\n",
       "      <td>188.0</td>\n",
       "      <td>189.0</td>\n",
       "      <td>92.0</td>\n",
       "      <td>188.0</td>\n",
       "      <td>0</td>\n",
       "    </tr>\n",
       "  </tbody>\n",
       "</table>\n",
       "<p>5 rows × 300 columns</p>\n",
       "</div>"
      ],
      "text/plain": [
       "                                                  ID      DATE  F1  F2  F3  \\\n",
       "0  d861929b67938d06538b910b9f6b85f5eb62b6ad7361ba...  20170917   0   1   1   \n",
       "1  9fa009724ee7ff9d688ae321304fbc78f608cdabbfdd2b...  20171029   0   0   0   \n",
       "2  1da482485d7e8bcefae7e9d0d1167cec3ac111cfa71d8b...  20171002   1   1   0   \n",
       "3  81b481d377dc060f6c3249d086d28b0fb4c3781a72927d...  20171012   0   0   1   \n",
       "4  19d100ff146a203f0e558fd60534b8ece650be4ecb4564...  20171027   1   0   0   \n",
       "\n",
       "   F4        F5  F6  F7  F8  ...   F289   F290   F291   F292   F293   F294  \\\n",
       "0   1  100805.0   1   5   2  ...  324.0  391.0   13.0  302.0  160.0  160.0   \n",
       "1   1  100807.0   1   4   1  ...  322.0  341.0   57.0  251.0  175.0  176.0   \n",
       "2   1  100805.0   1   5   1  ...  301.0  301.0   74.0  302.0  182.0  181.0   \n",
       "3   1  100802.0   0   6   2  ...    6.0    5.0    5.0    6.0    2.0    1.0   \n",
       "4   1  100802.0   0   6   2  ...  314.0  321.0  150.0  302.0  189.0  188.0   \n",
       "\n",
       "    F295  F296   F297  LABEL  \n",
       "0  161.0   8.0  160.0      0  \n",
       "1  176.0  49.0  150.0      0  \n",
       "2  182.0  51.0  181.0      0  \n",
       "3    2.0   2.0    2.0      0  \n",
       "4  189.0  92.0  188.0      0  \n",
       "\n",
       "[5 rows x 300 columns]"
      ]
     },
     "execution_count": 36,
     "metadata": {},
     "output_type": "execute_result"
    }
   ],
   "source": [
    "data.head()"
   ]
  },
  {
   "cell_type": "code",
   "execution_count": 37,
   "metadata": {},
   "outputs": [
    {
     "name": "stdout",
     "output_type": "stream",
     "text": [
      "ID object\n"
     ]
    }
   ],
   "source": [
    "for c in data.columns:\n",
    "    if data[c].dtype not in ['float32', 'int64', 'float64']:\n",
    "        print(c, data[c].dtype)"
   ]
  },
  {
   "cell_type": "code",
   "execution_count": 38,
   "metadata": {},
   "outputs": [],
   "source": [
    "columns = [ c for c in data.columns if c not in COL_DEL + necessary_fields]"
   ]
  },
  {
   "cell_type": "code",
   "execution_count": 39,
   "metadata": {},
   "outputs": [
    {
     "name": "stdout",
     "output_type": "stream",
     "text": [
      "[1.000e-04 5.000e-03 1.000e-02 2.000e-02 5.000e-02 9.500e-01 9.800e-01\n",
      " 9.900e-01 9.950e-01 9.999e-01]\n",
      "Number of finished repetitions: 0 | time:  05.04.2021 11:23:23\n",
      "Number of finished repetitions: 100 | time:  05.04.2021 11:23:53\n",
      "Number of finished repetitions: 200 | time:  05.04.2021 11:24:20\n"
     ]
    }
   ],
   "source": [
    "attribute_list = attributes_list_new(data, columns, [0.01, 0.5, 1, 2, 5, 95, 98, 99, 99.5, 99.99])"
   ]
  },
  {
   "cell_type": "code",
   "execution_count": 40,
   "metadata": {},
   "outputs": [],
   "source": [
    "#Необходимо проанализировать полученные списки переменных, рекомендовано удалить\n",
    "\n",
    "#бессмысленные переменные, нет заполненных значений\n",
    "attribute_list_all_misses = attribute_list[(attribute_list['count_miss'] == data.shape[0])]\n",
    "\n",
    "#СЛИШКОМ много бинов, подозрение на ID\n",
    "attribute_list_object_many_distinct =  attribute_list[(attribute_list['count_dist'] >= 150)\n",
    "                                        & (attribute_list['type_val']!= 'float32')\n",
    "                                        & (attribute_list['type_val']!= 'float64')] # == 'int')]\n",
    "\n",
    "#Более 95% пропущено\n",
    "attribute_list_many_misses = attribute_list[(attribute_list['count_miss'] >= data.shape[0]*0.97)\n",
    "                                          & (attribute_list['count_miss'] != data.shape[0])]\n",
    "\n",
    "#Слишком много уникальных значений, подозрение на ID\n",
    "attribute_list_all_distinct = attribute_list[(attribute_list['count_dist'] >= data.shape[0]*0.95)] \n",
    "\n",
    "#Переменная имеет всего одно значение:\n",
    "attribute_list_сonst =  attribute_list[(attribute_list['count_dist'] == 1) & (attribute_list['count_miss'] == 0)]\n",
    "\n",
    "#Переменная имеет всего одно значение остальные могут быть пустые:\n",
    "attribute_list_one_value = attribute_list[(attribute_list['count_dist'] == 1) & (attribute_list['count_miss'] != 0)]\n",
    "\n",
    "#Первый персентиль равен 99\n",
    "attribute_list_1_eq_99 =attribute_list[(attribute_list['1%'] == attribute_list['99%'])]"
   ]
  },
  {
   "cell_type": "code",
   "execution_count": 41,
   "metadata": {},
   "outputs": [
    {
     "data": {
      "text/html": [
       "<div>\n",
       "<style scoped>\n",
       "    .dataframe tbody tr th:only-of-type {\n",
       "        vertical-align: middle;\n",
       "    }\n",
       "\n",
       "    .dataframe tbody tr th {\n",
       "        vertical-align: top;\n",
       "    }\n",
       "\n",
       "    .dataframe thead th {\n",
       "        text-align: right;\n",
       "    }\n",
       "</style>\n",
       "<table border=\"1\" class=\"dataframe\">\n",
       "  <thead>\n",
       "    <tr style=\"text-align: right;\">\n",
       "      <th></th>\n",
       "      <th>attribute</th>\n",
       "      <th>type_val</th>\n",
       "      <th>count_dist</th>\n",
       "      <th>count_miss</th>\n",
       "      <th>moda_val</th>\n",
       "      <th>count_value_moda</th>\n",
       "      <th>count_val</th>\n",
       "      <th>mean</th>\n",
       "      <th>stand_d_val</th>\n",
       "      <th>min_val</th>\n",
       "      <th>...</th>\n",
       "      <th>1%</th>\n",
       "      <th>2%</th>\n",
       "      <th>5%</th>\n",
       "      <th>val_mediana</th>\n",
       "      <th>95%</th>\n",
       "      <th>98%</th>\n",
       "      <th>99%</th>\n",
       "      <th>99.5%</th>\n",
       "      <th>99.99%</th>\n",
       "      <th>max_val</th>\n",
       "    </tr>\n",
       "  </thead>\n",
       "  <tbody>\n",
       "  </tbody>\n",
       "</table>\n",
       "<p>0 rows × 22 columns</p>\n",
       "</div>"
      ],
      "text/plain": [
       "Empty DataFrame\n",
       "Columns: [attribute, type_val, count_dist, count_miss, moda_val, count_value_moda, count_val, mean, stand_d_val, min_val, 0.01%, 0.5%, 1%, 2%, 5%, val_mediana, 95%, 98%, 99%, 99.5%, 99.99%, max_val]\n",
       "Index: []\n",
       "\n",
       "[0 rows x 22 columns]"
      ]
     },
     "execution_count": 41,
     "metadata": {},
     "output_type": "execute_result"
    }
   ],
   "source": [
    "attribute_list_all_misses"
   ]
  },
  {
   "cell_type": "code",
   "execution_count": 42,
   "metadata": {},
   "outputs": [
    {
     "data": {
      "text/html": [
       "<div>\n",
       "<style scoped>\n",
       "    .dataframe tbody tr th:only-of-type {\n",
       "        vertical-align: middle;\n",
       "    }\n",
       "\n",
       "    .dataframe tbody tr th {\n",
       "        vertical-align: top;\n",
       "    }\n",
       "\n",
       "    .dataframe thead th {\n",
       "        text-align: right;\n",
       "    }\n",
       "</style>\n",
       "<table border=\"1\" class=\"dataframe\">\n",
       "  <thead>\n",
       "    <tr style=\"text-align: right;\">\n",
       "      <th></th>\n",
       "      <th>attribute</th>\n",
       "      <th>type_val</th>\n",
       "      <th>count_dist</th>\n",
       "      <th>count_miss</th>\n",
       "      <th>moda_val</th>\n",
       "      <th>count_value_moda</th>\n",
       "      <th>count_val</th>\n",
       "      <th>mean</th>\n",
       "      <th>stand_d_val</th>\n",
       "      <th>min_val</th>\n",
       "      <th>...</th>\n",
       "      <th>1%</th>\n",
       "      <th>2%</th>\n",
       "      <th>5%</th>\n",
       "      <th>val_mediana</th>\n",
       "      <th>95%</th>\n",
       "      <th>98%</th>\n",
       "      <th>99%</th>\n",
       "      <th>99.5%</th>\n",
       "      <th>99.99%</th>\n",
       "      <th>max_val</th>\n",
       "    </tr>\n",
       "  </thead>\n",
       "  <tbody>\n",
       "  </tbody>\n",
       "</table>\n",
       "<p>0 rows × 22 columns</p>\n",
       "</div>"
      ],
      "text/plain": [
       "Empty DataFrame\n",
       "Columns: [attribute, type_val, count_dist, count_miss, moda_val, count_value_moda, count_val, mean, stand_d_val, min_val, 0.01%, 0.5%, 1%, 2%, 5%, val_mediana, 95%, 98%, 99%, 99.5%, 99.99%, max_val]\n",
       "Index: []\n",
       "\n",
       "[0 rows x 22 columns]"
      ]
     },
     "execution_count": 42,
     "metadata": {},
     "output_type": "execute_result"
    }
   ],
   "source": [
    "attribute_list_object_many_distinct"
   ]
  },
  {
   "cell_type": "code",
   "execution_count": 43,
   "metadata": {},
   "outputs": [
    {
     "data": {
      "text/html": [
       "<div>\n",
       "<style scoped>\n",
       "    .dataframe tbody tr th:only-of-type {\n",
       "        vertical-align: middle;\n",
       "    }\n",
       "\n",
       "    .dataframe tbody tr th {\n",
       "        vertical-align: top;\n",
       "    }\n",
       "\n",
       "    .dataframe thead th {\n",
       "        text-align: right;\n",
       "    }\n",
       "</style>\n",
       "<table border=\"1\" class=\"dataframe\">\n",
       "  <thead>\n",
       "    <tr style=\"text-align: right;\">\n",
       "      <th></th>\n",
       "      <th>attribute</th>\n",
       "      <th>type_val</th>\n",
       "      <th>count_dist</th>\n",
       "      <th>count_miss</th>\n",
       "      <th>moda_val</th>\n",
       "      <th>count_value_moda</th>\n",
       "      <th>count_val</th>\n",
       "      <th>mean</th>\n",
       "      <th>stand_d_val</th>\n",
       "      <th>min_val</th>\n",
       "      <th>...</th>\n",
       "      <th>1%</th>\n",
       "      <th>2%</th>\n",
       "      <th>5%</th>\n",
       "      <th>val_mediana</th>\n",
       "      <th>95%</th>\n",
       "      <th>98%</th>\n",
       "      <th>99%</th>\n",
       "      <th>99.5%</th>\n",
       "      <th>99.99%</th>\n",
       "      <th>max_val</th>\n",
       "    </tr>\n",
       "  </thead>\n",
       "  <tbody>\n",
       "  </tbody>\n",
       "</table>\n",
       "<p>0 rows × 22 columns</p>\n",
       "</div>"
      ],
      "text/plain": [
       "Empty DataFrame\n",
       "Columns: [attribute, type_val, count_dist, count_miss, moda_val, count_value_moda, count_val, mean, stand_d_val, min_val, 0.01%, 0.5%, 1%, 2%, 5%, val_mediana, 95%, 98%, 99%, 99.5%, 99.99%, max_val]\n",
       "Index: []\n",
       "\n",
       "[0 rows x 22 columns]"
      ]
     },
     "execution_count": 43,
     "metadata": {},
     "output_type": "execute_result"
    }
   ],
   "source": [
    "attribute_list_all_distinct"
   ]
  },
  {
   "cell_type": "code",
   "execution_count": 44,
   "metadata": {},
   "outputs": [
    {
     "data": {
      "text/html": [
       "<div>\n",
       "<style scoped>\n",
       "    .dataframe tbody tr th:only-of-type {\n",
       "        vertical-align: middle;\n",
       "    }\n",
       "\n",
       "    .dataframe tbody tr th {\n",
       "        vertical-align: top;\n",
       "    }\n",
       "\n",
       "    .dataframe thead th {\n",
       "        text-align: right;\n",
       "    }\n",
       "</style>\n",
       "<table border=\"1\" class=\"dataframe\">\n",
       "  <thead>\n",
       "    <tr style=\"text-align: right;\">\n",
       "      <th></th>\n",
       "      <th>attribute</th>\n",
       "      <th>type_val</th>\n",
       "      <th>count_dist</th>\n",
       "      <th>count_miss</th>\n",
       "      <th>moda_val</th>\n",
       "      <th>count_value_moda</th>\n",
       "      <th>count_val</th>\n",
       "      <th>mean</th>\n",
       "      <th>stand_d_val</th>\n",
       "      <th>min_val</th>\n",
       "      <th>...</th>\n",
       "      <th>1%</th>\n",
       "      <th>2%</th>\n",
       "      <th>5%</th>\n",
       "      <th>val_mediana</th>\n",
       "      <th>95%</th>\n",
       "      <th>98%</th>\n",
       "      <th>99%</th>\n",
       "      <th>99.5%</th>\n",
       "      <th>99.99%</th>\n",
       "      <th>max_val</th>\n",
       "    </tr>\n",
       "  </thead>\n",
       "  <tbody>\n",
       "  </tbody>\n",
       "</table>\n",
       "<p>0 rows × 22 columns</p>\n",
       "</div>"
      ],
      "text/plain": [
       "Empty DataFrame\n",
       "Columns: [attribute, type_val, count_dist, count_miss, moda_val, count_value_moda, count_val, mean, stand_d_val, min_val, 0.01%, 0.5%, 1%, 2%, 5%, val_mediana, 95%, 98%, 99%, 99.5%, 99.99%, max_val]\n",
       "Index: []\n",
       "\n",
       "[0 rows x 22 columns]"
      ]
     },
     "execution_count": 44,
     "metadata": {},
     "output_type": "execute_result"
    }
   ],
   "source": [
    "attribute_list_many_misses"
   ]
  },
  {
   "cell_type": "code",
   "execution_count": 45,
   "metadata": {},
   "outputs": [
    {
     "data": {
      "text/html": [
       "<div>\n",
       "<style scoped>\n",
       "    .dataframe tbody tr th:only-of-type {\n",
       "        vertical-align: middle;\n",
       "    }\n",
       "\n",
       "    .dataframe tbody tr th {\n",
       "        vertical-align: top;\n",
       "    }\n",
       "\n",
       "    .dataframe thead th {\n",
       "        text-align: right;\n",
       "    }\n",
       "</style>\n",
       "<table border=\"1\" class=\"dataframe\">\n",
       "  <thead>\n",
       "    <tr style=\"text-align: right;\">\n",
       "      <th></th>\n",
       "      <th>attribute</th>\n",
       "      <th>type_val</th>\n",
       "      <th>count_dist</th>\n",
       "      <th>count_miss</th>\n",
       "      <th>moda_val</th>\n",
       "      <th>count_value_moda</th>\n",
       "      <th>count_val</th>\n",
       "      <th>mean</th>\n",
       "      <th>stand_d_val</th>\n",
       "      <th>min_val</th>\n",
       "      <th>...</th>\n",
       "      <th>1%</th>\n",
       "      <th>2%</th>\n",
       "      <th>5%</th>\n",
       "      <th>val_mediana</th>\n",
       "      <th>95%</th>\n",
       "      <th>98%</th>\n",
       "      <th>99%</th>\n",
       "      <th>99.5%</th>\n",
       "      <th>99.99%</th>\n",
       "      <th>max_val</th>\n",
       "    </tr>\n",
       "  </thead>\n",
       "  <tbody>\n",
       "  </tbody>\n",
       "</table>\n",
       "<p>0 rows × 22 columns</p>\n",
       "</div>"
      ],
      "text/plain": [
       "Empty DataFrame\n",
       "Columns: [attribute, type_val, count_dist, count_miss, moda_val, count_value_moda, count_val, mean, stand_d_val, min_val, 0.01%, 0.5%, 1%, 2%, 5%, val_mediana, 95%, 98%, 99%, 99.5%, 99.99%, max_val]\n",
       "Index: []\n",
       "\n",
       "[0 rows x 22 columns]"
      ]
     },
     "execution_count": 45,
     "metadata": {},
     "output_type": "execute_result"
    }
   ],
   "source": [
    "attribute_list_one_value"
   ]
  },
  {
   "cell_type": "code",
   "execution_count": 46,
   "metadata": {},
   "outputs": [
    {
     "data": {
      "text/html": [
       "<div>\n",
       "<style scoped>\n",
       "    .dataframe tbody tr th:only-of-type {\n",
       "        vertical-align: middle;\n",
       "    }\n",
       "\n",
       "    .dataframe tbody tr th {\n",
       "        vertical-align: top;\n",
       "    }\n",
       "\n",
       "    .dataframe thead th {\n",
       "        text-align: right;\n",
       "    }\n",
       "</style>\n",
       "<table border=\"1\" class=\"dataframe\">\n",
       "  <thead>\n",
       "    <tr style=\"text-align: right;\">\n",
       "      <th></th>\n",
       "      <th>attribute</th>\n",
       "      <th>type_val</th>\n",
       "      <th>count_dist</th>\n",
       "      <th>count_miss</th>\n",
       "      <th>moda_val</th>\n",
       "      <th>count_value_moda</th>\n",
       "      <th>count_val</th>\n",
       "      <th>mean</th>\n",
       "      <th>stand_d_val</th>\n",
       "      <th>min_val</th>\n",
       "      <th>...</th>\n",
       "      <th>1%</th>\n",
       "      <th>2%</th>\n",
       "      <th>5%</th>\n",
       "      <th>val_mediana</th>\n",
       "      <th>95%</th>\n",
       "      <th>98%</th>\n",
       "      <th>99%</th>\n",
       "      <th>99.5%</th>\n",
       "      <th>99.99%</th>\n",
       "      <th>max_val</th>\n",
       "    </tr>\n",
       "  </thead>\n",
       "  <tbody>\n",
       "  </tbody>\n",
       "</table>\n",
       "<p>0 rows × 22 columns</p>\n",
       "</div>"
      ],
      "text/plain": [
       "Empty DataFrame\n",
       "Columns: [attribute, type_val, count_dist, count_miss, moda_val, count_value_moda, count_val, mean, stand_d_val, min_val, 0.01%, 0.5%, 1%, 2%, 5%, val_mediana, 95%, 98%, 99%, 99.5%, 99.99%, max_val]\n",
       "Index: []\n",
       "\n",
       "[0 rows x 22 columns]"
      ]
     },
     "execution_count": 46,
     "metadata": {},
     "output_type": "execute_result"
    }
   ],
   "source": [
    "attribute_list_1_eq_99"
   ]
  },
  {
   "cell_type": "code",
   "execution_count": 47,
   "metadata": {},
   "outputs": [],
   "source": [
    "#Записываем удаленные\n",
    "def features_for_delete(attribute_list_reason, reason): \n",
    "    for_del = pd.DataFrame({'feature': attribute_list_reason['attribute'].to_list()})\n",
    "    for_del.insert(1, 'reason', reason)\n",
    "    return for_del"
   ]
  },
  {
   "cell_type": "code",
   "execution_count": 48,
   "metadata": {},
   "outputs": [],
   "source": [
    "deleted = pd.DataFrame({'feature': [], 'reason': []})"
   ]
  },
  {
   "cell_type": "code",
   "execution_count": 49,
   "metadata": {},
   "outputs": [
    {
     "data": {
      "text/html": [
       "<div>\n",
       "<style scoped>\n",
       "    .dataframe tbody tr th:only-of-type {\n",
       "        vertical-align: middle;\n",
       "    }\n",
       "\n",
       "    .dataframe tbody tr th {\n",
       "        vertical-align: top;\n",
       "    }\n",
       "\n",
       "    .dataframe thead th {\n",
       "        text-align: right;\n",
       "    }\n",
       "</style>\n",
       "<table border=\"1\" class=\"dataframe\">\n",
       "  <thead>\n",
       "    <tr style=\"text-align: right;\">\n",
       "      <th></th>\n",
       "      <th>attribute</th>\n",
       "    </tr>\n",
       "  </thead>\n",
       "  <tbody>\n",
       "  </tbody>\n",
       "</table>\n",
       "</div>"
      ],
      "text/plain": [
       "Empty DataFrame\n",
       "Columns: [attribute]\n",
       "Index: []"
      ]
     },
     "execution_count": 49,
     "metadata": {},
     "output_type": "execute_result"
    }
   ],
   "source": [
    "attribute_list_all_misses[['attribute']]"
   ]
  },
  {
   "cell_type": "code",
   "execution_count": 50,
   "metadata": {},
   "outputs": [],
   "source": [
    "deleted = deleted.append(features_for_delete(attribute_list_all_misses,'all_misses'), ignore_index = True)"
   ]
  },
  {
   "cell_type": "markdown",
   "metadata": {},
   "source": [
    "## Statistics with target variable"
   ]
  },
  {
   "cell_type": "code",
   "execution_count": 51,
   "metadata": {},
   "outputs": [
    {
     "data": {
      "text/plain": [
       "298"
      ]
     },
     "execution_count": 51,
     "metadata": {},
     "output_type": "execute_result"
    }
   ],
   "source": [
    "#print_log('Start retype target')\n",
    "target = target.upper()\n",
    "data[target] = data[target].astype('int')\n",
    "columns = [c for c in data.columns if c not in COL_DEL and c not in necessary_fields]\n",
    "len(columns)"
   ]
  },
  {
   "cell_type": "code",
   "execution_count": 52,
   "metadata": {},
   "outputs": [],
   "source": [
    "categorials_from_list = []"
   ]
  },
  {
   "cell_type": "code",
   "execution_count": 53,
   "metadata": {},
   "outputs": [],
   "source": [
    "#binary = attribute_list.loc[attribute_list['count_dist'] == 2, 'attribute'].to_list()\n",
    "objects = attribute_list.loc[attribute_list['type_val'] == 'object', 'attribute'].to_list()\n",
    "all_cats = list(set(categorials_from_list+objects))\n",
    "categorial_columns = [i for i in data.columns if i in all_cats and i not in COL_DEL + necessary_fields]\n",
    "str_columns = [i for i in objects if i in data.columns and i not in COL_DEL + necessary_fields]"
   ]
  },
  {
   "cell_type": "code",
   "execution_count": 54,
   "metadata": {},
   "outputs": [
    {
     "data": {
      "text/plain": [
       "[]"
      ]
     },
     "execution_count": 54,
     "metadata": {},
     "output_type": "execute_result"
    }
   ],
   "source": [
    "categorial_columns"
   ]
  },
  {
   "cell_type": "code",
   "execution_count": 55,
   "metadata": {},
   "outputs": [
    {
     "data": {
      "text/plain": [
       "9699"
      ]
     },
     "execution_count": 55,
     "metadata": {},
     "output_type": "execute_result"
    }
   ],
   "source": [
    "data[target].sum()"
   ]
  },
  {
   "cell_type": "code",
   "execution_count": 56,
   "metadata": {},
   "outputs": [
    {
     "name": "stdout",
     "output_type": "stream",
     "text": [
      "Number of finished repetitions: 30 | time:  05.04.2021 12:01:40\n",
      "Number of finished repetitions: 60 | time:  05.04.2021 12:02:05\n",
      "Number of finished repetitions: 90 | time:  05.04.2021 12:02:33\n",
      "Number of finished repetitions: 120 | time:  05.04.2021 12:03:00\n",
      "Number of finished repetitions: 150 | time:  05.04.2021 12:03:25\n",
      "Number of finished repetitions: 180 | time:  05.04.2021 12:03:51\n",
      "Number of finished repetitions: 210 | time:  05.04.2021 12:04:16\n",
      "Number of finished repetitions: 240 | time:  05.04.2021 12:04:41\n",
      "Number of finished repetitions: 270 | time:  05.04.2021 12:05:06\n"
     ]
    }
   ],
   "source": [
    "definition = statistics_with_target(data, columns, target, category_list = categorial_columns, category_target = True)"
   ]
  },
  {
   "cell_type": "code",
   "execution_count": 57,
   "metadata": {},
   "outputs": [
    {
     "name": "stdout",
     "output_type": "stream",
     "text": [
      "0.1\n"
     ]
    },
    {
     "data": {
      "text/html": [
       "<div>\n",
       "<style scoped>\n",
       "    .dataframe tbody tr th:only-of-type {\n",
       "        vertical-align: middle;\n",
       "    }\n",
       "\n",
       "    .dataframe tbody tr th {\n",
       "        vertical-align: top;\n",
       "    }\n",
       "\n",
       "    .dataframe thead th {\n",
       "        text-align: right;\n",
       "    }\n",
       "</style>\n",
       "<table border=\"1\" class=\"dataframe\">\n",
       "  <thead>\n",
       "    <tr style=\"text-align: right;\">\n",
       "      <th></th>\n",
       "      <th>variable</th>\n",
       "      <th>stat pvalue</th>\n",
       "      <th>corr</th>\n",
       "      <th>corr name</th>\n",
       "    </tr>\n",
       "  </thead>\n",
       "  <tbody>\n",
       "    <tr>\n",
       "      <th>2</th>\n",
       "      <td>F2</td>\n",
       "      <td>0.113181</td>\n",
       "      <td>0.001626</td>\n",
       "      <td>corr</td>\n",
       "    </tr>\n",
       "    <tr>\n",
       "      <th>52</th>\n",
       "      <td>F52</td>\n",
       "      <td>0.235714</td>\n",
       "      <td>0.206223</td>\n",
       "      <td>corr</td>\n",
       "    </tr>\n",
       "    <tr>\n",
       "      <th>53</th>\n",
       "      <td>F53</td>\n",
       "      <td>0.112536</td>\n",
       "      <td>0.194381</td>\n",
       "      <td>corr</td>\n",
       "    </tr>\n",
       "    <tr>\n",
       "      <th>54</th>\n",
       "      <td>F54</td>\n",
       "      <td>0.120216</td>\n",
       "      <td>0.131852</td>\n",
       "      <td>corr</td>\n",
       "    </tr>\n",
       "    <tr>\n",
       "      <th>55</th>\n",
       "      <td>F55</td>\n",
       "      <td>0.423454</td>\n",
       "      <td>0.084911</td>\n",
       "      <td>corr</td>\n",
       "    </tr>\n",
       "    <tr>\n",
       "      <th>252</th>\n",
       "      <td>F252</td>\n",
       "      <td>0.168187</td>\n",
       "      <td>0.000826</td>\n",
       "      <td>corr</td>\n",
       "    </tr>\n",
       "    <tr>\n",
       "      <th>253</th>\n",
       "      <td>F253</td>\n",
       "      <td>0.130946</td>\n",
       "      <td>-0.000577</td>\n",
       "      <td>corr</td>\n",
       "    </tr>\n",
       "    <tr>\n",
       "      <th>259</th>\n",
       "      <td>F259</td>\n",
       "      <td>0.137547</td>\n",
       "      <td>0.196091</td>\n",
       "      <td>corr</td>\n",
       "    </tr>\n",
       "    <tr>\n",
       "      <th>260</th>\n",
       "      <td>F260</td>\n",
       "      <td>0.240223</td>\n",
       "      <td>0.179149</td>\n",
       "      <td>corr</td>\n",
       "    </tr>\n",
       "    <tr>\n",
       "      <th>263</th>\n",
       "      <td>F263</td>\n",
       "      <td>0.369837</td>\n",
       "      <td>0.035641</td>\n",
       "      <td>corr</td>\n",
       "    </tr>\n",
       "    <tr>\n",
       "      <th>264</th>\n",
       "      <td>F264</td>\n",
       "      <td>0.489137</td>\n",
       "      <td>0.147539</td>\n",
       "      <td>corr</td>\n",
       "    </tr>\n",
       "    <tr>\n",
       "      <th>265</th>\n",
       "      <td>F265</td>\n",
       "      <td>0.142692</td>\n",
       "      <td>0.042397</td>\n",
       "      <td>corr</td>\n",
       "    </tr>\n",
       "  </tbody>\n",
       "</table>\n",
       "</div>"
      ],
      "text/plain": [
       "    variable  stat pvalue      corr corr name\n",
       "2         F2     0.113181  0.001626      corr\n",
       "52       F52     0.235714  0.206223      corr\n",
       "53       F53     0.112536  0.194381      corr\n",
       "54       F54     0.120216  0.131852      corr\n",
       "55       F55     0.423454  0.084911      corr\n",
       "252     F252     0.168187  0.000826      corr\n",
       "253     F253     0.130946 -0.000577      corr\n",
       "259     F259     0.137547  0.196091      corr\n",
       "260     F260     0.240223  0.179149      corr\n",
       "263     F263     0.369837  0.035641      corr\n",
       "264     F264     0.489137  0.147539      corr\n",
       "265     F265     0.142692  0.042397      corr"
      ]
     },
     "execution_count": 57,
     "metadata": {},
     "output_type": "execute_result"
    }
   ],
   "source": [
    "p_value = 0.1\n",
    "print(p_value)\n",
    "definition[definition['stat pvalue'] > p_value].head(20)"
   ]
  },
  {
   "cell_type": "code",
   "execution_count": 58,
   "metadata": {},
   "outputs": [
    {
     "data": {
      "text/plain": [
       "12"
      ]
     },
     "execution_count": 58,
     "metadata": {},
     "output_type": "execute_result"
    }
   ],
   "source": [
    "not_imp = definition[(definition['stat pvalue'] > p_value)]['variable'].to_list()\n",
    "len(not_imp)"
   ]
  },
  {
   "cell_type": "code",
   "execution_count": 59,
   "metadata": {},
   "outputs": [
    {
     "data": {
      "text/plain": [
       "(288, 13)"
      ]
     },
     "execution_count": 59,
     "metadata": {},
     "output_type": "execute_result"
    }
   ],
   "source": [
    "for i in not_imp:\n",
    "    if i not in COL_DEL and i not in necessary_fields:\n",
    "        COL_DEL.append(i)\n",
    "columns = [i for i in data.columns if i not in COL_DEL]\n",
    "len(columns), len(list(set(COL_DEL)))"
   ]
  },
  {
   "cell_type": "code",
   "execution_count": 60,
   "metadata": {},
   "outputs": [],
   "source": [
    "definition.to_csv(PATH + 'SandBox/definition.csv')"
   ]
  },
  {
   "cell_type": "code",
   "execution_count": 61,
   "metadata": {},
   "outputs": [],
   "source": [
    "deleted = pd.DataFrame({'feature': not_imp})\n",
    "deleted.insert(1, 'reason', 'not_imp')"
   ]
  },
  {
   "cell_type": "code",
   "execution_count": 62,
   "metadata": {},
   "outputs": [],
   "source": [
    "#Записываем оставшиеся\n",
    "stay5 = pd.DataFrame({'feature': []})\n",
    "stay5 = stay5.append(columns, ignore_index = True)"
   ]
  },
  {
   "cell_type": "markdown",
   "metadata": {},
   "source": [
    "## Standardization and imputation of missing values"
   ]
  },
  {
   "cell_type": "code",
   "execution_count": 64,
   "metadata": {},
   "outputs": [
    {
     "data": {
      "text/plain": [
       "286"
      ]
     },
     "execution_count": 64,
     "metadata": {},
     "output_type": "execute_result"
    }
   ],
   "source": [
    "columns = [i for i in data.columns if i not in COL_DEL + necessary_fields]\n",
    "len(columns)"
   ]
  },
  {
   "cell_type": "code",
   "execution_count": 65,
   "metadata": {},
   "outputs": [
    {
     "name": "stdout",
     "output_type": "stream",
     "text": [
      "[0.01 0.02 0.05 0.95 0.98 0.99]\n",
      "Number of finished repetitions: 0 | time:  05.04.2021 12:37:51\n",
      "Number of finished repetitions: 100 | time:  05.04.2021 12:38:18\n",
      "Number of finished repetitions: 200 | time:  05.04.2021 12:38:46\n"
     ]
    }
   ],
   "source": [
    "#print_log('Строим атрибут-лист')\n",
    "attribute_list_2 = attributes_list_new(data, columns)\n",
    "#print_log('Атрибут-лист готов')"
   ]
  },
  {
   "cell_type": "code",
   "execution_count": 66,
   "metadata": {},
   "outputs": [
    {
     "data": {
      "text/plain": [
       "0"
      ]
     },
     "execution_count": 66,
     "metadata": {},
     "output_type": "execute_result"
    }
   ],
   "source": [
    "data[str_columns] = data[str_columns].fillna(missing_strings)\n",
    "\n",
    "unique_vals = []\n",
    "\n",
    "for i in str_columns:\n",
    "    unique_vals.extend(list(data[i].unique()))\n",
    "unique_vals = list(set(unique_vals))\n",
    "unique_vals.sort()    \n",
    "len(unique_vals)"
   ]
  },
  {
   "cell_type": "code",
   "execution_count": 67,
   "metadata": {},
   "outputs": [
    {
     "data": {
      "text/plain": [
       "[]"
      ]
     },
     "execution_count": 67,
     "metadata": {},
     "output_type": "execute_result"
    }
   ],
   "source": [
    "str_columns"
   ]
  },
  {
   "cell_type": "code",
   "execution_count": 68,
   "metadata": {},
   "outputs": [],
   "source": [
    "le = LabelEncoder()\n",
    "le.fit(unique_vals)\n",
    "for i in str_columns:\n",
    "    print(i)\n",
    "    data[i] = le.transform(data[i])\n",
    "    if len(np.where(le.classes_ == missing_strings)[0]) > 0:\n",
    "        data[i].replace(to_replace = np.where(le.classes_ == missing_strings)[0][0], value = np.nan, inplace = True)"
   ]
  },
  {
   "cell_type": "code",
   "execution_count": 69,
   "metadata": {},
   "outputs": [
    {
     "name": "stderr",
     "output_type": "stream",
     "text": [
      "C:\\Anaconda3\\lib\\site-packages\\ipykernel_launcher.py:1: FutureWarning: elementwise comparison failed; returning scalar instead, but in the future will perform elementwise comparison\n",
      "  \"\"\"Entry point for launching an IPython kernel.\n"
     ]
    },
    {
     "data": {
      "text/plain": [
       "0"
      ]
     },
     "execution_count": 69,
     "metadata": {},
     "output_type": "execute_result"
    }
   ],
   "source": [
    "len(np.where(le.classes_ == missing_strings)[0])"
   ]
  },
  {
   "cell_type": "code",
   "execution_count": 70,
   "metadata": {},
   "outputs": [],
   "source": [
    "data, changes = make_standard(data, columns, target, attribute_list_2, technical_list = necessary_fields, \n",
    "                              categorial_list = categorial_columns, label_encoder = le, \n",
    "                              string_list = str_columns, mis_value = missing_strings, small_treshold = 10)"
   ]
  },
  {
   "cell_type": "code",
   "execution_count": 71,
   "metadata": {},
   "outputs": [],
   "source": [
    "changes.to_csv(PATH + 'SandBox/changes.csv', sep = '\\t')"
   ]
  },
  {
   "cell_type": "code",
   "execution_count": 72,
   "metadata": {},
   "outputs": [],
   "source": [
    "new_bins = changes['new variable'].to_list()"
   ]
  },
  {
   "cell_type": "code",
   "execution_count": 73,
   "metadata": {},
   "outputs": [
    {
     "name": "stdout",
     "output_type": "stream",
     "text": [
      "[0.01 0.02 0.05 0.95 0.98 0.99]\n",
      "Number of finished repetitions: 0 | time:  05.04.2021 12:40:44\n",
      "Number of finished repetitions: 100 | time:  05.04.2021 12:41:14\n",
      "Number of finished repetitions: 200 | time:  05.04.2021 12:41:46\n",
      "Number of finished repetitions: 300 | time:  05.04.2021 12:42:15\n",
      "Number of finished repetitions: 400 | time:  05.04.2021 12:42:42\n",
      "Number of finished repetitions: 500 | time:  05.04.2021 12:43:10\n"
     ]
    }
   ],
   "source": [
    "columns = [i for i in data.columns if i not in COL_DEL + necessary_fields]\n",
    "attribute_list_2 = attributes_list_new(data, columns)"
   ]
  },
  {
   "cell_type": "code",
   "execution_count": 74,
   "metadata": {},
   "outputs": [],
   "source": [
    "hyper_disbalance = True"
   ]
  },
  {
   "cell_type": "code",
   "execution_count": 75,
   "metadata": {},
   "outputs": [],
   "source": [
    "if hyper_disbalance == True:\n",
    "    \n",
    "    attribute_list_1_eq_99_2 =attribute_list_2[(attribute_list_2['1%'] == attribute_list_2['99%'])]\n",
    "\n",
    "    check_1_eq_99_2 = check_attribute_list_cases(data, attribute_list_1_eq_99_2, target.upper(), task = task)\n",
    "\n",
    "    left_vars= check_1_eq_99_2.loc[(check_1_eq_99_2['Count_1'] >= data.shape[0]*0.005) & \n",
    "                     (check_1_eq_99_2['Count_2'] >= data.shape[0]*0.005) &\n",
    "                     (check_1_eq_99_2['p_value'] <= 0.05), 'attribute'].to_list()\n",
    "\n",
    "    attribute_list_1_eq_99_to_delete_2 = attribute_list_1_eq_99_2 #[~attribute_list_1_eq_99_2.isin(left_vars)]"
   ]
  },
  {
   "cell_type": "code",
   "execution_count": 76,
   "metadata": {},
   "outputs": [],
   "source": [
    "if hyper_disbalance== True:\n",
    "    attribute_list_one_value_2 =  attribute_list_2[attribute_list_2['count_dist'] == 1]\n",
    "\n",
    "    check_one_value_2 = check_attribute_list_cases(data, attribute_list_one_value_2, target.upper(), task = task)\n",
    "\n",
    "    left_vars_one_val= check_one_value_2.loc[(check_one_value_2['Count_1'] >= data.shape[0]*0.005) & \n",
    "                     (check_one_value_2['Count_2'] >= data.shape[0]*0.005) &\n",
    "                     (check_one_value_2['p_value'] <= 0.05), 'attribute'].to_list()\n",
    "\n",
    "    attribute_list_one_value_for_delete_2 = attribute_list_one_value_2 #[~attribute_list_one_value_2.isin(left_vars_one_val)]"
   ]
  },
  {
   "cell_type": "code",
   "execution_count": 77,
   "metadata": {},
   "outputs": [],
   "source": [
    "if hyper_disbalance== True:\n",
    "    deleted = pd.DataFrame({'feature': [], 'reason': []})\n",
    "    deleted = deleted.append(features_for_delete(attribute_list_1_eq_99_to_delete_2,'1_perc_eq_99_perc_after_bin'), \n",
    "                             ignore_index = True)\n",
    "\n",
    "    deleted = deleted.append(features_for_delete(attribute_list_one_value_for_delete_2,'one_value_after_bin'), \n",
    "                             ignore_index = True)"
   ]
  },
  {
   "cell_type": "code",
   "execution_count": 78,
   "metadata": {},
   "outputs": [],
   "source": [
    "if hyper_disbalance== True:\n",
    "    for i in attribute_list_1_eq_99_to_delete_2['attribute'].to_list():\n",
    "        if i not in COL_DEL and i not in necessary_fields:\n",
    "            COL_DEL.append(i)\n",
    "\n",
    "    for i in attribute_list_one_value_for_delete_2['attribute'].to_list():\n",
    "        if i not in COL_DEL and i not in necessary_fields:\n",
    "            COL_DEL.append(i)"
   ]
  },
  {
   "cell_type": "code",
   "execution_count": 79,
   "metadata": {},
   "outputs": [],
   "source": [
    "if hyper_disbalance== True:\n",
    "    for i in necessary_fields:\n",
    "        if i in COL_DEL:\n",
    "            print(i)"
   ]
  },
  {
   "cell_type": "code",
   "execution_count": 80,
   "metadata": {},
   "outputs": [],
   "source": [
    "attribute_list_2.to_csv(PATH + 'SandBox/attribute_list_var_binned.csv', sep='&')\n",
    "if hyper_disbalance== True:\n",
    "    file_name = PATH + 'Selection/excel/6. BL_Разведочная_Статистика_после_Биннинга.xlsx'\n",
    "    deleted.to_excel(file_name, index = False)"
   ]
  },
  {
   "cell_type": "code",
   "execution_count": 81,
   "metadata": {},
   "outputs": [],
   "source": [
    "data = data_preprocessing_train(data, target, \n",
    "                                technical_values = necessary_fields, \n",
    "                                drop_technical = False,\n",
    "                                yeo_johnson = False, \n",
    "                                attribute_list = None, \n",
    "                                var_col = None,\n",
    "                                scale = False, \n",
    "                                median = 'median',\n",
    "                                high_outlier = None, \n",
    "                                low_outlier = None, \n",
    "                                cols_outlier = None)"
   ]
  },
  {
   "cell_type": "code",
   "execution_count": 82,
   "metadata": {},
   "outputs": [],
   "source": [
    "columns = [c for c in data.columns if c not in COL_DEL + necessary_fields]"
   ]
  },
  {
   "cell_type": "code",
   "execution_count": 83,
   "metadata": {},
   "outputs": [
    {
     "data": {
      "text/plain": [
       "(522, 508, 3, 13)"
      ]
     },
     "execution_count": 83,
     "metadata": {},
     "output_type": "execute_result"
    }
   ],
   "source": [
    "len(data.columns), len(columns), len(necessary_fields), len(COL_DEL)"
   ]
  },
  {
   "cell_type": "code",
   "execution_count": 84,
   "metadata": {},
   "outputs": [
    {
     "name": "stdout",
     "output_type": "stream",
     "text": [
      "Number of finished repetitions: 30 | time:  05.04.2021 12:44:12\n",
      "Number of finished repetitions: 60 | time:  05.04.2021 12:44:35\n",
      "Number of finished repetitions: 90 | time:  05.04.2021 12:45:00\n",
      "Number of finished repetitions: 120 | time:  05.04.2021 12:45:26\n",
      "Number of finished repetitions: 150 | time:  05.04.2021 12:45:48\n",
      "Number of finished repetitions: 180 | time:  05.04.2021 12:46:05\n",
      "Number of finished repetitions: 210 | time:  05.04.2021 12:46:21\n",
      "Number of finished repetitions: 240 | time:  05.04.2021 12:46:38\n",
      "Number of finished repetitions: 270 | time:  05.04.2021 12:46:57\n",
      "Number of finished repetitions: 300 | time:  05.04.2021 12:47:14\n",
      "Number of finished repetitions: 330 | time:  05.04.2021 12:47:22\n",
      "Number of finished repetitions: 360 | time:  05.04.2021 12:47:29\n",
      "Number of finished repetitions: 390 | time:  05.04.2021 12:47:36\n",
      "Number of finished repetitions: 420 | time:  05.04.2021 12:47:44\n",
      "Number of finished repetitions: 450 | time:  05.04.2021 12:47:50\n",
      "Number of finished repetitions: 480 | time:  05.04.2021 12:47:58\n"
     ]
    }
   ],
   "source": [
    "definition_2 = statistics_with_target(data, columns, target, category_list = categorial_columns)"
   ]
  },
  {
   "cell_type": "code",
   "execution_count": 85,
   "metadata": {},
   "outputs": [
    {
     "data": {
      "text/html": [
       "<div>\n",
       "<style scoped>\n",
       "    .dataframe tbody tr th:only-of-type {\n",
       "        vertical-align: middle;\n",
       "    }\n",
       "\n",
       "    .dataframe tbody tr th {\n",
       "        vertical-align: top;\n",
       "    }\n",
       "\n",
       "    .dataframe thead th {\n",
       "        text-align: right;\n",
       "    }\n",
       "</style>\n",
       "<table border=\"1\" class=\"dataframe\">\n",
       "  <thead>\n",
       "    <tr style=\"text-align: right;\">\n",
       "      <th></th>\n",
       "      <th>variable</th>\n",
       "      <th>stat pvalue</th>\n",
       "      <th>corr</th>\n",
       "      <th>corr name</th>\n",
       "    </tr>\n",
       "  </thead>\n",
       "  <tbody>\n",
       "    <tr>\n",
       "      <th>41</th>\n",
       "      <td>F42</td>\n",
       "      <td>0.208885</td>\n",
       "      <td>-0.005696</td>\n",
       "      <td>corr</td>\n",
       "    </tr>\n",
       "    <tr>\n",
       "      <th>43</th>\n",
       "      <td>F44</td>\n",
       "      <td>0.201056</td>\n",
       "      <td>-0.006505</td>\n",
       "      <td>corr</td>\n",
       "    </tr>\n",
       "    <tr>\n",
       "      <th>61</th>\n",
       "      <td>F66</td>\n",
       "      <td>0.108726</td>\n",
       "      <td>-0.010274</td>\n",
       "      <td>corr</td>\n",
       "    </tr>\n",
       "    <tr>\n",
       "      <th>99</th>\n",
       "      <td>F104</td>\n",
       "      <td>0.182702</td>\n",
       "      <td>-0.017923</td>\n",
       "      <td>corr</td>\n",
       "    </tr>\n",
       "    <tr>\n",
       "      <th>149</th>\n",
       "      <td>F154</td>\n",
       "      <td>0.267218</td>\n",
       "      <td>-0.017149</td>\n",
       "      <td>corr</td>\n",
       "    </tr>\n",
       "  </tbody>\n",
       "</table>\n",
       "</div>"
      ],
      "text/plain": [
       "    variable  stat pvalue      corr corr name\n",
       "41       F42     0.208885 -0.005696      corr\n",
       "43       F44     0.201056 -0.006505      corr\n",
       "61       F66     0.108726 -0.010274      corr\n",
       "99      F104     0.182702 -0.017923      corr\n",
       "149     F154     0.267218 -0.017149      corr"
      ]
     },
     "execution_count": 85,
     "metadata": {},
     "output_type": "execute_result"
    }
   ],
   "source": [
    "definition_2[definition_2['stat pvalue'] > 0.1]"
   ]
  },
  {
   "cell_type": "code",
   "execution_count": 86,
   "metadata": {},
   "outputs": [
    {
     "name": "stdout",
     "output_type": "stream",
     "text": [
      "5\n"
     ]
    }
   ],
   "source": [
    "not_imp = definition_2[definition_2['stat pvalue'] > 0.1]['variable'].to_list()\n",
    "print(len(not_imp))"
   ]
  },
  {
   "cell_type": "code",
   "execution_count": 87,
   "metadata": {},
   "outputs": [],
   "source": [
    "definition_2.to_csv(PATH + 'SandBox/definition_2.csv')"
   ]
  },
  {
   "cell_type": "code",
   "execution_count": 88,
   "metadata": {},
   "outputs": [
    {
     "data": {
      "text/plain": [
       "(505, 18)"
      ]
     },
     "execution_count": 88,
     "metadata": {},
     "output_type": "execute_result"
    }
   ],
   "source": [
    "for i in not_imp:\n",
    "    if i not in COL_DEL and i not in necessary_fields:\n",
    "        #print(i)\n",
    "        COL_DEL.append(i)\n",
    "columns = [i for i in data.columns if i not in COL_DEL]        \n",
    "len(columns), len(COL_DEL) "
   ]
  },
  {
   "cell_type": "code",
   "execution_count": 89,
   "metadata": {},
   "outputs": [
    {
     "name": "stdout",
     "output_type": "stream",
     "text": [
      "['LABEL', 'MONTH', 'ID']\n"
     ]
    }
   ],
   "source": [
    "print(necessary_fields)\n",
    "for i in necessary_fields:\n",
    "    if i in COL_DEL:\n",
    "        print(i)"
   ]
  },
  {
   "cell_type": "code",
   "execution_count": 90,
   "metadata": {},
   "outputs": [],
   "source": [
    "#Записываем удаленные\n",
    "deleted = pd.DataFrame({'feature': not_imp})\n",
    "deleted.insert(1, 'reason', 'target_after_bin')"
   ]
  },
  {
   "cell_type": "code",
   "execution_count": 91,
   "metadata": {},
   "outputs": [
    {
     "data": {
      "text/html": [
       "<div>\n",
       "<style scoped>\n",
       "    .dataframe tbody tr th:only-of-type {\n",
       "        vertical-align: middle;\n",
       "    }\n",
       "\n",
       "    .dataframe tbody tr th {\n",
       "        vertical-align: top;\n",
       "    }\n",
       "\n",
       "    .dataframe thead th {\n",
       "        text-align: right;\n",
       "    }\n",
       "</style>\n",
       "<table border=\"1\" class=\"dataframe\">\n",
       "  <thead>\n",
       "    <tr style=\"text-align: right;\">\n",
       "      <th></th>\n",
       "      <th>feature</th>\n",
       "    </tr>\n",
       "  </thead>\n",
       "  <tbody>\n",
       "    <tr>\n",
       "      <th>0</th>\n",
       "      <td>ID</td>\n",
       "    </tr>\n",
       "    <tr>\n",
       "      <th>1</th>\n",
       "      <td>DATE</td>\n",
       "    </tr>\n",
       "    <tr>\n",
       "      <th>2</th>\n",
       "      <td>F1</td>\n",
       "    </tr>\n",
       "    <tr>\n",
       "      <th>3</th>\n",
       "      <td>F3</td>\n",
       "    </tr>\n",
       "    <tr>\n",
       "      <th>4</th>\n",
       "      <td>F4</td>\n",
       "    </tr>\n",
       "  </tbody>\n",
       "</table>\n",
       "</div>"
      ],
      "text/plain": [
       "  feature\n",
       "0      ID\n",
       "1    DATE\n",
       "2      F1\n",
       "3      F3\n",
       "4      F4"
      ]
     },
     "execution_count": 91,
     "metadata": {},
     "output_type": "execute_result"
    }
   ],
   "source": [
    "columns = [c for c in data.columns if c not in COL_DEL]\n",
    "stay7 = pd.DataFrame({'feature': columns})\n",
    "stay7.head()"
   ]
  },
  {
   "cell_type": "code",
   "execution_count": 92,
   "metadata": {},
   "outputs": [],
   "source": [
    "file_name = PATH + 'Selection/excel/10. f_target_d_aft_bin.xlsx'\n",
    "deleted.to_excel(file_name, index = False)"
   ]
  },
  {
   "cell_type": "code",
   "execution_count": 93,
   "metadata": {},
   "outputs": [],
   "source": [
    "file_name = PATH + 'Selection/excel/11. f_target_s_aft_bin.xlsx'\n",
    "stay7.to_excel(file_name, index = False)"
   ]
  },
  {
   "cell_type": "markdown",
   "metadata": {},
   "source": [
    "## Search correlated features on a binning sample"
   ]
  },
  {
   "cell_type": "code",
   "execution_count": 94,
   "metadata": {},
   "outputs": [
    {
     "data": {
      "text/plain": [
       "(503, 522)"
      ]
     },
     "execution_count": 94,
     "metadata": {},
     "output_type": "execute_result"
    }
   ],
   "source": [
    "columns = [c for c in data.columns if c not in COL_DEL + necessary_fields]\n",
    "len(columns), len(data.columns)"
   ]
  },
  {
   "cell_type": "code",
   "execution_count": 95,
   "metadata": {},
   "outputs": [
    {
     "data": {
      "text/plain": [
       "(792004, 522)"
      ]
     },
     "execution_count": 95,
     "metadata": {},
     "output_type": "execute_result"
    }
   ],
   "source": [
    "data.shape"
   ]
  },
  {
   "cell_type": "code",
   "execution_count": 96,
   "metadata": {},
   "outputs": [
    {
     "data": {
      "text/plain": [
       "0"
      ]
     },
     "execution_count": 96,
     "metadata": {},
     "output_type": "execute_result"
    }
   ],
   "source": [
    "categorial_columns1 = [c for c in categorial_columns if c not in COL_DEL and c in data.columns]\n",
    "len(categorial_columns1)"
   ]
  },
  {
   "cell_type": "code",
   "execution_count": 97,
   "metadata": {},
   "outputs": [
    {
     "data": {
      "text/plain": [
       "True"
      ]
     },
     "execution_count": 97,
     "metadata": {},
     "output_type": "execute_result"
    }
   ],
   "source": [
    "#Проверим, что все категориальные переменные заполнены\n",
    "data[categorial_columns1].dropna().shape == data[categorial_columns1].shape"
   ]
  },
  {
   "cell_type": "code",
   "execution_count": 98,
   "metadata": {},
   "outputs": [],
   "source": [
    "categorials_data_fin = pd.DataFrame()\n",
    "categorials_data_fin['feature'] = categorial_columns1\n",
    "categorials_data_fin.to_csv(PATH + 'SandBox/categories_fin.csv', sep = '&')"
   ]
  },
  {
   "cell_type": "code",
   "execution_count": 99,
   "metadata": {},
   "outputs": [
    {
     "name": "stdout",
     "output_type": "stream",
     "text": [
      "Начало time:  05.04.2021 12:48:11\n",
      "Корреляционная матрица по числовым переменным посчитана time:  05.04.2021 13:02:43\n",
      "Корреляционная матрица по категориальным переменным посчитана time:  05.04.2021 13:02:43\n"
     ]
    }
   ],
   "source": [
    "correlation_num1, correlation_cat1 = receive_correlations(data[columns], categorial_list = categorial_columns1)"
   ]
  },
  {
   "cell_type": "code",
   "execution_count": 100,
   "metadata": {},
   "outputs": [
    {
     "name": "stdout",
     "output_type": "stream",
     "text": [
      "Порог = 0.8 Осталось фичей = 0 Коррелир.фичей = 0\n",
      "Порог = 0.8 Осталось фичей = 129 Коррелир.фичей = 374\n"
     ]
    }
   ],
   "source": [
    "result_tab_cat1, non_doubles_cat1, col_doubles_cat1, double_dic_cat1 = find_doubles_corr(data, columns, \n",
    "                                  correlation_cat1, definition = definition_2, lvl = 0.80, light_unstable = None)\n",
    "result_tab_num1, non_doubles_num1, col_doubles_num1, double_dic_num1 = find_doubles_corr(data, columns, \n",
    "                                  correlation_num1, definition = definition_2, lvl = 0.80, light_unstable = None)"
   ]
  },
  {
   "cell_type": "code",
   "execution_count": 101,
   "metadata": {},
   "outputs": [],
   "source": [
    "result_tab_num1.to_csv(PATH + 'SandBox/result_tab_num_binned.csv', sep = '&')\n",
    "result_tab_cat1.to_csv(PATH + 'SandBox/result_tab_cat_binned.csv', sep = '&')"
   ]
  },
  {
   "cell_type": "code",
   "execution_count": 102,
   "metadata": {},
   "outputs": [],
   "source": [
    "non_doubles1 = list(set(non_doubles_cat1 + non_doubles_num1))"
   ]
  },
  {
   "cell_type": "code",
   "execution_count": 103,
   "metadata": {},
   "outputs": [],
   "source": [
    "pd_non_doubles1 = pd.DataFrame()\n",
    "pd_non_doubles1['val'] = non_doubles1\n",
    "pd_non_doubles1.to_csv(PATH + 'SandBox/non_doubles_binned.csv', sep = '&')"
   ]
  },
  {
   "cell_type": "code",
   "execution_count": 104,
   "metadata": {},
   "outputs": [],
   "source": [
    "file_name = PATH + 'Selection/excel/12. COR_NUM_binned.xlsx'\n",
    "correlation_num1.to_excel(file_name)\n",
    "file_name = PATH + 'Selection/excel/12. COR_CAT_binned.xlsx'\n",
    "correlation_cat1.to_excel(file_name)"
   ]
  },
  {
   "cell_type": "code",
   "execution_count": 105,
   "metadata": {},
   "outputs": [
    {
     "data": {
      "text/plain": [
       "(131, 392)"
      ]
     },
     "execution_count": 105,
     "metadata": {},
     "output_type": "execute_result"
    }
   ],
   "source": [
    "for i in col_doubles_cat1 + col_doubles_num1:\n",
    "    if i not in COL_DEL and i not in necessary_fields:\n",
    "#        print(i)\n",
    "        COL_DEL.append(i)\n",
    "columns = [i for i in data.columns if i not in COL_DEL]\n",
    "len(columns), len(COL_DEL) "
   ]
  },
  {
   "cell_type": "code",
   "execution_count": 106,
   "metadata": {},
   "outputs": [
    {
     "data": {
      "text/plain": [
       "(131, 392)"
      ]
     },
     "execution_count": 106,
     "metadata": {},
     "output_type": "execute_result"
    }
   ],
   "source": [
    "columns = [i for i in data.columns if i not in COL_DEL]\n",
    "len(columns), len(COL_DEL)"
   ]
  },
  {
   "cell_type": "code",
   "execution_count": 107,
   "metadata": {},
   "outputs": [],
   "source": [
    "#Записываем удаленные\n",
    "deleted = pd.DataFrame({'feature': col_doubles_cat1 + col_doubles_num1})\n",
    "deleted.insert(1, 'reason', 'doubles_after_bin')\n",
    "\n",
    "#Записываем оставшиеся\n",
    "stay13 = pd.DataFrame({'feature': columns})"
   ]
  },
  {
   "cell_type": "code",
   "execution_count": 108,
   "metadata": {},
   "outputs": [],
   "source": [
    "file_name = PATH + 'Selection/excel/12. f_double_d_aft_bin.xlsx'\n",
    "deleted.to_excel(file_name, index = False)"
   ]
  },
  {
   "cell_type": "code",
   "execution_count": 109,
   "metadata": {},
   "outputs": [],
   "source": [
    "file_name = PATH + 'Selection/excel/13. f_double_s_aft_bin.xlsx'\n",
    "stay13.to_excel(file_name, index = False)"
   ]
  },
  {
   "cell_type": "code",
   "execution_count": 110,
   "metadata": {},
   "outputs": [],
   "source": [
    "cols_true = [x for x in stay13['feature'].to_list() if x not in necessary_fields ]"
   ]
  },
  {
   "cell_type": "code",
   "execution_count": 111,
   "metadata": {},
   "outputs": [],
   "source": [
    "new_features_list = []\n",
    "cols = ['new variable', 'genuine variable', 'rule', 'values']\n",
    "\n",
    "for i in cols_true:\n",
    "    #print(i)\n",
    "    if i in list(changes['new variable']):\n",
    "        change = changes[changes['new variable'] == i]\n",
    "        new_features_list.append([list(change['new variable'])[0], list(change['genuine variable'])[0], \n",
    "                                  list(change['rule'])[0], list(change['values'])[0]])\n",
    "    else:\n",
    "        new_features_list.append([i, i, 'Missing', np.nan])\n",
    "        \n",
    "for i in necessary_fields:\n",
    "    new_features_list.append([i, i, 'Missing', np.nan])\n",
    "    \n",
    "new_features_data = pd.DataFrame.from_records(new_features_list, columns = cols)\n",
    "#new_features_data_no_vif = new_features_data[~new_features_data['new variable'].isin(vif_del)]\n",
    "new_features_data_no_vif_no_sys = new_features_data[~new_features_data['new variable'].isin(necessary_fields)]"
   ]
  },
  {
   "cell_type": "code",
   "execution_count": 112,
   "metadata": {},
   "outputs": [],
   "source": [
    "new_features_data.to_csv(PATH + '/SandBox/selected_features_forest.csv', sep = '\\t')\n",
    "#new_features_data_no_vif.to_csv(PATH + '/SandBox/selected_features_forest_vif.csv', sep = '\\t')\n",
    "new_features_data_no_vif_no_sys.to_csv(PATH + '/SandBox/selected_features_forest_vif_no_sys.csv', sep = '\\t')"
   ]
  },
  {
   "cell_type": "code",
   "execution_count": 113,
   "metadata": {},
   "outputs": [
    {
     "data": {
      "text/html": [
       "<div>\n",
       "<style scoped>\n",
       "    .dataframe tbody tr th:only-of-type {\n",
       "        vertical-align: middle;\n",
       "    }\n",
       "\n",
       "    .dataframe tbody tr th {\n",
       "        vertical-align: top;\n",
       "    }\n",
       "\n",
       "    .dataframe thead th {\n",
       "        text-align: right;\n",
       "    }\n",
       "</style>\n",
       "<table border=\"1\" class=\"dataframe\">\n",
       "  <thead>\n",
       "    <tr style=\"text-align: right;\">\n",
       "      <th></th>\n",
       "      <th>new variable</th>\n",
       "      <th>genuine variable</th>\n",
       "      <th>rule</th>\n",
       "      <th>values</th>\n",
       "    </tr>\n",
       "  </thead>\n",
       "  <tbody>\n",
       "    <tr>\n",
       "      <th>0</th>\n",
       "      <td>DATE</td>\n",
       "      <td>DATE</td>\n",
       "      <td>Missing</td>\n",
       "      <td>NaN</td>\n",
       "    </tr>\n",
       "    <tr>\n",
       "      <th>1</th>\n",
       "      <td>F1</td>\n",
       "      <td>F1</td>\n",
       "      <td>Missing</td>\n",
       "      <td>NaN</td>\n",
       "    </tr>\n",
       "    <tr>\n",
       "      <th>2</th>\n",
       "      <td>F3</td>\n",
       "      <td>F3</td>\n",
       "      <td>Missing</td>\n",
       "      <td>NaN</td>\n",
       "    </tr>\n",
       "    <tr>\n",
       "      <th>3</th>\n",
       "      <td>F4</td>\n",
       "      <td>F4</td>\n",
       "      <td>Missing</td>\n",
       "      <td>NaN</td>\n",
       "    </tr>\n",
       "    <tr>\n",
       "      <th>4</th>\n",
       "      <td>F5</td>\n",
       "      <td>F5</td>\n",
       "      <td>Missing</td>\n",
       "      <td>NaN</td>\n",
       "    </tr>\n",
       "    <tr>\n",
       "      <th>...</th>\n",
       "      <td>...</td>\n",
       "      <td>...</td>\n",
       "      <td>...</td>\n",
       "      <td>...</td>\n",
       "    </tr>\n",
       "    <tr>\n",
       "      <th>127</th>\n",
       "      <td>F48_bin</td>\n",
       "      <td>F48</td>\n",
       "      <td>_bin</td>\n",
       "      <td>NaN</td>\n",
       "    </tr>\n",
       "    <tr>\n",
       "      <th>128</th>\n",
       "      <td>F166_bin</td>\n",
       "      <td>F166</td>\n",
       "      <td>_bin</td>\n",
       "      <td>NaN</td>\n",
       "    </tr>\n",
       "    <tr>\n",
       "      <th>129</th>\n",
       "      <td>LABEL</td>\n",
       "      <td>LABEL</td>\n",
       "      <td>Missing</td>\n",
       "      <td>NaN</td>\n",
       "    </tr>\n",
       "    <tr>\n",
       "      <th>130</th>\n",
       "      <td>MONTH</td>\n",
       "      <td>MONTH</td>\n",
       "      <td>Missing</td>\n",
       "      <td>NaN</td>\n",
       "    </tr>\n",
       "    <tr>\n",
       "      <th>131</th>\n",
       "      <td>ID</td>\n",
       "      <td>ID</td>\n",
       "      <td>Missing</td>\n",
       "      <td>NaN</td>\n",
       "    </tr>\n",
       "  </tbody>\n",
       "</table>\n",
       "<p>132 rows × 4 columns</p>\n",
       "</div>"
      ],
      "text/plain": [
       "    new variable genuine variable     rule  values\n",
       "0           DATE             DATE  Missing     NaN\n",
       "1             F1               F1  Missing     NaN\n",
       "2             F3               F3  Missing     NaN\n",
       "3             F4               F4  Missing     NaN\n",
       "4             F5               F5  Missing     NaN\n",
       "..           ...              ...      ...     ...\n",
       "127      F48_bin              F48     _bin     NaN\n",
       "128     F166_bin             F166     _bin     NaN\n",
       "129        LABEL            LABEL  Missing     NaN\n",
       "130        MONTH            MONTH  Missing     NaN\n",
       "131           ID               ID  Missing     NaN\n",
       "\n",
       "[132 rows x 4 columns]"
      ]
     },
     "execution_count": 113,
     "metadata": {},
     "output_type": "execute_result"
    }
   ],
   "source": [
    "new_features_data"
   ]
  },
  {
   "cell_type": "markdown",
   "metadata": {},
   "source": [
    "## Training"
   ]
  },
  {
   "cell_type": "code",
   "execution_count": 187,
   "metadata": {},
   "outputs": [],
   "source": [
    "new_features_data_no_vif = pd.read_csv(PATH + '/SandBox/selected_features_forest.csv', sep = '\\t', index_col=0)\n",
    "new_features_data_no_vif_no_sys = pd.read_csv(PATH + '/SandBox/selected_features_forest_vif_no_sys.csv', sep = '\\t', index_col = 0)\n",
    "categorials_data_fin = pd.read_csv(PATH + 'SandBox/categories_fin.csv', sep = '\\t', index_col=0)\n",
    "definition_2 = pd.read_csv(PATH + 'SandBox/definition_2.csv', index_col=0)"
   ]
  },
  {
   "cell_type": "code",
   "execution_count": 188,
   "metadata": {},
   "outputs": [],
   "source": [
    "selected_features = new_features_data_no_vif"
   ]
  },
  {
   "cell_type": "code",
   "execution_count": 189,
   "metadata": {},
   "outputs": [],
   "source": [
    "cols = selected_features['genuine variable'].drop_duplicates().to_list()"
   ]
  },
  {
   "cell_type": "code",
   "execution_count": 190,
   "metadata": {},
   "outputs": [],
   "source": [
    "train_data = 'Chinese_train.csv'\n",
    "#test_data  = 'Chinese_forest.csv'\n",
    "val_data   = 'Chinese_valid.csv'"
   ]
  },
  {
   "cell_type": "code",
   "execution_count": 191,
   "metadata": {},
   "outputs": [],
   "source": [
    "# Загружаем только необходимые колонки и в нужном формате\n",
    "# 'cp1251'\n",
    "raw_columns = (pd.read_csv(PATH_DATA +  train_data, sep = '&', encoding = 'utf-8', nrows = 0)).columns # исходные имена колонок\n",
    "#dtype={c:type_cols.get(c.upper(),'float32') for c in raw_columns}                                                  # справочник для исходных колонок\n",
    "train = pd.read_csv(PATH_DATA  +  train_data, sep = '&', encoding = 'utf-8',  #dtype=dtype, \n",
    "                    usecols=[c for c in raw_columns if c.upper() in cols])\n",
    "\n",
    "val   = pd.read_csv(PATH_DATA +   val_data,   sep = '&', encoding = 'cp1251',  \n",
    "                    #dtype=dtype, \n",
    "                    usecols=[c for c in raw_columns if c.upper() in cols])\n",
    "train.columns = [col.upper() for col in train.columns]\n",
    "\n",
    "val.columns   = [col.upper() for col in val.columns]\n"
   ]
  },
  {
   "cell_type": "code",
   "execution_count": 192,
   "metadata": {},
   "outputs": [],
   "source": [
    "selected_features.drop(index=130, inplace = True)"
   ]
  },
  {
   "cell_type": "code",
   "execution_count": 193,
   "metadata": {},
   "outputs": [],
   "source": [
    "train = turn_variables_with_values(train, selected_features)\n",
    "val  = turn_variables_with_values(val,  selected_features)\n",
    "#oot   = turn_variables_with_values(oot,   selected_features)"
   ]
  },
  {
   "cell_type": "code",
   "execution_count": 194,
   "metadata": {},
   "outputs": [
    {
     "data": {
      "text/plain": [
       "((792004, 131), (198002, 131))"
      ]
     },
     "execution_count": 194,
     "metadata": {},
     "output_type": "execute_result"
    }
   ],
   "source": [
    "train.shape, val.shape"
   ]
  },
  {
   "cell_type": "code",
   "execution_count": 195,
   "metadata": {},
   "outputs": [],
   "source": [
    "val['MONTH'] = val['DATE']// 100"
   ]
  },
  {
   "cell_type": "code",
   "execution_count": 196,
   "metadata": {},
   "outputs": [],
   "source": [
    "X_1, X_2, y_1, y_2 = stratified_split(val, target, ['MONTH'], 'ID', \n",
    "                                      size_of_test = 0.5, drop_technical = False, random_state = 241)"
   ]
  },
  {
   "cell_type": "code",
   "execution_count": 197,
   "metadata": {},
   "outputs": [],
   "source": [
    "X_1 = X_1.join(y_1)\n",
    "X_2 = X_2.join(y_2)\n",
    "\n",
    "X_1.drop(['MONTH'], axis = 1)\n",
    "X_2.drop(['MONTH'], axis = 1)\n",
    "\n",
    "X_1.to_csv(PATH+'/Data Sets/Chinese_valid_1half_valid.csv', sep = '&', encoding = 'cp1251') \n",
    "X_2.to_csv(PATH+'/Data Sets/Chinese_valid_2half_test.csv', sep = '&', encoding = 'cp1251') "
   ]
  },
  {
   "cell_type": "code",
   "execution_count": 198,
   "metadata": {},
   "outputs": [
    {
     "data": {
      "text/plain": [
       "((99001, 132), (99001, 132))"
      ]
     },
     "execution_count": 198,
     "metadata": {},
     "output_type": "execute_result"
    }
   ],
   "source": [
    "X_1.shape, X_2.shape"
   ]
  },
  {
   "cell_type": "code",
   "execution_count": 199,
   "metadata": {},
   "outputs": [],
   "source": [
    "y_train = train[target]\n",
    "y_val = X_1[target]\n",
    "y_test = X_2[target]\n",
    "\n",
    "train.drop(target, axis = 1, inplace = True)\n",
    "X_1.drop(target, axis = 1, inplace = True)\n",
    "X_2.drop(target, axis = 1, inplace = True)"
   ]
  },
  {
   "cell_type": "code",
   "execution_count": 200,
   "metadata": {},
   "outputs": [],
   "source": [
    "y_train = y_train.astype('int')\n",
    "y_test  = y_test.astype('int')\n",
    "y_val   = y_val.astype('int')"
   ]
  },
  {
   "cell_type": "code",
   "execution_count": 201,
   "metadata": {},
   "outputs": [],
   "source": [
    "list_of_columns = selected_features['new variable'].to_list()\n",
    "list_of_columns_no_sys = [c for c in list_of_columns if c not in necessary_fields]"
   ]
  },
  {
   "cell_type": "code",
   "execution_count": 202,
   "metadata": {},
   "outputs": [
    {
     "name": "stdout",
     "output_type": "stream",
     "text": [
      "[1.000e-04 5.000e-03 1.000e-02 2.000e-02 5.000e-02 9.500e-01 9.700e-01\n",
      " 9.800e-01 9.900e-01 9.950e-01 9.999e-01]\n",
      "Number of finished repetitions: 0 | time:  05.04.2021 18:40:23\n",
      "Number of finished repetitions: 100 | time:  05.04.2021 18:40:43\n"
     ]
    }
   ],
   "source": [
    "attribute_list_model = attributes_list_new(train, list_of_columns_no_sys, [0.01, 0.5, 1, 2, 5, 95, 97, \n",
    "                                                                           98, 99, 99.5, 99.99])"
   ]
  },
  {
   "cell_type": "code",
   "execution_count": 203,
   "metadata": {},
   "outputs": [],
   "source": [
    "list_of_categories_sel = attribute_list_model.loc[(attribute_list_model['count_dist'] == 2), 'attribute'].to_list() "
   ]
  },
  {
   "cell_type": "code",
   "execution_count": 204,
   "metadata": {},
   "outputs": [],
   "source": [
    "for i in list_of_columns_no_sys:\n",
    "    if i in categorials_data_fin:\n",
    "        list_of_categories_sel.append(i)"
   ]
  },
  {
   "cell_type": "code",
   "execution_count": 205,
   "metadata": {},
   "outputs": [
    {
     "data": {
      "text/plain": [
       "124"
      ]
     },
     "execution_count": 205,
     "metadata": {},
     "output_type": "execute_result"
    }
   ],
   "source": [
    "cols_num = [c for c in list_of_columns_no_sys if c not in list_of_categories_sel]\n",
    "len(cols_num)"
   ]
  },
  {
   "cell_type": "code",
   "execution_count": 206,
   "metadata": {},
   "outputs": [],
   "source": [
    "attribute_list_model['right_border'] = attribute_list_model['99%']\n",
    "attribute_list_model['left_border'] = attribute_list_model['1%']"
   ]
  },
  {
   "cell_type": "code",
   "execution_count": 207,
   "metadata": {
    "scrolled": true
   },
   "outputs": [
    {
     "data": {
      "text/html": [
       "<div>\n",
       "<style scoped>\n",
       "    .dataframe tbody tr th:only-of-type {\n",
       "        vertical-align: middle;\n",
       "    }\n",
       "\n",
       "    .dataframe tbody tr th {\n",
       "        vertical-align: top;\n",
       "    }\n",
       "\n",
       "    .dataframe thead th {\n",
       "        text-align: right;\n",
       "    }\n",
       "</style>\n",
       "<table border=\"1\" class=\"dataframe\">\n",
       "  <thead>\n",
       "    <tr style=\"text-align: right;\">\n",
       "      <th></th>\n",
       "      <th>attribute</th>\n",
       "      <th>type_val</th>\n",
       "      <th>count_dist</th>\n",
       "      <th>count_miss</th>\n",
       "      <th>moda_val</th>\n",
       "      <th>count_value_moda</th>\n",
       "      <th>count_val</th>\n",
       "      <th>mean</th>\n",
       "      <th>stand_d_val</th>\n",
       "      <th>min_val</th>\n",
       "      <th>...</th>\n",
       "      <th>val_mediana</th>\n",
       "      <th>95%</th>\n",
       "      <th>97%</th>\n",
       "      <th>98%</th>\n",
       "      <th>99%</th>\n",
       "      <th>99.5%</th>\n",
       "      <th>99.99%</th>\n",
       "      <th>max_val</th>\n",
       "      <th>right_border</th>\n",
       "      <th>left_border</th>\n",
       "    </tr>\n",
       "  </thead>\n",
       "  <tbody>\n",
       "    <tr>\n",
       "      <th>0</th>\n",
       "      <td>F1</td>\n",
       "      <td>int64</td>\n",
       "      <td>3</td>\n",
       "      <td>0</td>\n",
       "      <td>1.0</td>\n",
       "      <td>396096</td>\n",
       "      <td>792004.0</td>\n",
       "      <td>0.725219</td>\n",
       "      <td>0.651442</td>\n",
       "      <td>0.0</td>\n",
       "      <td>...</td>\n",
       "      <td>1.0</td>\n",
       "      <td>2.0</td>\n",
       "      <td>2.0</td>\n",
       "      <td>2.0</td>\n",
       "      <td>2.0</td>\n",
       "      <td>2.0</td>\n",
       "      <td>2.0</td>\n",
       "      <td>2.0</td>\n",
       "      <td>2.0</td>\n",
       "      <td>0.0</td>\n",
       "    </tr>\n",
       "    <tr>\n",
       "      <th>1</th>\n",
       "      <td>F3</td>\n",
       "      <td>int64</td>\n",
       "      <td>3</td>\n",
       "      <td>0</td>\n",
       "      <td>1.0</td>\n",
       "      <td>395822</td>\n",
       "      <td>792004.0</td>\n",
       "      <td>0.698996</td>\n",
       "      <td>0.640019</td>\n",
       "      <td>0.0</td>\n",
       "      <td>...</td>\n",
       "      <td>1.0</td>\n",
       "      <td>2.0</td>\n",
       "      <td>2.0</td>\n",
       "      <td>2.0</td>\n",
       "      <td>2.0</td>\n",
       "      <td>2.0</td>\n",
       "      <td>2.0</td>\n",
       "      <td>2.0</td>\n",
       "      <td>2.0</td>\n",
       "      <td>0.0</td>\n",
       "    </tr>\n",
       "    <tr>\n",
       "      <th>2</th>\n",
       "      <td>F4</td>\n",
       "      <td>int64</td>\n",
       "      <td>3</td>\n",
       "      <td>0</td>\n",
       "      <td>1.0</td>\n",
       "      <td>396283</td>\n",
       "      <td>792004.0</td>\n",
       "      <td>0.524804</td>\n",
       "      <td>0.523292</td>\n",
       "      <td>0.0</td>\n",
       "      <td>...</td>\n",
       "      <td>1.0</td>\n",
       "      <td>1.0</td>\n",
       "      <td>1.0</td>\n",
       "      <td>1.0</td>\n",
       "      <td>2.0</td>\n",
       "      <td>2.0</td>\n",
       "      <td>2.0</td>\n",
       "      <td>2.0</td>\n",
       "      <td>2.0</td>\n",
       "      <td>0.0</td>\n",
       "    </tr>\n",
       "    <tr>\n",
       "      <th>3</th>\n",
       "      <td>F5</td>\n",
       "      <td>float64</td>\n",
       "      <td>311</td>\n",
       "      <td>158500</td>\n",
       "      <td>100805.0</td>\n",
       "      <td>147656</td>\n",
       "      <td>633504.0</td>\n",
       "      <td>100653.843403</td>\n",
       "      <td>3975.482690</td>\n",
       "      <td>10000.0</td>\n",
       "      <td>...</td>\n",
       "      <td>100804.0</td>\n",
       "      <td>100806.0</td>\n",
       "      <td>100807.0</td>\n",
       "      <td>100807.0</td>\n",
       "      <td>100807.0</td>\n",
       "      <td>100807.0</td>\n",
       "      <td>150401.0</td>\n",
       "      <td>150406.0</td>\n",
       "      <td>100807.0</td>\n",
       "      <td>100019.0</td>\n",
       "    </tr>\n",
       "    <tr>\n",
       "      <th>4</th>\n",
       "      <td>F6</td>\n",
       "      <td>int64</td>\n",
       "      <td>5</td>\n",
       "      <td>0</td>\n",
       "      <td>1.0</td>\n",
       "      <td>377293</td>\n",
       "      <td>792004.0</td>\n",
       "      <td>0.698533</td>\n",
       "      <td>0.753929</td>\n",
       "      <td>0.0</td>\n",
       "      <td>...</td>\n",
       "      <td>1.0</td>\n",
       "      <td>2.0</td>\n",
       "      <td>3.0</td>\n",
       "      <td>3.0</td>\n",
       "      <td>3.0</td>\n",
       "      <td>4.0</td>\n",
       "      <td>4.0</td>\n",
       "      <td>4.0</td>\n",
       "      <td>3.0</td>\n",
       "      <td>0.0</td>\n",
       "    </tr>\n",
       "    <tr>\n",
       "      <th>...</th>\n",
       "      <td>...</td>\n",
       "      <td>...</td>\n",
       "      <td>...</td>\n",
       "      <td>...</td>\n",
       "      <td>...</td>\n",
       "      <td>...</td>\n",
       "      <td>...</td>\n",
       "      <td>...</td>\n",
       "      <td>...</td>\n",
       "      <td>...</td>\n",
       "      <td>...</td>\n",
       "      <td>...</td>\n",
       "      <td>...</td>\n",
       "      <td>...</td>\n",
       "      <td>...</td>\n",
       "      <td>...</td>\n",
       "      <td>...</td>\n",
       "      <td>...</td>\n",
       "      <td>...</td>\n",
       "      <td>...</td>\n",
       "      <td>...</td>\n",
       "    </tr>\n",
       "    <tr>\n",
       "      <th>123</th>\n",
       "      <td>F296</td>\n",
       "      <td>float64</td>\n",
       "      <td>279</td>\n",
       "      <td>164627</td>\n",
       "      <td>2.0</td>\n",
       "      <td>149392</td>\n",
       "      <td>627377.0</td>\n",
       "      <td>41.209644</td>\n",
       "      <td>45.659537</td>\n",
       "      <td>1.0</td>\n",
       "      <td>...</td>\n",
       "      <td>17.0</td>\n",
       "      <td>118.0</td>\n",
       "      <td>126.0</td>\n",
       "      <td>133.0</td>\n",
       "      <td>155.0</td>\n",
       "      <td>176.0</td>\n",
       "      <td>276.0</td>\n",
       "      <td>280.0</td>\n",
       "      <td>155.0</td>\n",
       "      <td>1.0</td>\n",
       "    </tr>\n",
       "    <tr>\n",
       "      <th>124</th>\n",
       "      <td>F5_bin</td>\n",
       "      <td>int32</td>\n",
       "      <td>2</td>\n",
       "      <td>0</td>\n",
       "      <td>1.0</td>\n",
       "      <td>633504</td>\n",
       "      <td>792004.0</td>\n",
       "      <td>0.799875</td>\n",
       "      <td>0.400094</td>\n",
       "      <td>0.0</td>\n",
       "      <td>...</td>\n",
       "      <td>1.0</td>\n",
       "      <td>1.0</td>\n",
       "      <td>1.0</td>\n",
       "      <td>1.0</td>\n",
       "      <td>1.0</td>\n",
       "      <td>1.0</td>\n",
       "      <td>1.0</td>\n",
       "      <td>1.0</td>\n",
       "      <td>1.0</td>\n",
       "      <td>0.0</td>\n",
       "    </tr>\n",
       "    <tr>\n",
       "      <th>125</th>\n",
       "      <td>F36_bin</td>\n",
       "      <td>int32</td>\n",
       "      <td>2</td>\n",
       "      <td>0</td>\n",
       "      <td>0.0</td>\n",
       "      <td>736888</td>\n",
       "      <td>792004.0</td>\n",
       "      <td>0.069591</td>\n",
       "      <td>0.254456</td>\n",
       "      <td>0.0</td>\n",
       "      <td>...</td>\n",
       "      <td>0.0</td>\n",
       "      <td>1.0</td>\n",
       "      <td>1.0</td>\n",
       "      <td>1.0</td>\n",
       "      <td>1.0</td>\n",
       "      <td>1.0</td>\n",
       "      <td>1.0</td>\n",
       "      <td>1.0</td>\n",
       "      <td>1.0</td>\n",
       "      <td>0.0</td>\n",
       "    </tr>\n",
       "    <tr>\n",
       "      <th>126</th>\n",
       "      <td>F48_bin</td>\n",
       "      <td>int32</td>\n",
       "      <td>2</td>\n",
       "      <td>0</td>\n",
       "      <td>1.0</td>\n",
       "      <td>520313</td>\n",
       "      <td>792004.0</td>\n",
       "      <td>0.656958</td>\n",
       "      <td>0.474726</td>\n",
       "      <td>0.0</td>\n",
       "      <td>...</td>\n",
       "      <td>1.0</td>\n",
       "      <td>1.0</td>\n",
       "      <td>1.0</td>\n",
       "      <td>1.0</td>\n",
       "      <td>1.0</td>\n",
       "      <td>1.0</td>\n",
       "      <td>1.0</td>\n",
       "      <td>1.0</td>\n",
       "      <td>1.0</td>\n",
       "      <td>0.0</td>\n",
       "    </tr>\n",
       "    <tr>\n",
       "      <th>127</th>\n",
       "      <td>F166_bin</td>\n",
       "      <td>int32</td>\n",
       "      <td>2</td>\n",
       "      <td>0</td>\n",
       "      <td>1.0</td>\n",
       "      <td>684516</td>\n",
       "      <td>792004.0</td>\n",
       "      <td>0.864284</td>\n",
       "      <td>0.342487</td>\n",
       "      <td>0.0</td>\n",
       "      <td>...</td>\n",
       "      <td>1.0</td>\n",
       "      <td>1.0</td>\n",
       "      <td>1.0</td>\n",
       "      <td>1.0</td>\n",
       "      <td>1.0</td>\n",
       "      <td>1.0</td>\n",
       "      <td>1.0</td>\n",
       "      <td>1.0</td>\n",
       "      <td>1.0</td>\n",
       "      <td>0.0</td>\n",
       "    </tr>\n",
       "  </tbody>\n",
       "</table>\n",
       "<p>128 rows × 25 columns</p>\n",
       "</div>"
      ],
      "text/plain": [
       "    attribute type_val  count_dist  count_miss  moda_val  count_value_moda  \\\n",
       "0          F1    int64           3           0       1.0            396096   \n",
       "1          F3    int64           3           0       1.0            395822   \n",
       "2          F4    int64           3           0       1.0            396283   \n",
       "3          F5  float64         311      158500  100805.0            147656   \n",
       "4          F6    int64           5           0       1.0            377293   \n",
       "..        ...      ...         ...         ...       ...               ...   \n",
       "123      F296  float64         279      164627       2.0            149392   \n",
       "124    F5_bin    int32           2           0       1.0            633504   \n",
       "125   F36_bin    int32           2           0       0.0            736888   \n",
       "126   F48_bin    int32           2           0       1.0            520313   \n",
       "127  F166_bin    int32           2           0       1.0            684516   \n",
       "\n",
       "     count_val           mean  stand_d_val  min_val  ...  val_mediana  \\\n",
       "0     792004.0       0.725219     0.651442      0.0  ...          1.0   \n",
       "1     792004.0       0.698996     0.640019      0.0  ...          1.0   \n",
       "2     792004.0       0.524804     0.523292      0.0  ...          1.0   \n",
       "3     633504.0  100653.843403  3975.482690  10000.0  ...     100804.0   \n",
       "4     792004.0       0.698533     0.753929      0.0  ...          1.0   \n",
       "..         ...            ...          ...      ...  ...          ...   \n",
       "123   627377.0      41.209644    45.659537      1.0  ...         17.0   \n",
       "124   792004.0       0.799875     0.400094      0.0  ...          1.0   \n",
       "125   792004.0       0.069591     0.254456      0.0  ...          0.0   \n",
       "126   792004.0       0.656958     0.474726      0.0  ...          1.0   \n",
       "127   792004.0       0.864284     0.342487      0.0  ...          1.0   \n",
       "\n",
       "          95%       97%       98%       99%     99.5%    99.99%   max_val  \\\n",
       "0         2.0       2.0       2.0       2.0       2.0       2.0       2.0   \n",
       "1         2.0       2.0       2.0       2.0       2.0       2.0       2.0   \n",
       "2         1.0       1.0       1.0       2.0       2.0       2.0       2.0   \n",
       "3    100806.0  100807.0  100807.0  100807.0  100807.0  150401.0  150406.0   \n",
       "4         2.0       3.0       3.0       3.0       4.0       4.0       4.0   \n",
       "..        ...       ...       ...       ...       ...       ...       ...   \n",
       "123     118.0     126.0     133.0     155.0     176.0     276.0     280.0   \n",
       "124       1.0       1.0       1.0       1.0       1.0       1.0       1.0   \n",
       "125       1.0       1.0       1.0       1.0       1.0       1.0       1.0   \n",
       "126       1.0       1.0       1.0       1.0       1.0       1.0       1.0   \n",
       "127       1.0       1.0       1.0       1.0       1.0       1.0       1.0   \n",
       "\n",
       "     right_border  left_border  \n",
       "0             2.0          0.0  \n",
       "1             2.0          0.0  \n",
       "2             2.0          0.0  \n",
       "3        100807.0     100019.0  \n",
       "4             3.0          0.0  \n",
       "..            ...          ...  \n",
       "123         155.0          1.0  \n",
       "124           1.0          0.0  \n",
       "125           1.0          0.0  \n",
       "126           1.0          0.0  \n",
       "127           1.0          0.0  \n",
       "\n",
       "[128 rows x 25 columns]"
      ]
     },
     "execution_count": 207,
     "metadata": {},
     "output_type": "execute_result"
    }
   ],
   "source": [
    "attribute_list_model"
   ]
  },
  {
   "cell_type": "code",
   "execution_count": 208,
   "metadata": {},
   "outputs": [],
   "source": [
    "attribute_list_model.to_csv(PATH + '/attribute_list.csv', sep = '\\t')"
   ]
  },
  {
   "cell_type": "code",
   "execution_count": 209,
   "metadata": {},
   "outputs": [
    {
     "data": {
      "text/plain": [
       "Index(['DATE', 'F1', 'F3', 'F4', 'F5', 'F6', 'F7', 'F8', 'F9', 'F10',\n",
       "       ...\n",
       "       'F276', 'F277', 'F283', 'F288', 'F296', 'F5_bin', 'F36_bin', 'F48_bin',\n",
       "       'F166_bin', 'ID'],\n",
       "      dtype='object', length=130)"
      ]
     },
     "execution_count": 209,
     "metadata": {},
     "output_type": "execute_result"
    }
   ],
   "source": [
    "train.columns"
   ]
  },
  {
   "cell_type": "code",
   "execution_count": 210,
   "metadata": {},
   "outputs": [],
   "source": [
    "necessary_fields.append('DATE')"
   ]
  },
  {
   "cell_type": "code",
   "execution_count": 211,
   "metadata": {},
   "outputs": [
    {
     "data": {
      "text/plain": [
       "['LABEL', 'MONTH', 'ID', 'DATE', 'DATE']"
      ]
     },
     "execution_count": 211,
     "metadata": {},
     "output_type": "execute_result"
    }
   ],
   "source": [
    "necessary_fields"
   ]
  },
  {
   "cell_type": "code",
   "execution_count": 212,
   "metadata": {},
   "outputs": [],
   "source": [
    "from importlib import reload\n",
    "import Filter_and_Grid_Search\n",
    "Filter_and_Grid_Search = reload(Filter_and_Grid_Search)\n",
    "from Filter_and_Grid_Search import data_preprocessing_train"
   ]
  },
  {
   "cell_type": "code",
   "execution_count": 213,
   "metadata": {},
   "outputs": [],
   "source": [
    "list_of_columns_no_sys = [c for c in list_of_columns if c not in necessary_fields]\n",
    "cols_outliers = list_of_columns_no_sys.copy()"
   ]
  },
  {
   "cell_type": "code",
   "execution_count": null,
   "metadata": {},
   "outputs": [],
   "source": []
  },
  {
   "cell_type": "code",
   "execution_count": 214,
   "metadata": {
    "scrolled": false
   },
   "outputs": [],
   "source": [
    "X_1_2,  preproc_ = data_preprocessing_train(train, y_train, #test, y_test, \n",
    "                                                    technical_values = necessary_fields, \n",
    "                                                       categorial_list = list_of_categories_sel, drop_technical = True,\n",
    "                                                       yeo_johnson = False, attribute_list = attribute_list_model, \n",
    "                                                       var_col = 'attribute',\n",
    "                                                       scale = 'mean', \n",
    "                                                       median = 'val_mediana', \n",
    "                                                       \n",
    "                                                       high_outlier = 'right_border', \n",
    "                                                       low_outlier = 'left_border', \n",
    "                                                    check_percentile = 5,\n",
    "                                                       cols_outlier = cols_outliers, \n",
    "                                                       cut_non_out_9999 = True)"
   ]
  },
  {
   "cell_type": "code",
   "execution_count": 215,
   "metadata": {},
   "outputs": [],
   "source": [
    "X_2_2 = data_preprocessing_test(X_1, y_val, necessary_fields, categorial_list = list_of_categories_sel, \n",
    "                                drop_technical = True,\n",
    "                                attribute_list = attribute_list_model, var_col = 'attribute',\n",
    "                                median = 'val_mediana',\n",
    "                                high_outlier = 'right_border',\n",
    "                                low_outlier = 'left_border', \n",
    "                                scale =  preproc_, \n",
    "                                #yeo_johnson = None,\n",
    "                                cols_outlier = cols_outliers)"
   ]
  },
  {
   "cell_type": "code",
   "execution_count": 216,
   "metadata": {},
   "outputs": [],
   "source": [
    "X_3_2 = data_preprocessing_test(X_2, y_test,  necessary_fields, categorial_list = list_of_categories_sel, \n",
    "                                drop_technical = True,\n",
    "                                attribute_list = attribute_list_model, var_col = 'attribute',\n",
    "                                median = 'val_mediana',\n",
    "                                high_outlier = 'right_border',\n",
    "                                low_outlier = 'left_border', \n",
    "                                scale =  preproc_, \n",
    "                                #yeo_johnson = None,\n",
    "                                cols_outlier = cols_outliers)"
   ]
  },
  {
   "cell_type": "code",
   "execution_count": null,
   "metadata": {},
   "outputs": [],
   "source": []
  },
  {
   "cell_type": "code",
   "execution_count": 164,
   "metadata": {},
   "outputs": [],
   "source": [
    "from tensorflow.keras.layers import (Input, Activation, Dense, Flatten, Dropout)\n",
    "from tensorflow.keras.layers import (Conv1D, MaxPooling1D, AveragePooling1D)\n",
    "from tensorflow.keras.layers import add\n",
    "from tensorflow.keras.layers import BatchNormalization\n",
    "from tensorflow.keras.regularizers import l2\n",
    "from tensorflow.keras import backend as K"
   ]
  },
  {
   "cell_type": "code",
   "execution_count": 165,
   "metadata": {},
   "outputs": [],
   "source": [
    "from tensorflow.keras.layers import ReLU, Concatenate, GlobalAveragePooling1D"
   ]
  },
  {
   "cell_type": "code",
   "execution_count": 166,
   "metadata": {},
   "outputs": [],
   "source": [
    "from keras.utils import np_utils\n",
    "from tensorflow.keras.models import Model"
   ]
  },
  {
   "cell_type": "code",
   "execution_count": 167,
   "metadata": {},
   "outputs": [],
   "source": [
    "from tensorflow.keras.callbacks import EarlyStopping, Callback, LearningRateScheduler\n",
    "#from keras.callbacks import EarlyStopping, Callback\n",
    "\n",
    "# объявляем класс метрик\n",
    "\n",
    "class E_time(Callback):\n",
    "    def on_train_begin(self, logs={}):\n",
    "        tm = datetime.strftime(datetime.now(), \"%d.%m.%Y %H:%M:%S\")\n",
    "        print ('train_begin', '| time: ' , tm)\n",
    "        \n",
    "    def on_epoch_end(self, epoch, logs={}):\n",
    "        tm = datetime.strftime(datetime.now(), \"%d.%m.%Y %H:%M:%S\")\n",
    "        print ('epoch_end', '| time: ' , tm)\n",
    "    \n",
    "        return\n",
    "\n",
    "_time = E_time()"
   ]
  },
  {
   "cell_type": "code",
   "execution_count": 168,
   "metadata": {},
   "outputs": [],
   "source": [
    "import tensorflow as tf"
   ]
  },
  {
   "cell_type": "code",
   "execution_count": 169,
   "metadata": {},
   "outputs": [
    {
     "name": "stdout",
     "output_type": "stream",
     "text": [
      "2.3.0\n"
     ]
    }
   ],
   "source": [
    "print(tf.__version__)"
   ]
  },
  {
   "cell_type": "code",
   "execution_count": 170,
   "metadata": {},
   "outputs": [],
   "source": [
    "#если alpha не задано, то не делаем br_correction\n",
    "\n",
    "class DataGenerator(tf.keras.utils.Sequence):\n",
    "    def __init__(self,  dataset, x_col, y_col,  batch_size=256, num_classes=2, alpha = 0.1, random_state = 42, \n",
    "                 shuffle=True, class_w = None):\n",
    "        self.batch_size = batch_size\n",
    "        self.dataset = dataset\n",
    "        self.x_col = x_col\n",
    "        self.y_col = y_col\n",
    "        self.indices = self.dataset.index.tolist()\n",
    "        self.num_classes = num_classes\n",
    "        self.shuffle = shuffle\n",
    "        self.alpha = alpha\n",
    "        self.random_state = random_state\n",
    "        self.class_w = class_w\n",
    "        self.on_epoch_end()\n",
    "\n",
    "    def __len__(self):\n",
    "        return math.ceil(len(self.indices) / self.batch_size)\n",
    "\n",
    "    def __getitem__(self, index):\n",
    "        index = self.index[index * self.batch_size:(index + 1) * self.batch_size]\n",
    "        batch = [self.indices[k] for k in index]\n",
    "        \n",
    "        data_tmp = self.dataset.loc[batch]\n",
    "        data_tmp_b = data_tmp[data_tmp[self.y_col] == 1]\n",
    "        data_tmp_b_all = self.dataset[self.dataset[self.y_col] == 1]\n",
    "        X_tmp = data_tmp.head(0)\n",
    "        \n",
    "        \n",
    "        #print(data_tmp_b.shape[0], data_tmp.shape[0], data_tmp_b_all.shape[0])\n",
    "        if (self.alpha is None) and (self.class_w is None):\n",
    "            X = data_tmp[self.x_col] #.reshape(-1)\n",
    "            y = data_tmp[self.y_col] \n",
    "            \n",
    "        elif (self.alpha is None) and self.class_w > 0:\n",
    "            k = (self.class_w*self.batch_size)/(1-self.class_w)\n",
    "            k = k - data_tmp_b.shape[0]\n",
    "            if int(k) < 1:\n",
    "                k = k+1\n",
    "            ix2 = np.random.RandomState(self.random_state + int(k)).choice(data_tmp_b_all.shape[0], int(k))\n",
    "            X_tmp = data_tmp_b_all.iloc[ix2]\n",
    "            data_tmp = data_tmp.append(X_tmp, ignore_index=True)\n",
    "            X = data_tmp[self.x_col] #.reshape(-1)\n",
    "            y = data_tmp[self.y_col]\n",
    "            #print(data_tmp_b.shape[0], data_tmp.shape[0],  data_tmp_b.shape[0]/(data_tmp.shape[0] - X_tmp.shape[0]), np.mean(y)) \n",
    "            \n",
    "            \n",
    "            \n",
    "        else:\n",
    "            if data_tmp_b.shape[0] > 0:\n",
    "                k=(self.alpha*self.batch_size/data_tmp_b.shape[0] -1 )/(1-self.alpha)\n",
    "                for i in range(0,int(k)):\n",
    "                    X_tmp = X_tmp.append(data_tmp_b, ignore_index=True)\n",
    "            else:\n",
    "                k = (self.alpha*self.batch_size)/(1-self.alpha)\n",
    "                ix2 = np.random.RandomState(self.random_state + int(k)).choice(data_tmp_b_all.shape[0], int(k))\n",
    "                X_tmp = data_tmp_b_all.iloc[ix2]\n",
    "                data_tmp_b = X_tmp\n",
    "\n",
    "    #         print('Добавим дробное число строк')    \n",
    "            k_fraction = k - int(k)\n",
    "            n_samples = int(round(data_tmp_b.shape[0]*k_fraction))\n",
    "    #         print(k_fraction, n_samples)\n",
    "\n",
    "            ix = np.random.RandomState(self.random_state).choice(data_tmp_b.shape[0], n_samples)\n",
    "            data_add_fraction = data_tmp_b.iloc[ix]\n",
    "            X_tmp.append(data_add_fraction, ignore_index=True)\n",
    "\n",
    "            data_tmp = data_tmp.append(X_tmp, ignore_index=True)\n",
    "\n",
    "\n",
    "            X = data_tmp[self.x_col] #.reshape(-1)\n",
    "            y = data_tmp[self.y_col]   \n",
    "        #print(sum(self.dataset.loc[batch][self.y_col])/len(index), np.mean(y))\n",
    "        \n",
    "        if self.num_classes > 1:\n",
    "            y = np_utils.to_categorical( y, self.num_classes)\n",
    "            \n",
    "        ####for tf 2.3.0, [np.array(X)], np.array(y)\n",
    "\n",
    "        #return [np.array(X).reshape(X.shape[0], X.shape[1], 1)], np.array(y)\n",
    "        return [np.array(X)], np.array(y)\n",
    "\n",
    "    def on_epoch_end(self):\n",
    "        self.index = np.arange(len(self.indices))\n",
    "        if self.shuffle == True:\n",
    "            np.random.shuffle(self.index)"
   ]
  },
  {
   "cell_type": "code",
   "execution_count": 217,
   "metadata": {},
   "outputs": [],
   "source": [
    "x_col = X_1_2.columns\n",
    "y_col = target"
   ]
  },
  {
   "cell_type": "code",
   "execution_count": 218,
   "metadata": {},
   "outputs": [
    {
     "data": {
      "text/plain": [
       "128"
      ]
     },
     "execution_count": 218,
     "metadata": {},
     "output_type": "execute_result"
    }
   ],
   "source": [
    "len(x_col)"
   ]
  },
  {
   "cell_type": "code",
   "execution_count": 219,
   "metadata": {},
   "outputs": [],
   "source": [
    "train_for = pd.concat( [X_1_2, y_train] , axis = 1 )"
   ]
  },
  {
   "cell_type": "code",
   "execution_count": 220,
   "metadata": {},
   "outputs": [
    {
     "data": {
      "text/plain": [
       "0.012246150271968324"
      ]
     },
     "execution_count": 220,
     "metadata": {},
     "output_type": "execute_result"
    }
   ],
   "source": [
    "sum(y_train)/y_train.count()"
   ]
  },
  {
   "cell_type": "code",
   "execution_count": 221,
   "metadata": {},
   "outputs": [],
   "source": [
    "training_generator = DataGenerator(train_for, x_col, y_col, batch_size=512, alpha = None, class_w = 0.1 ) #было 0,05\n",
    "#validation_generator = DataGenerator(valid_for, x_col, y_col, batch_size=valid_for.shape[0], alpha = None, class_w = None)"
   ]
  },
  {
   "cell_type": "code",
   "execution_count": 222,
   "metadata": {},
   "outputs": [],
   "source": [
    "from tensorflow.keras.callbacks import EarlyStopping"
   ]
  },
  {
   "cell_type": "code",
   "execution_count": 223,
   "metadata": {},
   "outputs": [],
   "source": [
    "#X_2_2 = data_preprocessing_test(X_1, y_val\n",
    "Y_test_2 = np_utils.to_categorical( y_val, 2) # преобразовываем в 2 класса "
   ]
  },
  {
   "cell_type": "code",
   "execution_count": 224,
   "metadata": {},
   "outputs": [
    {
     "data": {
      "text/plain": [
       "((792004, 128), (99001, 128), (99001, 2))"
      ]
     },
     "execution_count": 224,
     "metadata": {},
     "output_type": "execute_result"
    }
   ],
   "source": [
    "X_1_2.shape,  X_2_2.shape, Y_test_2.shape"
   ]
  },
  {
   "cell_type": "code",
   "execution_count": 225,
   "metadata": {},
   "outputs": [
    {
     "data": {
      "text/plain": [
       "(99001, 128)"
      ]
     },
     "execution_count": 225,
     "metadata": {},
     "output_type": "execute_result"
    }
   ],
   "source": [
    "X_3_2.shape"
   ]
  },
  {
   "cell_type": "markdown",
   "metadata": {},
   "source": [
    "## Loading data"
   ]
  },
  {
   "cell_type": "code",
   "execution_count": 411,
   "metadata": {},
   "outputs": [],
   "source": [
    "#train_for = pd.concat( [X_1_2, y_train] , axis = 1 )\n",
    "test_for = pd.concat( [X_3_2, y_test] , axis = 1 )\n",
    "valid_for =  pd.concat( [X_2_2, y_val] , axis = 1 )"
   ]
  },
  {
   "cell_type": "code",
   "execution_count": 412,
   "metadata": {},
   "outputs": [
    {
     "data": {
      "text/plain": [
       "'D:/Share/safanasev/Python-notebook/AF_ML_chinese/train_128_prep.csv'"
      ]
     },
     "execution_count": 412,
     "metadata": {},
     "output_type": "execute_result"
    }
   ],
   "source": [
    "PATH + 'train_128_prep.csv'"
   ]
  },
  {
   "cell_type": "code",
   "execution_count": 413,
   "metadata": {},
   "outputs": [],
   "source": [
    "train_for.to_csv(PATH + 'china_train_128_prep.csv')\n",
    "test_for.to_csv(PATH + 'china_test_128_prep.csv')\n",
    "valid_for.to_csv(PATH + 'china_val_128_prep.csv')"
   ]
  },
  {
   "cell_type": "code",
   "execution_count": 193,
   "metadata": {},
   "outputs": [],
   "source": [
    "train_for = pd.read_csv(PATH + 'train_163_prep.csv')\n",
    "valid_for = pd.read_csv(PATH + 'valid_163_prep.csv')\n",
    "test_for = pd.read_csv(PATH + 'test_163_prep.csv')"
   ]
  },
  {
   "cell_type": "code",
   "execution_count": 194,
   "metadata": {},
   "outputs": [],
   "source": [
    "y_train = train_for[target]\n",
    "y_test = valid_for[target]\n",
    "y_val = test_for[target]\n",
    "\n",
    "train_for.drop('Unnamed: 0', axis = 1, inplace = True)\n",
    "valid_for.drop('Unnamed: 0', axis = 1, inplace = True)\n",
    "test_for.drop('Unnamed: 0', axis = 1, inplace = True)\n",
    "\n",
    "\n",
    "col = train_for.columns.to_list()\n",
    "col.remove(target)\n",
    "\n",
    "\n",
    "X_1_2 = train_for[col]\n",
    "X_2_2 = valid_for[col]\n",
    "X_3_2 = test_for[col]"
   ]
  },
  {
   "cell_type": "code",
   "execution_count": 195,
   "metadata": {},
   "outputs": [],
   "source": [
    "x_col = X_2_2.columns\n",
    "y_col = 'BAD_FLAG'"
   ]
  },
  {
   "cell_type": "code",
   "execution_count": 26,
   "metadata": {},
   "outputs": [],
   "source": [
    "Y_test_2 = np_utils.to_categorical( y_test, 2) # преобразовываем в 2 класса "
   ]
  },
  {
   "cell_type": "code",
   "execution_count": 27,
   "metadata": {},
   "outputs": [
    {
     "data": {
      "text/plain": [
       "Index(['COUNT_CONT_30', 'W_TEST_AGE_6_60D', 'W_TEST_AGE_ALL5_7D',\n",
       "       'B_TEST_PASP_D_3_7D', 'B_TEST_PASP_D_3_14D', 'B_TEST_PASP_D_3_30D',\n",
       "       'B_TEST_PASP_D_3_60D', 'B_TEST_PASP_D_10_7D', 'B_TEST_PASP_D_10_30D',\n",
       "       'B_TEST_PASP_D_ALL5_30D',\n",
       "       ...\n",
       "       'DIVISION_Южный', 'AVG_FUND_TT_7_bin', 'AVG_FUND_TT_14_bin',\n",
       "       'STD_SUM_TT_14_bin', 'AVG_FUND_TT_30_bin', 'STD_SUM_TT_30_bin',\n",
       "       'STD_SUM_TT_60_bin', 'RULE_1_TRE3_SHARE_7_bin',\n",
       "       'RULE_1_TRE3_SHARE_14_bin', 'COUNT_CONT_FIO7_7_bin'],\n",
       "      dtype='object', length=163)"
      ]
     },
     "execution_count": 27,
     "metadata": {},
     "output_type": "execute_result"
    }
   ],
   "source": [
    "x_col"
   ]
  },
  {
   "cell_type": "markdown",
   "metadata": {},
   "source": [
    "# *"
   ]
  },
  {
   "cell_type": "code",
   "execution_count": 226,
   "metadata": {},
   "outputs": [],
   "source": [
    "# Seed value\n",
    "# Apparently you may use different seed values at each stage\n",
    "seed_value= 29\n",
    "\n",
    "# 1. Set `PYTHONHASHSEED` environment variable at a fixed value\n",
    "import os\n",
    "os.environ['PYTHONHASHSEED']=str(seed_value)\n",
    "\n",
    "# 2. Set `python` built-in pseudo-random generator at a fixed value\n",
    "import random\n",
    "random.seed(seed_value)\n",
    "\n",
    "# 3. Set `numpy` pseudo-random generator at a fixed value\n",
    "import numpy as np\n",
    "np.random.seed(seed_value)\n",
    "\n",
    "# 4. Set the `tensorflow` pseudo-random generator at a fixed value\n",
    "import tensorflow as tf\n",
    "tf.compat.v1.set_random_seed(seed_value)\n",
    "\n",
    "\n",
    "# 5. Configure a new global `tensorflow` session\n",
    "# for later versions:\n",
    "session_conf = tf.compat.v1.ConfigProto(intra_op_parallelism_threads=1, inter_op_parallelism_threads=1)\n",
    "sess = tf.compat.v1.Session(graph=tf.compat.v1.get_default_graph(), config=session_conf)\n",
    "tf.compat.v1.keras.backend.set_session(sess)"
   ]
  },
  {
   "cell_type": "markdown",
   "metadata": {},
   "source": [
    "# ***"
   ]
  },
  {
   "cell_type": "markdown",
   "metadata": {},
   "source": [
    "## SpiderNet-6"
   ]
  },
  {
   "cell_type": "code",
   "execution_count": 277,
   "metadata": {},
   "outputs": [],
   "source": [
    "from tensorflow.keras.layers import GlobalMaxPooling1D"
   ]
  },
  {
   "cell_type": "code",
   "execution_count": 366,
   "metadata": {},
   "outputs": [
    {
     "name": "stdout",
     "output_type": "stream",
     "text": [
      "3 0.081\n",
      "4 0.256\n"
     ]
    }
   ],
   "source": [
    "#добавлена l2(weight_decay) в batchnorm и conv\n",
    "#weight_decay_conv = 1E-4\n",
    "l2_conv = None #l2(1E-5)\n",
    "l2_batch_gamma = l2(1E-5) #None#\n",
    "l2_batch_betta =l2(1E-5)  #None #\n",
    "_bias = True #False True лучше чем false\n",
    "\n",
    "l2_dense = l2(1E-5)\n",
    "\n",
    "from keras.regularizers import l2\n",
    "\n",
    "n_features = X_1_2.shape[1]\n",
    "#x = Input(shape=( time_steps, n_features))\n",
    "x = Input(shape=(  n_features, 1))\n",
    "#k = 1\n",
    "n_pool = 2\n",
    "n_kernel = 5\n",
    "n_filters = 5\n",
    "n_strides = 1\n",
    "classes = 2\n",
    "hidden = 64 #256\n",
    "drop_out = 0.25\n",
    "\n",
    "drop_out_conv = 0.001\n",
    "drop_out_rate = 4\n",
    "\n",
    "\n",
    "n = 0\n",
    "#padding_pool = 'same'\n",
    "padding_pool = 'valid'\n",
    "\n",
    "# первый блок\n",
    "y = Conv1D(filters=n_filters, kernel_size=n_kernel, strides=n_strides, padding='same', \n",
    "           use_bias=_bias, kernel_regularizer=l2_conv)(x) \n",
    "\n",
    "y = BatchNormalization(gamma_regularizer=l2_batch_gamma ,beta_regularizer=l2_batch_betta)(y)\n",
    "y = ReLU()(y)\n",
    "#y = Dropout(rate=drop_rate)(y)\n",
    "\n",
    "y = MaxPooling1D(pool_size = n_pool, padding=padding_pool)(y) ##\n",
    "shortcut1_2 = MaxPooling1D(pool_size = n_pool, padding=padding_pool)(y)## поправить\n",
    "shortcut1_3 = MaxPooling1D(pool_size = n_pool, padding=padding_pool)(shortcut1_2)##\n",
    "shortcut1_4 = MaxPooling1D(pool_size = n_pool, padding=padding_pool)(shortcut1_3)##\n",
    "shortcut1_5 = MaxPooling1D(pool_size = n_pool, padding=padding_pool)(shortcut1_4)\n",
    "\n",
    "\n",
    "#y = MaxPooling1D(pool_size = n_pool, padding='same')(y)\n",
    "#y = add([shortcut1_1, y])\n",
    "#y = Concatenate(axis=-1)([shortcut1_1, y])\n",
    "\n",
    "# второй spider-block\n",
    "y = Conv1D(filters=n_filters*2, kernel_size=n_kernel, strides=n_strides, padding='same',\n",
    "          use_bias=_bias, kernel_regularizer=l2_conv)(y) \n",
    "y = BatchNormalization(gamma_regularizer=l2_batch_gamma ,beta_regularizer=l2_batch_betta)(y)\n",
    "y = ReLU()(y)\n",
    "\n",
    "y = MaxPooling1D(pool_size = n_pool, padding=padding_pool)(y) ##\n",
    "shortcut2_2 = MaxPooling1D(pool_size = n_pool, padding=padding_pool)(y)##\n",
    "shortcut2_3 = MaxPooling1D(pool_size = n_pool, padding=padding_pool)(shortcut2_2)##\n",
    "shortcut2_4 = MaxPooling1D(pool_size = n_pool, padding=padding_pool)(shortcut2_3)\n",
    "\n",
    "\n",
    "y= Concatenate(axis=-1)([shortcut1_2, y])\n",
    "n = n+1\n",
    "#y = Dropout(drop_out_conv*(n**drop_out_rate))(y)\n",
    "#print(n, drop_out_conv*(n**drop_out_rate))\n",
    "\n",
    "# третий spider-block\n",
    "y = Conv1D(filters=n_filters*(3 + 1), kernel_size=n_kernel, strides=n_strides, padding='same',\n",
    "          use_bias=_bias, kernel_regularizer=l2_conv)(y) \n",
    "y = BatchNormalization(gamma_regularizer=l2_batch_gamma ,beta_regularizer=l2_batch_betta)(y)\n",
    "y = ReLU()(y)\n",
    "\n",
    "y = MaxPooling1D(pool_size = n_pool, padding=padding_pool)(y) ##\n",
    "shortcut3_2 = MaxPooling1D(pool_size = n_pool, padding=padding_pool)(y)##\n",
    "shortcut3_3 = MaxPooling1D(pool_size = n_pool, padding=padding_pool)(shortcut3_2)##\n",
    "\n",
    "y= Concatenate(axis=-1)([shortcut2_2, shortcut1_3, y])\n",
    "n = n+1\n",
    "#y = Dropout(drop_out_conv*(n**drop_out_rate))(y)\n",
    "#print(n, drop_out_conv*(n**drop_out_rate))\n",
    "\n",
    "\n",
    "# четвертый spider-block\n",
    "y = Conv1D(filters=n_filters*(4 + 1), kernel_size=n_kernel, strides=n_strides, padding='same',\n",
    "          use_bias=_bias, kernel_regularizer=l2_conv)(y) \n",
    "y = BatchNormalization(gamma_regularizer=l2_batch_gamma ,beta_regularizer=l2_batch_betta)(y)\n",
    "y = ReLU()(y)\n",
    "\n",
    "y = MaxPooling1D(pool_size = n_pool, padding=padding_pool)(y) ##\n",
    "shortcut4_2 = MaxPooling1D(pool_size = n_pool, padding=padding_pool)(y)##\n",
    "\n",
    "y= Concatenate(axis=-1)([shortcut3_2, shortcut2_3, shortcut1_4, y])\n",
    "n = n+1\n",
    "y = Dropout(drop_out_conv*(n**drop_out_rate))(y)\n",
    "print(n, drop_out_conv*(n**drop_out_rate))\n",
    "\n",
    "# пятый spider-block\n",
    "y = Conv1D(filters=n_filters*(5 + 1), kernel_size=n_kernel, strides=n_strides, padding='same',\n",
    "          use_bias=_bias, kernel_regularizer=l2_conv)(y) \n",
    "y = BatchNormalization(gamma_regularizer=l2_batch_gamma ,beta_regularizer=l2_batch_betta)(y)\n",
    "y = ReLU()(y)\n",
    "\n",
    "y = MaxPooling1D(pool_size = n_pool, padding=padding_pool)(y) ##\n",
    "y= Concatenate(axis=-1)([shortcut4_2, shortcut3_3, shortcut2_4, shortcut1_5, y])\n",
    "n = n+1\n",
    "y = Dropout(drop_out_conv*(n**drop_out_rate))(y)\n",
    "print(n, drop_out_conv*(n**drop_out_rate))\n",
    "\n",
    "# шестой spider-block\n",
    "y = Conv1D(filters=n_filters*(6 + 1), kernel_size=n_kernel, strides=n_strides, padding='same',\n",
    "          use_bias=_bias, kernel_regularizer=l2_conv)(y) \n",
    "y = BatchNormalization(gamma_regularizer=l2_batch_gamma ,beta_regularizer=l2_batch_betta)(y)\n",
    "y = ReLU()(y)\n",
    "\n",
    "#z = BatchNormalization()(y)\n",
    "#z = ReLU()(z)   \n",
    "z = GlobalAveragePooling1D()(y)\n",
    "#z = Flatten()(y) #сглаживание, пример использования - https://stackoverflow.com/questions/43237124/what-is-the-role-of-flatten-in-keras\n",
    "z = Dense(hidden, activation='relu', kernel_regularizer = l2_dense)(z)\n",
    "z = Dropout(drop_out)(z)\n",
    "z = Dense(hidden, activation='relu', kernel_regularizer = l2_dense)(z)\n",
    "z = Dropout(drop_out)(z)\n",
    "predictions = Dense(classes, activation='softmax')(z)\n",
    "\n",
    "#model = Sequential()\n",
    "model_15 = Model(inputs=x, outputs=predictions)"
   ]
  },
  {
   "cell_type": "code",
   "execution_count": 387,
   "metadata": {},
   "outputs": [
    {
     "name": "stdout",
     "output_type": "stream",
     "text": [
      "Model: \"functional_29\"\n",
      "_________________________________________________________________\n",
      "Layer (type)                 Output Shape              Param #   \n",
      "=================================================================\n",
      "input_21 (InputLayer)        [(None, 128)]             0         \n",
      "_________________________________________________________________\n",
      "dense_37 (Dense)             (None, 2)                 258       \n",
      "=================================================================\n",
      "Total params: 258\n",
      "Trainable params: 258\n",
      "Non-trainable params: 0\n",
      "_________________________________________________________________\n"
     ]
    }
   ],
   "source": [
    "y = Input(shape=(  n_features))\n",
    "\n",
    "predictions_z = Dense(classes, activation='softmax')(y)\n",
    "model_test = Model(inputs=y, outputs=predictions_z)\n",
    "\n",
    "model_test.compile(loss='categorical_crossentropy', \n",
    "                 optimizer=tf.keras.optimizers.Adam(learning_rate=0.005), \n",
    "              metrics=['accuracy', tf.keras.metrics.AUC(), tf.keras.metrics.Precision(),\n",
    "                       tf.keras.metrics.Recall()])\n",
    "model_test.summary()"
   ]
  },
  {
   "cell_type": "code",
   "execution_count": 399,
   "metadata": {},
   "outputs": [],
   "source": [
    "class Metrics(tf.keras.callbacks.Callback):\n",
    "    def __init__(self, valid_data):\n",
    "        super(Metrics, self).__init__()\n",
    "        self.validation_data = valid_data\n",
    "\n",
    "    def on_epoch_end(self, epoch, logs=None):\n",
    "        logs = logs or {}\n",
    "        val_predict = self.model.predict(self.validation_data[0])[:, 1]\n",
    "        val_targ = self.validation_data[1]\n",
    "        \n",
    "        if len(val_targ.shape) == 2: #and val_targ.shape[1] != 1:\n",
    "            val_targ = val_targ[:,1]\n",
    "\n",
    "        _val_aps = metrics.average_precision_score(val_targ, val_predict)\n",
    "        #_val_recall = metrics.recall_score(val_targ, val_predict)\n",
    "        _val_a = metrics.roc_auc_score(val_targ, val_predict)\n",
    "\n",
    "        logs['val_aps'] = _val_aps\n",
    "        logs['val_a'] = _val_a\n",
    "        print(\" — val_aps:  %f — val_g: %f\" % (_val_aps, _val_a))\n",
    "        return"
   ]
  },
  {
   "cell_type": "code",
   "execution_count": 342,
   "metadata": {},
   "outputs": [
    {
     "name": "stdout",
     "output_type": "stream",
     "text": [
      "Model: \"functional_5\"\n",
      "__________________________________________________________________________________________________\n",
      "Layer (type)                    Output Shape         Param #     Connected to                     \n",
      "==================================================================================================\n",
      "input_3 (InputLayer)            [(None, 128, 1)]     0                                            \n",
      "__________________________________________________________________________________________________\n",
      "conv1d_12 (Conv1D)              (None, 128, 5)       30          input_3[0][0]                    \n",
      "__________________________________________________________________________________________________\n",
      "batch_normalization_12 (BatchNo (None, 128, 5)       20          conv1d_12[0][0]                  \n",
      "__________________________________________________________________________________________________\n",
      "re_lu_12 (ReLU)                 (None, 128, 5)       0           batch_normalization_12[0][0]     \n",
      "__________________________________________________________________________________________________\n",
      "max_pooling1d_30 (MaxPooling1D) (None, 64, 5)        0           re_lu_12[0][0]                   \n",
      "__________________________________________________________________________________________________\n",
      "conv1d_13 (Conv1D)              (None, 64, 10)       260         max_pooling1d_30[0][0]           \n",
      "__________________________________________________________________________________________________\n",
      "batch_normalization_13 (BatchNo (None, 64, 10)       40          conv1d_13[0][0]                  \n",
      "__________________________________________________________________________________________________\n",
      "re_lu_13 (ReLU)                 (None, 64, 10)       0           batch_normalization_13[0][0]     \n",
      "__________________________________________________________________________________________________\n",
      "max_pooling1d_35 (MaxPooling1D) (None, 32, 10)       0           re_lu_13[0][0]                   \n",
      "__________________________________________________________________________________________________\n",
      "max_pooling1d_31 (MaxPooling1D) (None, 32, 5)        0           max_pooling1d_30[0][0]           \n",
      "__________________________________________________________________________________________________\n",
      "concatenate_8 (Concatenate)     (None, 32, 15)       0           max_pooling1d_31[0][0]           \n",
      "                                                                 max_pooling1d_35[0][0]           \n",
      "__________________________________________________________________________________________________\n",
      "conv1d_14 (Conv1D)              (None, 32, 20)       1520        concatenate_8[0][0]              \n",
      "__________________________________________________________________________________________________\n",
      "batch_normalization_14 (BatchNo (None, 32, 20)       80          conv1d_14[0][0]                  \n",
      "__________________________________________________________________________________________________\n",
      "re_lu_14 (ReLU)                 (None, 32, 20)       0           batch_normalization_14[0][0]     \n",
      "__________________________________________________________________________________________________\n",
      "max_pooling1d_36 (MaxPooling1D) (None, 16, 10)       0           max_pooling1d_35[0][0]           \n",
      "__________________________________________________________________________________________________\n",
      "max_pooling1d_32 (MaxPooling1D) (None, 16, 5)        0           max_pooling1d_31[0][0]           \n",
      "__________________________________________________________________________________________________\n",
      "max_pooling1d_39 (MaxPooling1D) (None, 16, 20)       0           re_lu_14[0][0]                   \n",
      "__________________________________________________________________________________________________\n",
      "concatenate_9 (Concatenate)     (None, 16, 35)       0           max_pooling1d_36[0][0]           \n",
      "                                                                 max_pooling1d_32[0][0]           \n",
      "                                                                 max_pooling1d_39[0][0]           \n",
      "__________________________________________________________________________________________________\n",
      "conv1d_15 (Conv1D)              (None, 16, 25)       4400        concatenate_9[0][0]              \n",
      "__________________________________________________________________________________________________\n",
      "batch_normalization_15 (BatchNo (None, 16, 25)       100         conv1d_15[0][0]                  \n",
      "__________________________________________________________________________________________________\n",
      "re_lu_15 (ReLU)                 (None, 16, 25)       0           batch_normalization_15[0][0]     \n",
      "__________________________________________________________________________________________________\n",
      "max_pooling1d_42 (MaxPooling1D) (None, 8, 25)        0           re_lu_15[0][0]                   \n",
      "__________________________________________________________________________________________________\n",
      "max_pooling1d_40 (MaxPooling1D) (None, 8, 20)        0           max_pooling1d_39[0][0]           \n",
      "__________________________________________________________________________________________________\n",
      "max_pooling1d_37 (MaxPooling1D) (None, 8, 10)        0           max_pooling1d_36[0][0]           \n",
      "__________________________________________________________________________________________________\n",
      "max_pooling1d_33 (MaxPooling1D) (None, 8, 5)         0           max_pooling1d_32[0][0]           \n",
      "__________________________________________________________________________________________________\n",
      "concatenate_10 (Concatenate)    (None, 8, 60)        0           max_pooling1d_40[0][0]           \n",
      "                                                                 max_pooling1d_37[0][0]           \n",
      "                                                                 max_pooling1d_33[0][0]           \n",
      "                                                                 max_pooling1d_42[0][0]           \n",
      "__________________________________________________________________________________________________\n",
      "dropout_8 (Dropout)             (None, 8, 60)        0           concatenate_10[0][0]             \n",
      "__________________________________________________________________________________________________\n",
      "conv1d_16 (Conv1D)              (None, 8, 30)        9030        dropout_8[0][0]                  \n",
      "__________________________________________________________________________________________________\n",
      "batch_normalization_16 (BatchNo (None, 8, 30)        120         conv1d_16[0][0]                  \n",
      "__________________________________________________________________________________________________\n",
      "re_lu_16 (ReLU)                 (None, 8, 30)        0           batch_normalization_16[0][0]     \n",
      "__________________________________________________________________________________________________\n",
      "max_pooling1d_43 (MaxPooling1D) (None, 4, 25)        0           max_pooling1d_42[0][0]           \n",
      "__________________________________________________________________________________________________\n",
      "max_pooling1d_41 (MaxPooling1D) (None, 4, 20)        0           max_pooling1d_40[0][0]           \n",
      "__________________________________________________________________________________________________\n",
      "max_pooling1d_38 (MaxPooling1D) (None, 4, 10)        0           max_pooling1d_37[0][0]           \n",
      "__________________________________________________________________________________________________\n",
      "max_pooling1d_34 (MaxPooling1D) (None, 4, 5)         0           max_pooling1d_33[0][0]           \n",
      "__________________________________________________________________________________________________\n",
      "max_pooling1d_44 (MaxPooling1D) (None, 4, 30)        0           re_lu_16[0][0]                   \n",
      "__________________________________________________________________________________________________\n",
      "concatenate_11 (Concatenate)    (None, 4, 90)        0           max_pooling1d_43[0][0]           \n",
      "                                                                 max_pooling1d_41[0][0]           \n",
      "                                                                 max_pooling1d_38[0][0]           \n",
      "                                                                 max_pooling1d_34[0][0]           \n",
      "                                                                 max_pooling1d_44[0][0]           \n",
      "__________________________________________________________________________________________________\n",
      "dropout_9 (Dropout)             (None, 4, 90)        0           concatenate_11[0][0]             \n",
      "__________________________________________________________________________________________________\n",
      "conv1d_17 (Conv1D)              (None, 4, 35)        15785       dropout_9[0][0]                  \n",
      "__________________________________________________________________________________________________\n",
      "batch_normalization_17 (BatchNo (None, 4, 35)        140         conv1d_17[0][0]                  \n",
      "__________________________________________________________________________________________________\n",
      "re_lu_17 (ReLU)                 (None, 4, 35)        0           batch_normalization_17[0][0]     \n",
      "__________________________________________________________________________________________________\n",
      "global_average_pooling1d_2 (Glo (None, 35)           0           re_lu_17[0][0]                   \n",
      "__________________________________________________________________________________________________\n",
      "dense_6 (Dense)                 (None, 64)           2304        global_average_pooling1d_2[0][0] \n",
      "__________________________________________________________________________________________________\n",
      "dropout_10 (Dropout)            (None, 64)           0           dense_6[0][0]                    \n",
      "__________________________________________________________________________________________________\n",
      "dense_7 (Dense)                 (None, 64)           4160        dropout_10[0][0]                 \n",
      "__________________________________________________________________________________________________\n",
      "dropout_11 (Dropout)            (None, 64)           0           dense_7[0][0]                    \n",
      "__________________________________________________________________________________________________\n",
      "dense_8 (Dense)                 (None, 2)            130         dropout_11[0][0]                 \n",
      "==================================================================================================\n",
      "Total params: 38,119\n",
      "Trainable params: 37,869\n",
      "Non-trainable params: 250\n",
      "__________________________________________________________________________________________________\n"
     ]
    }
   ],
   "source": [
    "#model_15 = Model(inputs=x, outputs=predictions)\n",
    "model_15.compile(loss='categorical_crossentropy', \n",
    "                 optimizer=tf.keras.optimizers.Adam(learning_rate=0.005), \n",
    "              metrics=['accuracy', tf.keras.metrics.AUC(), tf.keras.metrics.Precision(),\n",
    "                       tf.keras.metrics.Recall()])\n",
    "\n",
    "model_15.summary()"
   ]
  },
  {
   "cell_type": "code",
   "execution_count": 232,
   "metadata": {},
   "outputs": [],
   "source": [
    "import os\n",
    "os.environ[\"PATH\"] += os.pathsep + 'C:\\\\Program Files (x86)\\\\Graphviz2.38\\\\bin\\\\'"
   ]
  },
  {
   "cell_type": "code",
   "execution_count": 233,
   "metadata": {},
   "outputs": [
    {
     "data": {
      "image/png": "[encoded data removed]",
      "text/plain": [
       "<IPython.core.display.Image object>"
      ]
     },
     "execution_count": 233,
     "metadata": {},
     "output_type": "execute_result"
    }
   ],
   "source": [
    "tf.keras.utils.plot_model(model_15, to_file='model.png', show_shapes=True, show_layer_names=False, rankdir='TB')"
   ]
  },
  {
   "cell_type": "code",
   "execution_count": 234,
   "metadata": {},
   "outputs": [],
   "source": [
    "#training_aug = DataGenerator(aug_for, x_col, y_col, batch_size=512, alpha = None, class_w = 0.05 )\n",
    "training_generator = DataGenerator(train_for, x_col, y_col, batch_size=512, alpha = None, class_w = 0.1 )"
   ]
  },
  {
   "cell_type": "code",
   "execution_count": 235,
   "metadata": {},
   "outputs": [],
   "source": [
    "#learning_rate=0.005\n",
    "initial_learning_rate = 0.005\n",
    "\n",
    "def lr_step_decay(epoch, lr):\n",
    "    drop_rate = 0.1\n",
    "    epochs_drop = 20.0\n",
    "    \n",
    "    return initial_learning_rate * math.pow(drop_rate, math.floor(epoch/epochs_drop))"
   ]
  },
  {
   "cell_type": "code",
   "execution_count": 398,
   "metadata": {
    "scrolled": true
   },
   "outputs": [
    {
     "name": "stdout",
     "output_type": "stream",
     "text": [
      "train_begin | time:  08.04.2021 21:30:43\n",
      "\n",
      "Epoch 00001: LearningRateScheduler reducing learning rate to 0.0006784900758454762.\n",
      "epoch_end | time:  08.04.2021 21:32:56\n",
      "(99001,) 0.15125771 (99001,)\n",
      " — val_aps:  0.324674 — val_g: 0.954548\n",
      "1547/1547 - 136s - loss: 0.0420 - accuracy: 0.8843 - auc_9: 0.9620 - precision_9: 0.8843 - recall_9: 0.8843 - val_loss: 0.2690 - val_accuracy: 0.8774 - val_auc_9: 0.9594 - val_precision_9: 0.8774 - val_recall_9: 0.8774\n"
     ]
    }
   ],
   "source": [
    "VERBOSE = 2\n",
    "BATCH_SIZE = 512\n",
    "NB_EPOCH = 1\n",
    "class_weighting = {0:0.1 , 1:1} #{0:0.00163 , 1:1}\n",
    "\n",
    "with tf.device('/GPU:0'):\n",
    "    history_XX = model_test.fit_generator(generator=training_generator, #model_15\n",
    "                    validation_data= (X_2_2, Y_test_2) ,\n",
    "                                     epochs=NB_EPOCH, verbose=VERBOSE, class_weight=class_weighting,\n",
    "                                     callbacks=[_time , EarlyStopping(monitor='val_loss', patience=20)\n",
    "                                       , LearningRateScheduler(lr_step_decay, verbose=1),\n",
    "                                               Metrics(valid_data=(X_2_2, Y_test_2))])"
   ]
  },
  {
   "cell_type": "code",
   "execution_count": 270,
   "metadata": {},
   "outputs": [
    {
     "data": {
      "text/plain": [
       "{'loss': [0.011833959259092808],\n",
       " 'accuracy': [0.9791308045387268],\n",
       " 'auc_9': [0.9963716864585876],\n",
       " 'precision_9': [0.9791308045387268],\n",
       " 'recall_9': [0.9791308045387268],\n",
       " 'val_loss': [0.05490526184439659],\n",
       " 'val_accuracy': [0.9808082580566406],\n",
       " 'val_auc_9': [0.9977059960365295],\n",
       " 'val_precision_9': [0.9808082580566406],\n",
       " 'val_recall_9': [0.9808082580566406],\n",
       " 'lr': [0.005],\n",
       " 'val_aps': [0.2739938481669502],\n",
       " 'val_recall': [0.7475247524752475]}"
      ]
     },
     "execution_count": 270,
     "metadata": {},
     "output_type": "execute_result"
    }
   ],
   "source": [
    "history_XX.history"
   ]
  },
  {
   "cell_type": "code",
   "execution_count": 237,
   "metadata": {},
   "outputs": [],
   "source": [
    "test = pd.DataFrame.from_dict(model_15.get_config()['layers'])\n",
    "c  = str(sum(test['class_name']=='Conv1D')) + 'china_'\n",
    "dd = str(200000 + datetime.now().month*100 + datetime.now().day) + '_' + str(datetime.now().hour)"
   ]
  },
  {
   "cell_type": "code",
   "execution_count": 238,
   "metadata": {},
   "outputs": [],
   "source": [
    "res_model_cnn3 = pd.DataFrame(history_XX.history, columns = history_XX.history.keys())\n",
    "model_15.save('model_spider_' + c + '_' + dd +'.h5')\n",
    "res_model_cnn3.to_csv('model_spider_' + c + '_' + dd + '.csv')"
   ]
  },
  {
   "cell_type": "code",
   "execution_count": 243,
   "metadata": {
    "scrolled": true
   },
   "outputs": [
    {
     "data": {
      "text/plain": [
       "(0.5126761010668028, 0.9744922657447923, 0.9489845314895846)"
      ]
     },
     "execution_count": 243,
     "metadata": {},
     "output_type": "execute_result"
    }
   ],
   "source": [
    "predict_class_val = model_15.predict(X_2_2)\n",
    "APS = metrics.average_precision_score(y_val, predict_class_val[:,1])\n",
    "AUC = metrics.roc_auc_score(y_val, predict_class_val[:,1])\n",
    "GINI = 2*AUC - 1\n",
    "APS, AUC, GINI"
   ]
  },
  {
   "cell_type": "code",
   "execution_count": 244,
   "metadata": {},
   "outputs": [
    {
     "data": {
      "text/plain": [
       "(0.4946545926330232, 0.9742563291179324, 0.9485126582358647)"
      ]
     },
     "execution_count": 244,
     "metadata": {},
     "output_type": "execute_result"
    }
   ],
   "source": [
    "predict_class_val = model_15.predict(X_3_2)\n",
    "APS = metrics.average_precision_score(y_test, predict_class_val[:,1])\n",
    "AUC = metrics.roc_auc_score(y_test, predict_class_val[:,1])\n",
    "GINI = 2*AUC - 1\n",
    "APS, AUC, GINI"
   ]
  },
  {
   "cell_type": "code",
   "execution_count": 185,
   "metadata": {},
   "outputs": [],
   "source": [
    "#val (0.5126761010668028, 0.9744922657447923, 0.9489845314895846)\n",
    "#test (0.4946545926330232, 0.9742563291179324, 0.9485126582358647)\n"
   ]
  },
  {
   "cell_type": "code",
   "execution_count": 246,
   "metadata": {},
   "outputs": [],
   "source": [
    "import urllib\n",
    "import optuna\n",
    "from optuna.integration import TFKerasPruningCallback\n",
    "from optuna.trial import TrialState"
   ]
  },
  {
   "cell_type": "markdown",
   "metadata": {},
   "source": [
    "## SpiderNet-6"
   ]
  },
  {
   "cell_type": "code",
   "execution_count": 249,
   "metadata": {},
   "outputs": [],
   "source": [
    "def spider_model(l2_conv = None, reg = 1E-5 , reg_dense = 1E-5,\n",
    "                 _bias = True,  n_features = 163, n_pool = 2, n_kernel = 5, n_filters = 5, n_strides = 1,\n",
    "                 classes = 2, hidden = 64 , drop_out = 0.25, drop_out_conv = 0.001, drop_out_rate = 4 ,\n",
    "                 padding_pool = 'valid' ,\n",
    "                gl_pool_max = False):\n",
    "    \n",
    "    if reg == None:\n",
    "        l2_batch_gamma = None \n",
    "        l2_batch_betta = None\n",
    "    else:\n",
    "        l2_batch_gamma = l2(reg)\n",
    "        l2_batch_betta =l2(reg)\n",
    "    \n",
    "    if reg_dense == None:\n",
    "        kernel_regularizer = None\n",
    "    else:\n",
    "        kernel_regularizer = l2(reg)   \n",
    "    \n",
    "    \n",
    "    x = Input(shape=(  n_features, 1))\n",
    "    n = 0\n",
    "    y = Conv1D(filters=n_filters, kernel_size=n_kernel, strides=n_strides, padding='same', \n",
    "           use_bias=_bias, kernel_regularizer=l2_conv)(x) \n",
    "\n",
    "    y = BatchNormalization(gamma_regularizer=l2_batch_gamma ,beta_regularizer=l2_batch_betta)(y)\n",
    "    y = ReLU()(y)\n",
    "#y = Dropout(rate=drop_rate)(y)\n",
    "\n",
    "    y = MaxPooling1D(pool_size = n_pool, padding=padding_pool)(y) ##\n",
    "    shortcut1_2 = MaxPooling1D(pool_size = n_pool, padding=padding_pool)(y)## поправить\n",
    "    shortcut1_3 = MaxPooling1D(pool_size = n_pool, padding=padding_pool)(shortcut1_2)##\n",
    "    shortcut1_4 = MaxPooling1D(pool_size = n_pool, padding=padding_pool)(shortcut1_3)##\n",
    "    shortcut1_5 = MaxPooling1D(pool_size = n_pool, padding=padding_pool)(shortcut1_4)\n",
    "\n",
    "    # второй spider-block\n",
    "    y = Conv1D(filters=n_filters*2, kernel_size=n_kernel, strides=n_strides, padding='same',\n",
    "              use_bias=_bias, kernel_regularizer=l2_conv)(y) \n",
    "    y = BatchNormalization(gamma_regularizer=l2_batch_gamma ,beta_regularizer=l2_batch_betta)(y)\n",
    "    y = ReLU()(y)\n",
    "\n",
    "    y = MaxPooling1D(pool_size = n_pool, padding=padding_pool)(y) ##\n",
    "    shortcut2_2 = MaxPooling1D(pool_size = n_pool, padding=padding_pool)(y)##\n",
    "    shortcut2_3 = MaxPooling1D(pool_size = n_pool, padding=padding_pool)(shortcut2_2)##\n",
    "    shortcut2_4 = MaxPooling1D(pool_size = n_pool, padding=padding_pool)(shortcut2_3)\n",
    "\n",
    "\n",
    "    y= Concatenate(axis=-1)([shortcut1_2, y])\n",
    "    n = n+1\n",
    "\n",
    "    # третий spider-block\n",
    "    y = Conv1D(filters=n_filters*(3 + 1), kernel_size=n_kernel, strides=n_strides, padding='same',\n",
    "              use_bias=_bias, kernel_regularizer=l2_conv)(y) \n",
    "    y = BatchNormalization(gamma_regularizer=l2_batch_gamma ,beta_regularizer=l2_batch_betta)(y)\n",
    "    y = ReLU()(y)\n",
    "\n",
    "    y = MaxPooling1D(pool_size = n_pool, padding=padding_pool)(y) ##\n",
    "    shortcut3_2 = MaxPooling1D(pool_size = n_pool, padding=padding_pool)(y)##\n",
    "    shortcut3_3 = MaxPooling1D(pool_size = n_pool, padding=padding_pool)(shortcut3_2)##\n",
    "\n",
    "    y= Concatenate(axis=-1)([shortcut2_2, shortcut1_3, y])\n",
    "    n = n+1\n",
    "    # четвертый spider-block\n",
    "    y = Conv1D(filters=n_filters*(4 + 1), kernel_size=n_kernel, strides=n_strides, padding='same',\n",
    "              use_bias=_bias, kernel_regularizer=l2_conv)(y) \n",
    "    y = BatchNormalization(gamma_regularizer=l2_batch_gamma ,beta_regularizer=l2_batch_betta)(y)\n",
    "    y = ReLU()(y)\n",
    "\n",
    "    y = MaxPooling1D(pool_size = n_pool, padding=padding_pool)(y) ##\n",
    "    shortcut4_2 = MaxPooling1D(pool_size = n_pool, padding=padding_pool)(y)##\n",
    "\n",
    "    y= Concatenate(axis=-1)([shortcut3_2, shortcut2_3, shortcut1_4, y])\n",
    "    n = n+1\n",
    "    y = Dropout(drop_out_conv*(n**drop_out_rate))(y)\n",
    "    print(n, drop_out_conv*(n**drop_out_rate))\n",
    "\n",
    "    # пятый spider-block\n",
    "    y = Conv1D(filters=n_filters*(5 + 1), kernel_size=n_kernel, strides=n_strides, padding='same',\n",
    "              use_bias=_bias, kernel_regularizer=l2_conv)(y) \n",
    "    y = BatchNormalization(gamma_regularizer=l2_batch_gamma ,beta_regularizer=l2_batch_betta)(y)\n",
    "    y = ReLU()(y)\n",
    "\n",
    "    y = MaxPooling1D(pool_size = n_pool, padding=padding_pool)(y) ##\n",
    "    y= Concatenate(axis=-1)([shortcut4_2, shortcut3_3, shortcut2_4, shortcut1_5, y])\n",
    "    n = n+1\n",
    "    y = Dropout(drop_out_conv*(n**drop_out_rate))(y)\n",
    "    print(n, drop_out_conv*(n**drop_out_rate))\n",
    "\n",
    "    # шестой spider-block\n",
    "    y = Conv1D(filters=n_filters*(6 + 1), kernel_size=n_kernel, strides=n_strides, padding='same',\n",
    "              use_bias=_bias, kernel_regularizer=l2_conv)(y) \n",
    "    y = BatchNormalization(gamma_regularizer=l2_batch_gamma ,beta_regularizer=l2_batch_betta)(y)\n",
    "    y = ReLU()(y)\n",
    "    if gl_pool_max:\n",
    "        z = GlobalMaxPooling1D()(y)\n",
    "        \n",
    "    else:\n",
    "        z = GlobalAveragePooling1D()(y)\n",
    "    #z = Flatten()(y) #сглаживание, пример использования - https://stackoverflow.com/questions/43237124/what-is-the-role-of-flatten-in-keras\n",
    "    z = Dense(hidden, activation='relu', kernel_regularizer = kernel_regularizer)(z)\n",
    "    z = Dropout(drop_out)(z)\n",
    "    z = Dense(hidden, activation='relu', kernel_regularizer = kernel_regularizer)(z)\n",
    "    z = Dropout(drop_out)(z)\n",
    "    predictions = Dense(classes, activation='softmax')(z)\n",
    "\n",
    "    #model = Sequential()\n",
    "    model_15 = Model(inputs=x, outputs=predictions)\n",
    "    \n",
    "    return model_15"
   ]
  },
  {
   "cell_type": "code",
   "execution_count": 251,
   "metadata": {},
   "outputs": [],
   "source": [
    "scorer = metrics.make_scorer(metrics.average_precision_score)\n",
    "\n",
    "model_15.compile(loss='categorical_crossentropy', optimizer=\"adam\", metrics=[scorer])"
   ]
  },
  {
   "cell_type": "markdown",
   "metadata": {},
   "source": [
    "## GridSearch by Optuna"
   ]
  },
  {
   "cell_type": "code",
   "execution_count": 339,
   "metadata": {},
   "outputs": [],
   "source": [
    "BATCHSIZE = 512\n",
    "CLASSES = 2\n",
    "EPOCHS = 100\n",
    "inp_shape = X_2_2.shape[1] # open data\n",
    "\n",
    "\n",
    "\n",
    "def create_model(trial):\n",
    "\n",
    "    # Hyperparameters to be tuned by Optuna.\n",
    "    reg = trial.suggest_float(\"reg\", 1e-4, 1e-1, log=True)\n",
    "    reg_dense = trial.suggest_float(\"reg_dense\", 1e-4, 1e-1, log=True)\n",
    "    n_kernel = trial.suggest_int(\"n_kernel\", 3, 7)\n",
    "    n_filters = trial.suggest_categorical(\"n_filters\", [5, 7, 10, 15, 20])\n",
    "    hidden = trial.suggest_categorical(\"hidden\", [30, 50, 64])\n",
    "    drop_out_conv = trial.suggest_float(\"drop_out_conv\", 0.0001, 0.002)\n",
    "    gl_pool_max = trial.suggest_categorical(\"gl_pool_max\", [True, False])\n",
    "    drop_out = trial.suggest_float(\"drop_out\", 0.1, 0.4)\n",
    "    \n",
    "    lr_rate = trial.suggest_float(\"learning_rate\", 0.0001, 0.01)\n",
    "\n",
    "    # Compose neural network with one hidden layer.\n",
    "    model = spider_model(reg = reg , reg_dense = reg_dense,n_features = inp_shape, n_pool = 2, n_kernel = 5, n_filters = 5, n_strides = 1,\n",
    "                 classes = 2, hidden = hidden , drop_out = drop_out, drop_out_conv = drop_out_conv, drop_out_rate = 4 ,\n",
    "                 padding_pool = 'valid' ,\n",
    "                gl_pool_max = gl_pool_max)\n",
    "    \n",
    "        # Compile model.\n",
    "    model.compile(loss='categorical_crossentropy', \n",
    "                 optimizer=tf.keras.optimizers.Adam(learning_rate=lr_rate), \n",
    "              metrics=['accuracy', tf.keras.metrics.AUC(), tf.keras.metrics.Precision(),tf.keras.metrics.Recall()])\n",
    "    \n",
    "    \n",
    "    return model"
   ]
  },
  {
   "cell_type": "code",
   "execution_count": 337,
   "metadata": {},
   "outputs": [],
   "source": [
    "VERBOSE = 2\n",
    "\n",
    "\n",
    "def objective(trial):\n",
    "    # Clear clutter from previous TensorFlow graphs.\n",
    "    tf.keras.backend.clear_session()\n",
    "\n",
    "    # Metrics to be monitored by Optuna.\n",
    "    #if tf.__version__ >= \"2\":\n",
    "       # monitor = \"val_accuracy\"\n",
    "    #else:\n",
    "        #monitor = \"val_acc\"\n",
    "        \n",
    "    monitor = 'val_aps'\n",
    "\n",
    "    # Create tf.keras model instance.\n",
    "    model = create_model(trial)\n",
    "\n",
    "    # Create dataset instance.\n",
    "    #ds_train = train_dataset()\n",
    "    #ds_eval = eval_dataset()\n",
    "\n",
    "    # Create callbacks for early stopping and pruning.\n",
    "    callbacks = [Metrics(valid_data=(X_2_2, Y_test_2)), \n",
    "        tf.keras.callbacks.EarlyStopping(patience=5),\n",
    "        TFKerasPruningCallback(trial, monitor),\n",
    "    ]\n",
    "\n",
    "    # Train model.\n",
    "    history = model.fit_generator(generator=training_generator, \n",
    "                    validation_data= (X_2_2, Y_test_2) ,\n",
    "                                  verbose=VERBOSE , \n",
    "        epochs=EPOCHS,\n",
    "        callbacks=callbacks\n",
    "    )\n",
    "\n",
    "    return history.history[monitor][-1]\n",
    "\n",
    "\n",
    "def show_result_old(study):\n",
    "\n",
    "    pruned_trials = study.get_trials(deepcopy=False, states=[TrialState.PRUNED])\n",
    "    complete_trials = study.get_trials(deepcopy=False, states=[TrialState.COMPLETE])\n",
    "\n",
    "    print(\"Study statistics: \")\n",
    "    print(\"  Number of finished trials: \", len(study.trials))\n",
    "    print(\"  Number of pruned trials: \", len(pruned_trials))\n",
    "    print(\"  Number of complete trials: \", len(complete_trials))\n",
    "\n",
    "    print(\"Best trial:\")\n",
    "    trial = study.best_trial\n",
    "\n",
    "    print(\"  Value: \", trial.value)\n",
    "\n",
    "    print(\"  Params: \")\n",
    "    for key, value in trial.params.items():\n",
    "        print(\"    {}: {}\".format(key, value))"
   ]
  },
  {
   "cell_type": "code",
   "execution_count": 338,
   "metadata": {},
   "outputs": [],
   "source": [
    "def show_result(study):\n",
    "\n",
    "    pruned_trials = [i for i in study.trials if str(i.state) == 'TrialState.PRUNED']\n",
    "    complete_trials = [i for i in study.trials if str(i.state) == 'TrialState.COMPLETE']\n",
    "\n",
    "    print(\"Study statistics: \")\n",
    "    print(\"  Number of finished trials: \", len(study.trials))\n",
    "    print(\"  Number of pruned trials: \", len(pruned_trials))\n",
    "    print(\"  Number of complete trials: \", len(complete_trials))\n",
    "\n",
    "    print(\"Best trial:\")\n",
    "    trial = study.best_trial\n",
    "\n",
    "    print(\"  Value: \", trial.value)\n",
    "\n",
    "    print(\"  Params: \")\n",
    "    for key, value in trial.params.items():\n",
    "        print(\"    {}: {}\".format(key, value))"
   ]
  },
  {
   "cell_type": "code",
   "execution_count": 400,
   "metadata": {},
   "outputs": [
    {
     "name": "stdout",
     "output_type": "stream",
     "text": [
      "3 0.0530081489416249\n",
      "4 0.16753192751920956\n",
      "Epoch 1/100\n",
      " — val_aps:  0.362962 — val_g: 0.919532\n",
      "1547/1547 - 396s - loss: 0.5514 - accuracy: 0.9629 - auc: 0.9924 - precision: 0.9629 - recall: 0.9629 - val_loss: 0.0970 - val_accuracy: 0.9881 - val_auc: 0.9964 - val_precision: 0.9881 - val_recall: 0.9881\n",
      "Epoch 2/100\n",
      " — val_aps:  0.379587 — val_g: 0.935538\n",
      "1547/1547 - 406s - loss: 0.1188 - accuracy: 0.9762 - auc: 0.9955 - precision: 0.9762 - recall: 0.9762 - val_loss: 0.1059 - val_accuracy: 0.9880 - val_auc: 0.9929 - val_precision: 0.9880 - val_recall: 0.9880\n",
      "Epoch 3/100\n",
      " — val_aps:  0.435237 — val_g: 0.948974\n",
      "1547/1547 - 402s - loss: 0.1088 - accuracy: 0.9782 - auc: 0.9957 - precision: 0.9782 - recall: 0.9782 - val_loss: 0.0844 - val_accuracy: 0.9812 - val_auc: 0.9980 - val_precision: 0.9812 - val_recall: 0.9812\n",
      "Epoch 4/100\n",
      " — val_aps:  0.401014 — val_g: 0.947560\n",
      "1547/1547 - 394s - loss: 0.1017 - accuracy: 0.9796 - auc: 0.9960 - precision: 0.9796 - recall: 0.9796 - val_loss: 0.0726 - val_accuracy: 0.9886 - val_auc: 0.9976 - val_precision: 0.9886 - val_recall: 0.9886\n",
      "Epoch 5/100\n",
      " — val_aps:  0.384965 — val_g: 0.954586\n",
      "1547/1547 - 404s - loss: 0.0962 - accuracy: 0.9808 - auc: 0.9962 - precision: 0.9808 - recall: 0.9808 - val_loss: 0.0804 - val_accuracy: 0.9822 - val_auc: 0.9983 - val_precision: 0.9822 - val_recall: 0.9822\n",
      "Epoch 6/100\n",
      " — val_aps:  0.369763 — val_g: 0.954880\n",
      "1547/1547 - 402s - loss: 0.0933 - accuracy: 0.9813 - auc: 0.9963 - precision: 0.9813 - recall: 0.9813 - val_loss: 0.2291 - val_accuracy: 0.8798 - val_auc: 0.9749 - val_precision: 0.8798 - val_recall: 0.8798\n",
      "Epoch 7/100\n",
      " — val_aps:  0.433392 — val_g: 0.955768\n",
      "1547/1547 - 406s - loss: 0.0898 - accuracy: 0.9823 - auc: 0.9965 - precision: 0.9823 - recall: 0.9823 - val_loss: 0.0728 - val_accuracy: 0.9867 - val_auc: 0.9976 - val_precision: 0.9867 - val_recall: 0.9867\n",
      "Epoch 8/100\n",
      " — val_aps:  0.425313 — val_g: 0.962859\n",
      "1547/1547 - 397s - loss: 0.0873 - accuracy: 0.9829 - auc: 0.9965 - precision: 0.9829 - recall: 0.9829 - val_loss: 0.0683 - val_accuracy: 0.9863 - val_auc: 0.9979 - val_precision: 0.9863 - val_recall: 0.9863\n",
      "Epoch 9/100\n",
      " — val_aps:  0.433311 — val_g: 0.954447\n",
      "1547/1547 - 403s - loss: 0.0869 - accuracy: 0.9829 - auc: 0.9965 - precision: 0.9829 - recall: 0.9829 - val_loss: 0.0709 - val_accuracy: 0.9884 - val_auc: 0.9967 - val_precision: 0.9884 - val_recall: 0.9884\n",
      "Epoch 10/100\n",
      " — val_aps:  0.401739 — val_g: 0.959193\n",
      "1547/1547 - 393s - loss: 0.0855 - accuracy: 0.9831 - auc: 0.9966 - precision: 0.9831 - recall: 0.9831 - val_loss: 0.1089 - val_accuracy: 0.9663 - val_auc: 0.9964 - val_precision: 0.9663 - val_recall: 0.9663\n",
      "Epoch 11/100\n",
      " — val_aps:  0.427221 — val_g: 0.963772\n",
      "1547/1547 - 392s - loss: 0.0848 - accuracy: 0.9832 - auc: 0.9966 - precision: 0.9832 - recall: 0.9832 - val_loss: 0.0742 - val_accuracy: 0.9833 - val_auc: 0.9978 - val_precision: 0.9833 - val_recall: 0.9833\n",
      "Epoch 12/100\n",
      " — val_aps:  0.427128 — val_g: 0.955863\n",
      "1547/1547 - 394s - loss: 0.0847 - accuracy: 0.9834 - auc: 0.9966 - precision: 0.9834 - recall: 0.9834 - val_loss: 0.0731 - val_accuracy: 0.9873 - val_auc: 0.9968 - val_precision: 0.9873 - val_recall: 0.9873\n",
      "Epoch 13/100\n",
      " — val_aps:  0.443342 — val_g: 0.953870\n",
      "1547/1547 - 394s - loss: 0.0835 - accuracy: 0.9836 - auc: 0.9966 - precision: 0.9836 - recall: 0.9836 - val_loss: 0.0718 - val_accuracy: 0.9889 - val_auc: 0.9963 - val_precision: 0.9889 - val_recall: 0.9889\n"
     ]
    },
    {
     "name": "stderr",
     "output_type": "stream",
     "text": [
      "[I 2021-04-08 23:02:00,158] Trial 0 finished with value: 0.4433415172811192 and parameters: {'reg': 0.04790962113790054, 'reg_dense': 0.001488751572853646, 'n_kernel': 5, 'n_filters': 5, 'hidden': 30, 'drop_out_conv': 0.0006544215918719123, 'gl_pool_max': True, 'drop_out': 0.32220977565764036, 'learning_rate': 0.004572797796743471}. Best is trial 0 with value: 0.4433415172811192.\n"
     ]
    },
    {
     "name": "stdout",
     "output_type": "stream",
     "text": [
      "3 0.07996400992120135\n",
      "4 0.25272575975095735\n",
      "Epoch 1/100\n",
      " — val_aps:  0.414456 — val_g: 0.948756\n",
      "1547/1547 - 394s - loss: 0.1306 - accuracy: 0.9705 - auc: 0.9952 - precision: 0.9705 - recall: 0.9705 - val_loss: 0.2016 - val_accuracy: 0.9216 - val_auc: 0.9802 - val_precision: 0.9216 - val_recall: 0.9216\n",
      "Epoch 2/100\n",
      " — val_aps:  0.417373 — val_g: 0.950726\n",
      "1547/1547 - 398s - loss: 0.0755 - accuracy: 0.9804 - auc: 0.9967 - precision: 0.9804 - recall: 0.9804 - val_loss: 0.0580 - val_accuracy: 0.9888 - val_auc: 0.9966 - val_precision: 0.9888 - val_recall: 0.9888\n",
      "Epoch 3/100\n",
      " — val_aps:  0.443757 — val_g: 0.957138\n",
      "1547/1547 - 404s - loss: 0.0688 - accuracy: 0.9827 - auc: 0.9971 - precision: 0.9827 - recall: 0.9827 - val_loss: 0.0655 - val_accuracy: 0.9819 - val_auc: 0.9980 - val_precision: 0.9819 - val_recall: 0.9819\n",
      "Epoch 4/100\n",
      " — val_aps:  0.427789 — val_g: 0.961514\n",
      "1547/1547 - 401s - loss: 0.0667 - accuracy: 0.9834 - auc: 0.9972 - precision: 0.9834 - recall: 0.9834 - val_loss: 0.0507 - val_accuracy: 0.9887 - val_auc: 0.9980 - val_precision: 0.9887 - val_recall: 0.9887\n",
      "Epoch 5/100\n",
      " — val_aps:  0.368728 — val_g: 0.956080\n",
      "1547/1547 - 393s - loss: 0.0642 - accuracy: 0.9842 - auc: 0.9973 - precision: 0.9842 - recall: 0.9842 - val_loss: 0.1178 - val_accuracy: 0.9610 - val_auc: 0.9942 - val_precision: 0.9610 - val_recall: 0.9610\n",
      "Epoch 6/100\n",
      " — val_aps:  0.463356 — val_g: 0.960990\n",
      "1547/1547 - 402s - loss: 0.0624 - accuracy: 0.9849 - auc: 0.9974 - precision: 0.9849 - recall: 0.9849 - val_loss: 0.0515 - val_accuracy: 0.9890 - val_auc: 0.9975 - val_precision: 0.9890 - val_recall: 0.9890\n",
      "Epoch 7/100\n",
      " — val_aps:  0.444744 — val_g: 0.962118\n",
      "1547/1547 - 402s - loss: 0.0607 - accuracy: 0.9855 - auc: 0.9975 - precision: 0.9855 - recall: 0.9855 - val_loss: 0.0597 - val_accuracy: 0.9891 - val_auc: 0.9963 - val_precision: 0.9891 - val_recall: 0.9891\n",
      "Epoch 8/100\n",
      " — val_aps:  0.449455 — val_g: 0.964458\n",
      "1547/1547 - 393s - loss: 0.0617 - accuracy: 0.9851 - auc: 0.9975 - precision: 0.9851 - recall: 0.9851 - val_loss: 0.0694 - val_accuracy: 0.9805 - val_auc: 0.9979 - val_precision: 0.9805 - val_recall: 0.9805\n",
      "Epoch 9/100\n",
      " — val_aps:  0.475705 — val_g: 0.964959\n",
      "1547/1547 - 403s - loss: 0.0598 - accuracy: 0.9857 - auc: 0.9976 - precision: 0.9857 - recall: 0.9857 - val_loss: 0.0473 - val_accuracy: 0.9893 - val_auc: 0.9984 - val_precision: 0.9893 - val_recall: 0.9893\n",
      "Epoch 10/100\n",
      " — val_aps:  0.467008 — val_g: 0.964214\n",
      "1547/1547 - 399s - loss: 0.0585 - accuracy: 0.9860 - auc: 0.9977 - precision: 0.9860 - recall: 0.9860 - val_loss: 0.0501 - val_accuracy: 0.9877 - val_auc: 0.9981 - val_precision: 0.9877 - val_recall: 0.9877\n",
      "Epoch 11/100\n",
      " — val_aps:  0.480771 — val_g: 0.962479\n",
      "1547/1547 - 390s - loss: 0.0589 - accuracy: 0.9860 - auc: 0.9976 - precision: 0.9860 - recall: 0.9860 - val_loss: 0.0548 - val_accuracy: 0.9893 - val_auc: 0.9968 - val_precision: 0.9893 - val_recall: 0.9893\n",
      "Epoch 12/100\n",
      " — val_aps:  0.458895 — val_g: 0.961536\n",
      "1547/1547 - 401s - loss: 0.0577 - accuracy: 0.9865 - auc: 0.9977 - precision: 0.9865 - recall: 0.9865 - val_loss: 0.0489 - val_accuracy: 0.9890 - val_auc: 0.9980 - val_precision: 0.9890 - val_recall: 0.9890\n",
      "Epoch 13/100\n",
      " — val_aps:  0.469134 — val_g: 0.966973\n",
      "1547/1547 - 403s - loss: 0.0572 - accuracy: 0.9866 - auc: 0.9977 - precision: 0.9866 - recall: 0.9866 - val_loss: 0.0491 - val_accuracy: 0.9882 - val_auc: 0.9984 - val_precision: 0.9882 - val_recall: 0.9882\n",
      "Epoch 14/100\n",
      " — val_aps:  0.469542 — val_g: 0.964895\n",
      "1547/1547 - 402s - loss: 0.0571 - accuracy: 0.9866 - auc: 0.9977 - precision: 0.9866 - recall: 0.9866 - val_loss: 0.0635 - val_accuracy: 0.9823 - val_auc: 0.9979 - val_precision: 0.9823 - val_recall: 0.9823\n"
     ]
    },
    {
     "name": "stderr",
     "output_type": "stream",
     "text": [
      "[I 2021-04-09 00:35:12,042] Trial 1 finished with value: 0.46954189232438975 and parameters: {'reg': 0.004788016416014292, 'reg_dense': 0.0003053790571139943, 'n_kernel': 5, 'n_filters': 20, 'hidden': 64, 'drop_out_conv': 0.0009872099990271771, 'gl_pool_max': False, 'drop_out': 0.11704790077003134, 'learning_rate': 0.006941062808246899}. Best is trial 1 with value: 0.46954189232438975.\n"
     ]
    },
    {
     "name": "stdout",
     "output_type": "stream",
     "text": [
      "3 0.09330463626703091\n",
      "4 0.2948887269674063\n",
      "Epoch 1/100\n",
      " — val_aps:  0.412251 — val_g: 0.955915\n",
      "1547/1547 - 387s - loss: 0.1312 - accuracy: 0.9654 - auc: 0.9938 - precision: 0.9654 - recall: 0.9654 - val_loss: 0.2040 - val_accuracy: 0.9058 - val_auc: 0.9816 - val_precision: 0.9058 - val_recall: 0.9058\n",
      "Epoch 2/100\n",
      " — val_aps:  0.444625 — val_g: 0.963959\n",
      "1547/1547 - 392s - loss: 0.0762 - accuracy: 0.9800 - auc: 0.9964 - precision: 0.9800 - recall: 0.9800 - val_loss: 0.0712 - val_accuracy: 0.9758 - val_auc: 0.9977 - val_precision: 0.9758 - val_recall: 0.9758\n",
      "Epoch 3/100\n",
      " — val_aps:  0.454142 — val_g: 0.963060\n",
      "1547/1547 - 394s - loss: 0.0687 - accuracy: 0.9824 - auc: 0.9968 - precision: 0.9824 - recall: 0.9824 - val_loss: 0.0595 - val_accuracy: 0.9834 - val_auc: 0.9979 - val_precision: 0.9834 - val_recall: 0.9834\n",
      "Epoch 4/100\n",
      " — val_aps:  0.471350 — val_g: 0.964924\n",
      "1547/1547 - 386s - loss: 0.0648 - accuracy: 0.9839 - auc: 0.9970 - precision: 0.9839 - recall: 0.9839 - val_loss: 0.0469 - val_accuracy: 0.9892 - val_auc: 0.9980 - val_precision: 0.9892 - val_recall: 0.9892\n",
      "Epoch 5/100\n",
      " — val_aps:  0.414272 — val_g: 0.960411\n",
      "1547/1547 - 396s - loss: 0.0620 - accuracy: 0.9848 - auc: 0.9972 - precision: 0.9848 - recall: 0.9848 - val_loss: 0.0467 - val_accuracy: 0.9886 - val_auc: 0.9981 - val_precision: 0.9886 - val_recall: 0.9886\n",
      "Epoch 6/100\n",
      " — val_aps:  0.459206 — val_g: 0.963941\n",
      "1547/1547 - 394s - loss: 0.0612 - accuracy: 0.9850 - auc: 0.9973 - precision: 0.9850 - recall: 0.9850 - val_loss: 0.0508 - val_accuracy: 0.9873 - val_auc: 0.9982 - val_precision: 0.9873 - val_recall: 0.9873\n",
      "Epoch 7/100\n",
      " — val_aps:  0.453755 — val_g: 0.960346\n",
      "1547/1547 - 386s - loss: 0.0584 - accuracy: 0.9858 - auc: 0.9974 - precision: 0.9858 - recall: 0.9858 - val_loss: 0.0584 - val_accuracy: 0.9828 - val_auc: 0.9981 - val_precision: 0.9828 - val_recall: 0.9828\n",
      "Epoch 8/100\n",
      " — val_aps:  0.432721 — val_g: 0.959975\n",
      "1547/1547 - 385s - loss: 0.0579 - accuracy: 0.9860 - auc: 0.9974 - precision: 0.9860 - recall: 0.9860 - val_loss: 0.0689 - val_accuracy: 0.9819 - val_auc: 0.9969 - val_precision: 0.9819 - val_recall: 0.9819\n",
      "Epoch 9/100\n",
      " — val_aps:  0.472905 — val_g: 0.964097\n",
      "1547/1547 - 393s - loss: 0.0576 - accuracy: 0.9860 - auc: 0.9974 - precision: 0.9860 - recall: 0.9860 - val_loss: 0.0475 - val_accuracy: 0.9896 - val_auc: 0.9976 - val_precision: 0.9896 - val_recall: 0.9896\n",
      "Epoch 10/100\n",
      " — val_aps:  0.473728 — val_g: 0.964479\n",
      "1547/1547 - 396s - loss: 0.0564 - accuracy: 0.9865 - auc: 0.9975 - precision: 0.9865 - recall: 0.9865 - val_loss: 0.0500 - val_accuracy: 0.9892 - val_auc: 0.9975 - val_precision: 0.9892 - val_recall: 0.9892\n"
     ]
    },
    {
     "name": "stderr",
     "output_type": "stream",
     "text": [
      "[I 2021-04-09 01:40:29,167] Trial 2 finished with value: 0.4737278784366771 and parameters: {'reg': 0.0016463919203173565, 'reg_dense': 0.0007197644138041479, 'n_kernel': 7, 'n_filters': 7, 'hidden': 30, 'drop_out_conv': 0.001151909089716431, 'gl_pool_max': False, 'drop_out': 0.3353033225732434, 'learning_rate': 0.0056305796200511}. Best is trial 2 with value: 0.4737278784366771.\n"
     ]
    },
    {
     "name": "stdout",
     "output_type": "stream",
     "text": [
      "3 0.0497634616828448\n",
      "4 0.15727711346676876\n",
      "Epoch 1/100\n",
      " — val_aps:  0.455176 — val_g: 0.965619\n",
      "1547/1547 - 398s - loss: 0.0991 - accuracy: 0.9719 - auc: 0.9955 - precision: 0.9719 - recall: 0.9719 - val_loss: 0.1038 - val_accuracy: 0.9640 - val_auc: 0.9955 - val_precision: 0.9640 - val_recall: 0.9640\n",
      "Epoch 2/100\n",
      " — val_aps:  0.470168 — val_g: 0.964050\n",
      "1547/1547 - 402s - loss: 0.0638 - accuracy: 0.9823 - auc: 0.9973 - precision: 0.9823 - recall: 0.9823 - val_loss: 0.0586 - val_accuracy: 0.9819 - val_auc: 0.9980 - val_precision: 0.9819 - val_recall: 0.9819\n",
      "Epoch 3/100\n",
      " — val_aps:  0.440219 — val_g: 0.966218\n",
      "1547/1547 - 403s - loss: 0.0575 - accuracy: 0.9846 - auc: 0.9976 - precision: 0.9846 - recall: 0.9846 - val_loss: 0.0812 - val_accuracy: 0.9734 - val_auc: 0.9965 - val_precision: 0.9734 - val_recall: 0.9734\n",
      "Epoch 4/100\n",
      " — val_aps:  0.453362 — val_g: 0.969140\n",
      "1547/1547 - 395s - loss: 0.0541 - accuracy: 0.9858 - auc: 0.9979 - precision: 0.9858 - recall: 0.9858 - val_loss: 0.0444 - val_accuracy: 0.9885 - val_auc: 0.9983 - val_precision: 0.9885 - val_recall: 0.9885\n",
      "Epoch 5/100\n",
      " — val_aps:  0.468274 — val_g: 0.970412\n",
      "1547/1547 - 402s - loss: 0.0524 - accuracy: 0.9863 - auc: 0.9979 - precision: 0.9863 - recall: 0.9863 - val_loss: 0.0435 - val_accuracy: 0.9887 - val_auc: 0.9983 - val_precision: 0.9887 - val_recall: 0.9887\n",
      "Epoch 6/100\n",
      " — val_aps:  0.444475 — val_g: 0.968224\n",
      "1547/1547 - 401s - loss: 0.0505 - accuracy: 0.9870 - auc: 0.9980 - precision: 0.9870 - recall: 0.9870 - val_loss: 0.0476 - val_accuracy: 0.9868 - val_auc: 0.9983 - val_precision: 0.9868 - val_recall: 0.9868\n",
      "Epoch 7/100\n",
      " — val_aps:  0.475519 — val_g: 0.970454\n",
      "1547/1547 - 395s - loss: 0.0493 - accuracy: 0.9873 - auc: 0.9981 - precision: 0.9873 - recall: 0.9873 - val_loss: 0.0453 - val_accuracy: 0.9881 - val_auc: 0.9981 - val_precision: 0.9881 - val_recall: 0.9881\n",
      "Epoch 8/100\n",
      " — val_aps:  0.468204 — val_g: 0.971162\n",
      "1547/1547 - 395s - loss: 0.0481 - accuracy: 0.9877 - auc: 0.9982 - precision: 0.9877 - recall: 0.9877 - val_loss: 0.0453 - val_accuracy: 0.9874 - val_auc: 0.9987 - val_precision: 0.9874 - val_recall: 0.9874\n",
      "Epoch 9/100\n",
      " — val_aps:  0.403347 — val_g: 0.968619\n",
      "1547/1547 - 402s - loss: 0.0478 - accuracy: 0.9877 - auc: 0.9982 - precision: 0.9877 - recall: 0.9877 - val_loss: 0.0449 - val_accuracy: 0.9875 - val_auc: 0.9987 - val_precision: 0.9875 - val_recall: 0.9875\n",
      "Epoch 10/100\n",
      " — val_aps:  0.468748 — val_g: 0.971021\n",
      "1547/1547 - 402s - loss: 0.0462 - accuracy: 0.9881 - auc: 0.9983 - precision: 0.9881 - recall: 0.9881 - val_loss: 0.0455 - val_accuracy: 0.9874 - val_auc: 0.9984 - val_precision: 0.9874 - val_recall: 0.9874\n"
     ]
    },
    {
     "name": "stderr",
     "output_type": "stream",
     "text": [
      "[I 2021-04-09 02:47:12,396] Trial 3 finished with value: 0.46874829039313315 and parameters: {'reg': 0.000852831606077958, 'reg_dense': 0.001453750778223593, 'n_kernel': 3, 'n_filters': 5, 'hidden': 50, 'drop_out_conv': 0.0006143637244795655, 'gl_pool_max': True, 'drop_out': 0.16426483619130944, 'learning_rate': 0.008012938051423736}. Best is trial 2 with value: 0.4737278784366771.\n"
     ]
    },
    {
     "name": "stdout",
     "output_type": "stream",
     "text": [
      "3 0.07925319435596208\n",
      "4 0.25047923154476903\n",
      "Epoch 1/100\n",
      " — val_aps:  0.362668 — val_g: 0.944874\n",
      "1547/1547 - 395s - loss: 1.1569 - accuracy: 0.9656 - auc: 0.9941 - precision: 0.9656 - recall: 0.9656 - val_loss: 0.1558 - val_accuracy: 0.9761 - val_auc: 0.9959 - val_precision: 0.9761 - val_recall: 0.9761\n",
      "Epoch 2/100\n",
      " — val_aps:  0.368749 — val_g: 0.947488\n",
      "1547/1547 - 401s - loss: 0.1271 - accuracy: 0.9769 - auc: 0.9961 - precision: 0.9769 - recall: 0.9769 - val_loss: 0.0940 - val_accuracy: 0.9876 - val_auc: 0.9984 - val_precision: 0.9876 - val_recall: 0.9876\n",
      "Epoch 3/100\n",
      " — val_aps:  0.390571 — val_g: 0.944087\n",
      "1547/1547 - 404s - loss: 0.1108 - accuracy: 0.9797 - auc: 0.9966 - precision: 0.9797 - recall: 0.9797 - val_loss: 0.0841 - val_accuracy: 0.9886 - val_auc: 0.9982 - val_precision: 0.9886 - val_recall: 0.9886\n",
      "Epoch 4/100\n",
      " — val_aps:  0.394466 — val_g: 0.946470\n",
      "1547/1547 - 394s - loss: 0.1021 - accuracy: 0.9811 - auc: 0.9967 - precision: 0.9811 - recall: 0.9811 - val_loss: 0.0791 - val_accuracy: 0.9880 - val_auc: 0.9982 - val_precision: 0.9880 - val_recall: 0.9880\n",
      "Epoch 5/100\n",
      " — val_aps:  0.369897 — val_g: 0.942697\n",
      "1547/1547 - 401s - loss: 0.0967 - accuracy: 0.9817 - auc: 0.9968 - precision: 0.9817 - recall: 0.9817 - val_loss: 0.0918 - val_accuracy: 0.9851 - val_auc: 0.9980 - val_precision: 0.9851 - val_recall: 0.9851\n",
      "Epoch 6/100\n",
      " — val_aps:  0.411552 — val_g: 0.917580\n",
      "1547/1547 - 402s - loss: 0.0918 - accuracy: 0.9826 - auc: 0.9969 - precision: 0.9826 - recall: 0.9826 - val_loss: 0.0892 - val_accuracy: 0.9883 - val_auc: 0.9950 - val_precision: 0.9883 - val_recall: 0.9883\n",
      "Epoch 7/100\n",
      " — val_aps:  0.390069 — val_g: 0.950362\n",
      "1547/1547 - 394s - loss: 0.0901 - accuracy: 0.9827 - auc: 0.9968 - precision: 0.9827 - recall: 0.9827 - val_loss: 0.0803 - val_accuracy: 0.9856 - val_auc: 0.9981 - val_precision: 0.9856 - val_recall: 0.9856\n",
      "Epoch 8/100\n",
      " — val_aps:  0.407390 — val_g: 0.937070\n",
      "1547/1547 - 386s - loss: 0.0874 - accuracy: 0.9829 - auc: 0.9970 - precision: 0.9829 - recall: 0.9829 - val_loss: 0.0754 - val_accuracy: 0.9884 - val_auc: 0.9970 - val_precision: 0.9884 - val_recall: 0.9884\n",
      "Epoch 9/100\n",
      " — val_aps:  0.387849 — val_g: 0.950248\n",
      "1547/1547 - 408s - loss: 0.0848 - accuracy: 0.9834 - auc: 0.9970 - precision: 0.9834 - recall: 0.9834 - val_loss: 0.0867 - val_accuracy: 0.9800 - val_auc: 0.9975 - val_precision: 0.9800 - val_recall: 0.9800\n",
      "Epoch 10/100\n",
      " — val_aps:  0.393052 — val_g: 0.953385\n",
      "1547/1547 - 407s - loss: 0.0856 - accuracy: 0.9831 - auc: 0.9969 - precision: 0.9831 - recall: 0.9831 - val_loss: 0.0757 - val_accuracy: 0.9853 - val_auc: 0.9981 - val_precision: 0.9853 - val_recall: 0.9853\n",
      "Epoch 11/100\n",
      " — val_aps:  0.403610 — val_g: 0.951466\n",
      "1547/1547 - 401s - loss: 0.0834 - accuracy: 0.9835 - auc: 0.9970 - precision: 0.9835 - recall: 0.9835 - val_loss: 0.0785 - val_accuracy: 0.9884 - val_auc: 0.9958 - val_precision: 0.9884 - val_recall: 0.9884\n",
      "Epoch 12/100\n",
      " — val_aps:  0.423213 — val_g: 0.946739\n",
      "1547/1547 - 409s - loss: 0.0821 - accuracy: 0.9838 - auc: 0.9970 - precision: 0.9838 - recall: 0.9838 - val_loss: 0.0672 - val_accuracy: 0.9874 - val_auc: 0.9981 - val_precision: 0.9874 - val_recall: 0.9874\n",
      "Epoch 13/100\n",
      " — val_aps:  0.423448 — val_g: 0.949472\n",
      "1547/1547 - 410s - loss: 0.0808 - accuracy: 0.9842 - auc: 0.9971 - precision: 0.9842 - recall: 0.9842 - val_loss: 0.0682 - val_accuracy: 0.9884 - val_auc: 0.9979 - val_precision: 0.9884 - val_recall: 0.9884\n",
      "Epoch 14/100\n",
      " — val_aps:  0.326613 — val_g: 0.947214\n",
      "1547/1547 - 402s - loss: 0.0804 - accuracy: 0.9840 - auc: 0.9971 - precision: 0.9840 - recall: 0.9840 - val_loss: 0.0732 - val_accuracy: 0.9827 - val_auc: 0.9981 - val_precision: 0.9827 - val_recall: 0.9827\n",
      "Epoch 15/100\n",
      " — val_aps:  0.419527 — val_g: 0.951212\n",
      "1547/1547 - 406s - loss: 0.0803 - accuracy: 0.9841 - auc: 0.9970 - precision: 0.9841 - recall: 0.9841 - val_loss: 0.0766 - val_accuracy: 0.9826 - val_auc: 0.9981 - val_precision: 0.9826 - val_recall: 0.9826\n",
      "Epoch 16/100\n",
      " — val_aps:  0.413049 — val_g: 0.953088\n",
      "1547/1547 - 408s - loss: 0.0786 - accuracy: 0.9843 - auc: 0.9971 - precision: 0.9843 - recall: 0.9843 - val_loss: 0.0663 - val_accuracy: 0.9867 - val_auc: 0.9982 - val_precision: 0.9867 - val_recall: 0.9867\n",
      "Epoch 17/100\n",
      " — val_aps:  0.366886 — val_g: 0.947120\n",
      "1547/1547 - 403s - loss: 0.0796 - accuracy: 0.9842 - auc: 0.9971 - precision: 0.9842 - recall: 0.9842 - val_loss: 0.0864 - val_accuracy: 0.9789 - val_auc: 0.9973 - val_precision: 0.9789 - val_recall: 0.9789\n",
      "Epoch 18/100\n",
      " — val_aps:  0.374808 — val_g: 0.951298\n",
      "1547/1547 - 404s - loss: 0.0788 - accuracy: 0.9844 - auc: 0.9971 - precision: 0.9844 - recall: 0.9844 - val_loss: 0.0689 - val_accuracy: 0.9862 - val_auc: 0.9981 - val_precision: 0.9862 - val_recall: 0.9862\n",
      "Epoch 19/100\n",
      " — val_aps:  0.393629 — val_g: 0.935191\n",
      "1547/1547 - 407s - loss: 0.0775 - accuracy: 0.9847 - auc: 0.9971 - precision: 0.9847 - recall: 0.9847 - val_loss: 0.0685 - val_accuracy: 0.9885 - val_auc: 0.9973 - val_precision: 0.9885 - val_recall: 0.9885\n",
      "Epoch 20/100\n",
      " — val_aps:  0.417613 — val_g: 0.954983\n",
      "1547/1547 - 397s - loss: 0.0787 - accuracy: 0.9843 - auc: 0.9971 - precision: 0.9843 - recall: 0.9843 - val_loss: 0.0721 - val_accuracy: 0.9841 - val_auc: 0.9982 - val_precision: 0.9841 - val_recall: 0.9841\n",
      "Epoch 21/100\n",
      " — val_aps:  0.424838 — val_g: 0.954577\n",
      "1547/1547 - 409s - loss: 0.0780 - accuracy: 0.9846 - auc: 0.9971 - precision: 0.9846 - recall: 0.9846 - val_loss: 0.0715 - val_accuracy: 0.9883 - val_auc: 0.9967 - val_precision: 0.9883 - val_recall: 0.9883\n"
     ]
    },
    {
     "name": "stderr",
     "output_type": "stream",
     "text": [
      "[I 2021-04-09 05:08:10,031] Trial 4 finished with value: 0.42483771285144556 and parameters: {'reg': 0.08381532348375066, 'reg_dense': 0.010954988126584124, 'n_kernel': 7, 'n_filters': 5, 'hidden': 50, 'drop_out_conv': 0.000978434498221754, 'gl_pool_max': True, 'drop_out': 0.16623032889175984, 'learning_rate': 0.0031074550949767112}. Best is trial 2 with value: 0.4737278784366771.\n"
     ]
    },
    {
     "name": "stdout",
     "output_type": "stream",
     "text": [
      "3 0.04763675858897434\n",
      "4 0.15055568146638804\n",
      "Epoch 1/100\n",
      " — val_aps:  0.400714 — val_g: 0.942949\n",
      "1547/1547 - 406s - loss: 0.1398 - accuracy: 0.9677 - auc: 0.9945 - precision: 0.9677 - recall: 0.9677 - val_loss: 0.1218 - val_accuracy: 0.9563 - val_auc: 0.9943 - val_precision: 0.9563 - val_recall: 0.9563\n",
      "Epoch 2/100\n",
      " — val_aps:  0.427913 — val_g: 0.955699\n",
      "1547/1547 - 405s - loss: 0.0804 - accuracy: 0.9792 - auc: 0.9965 - precision: 0.9792 - recall: 0.9792 - val_loss: 0.0601 - val_accuracy: 0.9851 - val_auc: 0.9981 - val_precision: 0.9851 - val_recall: 0.9851\n",
      "Epoch 3/100\n",
      " — val_aps:  0.412191 — val_g: 0.956232\n",
      "1547/1547 - 400s - loss: 0.0740 - accuracy: 0.9818 - auc: 0.9969 - precision: 0.9818 - recall: 0.9818 - val_loss: 0.0564 - val_accuracy: 0.9888 - val_auc: 0.9970 - val_precision: 0.9888 - val_recall: 0.9888\n",
      "Epoch 4/100\n",
      " — val_aps:  0.433149 — val_g: 0.958616\n",
      "1547/1547 - 400s - loss: 0.0714 - accuracy: 0.9827 - auc: 0.9970 - precision: 0.9827 - recall: 0.9827 - val_loss: 0.0615 - val_accuracy: 0.9835 - val_auc: 0.9982 - val_precision: 0.9835 - val_recall: 0.9835\n",
      "Epoch 5/100\n",
      " — val_aps:  0.428723 — val_g: 0.959941\n",
      "1547/1547 - 404s - loss: 0.0692 - accuracy: 0.9836 - auc: 0.9971 - precision: 0.9836 - recall: 0.9836 - val_loss: 0.0682 - val_accuracy: 0.9811 - val_auc: 0.9978 - val_precision: 0.9811 - val_recall: 0.9811\n",
      "Epoch 6/100\n",
      " — val_aps:  0.446914 — val_g: 0.963530\n",
      "1547/1547 - 397s - loss: 0.0675 - accuracy: 0.9841 - auc: 0.9972 - precision: 0.9841 - recall: 0.9841 - val_loss: 0.0527 - val_accuracy: 0.9885 - val_auc: 0.9977 - val_precision: 0.9885 - val_recall: 0.9885\n",
      "Epoch 7/100\n",
      " — val_aps:  0.424115 — val_g: 0.959880\n",
      "1547/1547 - 399s - loss: 0.0661 - accuracy: 0.9845 - auc: 0.9972 - precision: 0.9845 - recall: 0.9845 - val_loss: 0.0551 - val_accuracy: 0.9888 - val_auc: 0.9975 - val_precision: 0.9888 - val_recall: 0.9888\n",
      "Epoch 8/100\n",
      " — val_aps:  0.414897 — val_g: 0.958587\n",
      "1547/1547 - 404s - loss: 0.0653 - accuracy: 0.9847 - auc: 0.9973 - precision: 0.9847 - recall: 0.9847 - val_loss: 0.0597 - val_accuracy: 0.9846 - val_auc: 0.9982 - val_precision: 0.9846 - val_recall: 0.9846\n",
      "Epoch 9/100\n",
      " — val_aps:  0.437669 — val_g: 0.963375\n",
      "1547/1547 - 397s - loss: 0.0653 - accuracy: 0.9849 - auc: 0.9973 - precision: 0.9849 - recall: 0.9849 - val_loss: 0.0673 - val_accuracy: 0.9811 - val_auc: 0.9980 - val_precision: 0.9811 - val_recall: 0.9811\n",
      "Epoch 10/100\n",
      " — val_aps:  0.462768 — val_g: 0.960755\n"
     ]
    },
    {
     "name": "stderr",
     "output_type": "stream",
     "text": [
      "[I 2021-04-09 06:15:13,899] Trial 5 pruned. Trial was pruned at epoch 9.\n"
     ]
    },
    {
     "name": "stdout",
     "output_type": "stream",
     "text": [
      "3 0.03692037096581645\n",
      "4 0.1166866045339384\n",
      "Epoch 1/100\n",
      " — val_aps:  0.440377 — val_g: 0.962156\n",
      "1547/1547 - 407s - loss: 0.1140 - accuracy: 0.9732 - auc: 0.9956 - precision: 0.9732 - recall: 0.9732 - val_loss: 0.0546 - val_accuracy: 0.9853 - val_auc: 0.9982 - val_precision: 0.9853 - val_recall: 0.9853\n",
      "Epoch 2/100\n",
      " — val_aps:  0.444412 — val_g: 0.962592\n",
      "1547/1547 - 394s - loss: 0.0626 - accuracy: 0.9835 - auc: 0.9972 - precision: 0.9835 - recall: 0.9835 - val_loss: 0.0801 - val_accuracy: 0.9736 - val_auc: 0.9968 - val_precision: 0.9736 - val_recall: 0.9736\n",
      "Epoch 3/100\n",
      " — val_aps:  0.392918 — val_g: 0.961959\n",
      "1547/1547 - 403s - loss: 0.0558 - accuracy: 0.9855 - auc: 0.9976 - precision: 0.9855 - recall: 0.9855 - val_loss: 0.0693 - val_accuracy: 0.9763 - val_auc: 0.9973 - val_precision: 0.9763 - val_recall: 0.9763\n",
      "Epoch 4/100\n",
      " — val_aps:  0.450510 — val_g: 0.967516\n",
      "1547/1547 - 405s - loss: 0.0519 - accuracy: 0.9866 - auc: 0.9978 - precision: 0.9866 - recall: 0.9866 - val_loss: 0.0436 - val_accuracy: 0.9883 - val_auc: 0.9984 - val_precision: 0.9883 - val_recall: 0.9883\n",
      "Epoch 5/100\n",
      " — val_aps:  0.419142 — val_g: 0.966190\n",
      "1547/1547 - 395s - loss: 0.0491 - accuracy: 0.9874 - auc: 0.9980 - precision: 0.9874 - recall: 0.9874 - val_loss: 0.0540 - val_accuracy: 0.9841 - val_auc: 0.9979 - val_precision: 0.9841 - val_recall: 0.9841\n",
      "Epoch 6/100\n",
      " — val_aps:  0.461678 — val_g: 0.968679\n",
      "1547/1547 - 400s - loss: 0.0477 - accuracy: 0.9877 - auc: 0.9981 - precision: 0.9877 - recall: 0.9877 - val_loss: 0.0417 - val_accuracy: 0.9885 - val_auc: 0.9987 - val_precision: 0.9885 - val_recall: 0.9885\n",
      "Epoch 7/100\n",
      " — val_aps:  0.464672 — val_g: 0.968024\n",
      "1547/1547 - 400s - loss: 0.0459 - accuracy: 0.9882 - auc: 0.9982 - precision: 0.9882 - recall: 0.9882 - val_loss: 0.0447 - val_accuracy: 0.9882 - val_auc: 0.9980 - val_precision: 0.9882 - val_recall: 0.9882\n",
      "Epoch 8/100\n",
      " — val_aps:  0.411421 — val_g: 0.967193\n",
      "1547/1547 - 401s - loss: 0.0453 - accuracy: 0.9883 - auc: 0.9982 - precision: 0.9883 - recall: 0.9883 - val_loss: 0.0461 - val_accuracy: 0.9873 - val_auc: 0.9980 - val_precision: 0.9873 - val_recall: 0.9873\n",
      "Epoch 9/100\n",
      " — val_aps:  0.468812 — val_g: 0.969560\n",
      "1547/1547 - 397s - loss: 0.0441 - accuracy: 0.9886 - auc: 0.9983 - precision: 0.9886 - recall: 0.9886 - val_loss: 0.0408 - val_accuracy: 0.9889 - val_auc: 0.9985 - val_precision: 0.9889 - val_recall: 0.9889\n",
      "Epoch 10/100\n",
      " — val_aps:  0.455742 — val_g: 0.971577\n",
      "1547/1547 - 403s - loss: 0.0437 - accuracy: 0.9888 - auc: 0.9983 - precision: 0.9888 - recall: 0.9888 - val_loss: 0.0400 - val_accuracy: 0.9889 - val_auc: 0.9984 - val_precision: 0.9889 - val_recall: 0.9889\n",
      "Epoch 11/100\n",
      " — val_aps:  0.477607 — val_g: 0.970156\n",
      "1547/1547 - 403s - loss: 0.0432 - accuracy: 0.9889 - auc: 0.9983 - precision: 0.9889 - recall: 0.9889 - val_loss: 0.0396 - val_accuracy: 0.9893 - val_auc: 0.9984 - val_precision: 0.9893 - val_recall: 0.9893\n",
      "Epoch 12/100\n",
      " — val_aps:  0.461153 — val_g: 0.971213\n",
      "1547/1547 - 394s - loss: 0.0426 - accuracy: 0.9891 - auc: 0.9983 - precision: 0.9891 - recall: 0.9891 - val_loss: 0.0418 - val_accuracy: 0.9887 - val_auc: 0.9984 - val_precision: 0.9887 - val_recall: 0.9887\n",
      "Epoch 13/100\n",
      " — val_aps:  0.489518 — val_g: 0.970304\n",
      "1547/1547 - 402s - loss: 0.0423 - accuracy: 0.9891 - auc: 0.9984 - precision: 0.9891 - recall: 0.9891 - val_loss: 0.0455 - val_accuracy: 0.9892 - val_auc: 0.9975 - val_precision: 0.9892 - val_recall: 0.9892\n",
      "Epoch 14/100\n",
      " — val_aps:  0.471161 — val_g: 0.969493\n",
      "1547/1547 - 402s - loss: 0.0417 - accuracy: 0.9892 - auc: 0.9984 - precision: 0.9892 - recall: 0.9892 - val_loss: 0.0396 - val_accuracy: 0.9893 - val_auc: 0.9985 - val_precision: 0.9893 - val_recall: 0.9893\n",
      "Epoch 15/100\n",
      " — val_aps:  0.468623 — val_g: 0.971376\n",
      "1547/1547 - 393s - loss: 0.0406 - accuracy: 0.9896 - auc: 0.9985 - precision: 0.9896 - recall: 0.9896 - val_loss: 0.0421 - val_accuracy: 0.9887 - val_auc: 0.9983 - val_precision: 0.9887 - val_recall: 0.9887\n",
      "Epoch 16/100\n",
      " — val_aps:  0.464654 — val_g: 0.968738\n",
      "1547/1547 - 402s - loss: 0.0411 - accuracy: 0.9894 - auc: 0.9984 - precision: 0.9894 - recall: 0.9894 - val_loss: 0.0403 - val_accuracy: 0.9890 - val_auc: 0.9985 - val_precision: 0.9890 - val_recall: 0.9890\n",
      "Epoch 17/100\n",
      " — val_aps:  0.505310 — val_g: 0.971478\n",
      "1547/1547 - 399s - loss: 0.0408 - accuracy: 0.9895 - auc: 0.9985 - precision: 0.9895 - recall: 0.9895 - val_loss: 0.0416 - val_accuracy: 0.9893 - val_auc: 0.9983 - val_precision: 0.9893 - val_recall: 0.9893\n",
      "Epoch 18/100\n",
      " — val_aps:  0.465881 — val_g: 0.970691\n",
      "1547/1547 - 395s - loss: 0.0403 - accuracy: 0.9896 - auc: 0.9985 - precision: 0.9896 - recall: 0.9896 - val_loss: 0.0439 - val_accuracy: 0.9879 - val_auc: 0.9987 - val_precision: 0.9879 - val_recall: 0.9879\n",
      "Epoch 19/100\n",
      " — val_aps:  0.447327 — val_g: 0.970215\n",
      "1547/1547 - 403s - loss: 0.0398 - accuracy: 0.9899 - auc: 0.9985 - precision: 0.9899 - recall: 0.9899 - val_loss: 0.0422 - val_accuracy: 0.9887 - val_auc: 0.9982 - val_precision: 0.9887 - val_recall: 0.9887\n"
     ]
    },
    {
     "name": "stderr",
     "output_type": "stream",
     "text": [
      "[I 2021-04-09 08:22:03,673] Trial 6 finished with value: 0.4473265316306286 and parameters: {'reg': 0.0012980561085074093, 'reg_dense': 0.0808516268515792, 'n_kernel': 4, 'n_filters': 5, 'hidden': 50, 'drop_out_conv': 0.0004558070489606969, 'gl_pool_max': True, 'drop_out': 0.24708559746409808, 'learning_rate': 0.00380844790500926}. Best is trial 2 with value: 0.4737278784366771.\n"
     ]
    },
    {
     "name": "stdout",
     "output_type": "stream",
     "text": [
      "3 0.12359001648078535\n",
      "4 0.3906054841861858\n",
      "Epoch 1/100\n",
      " — val_aps:  0.418858 — val_g: 0.961771\n",
      "1547/1547 - 399s - loss: 0.1036 - accuracy: 0.9695 - auc: 0.9947 - precision: 0.9695 - recall: 0.9695 - val_loss: 0.0537 - val_accuracy: 0.9853 - val_auc: 0.9980 - val_precision: 0.9853 - val_recall: 0.9853\n",
      "Epoch 2/100\n",
      " — val_aps:  0.442562 — val_g: 0.965128\n",
      "1547/1547 - 387s - loss: 0.0701 - accuracy: 0.9808 - auc: 0.9967 - precision: 0.9808 - recall: 0.9808 - val_loss: 0.0566 - val_accuracy: 0.9828 - val_auc: 0.9981 - val_precision: 0.9828 - val_recall: 0.9828\n",
      "Epoch 3/100\n",
      " — val_aps:  0.453537 — val_g: 0.965856\n",
      "1547/1547 - 397s - loss: 0.0634 - accuracy: 0.9833 - auc: 0.9971 - precision: 0.9833 - recall: 0.9833 - val_loss: 0.0439 - val_accuracy: 0.9885 - val_auc: 0.9985 - val_precision: 0.9885 - val_recall: 0.9885\n",
      "Epoch 4/100\n",
      " — val_aps:  0.428872 — val_g: 0.962724\n",
      "1547/1547 - 397s - loss: 0.0609 - accuracy: 0.9841 - auc: 0.9972 - precision: 0.9841 - recall: 0.9841 - val_loss: 0.0562 - val_accuracy: 0.9843 - val_auc: 0.9977 - val_precision: 0.9843 - val_recall: 0.9843\n",
      "Epoch 5/100\n",
      " — val_aps:  0.445598 — val_g: 0.964246\n",
      "1547/1547 - 396s - loss: 0.0584 - accuracy: 0.9850 - auc: 0.9973 - precision: 0.9850 - recall: 0.9850 - val_loss: 0.0439 - val_accuracy: 0.9884 - val_auc: 0.9987 - val_precision: 0.9884 - val_recall: 0.9884\n",
      "Epoch 6/100\n",
      " — val_aps:  0.457345 — val_g: 0.966686\n",
      "1547/1547 - 388s - loss: 0.0567 - accuracy: 0.9854 - auc: 0.9975 - precision: 0.9854 - recall: 0.9854 - val_loss: 0.0474 - val_accuracy: 0.9891 - val_auc: 0.9975 - val_precision: 0.9891 - val_recall: 0.9891\n",
      "Epoch 7/100\n",
      " — val_aps:  0.467191 — val_g: 0.967154\n",
      "1547/1547 - 397s - loss: 0.0558 - accuracy: 0.9858 - auc: 0.9975 - precision: 0.9858 - recall: 0.9858 - val_loss: 0.0427 - val_accuracy: 0.9892 - val_auc: 0.9983 - val_precision: 0.9892 - val_recall: 0.9892\n",
      "Epoch 8/100\n",
      " — val_aps:  0.496116 — val_g: 0.967519\n",
      "1547/1547 - 395s - loss: 0.0546 - accuracy: 0.9863 - auc: 0.9976 - precision: 0.9863 - recall: 0.9863 - val_loss: 0.0398 - val_accuracy: 0.9896 - val_auc: 0.9985 - val_precision: 0.9896 - val_recall: 0.9896\n",
      "Epoch 9/100\n",
      " — val_aps:  0.462019 — val_g: 0.963729\n",
      "1547/1547 - 389s - loss: 0.0547 - accuracy: 0.9862 - auc: 0.9976 - precision: 0.9862 - recall: 0.9862 - val_loss: 0.0600 - val_accuracy: 0.9851 - val_auc: 0.9971 - val_precision: 0.9851 - val_recall: 0.9851\n",
      "Epoch 10/100\n",
      " — val_aps:  0.452383 — val_g: 0.966454\n",
      "1547/1547 - 396s - loss: 0.0537 - accuracy: 0.9866 - auc: 0.9976 - precision: 0.9866 - recall: 0.9866 - val_loss: 0.0459 - val_accuracy: 0.9873 - val_auc: 0.9982 - val_precision: 0.9873 - val_recall: 0.9873\n",
      "Epoch 11/100\n",
      " — val_aps:  0.444793 — val_g: 0.963719\n",
      "1547/1547 - 406s - loss: 0.0525 - accuracy: 0.9868 - auc: 0.9977 - precision: 0.9868 - recall: 0.9868 - val_loss: 0.0590 - val_accuracy: 0.9819 - val_auc: 0.9976 - val_precision: 0.9819 - val_recall: 0.9819\n",
      "Epoch 12/100\n",
      " — val_aps:  0.460840 — val_g: 0.966580\n",
      "1547/1547 - 410s - loss: 0.0518 - accuracy: 0.9871 - auc: 0.9978 - precision: 0.9871 - recall: 0.9871 - val_loss: 0.0431 - val_accuracy: 0.9876 - val_auc: 0.9985 - val_precision: 0.9876 - val_recall: 0.9876\n",
      "Epoch 13/100\n",
      " — val_aps:  0.481767 — val_g: 0.967544\n",
      "1547/1547 - 432s - loss: 0.0523 - accuracy: 0.9869 - auc: 0.9977 - precision: 0.9869 - recall: 0.9869 - val_loss: 0.0466 - val_accuracy: 0.9893 - val_auc: 0.9975 - val_precision: 0.9893 - val_recall: 0.9893\n"
     ]
    },
    {
     "name": "stderr",
     "output_type": "stream",
     "text": [
      "[I 2021-04-09 09:48:42,252] Trial 7 finished with value: 0.48176652139197446 and parameters: {'reg': 0.000478109401975365, 'reg_dense': 0.008311940396624909, 'n_kernel': 7, 'n_filters': 15, 'hidden': 50, 'drop_out_conv': 0.0015258026726022882, 'gl_pool_max': False, 'drop_out': 0.35220530008422524, 'learning_rate': 0.00805063630839906}. Best is trial 7 with value: 0.48176652139197446.\n"
     ]
    },
    {
     "name": "stdout",
     "output_type": "stream",
     "text": [
      "3 0.1199561204928479\n",
      "4 0.3791205783477662\n",
      "Epoch 1/100\n",
      " — val_aps:  0.448992 — val_g: 0.963415\n",
      "1547/1547 - 431s - loss: 0.1057 - accuracy: 0.9685 - auc: 0.9944 - precision: 0.9685 - recall: 0.9685 - val_loss: 0.0461 - val_accuracy: 0.9877 - val_auc: 0.9980 - val_precision: 0.9877 - val_recall: 0.9877\n",
      "Epoch 2/100\n",
      " — val_aps:  0.397708 — val_g: 0.958781\n",
      "1547/1547 - 421s - loss: 0.0668 - accuracy: 0.9821 - auc: 0.9968 - precision: 0.9821 - recall: 0.9821 - val_loss: 0.0942 - val_accuracy: 0.9687 - val_auc: 0.9954 - val_precision: 0.9687 - val_recall: 0.9687\n",
      "Epoch 3/100\n",
      " — val_aps:  0.430408 — val_g: 0.963069\n",
      "1547/1547 - 448s - loss: 0.0604 - accuracy: 0.9840 - auc: 0.9971 - precision: 0.9840 - recall: 0.9840 - val_loss: 0.0622 - val_accuracy: 0.9805 - val_auc: 0.9975 - val_precision: 0.9805 - val_recall: 0.9805\n",
      "Epoch 4/100\n",
      " — val_aps:  0.466740 — val_g: 0.966889\n",
      "1547/1547 - 444s - loss: 0.0558 - accuracy: 0.9854 - auc: 0.9974 - precision: 0.9854 - recall: 0.9854 - val_loss: 0.0439 - val_accuracy: 0.9886 - val_auc: 0.9979 - val_precision: 0.9886 - val_recall: 0.9886\n",
      "Epoch 5/100\n",
      " — val_aps:  0.455073 — val_g: 0.967877\n",
      "1547/1547 - 447s - loss: 0.0546 - accuracy: 0.9856 - auc: 0.9974 - precision: 0.9856 - recall: 0.9856 - val_loss: 0.0440 - val_accuracy: 0.9860 - val_auc: 0.9985 - val_precision: 0.9860 - val_recall: 0.9860\n",
      "Epoch 6/100\n",
      " — val_aps:  0.457948 — val_g: 0.966551\n",
      "1547/1547 - 460s - loss: 0.0522 - accuracy: 0.9865 - auc: 0.9976 - precision: 0.9865 - recall: 0.9865 - val_loss: 0.0388 - val_accuracy: 0.9891 - val_auc: 0.9984 - val_precision: 0.9891 - val_recall: 0.9891\n",
      "Epoch 7/100\n",
      " — val_aps:  0.425945 — val_g: 0.966008\n",
      "1547/1547 - 459s - loss: 0.0508 - accuracy: 0.9868 - auc: 0.9977 - precision: 0.9868 - recall: 0.9868 - val_loss: 0.0530 - val_accuracy: 0.9837 - val_auc: 0.9979 - val_precision: 0.9837 - val_recall: 0.9837\n",
      "Epoch 8/100\n",
      " — val_aps:  0.470873 — val_g: 0.967323\n",
      "1547/1547 - 442s - loss: 0.0509 - accuracy: 0.9866 - auc: 0.9977 - precision: 0.9866 - recall: 0.9866 - val_loss: 0.0402 - val_accuracy: 0.9893 - val_auc: 0.9981 - val_precision: 0.9893 - val_recall: 0.9893\n",
      "Epoch 9/100\n",
      " — val_aps:  0.412651 — val_g: 0.965816\n",
      "1547/1547 - 466s - loss: 0.0490 - accuracy: 0.9873 - auc: 0.9978 - precision: 0.9873 - recall: 0.9873 - val_loss: 0.0590 - val_accuracy: 0.9814 - val_auc: 0.9976 - val_precision: 0.9814 - val_recall: 0.9814\n",
      "Epoch 10/100\n",
      " — val_aps:  0.450502 — val_g: 0.967425\n",
      "1547/1547 - 516s - loss: 0.0489 - accuracy: 0.9873 - auc: 0.9977 - precision: 0.9873 - recall: 0.9873 - val_loss: 0.0465 - val_accuracy: 0.9872 - val_auc: 0.9979 - val_precision: 0.9872 - val_recall: 0.9872\n",
      "Epoch 11/100\n",
      " — val_aps:  0.465568 — val_g: 0.968272\n",
      "1547/1547 - 477s - loss: 0.0475 - accuracy: 0.9878 - auc: 0.9979 - precision: 0.9878 - recall: 0.9878 - val_loss: 0.0425 - val_accuracy: 0.9891 - val_auc: 0.9977 - val_precision: 0.9891 - val_recall: 0.9891\n"
     ]
    },
    {
     "name": "stderr",
     "output_type": "stream",
     "text": [
      "[I 2021-04-09 11:12:24,186] Trial 8 finished with value: 0.4655678296342914 and parameters: {'reg': 0.00022398100085646388, 'reg_dense': 0.0460133619779865, 'n_kernel': 3, 'n_filters': 20, 'hidden': 30, 'drop_out_conv': 0.0014809397591709617, 'gl_pool_max': False, 'drop_out': 0.3856414007142478, 'learning_rate': 0.004997150088106958}. Best is trial 7 with value: 0.48176652139197446.\n"
     ]
    },
    {
     "name": "stdout",
     "output_type": "stream",
     "text": [
      "3 0.016809725272152742\n",
      "4 0.0531270329589025\n",
      "Epoch 1/100\n",
      " — val_aps:  0.394313 — val_g: 0.951222\n",
      "1547/1547 - 458s - loss: 0.1944 - accuracy: 0.9706 - auc: 0.9949 - precision: 0.9706 - recall: 0.9706 - val_loss: 0.0714 - val_accuracy: 0.9828 - val_auc: 0.9981 - val_precision: 0.9828 - val_recall: 0.9828\n",
      "Epoch 2/100\n",
      " — val_aps:  0.423407 — val_g: 0.953131\n",
      "1547/1547 - 465s - loss: 0.0833 - accuracy: 0.9807 - auc: 0.9965 - precision: 0.9807 - recall: 0.9807 - val_loss: 0.1207 - val_accuracy: 0.9610 - val_auc: 0.9946 - val_precision: 0.9610 - val_recall: 0.9610\n",
      "Epoch 3/100\n",
      " — val_aps:  0.395116 — val_g: 0.955676\n",
      "1547/1547 - 475s - loss: 0.0760 - accuracy: 0.9828 - auc: 0.9969 - precision: 0.9828 - recall: 0.9828 - val_loss: 0.1280 - val_accuracy: 0.9529 - val_auc: 0.9936 - val_precision: 0.9529 - val_recall: 0.9529\n",
      "Epoch 4/100\n",
      " — val_aps:  0.426683 — val_g: 0.944913\n",
      "1547/1547 - 462s - loss: 0.0737 - accuracy: 0.9834 - auc: 0.9970 - precision: 0.9834 - recall: 0.9834 - val_loss: 0.0715 - val_accuracy: 0.9889 - val_auc: 0.9951 - val_precision: 0.9889 - val_recall: 0.9889\n",
      "Epoch 5/100\n",
      " — val_aps:  0.410087 — val_g: 0.944472\n",
      "1547/1547 - 529s - loss: 0.0688 - accuracy: 0.9848 - auc: 0.9972 - precision: 0.9848 - recall: 0.9848 - val_loss: 0.0854 - val_accuracy: 0.9879 - val_auc: 0.9927 - val_precision: 0.9879 - val_recall: 0.9879\n",
      "Epoch 6/100\n",
      " — val_aps:  0.434551 — val_g: 0.953498\n"
     ]
    },
    {
     "name": "stderr",
     "output_type": "stream",
     "text": [
      "[I 2021-04-09 12:01:24,196] Trial 9 pruned. Trial was pruned at epoch 5.\n"
     ]
    },
    {
     "name": "stdout",
     "output_type": "stream",
     "text": [
      "3 0.15773695332619114\n",
      "4 0.49852666730253004\n",
      "Epoch 1/100\n",
      " — val_aps:  0.396650 — val_g: 0.955375\n",
      "1547/1547 - 529s - loss: 0.1557 - accuracy: 0.9488 - auc: 0.9886 - precision: 0.9488 - recall: 0.9488 - val_loss: 0.0683 - val_accuracy: 0.9806 - val_auc: 0.9979 - val_precision: 0.9806 - val_recall: 0.9806\n",
      "Epoch 2/100\n",
      " — val_aps:  0.413066 — val_g: 0.958057\n",
      "1547/1547 - 535s - loss: 0.0902 - accuracy: 0.9756 - auc: 0.9958 - precision: 0.9756 - recall: 0.9756 - val_loss: 0.0766 - val_accuracy: 0.9759 - val_auc: 0.9975 - val_precision: 0.9759 - val_recall: 0.9759\n",
      "Epoch 3/100\n",
      " — val_aps:  0.422556 — val_g: 0.957834\n",
      "1547/1547 - 508s - loss: 0.0751 - accuracy: 0.9805 - auc: 0.9966 - precision: 0.9805 - recall: 0.9805 - val_loss: 0.0509 - val_accuracy: 0.9873 - val_auc: 0.9982 - val_precision: 0.9873 - val_recall: 0.9873\n",
      "Epoch 4/100\n",
      " — val_aps:  0.434728 — val_g: 0.959344\n",
      "1547/1547 - 459s - loss: 0.0672 - accuracy: 0.9827 - auc: 0.9971 - precision: 0.9827 - recall: 0.9827 - val_loss: 0.0492 - val_accuracy: 0.9874 - val_auc: 0.9982 - val_precision: 0.9874 - val_recall: 0.9874\n",
      "Epoch 5/100\n",
      " — val_aps:  0.418245 — val_g: 0.959247\n",
      "1547/1547 - 456s - loss: 0.0618 - accuracy: 0.9842 - auc: 0.9973 - precision: 0.9842 - recall: 0.9842 - val_loss: 0.0700 - val_accuracy: 0.9791 - val_auc: 0.9973 - val_precision: 0.9791 - val_recall: 0.9791\n",
      "Epoch 6/100\n",
      " — val_aps:  0.421825 — val_g: 0.961211\n"
     ]
    },
    {
     "name": "stderr",
     "output_type": "stream",
     "text": [
      "[I 2021-04-09 12:50:44,084] Trial 10 pruned. Trial was pruned at epoch 5.\n"
     ]
    },
    {
     "name": "stdout",
     "output_type": "stream",
     "text": [
      "3 0.12092438322848517\n",
      "4 0.38218076674681734\n",
      "Epoch 1/100\n",
      " — val_aps:  0.398027 — val_g: 0.955213\n",
      "1547/1547 - 459s - loss: 0.1084 - accuracy: 0.9680 - auc: 0.9944 - precision: 0.9680 - recall: 0.9680 - val_loss: 0.0519 - val_accuracy: 0.9855 - val_auc: 0.9978 - val_precision: 0.9855 - val_recall: 0.9855\n",
      "Epoch 2/100\n",
      " — val_aps:  0.432273 — val_g: 0.961523\n",
      "1547/1547 - 445s - loss: 0.0711 - accuracy: 0.9807 - auc: 0.9966 - precision: 0.9807 - recall: 0.9807 - val_loss: 0.0490 - val_accuracy: 0.9881 - val_auc: 0.9977 - val_precision: 0.9881 - val_recall: 0.9881\n",
      "Epoch 3/100\n",
      " — val_aps:  0.445426 — val_g: 0.961312\n",
      "1547/1547 - 457s - loss: 0.0649 - accuracy: 0.9832 - auc: 0.9969 - precision: 0.9832 - recall: 0.9832 - val_loss: 0.0735 - val_accuracy: 0.9735 - val_auc: 0.9971 - val_precision: 0.9735 - val_recall: 0.9735\n",
      "Epoch 4/100\n",
      " — val_aps:  0.414551 — val_g: 0.963122\n",
      "1547/1547 - 463s - loss: 0.0619 - accuracy: 0.9842 - auc: 0.9971 - precision: 0.9842 - recall: 0.9842 - val_loss: 0.0567 - val_accuracy: 0.9823 - val_auc: 0.9980 - val_precision: 0.9823 - val_recall: 0.9823\n",
      "Epoch 5/100\n",
      " — val_aps:  0.463643 — val_g: 0.966457\n",
      "1547/1547 - 444s - loss: 0.0589 - accuracy: 0.9851 - auc: 0.9973 - precision: 0.9851 - recall: 0.9851 - val_loss: 0.0440 - val_accuracy: 0.9893 - val_auc: 0.9981 - val_precision: 0.9893 - val_recall: 0.9893\n",
      "Epoch 6/100\n",
      " — val_aps:  0.451814 — val_g: 0.967417\n",
      "1547/1547 - 454s - loss: 0.0576 - accuracy: 0.9856 - auc: 0.9973 - precision: 0.9856 - recall: 0.9856 - val_loss: 0.0518 - val_accuracy: 0.9855 - val_auc: 0.9982 - val_precision: 0.9855 - val_recall: 0.9855\n",
      "Epoch 7/100\n",
      " — val_aps:  0.438897 — val_g: 0.966386\n",
      "1547/1547 - 438s - loss: 0.0566 - accuracy: 0.9860 - auc: 0.9974 - precision: 0.9860 - recall: 0.9860 - val_loss: 0.0482 - val_accuracy: 0.9862 - val_auc: 0.9983 - val_precision: 0.9862 - val_recall: 0.9862\n",
      "Epoch 8/100\n",
      " — val_aps:  0.446773 — val_g: 0.966877\n",
      "1547/1547 - 433s - loss: 0.0559 - accuracy: 0.9863 - auc: 0.9974 - precision: 0.9863 - recall: 0.9863 - val_loss: 0.0457 - val_accuracy: 0.9884 - val_auc: 0.9982 - val_precision: 0.9884 - val_recall: 0.9884\n",
      "Epoch 9/100\n",
      " — val_aps:  0.431740 — val_g: 0.966806\n",
      "1547/1547 - 577s - loss: 0.0552 - accuracy: 0.9864 - auc: 0.9975 - precision: 0.9864 - recall: 0.9864 - val_loss: 0.0478 - val_accuracy: 0.9884 - val_auc: 0.9980 - val_precision: 0.9884 - val_recall: 0.9884\n",
      "Epoch 10/100\n",
      " — val_aps:  0.401026 — val_g: 0.965473\n",
      "1547/1547 - 545s - loss: 0.0535 - accuracy: 0.9869 - auc: 0.9976 - precision: 0.9869 - recall: 0.9869 - val_loss: 0.0534 - val_accuracy: 0.9851 - val_auc: 0.9978 - val_precision: 0.9851 - val_recall: 0.9851\n"
     ]
    },
    {
     "name": "stderr",
     "output_type": "stream",
     "text": [
      "[I 2021-04-09 14:09:29,467] Trial 11 finished with value: 0.4010258137273957 and parameters: {'reg': 0.0005754839202287065, 'reg_dense': 0.005796086609844303, 'n_kernel': 7, 'n_filters': 15, 'hidden': 30, 'drop_out_conv': 0.0014928936201047552, 'gl_pool_max': False, 'drop_out': 0.33834264930953983, 'learning_rate': 0.007014494347815013}. Best is trial 7 with value: 0.48176652139197446.\n"
     ]
    },
    {
     "name": "stdout",
     "output_type": "stream",
     "text": [
      "3 0.11735822865200186\n",
      "4 0.3709099572211417\n",
      "Epoch 1/100\n",
      " — val_aps:  0.429157 — val_g: 0.960816\n",
      "1547/1547 - 502s - loss: 0.1094 - accuracy: 0.9662 - auc: 0.9940 - precision: 0.9662 - recall: 0.9662 - val_loss: 0.0497 - val_accuracy: 0.9858 - val_auc: 0.9980 - val_precision: 0.9858 - val_recall: 0.9858\n",
      "Epoch 2/100\n",
      " — val_aps:  0.417365 — val_g: 0.960674\n",
      "1547/1547 - 473s - loss: 0.0721 - accuracy: 0.9802 - auc: 0.9966 - precision: 0.9802 - recall: 0.9802 - val_loss: 0.0598 - val_accuracy: 0.9856 - val_auc: 0.9970 - val_precision: 0.9856 - val_recall: 0.9856\n",
      "Epoch 3/100\n",
      " — val_aps:  0.428342 — val_g: 0.961325\n",
      "1547/1547 - 485s - loss: 0.0660 - accuracy: 0.9826 - auc: 0.9969 - precision: 0.9826 - recall: 0.9826 - val_loss: 0.1058 - val_accuracy: 0.9643 - val_auc: 0.9957 - val_precision: 0.9643 - val_recall: 0.9643\n",
      "Epoch 4/100\n",
      " — val_aps:  0.480433 — val_g: 0.967870\n",
      "1547/1547 - 489s - loss: 0.0637 - accuracy: 0.9834 - auc: 0.9970 - precision: 0.9834 - recall: 0.9834 - val_loss: 0.0454 - val_accuracy: 0.9871 - val_auc: 0.9982 - val_precision: 0.9871 - val_recall: 0.9871\n",
      "Epoch 5/100\n",
      " — val_aps:  0.438143 — val_g: 0.967455\n",
      "1547/1547 - 478s - loss: 0.0603 - accuracy: 0.9847 - auc: 0.9972 - precision: 0.9847 - recall: 0.9847 - val_loss: 0.0503 - val_accuracy: 0.9862 - val_auc: 0.9982 - val_precision: 0.9862 - val_recall: 0.9862\n",
      "Epoch 6/100\n",
      " — val_aps:  0.489301 — val_g: 0.968373\n",
      "1547/1547 - 548s - loss: 0.0590 - accuracy: 0.9850 - auc: 0.9973 - precision: 0.9850 - recall: 0.9850 - val_loss: 0.0436 - val_accuracy: 0.9893 - val_auc: 0.9978 - val_precision: 0.9893 - val_recall: 0.9893\n",
      "Epoch 7/100\n",
      " — val_aps:  0.439095 — val_g: 0.968039\n",
      "1547/1547 - 532s - loss: 0.0578 - accuracy: 0.9853 - auc: 0.9974 - precision: 0.9853 - recall: 0.9853 - val_loss: 0.0470 - val_accuracy: 0.9875 - val_auc: 0.9981 - val_precision: 0.9875 - val_recall: 0.9875\n",
      "Epoch 8/100\n",
      " — val_aps:  0.443986 — val_g: 0.966193\n",
      "1547/1547 - 539s - loss: 0.0566 - accuracy: 0.9858 - auc: 0.9975 - precision: 0.9858 - recall: 0.9858 - val_loss: 0.0684 - val_accuracy: 0.9816 - val_auc: 0.9973 - val_precision: 0.9816 - val_recall: 0.9816\n",
      "Epoch 9/100\n",
      " — val_aps:  0.467266 — val_g: 0.967651\n",
      "1547/1547 - 544s - loss: 0.0556 - accuracy: 0.9861 - auc: 0.9975 - precision: 0.9861 - recall: 0.9861 - val_loss: 0.0456 - val_accuracy: 0.9886 - val_auc: 0.9979 - val_precision: 0.9886 - val_recall: 0.9886\n",
      "Epoch 10/100\n",
      " — val_aps:  0.458081 — val_g: 0.967497\n",
      "1547/1547 - 549s - loss: 0.0550 - accuracy: 0.9863 - auc: 0.9976 - precision: 0.9863 - recall: 0.9863 - val_loss: 0.0428 - val_accuracy: 0.9888 - val_auc: 0.9983 - val_precision: 0.9888 - val_recall: 0.9888\n",
      "Epoch 11/100\n",
      " — val_aps:  0.462445 — val_g: 0.967891\n",
      "1547/1547 - 522s - loss: 0.0542 - accuracy: 0.9866 - auc: 0.9976 - precision: 0.9866 - recall: 0.9866 - val_loss: 0.0485 - val_accuracy: 0.9861 - val_auc: 0.9982 - val_precision: 0.9861 - val_recall: 0.9861\n",
      "Epoch 12/100\n",
      " — val_aps:  0.459282 — val_g: 0.967369\n",
      "1547/1547 - 531s - loss: 0.0534 - accuracy: 0.9867 - auc: 0.9977 - precision: 0.9867 - recall: 0.9867 - val_loss: 0.0496 - val_accuracy: 0.9877 - val_auc: 0.9978 - val_precision: 0.9877 - val_recall: 0.9877\n",
      "Epoch 13/100\n",
      " — val_aps:  0.470488 — val_g: 0.967859\n",
      "1547/1547 - 542s - loss: 0.0526 - accuracy: 0.9871 - auc: 0.9977 - precision: 0.9871 - recall: 0.9871 - val_loss: 0.0435 - val_accuracy: 0.9894 - val_auc: 0.9980 - val_precision: 0.9894 - val_recall: 0.9894\n",
      "Epoch 14/100\n",
      " — val_aps:  0.438749 — val_g: 0.966112\n",
      "1547/1547 - 518s - loss: 0.0524 - accuracy: 0.9870 - auc: 0.9977 - precision: 0.9870 - recall: 0.9870 - val_loss: 0.0718 - val_accuracy: 0.9774 - val_auc: 0.9973 - val_precision: 0.9774 - val_recall: 0.9774\n",
      "Epoch 15/100\n",
      " — val_aps:  0.432138 — val_g: 0.966853\n",
      "1547/1547 - 635s - loss: 0.0517 - accuracy: 0.9873 - auc: 0.9978 - precision: 0.9873 - recall: 0.9873 - val_loss: 0.0670 - val_accuracy: 0.9824 - val_auc: 0.9968 - val_precision: 0.9824 - val_recall: 0.9824\n"
     ]
    },
    {
     "name": "stderr",
     "output_type": "stream",
     "text": [
      "[I 2021-04-09 16:21:08,163] Trial 12 finished with value: 0.43213779216521364 and parameters: {'reg': 0.000321762320325618, 'reg_dense': 0.0002994196441900459, 'n_kernel': 7, 'n_filters': 7, 'hidden': 30, 'drop_out_conv': 0.0014488670203950847, 'gl_pool_max': False, 'drop_out': 0.34136292126595325, 'learning_rate': 0.008592579830395266}. Best is trial 7 with value: 0.48176652139197446.\n"
     ]
    },
    {
     "name": "stdout",
     "output_type": "stream",
     "text": [
      "3 0.14983338856041176\n",
      "4 0.47354749964772114\n",
      "Epoch 1/100\n",
      " — val_aps:  0.431046 — val_g: 0.960009\n",
      "1547/1547 - 531s - loss: 0.1227 - accuracy: 0.9653 - auc: 0.9936 - precision: 0.9653 - recall: 0.9653 - val_loss: 0.0842 - val_accuracy: 0.9732 - val_auc: 0.9970 - val_precision: 0.9732 - val_recall: 0.9732\n",
      "Epoch 2/100\n",
      " — val_aps:  0.417776 — val_g: 0.957616\n",
      "1547/1547 - 527s - loss: 0.0861 - accuracy: 0.9765 - auc: 0.9958 - precision: 0.9765 - recall: 0.9765 - val_loss: 0.0731 - val_accuracy: 0.9781 - val_auc: 0.9975 - val_precision: 0.9781 - val_recall: 0.9781\n",
      "Epoch 3/100\n",
      " — val_aps:  0.415143 — val_g: 0.958356\n",
      "1547/1547 - 539s - loss: 0.0783 - accuracy: 0.9797 - auc: 0.9963 - precision: 0.9797 - recall: 0.9797 - val_loss: 0.0642 - val_accuracy: 0.9804 - val_auc: 0.9980 - val_precision: 0.9804 - val_recall: 0.9804\n",
      "Epoch 4/100\n",
      " — val_aps:  0.436899 — val_g: 0.956056\n",
      "1547/1547 - 546s - loss: 0.0746 - accuracy: 0.9810 - auc: 0.9966 - precision: 0.9810 - recall: 0.9810 - val_loss: 0.0788 - val_accuracy: 0.9760 - val_auc: 0.9971 - val_precision: 0.9760 - val_recall: 0.9760\n",
      "Epoch 5/100\n",
      " — val_aps:  0.430763 — val_g: 0.959121\n",
      "1547/1547 - 544s - loss: 0.0730 - accuracy: 0.9818 - auc: 0.9966 - precision: 0.9818 - recall: 0.9818 - val_loss: 0.0540 - val_accuracy: 0.9850 - val_auc: 0.9983 - val_precision: 0.9850 - val_recall: 0.9850\n",
      "Epoch 6/100\n",
      " — val_aps:  0.448379 — val_g: 0.959224\n"
     ]
    },
    {
     "name": "stderr",
     "output_type": "stream",
     "text": [
      "[I 2021-04-09 17:15:03,380] Trial 13 pruned. Trial was pruned at epoch 5.\n"
     ]
    },
    {
     "name": "stdout",
     "output_type": "stream",
     "text": [
      "3 0.10201638356736678\n",
      "4 0.32242215053389994\n",
      "Epoch 1/100\n",
      " — val_aps:  0.431637 — val_g: 0.956564\n",
      "1547/1547 - 478s - loss: 0.0953 - accuracy: 0.9703 - auc: 0.9949 - precision: 0.9703 - recall: 0.9703 - val_loss: 0.0505 - val_accuracy: 0.9838 - val_auc: 0.9981 - val_precision: 0.9838 - val_recall: 0.9838\n",
      "Epoch 2/100\n",
      " — val_aps:  0.429301 — val_g: 0.960527\n",
      "1547/1547 - 475s - loss: 0.0633 - accuracy: 0.9821 - auc: 0.9971 - precision: 0.9821 - recall: 0.9821 - val_loss: 0.0576 - val_accuracy: 0.9823 - val_auc: 0.9979 - val_precision: 0.9823 - val_recall: 0.9823\n",
      "Epoch 3/100\n",
      " — val_aps:  0.429535 — val_g: 0.962813\n",
      "1547/1547 - 459s - loss: 0.0568 - accuracy: 0.9843 - auc: 0.9974 - precision: 0.9843 - recall: 0.9843 - val_loss: 0.0438 - val_accuracy: 0.9867 - val_auc: 0.9983 - val_precision: 0.9867 - val_recall: 0.9867\n",
      "Epoch 4/100\n",
      " — val_aps:  0.415568 — val_g: 0.962682\n",
      "1547/1547 - 464s - loss: 0.0531 - accuracy: 0.9854 - auc: 0.9976 - precision: 0.9854 - recall: 0.9854 - val_loss: 0.0483 - val_accuracy: 0.9865 - val_auc: 0.9980 - val_precision: 0.9865 - val_recall: 0.9865\n",
      "Epoch 5/100\n",
      " — val_aps:  0.421368 — val_g: 0.962612\n",
      "1547/1547 - 507s - loss: 0.0504 - accuracy: 0.9863 - auc: 0.9977 - precision: 0.9863 - recall: 0.9863 - val_loss: 0.0644 - val_accuracy: 0.9795 - val_auc: 0.9972 - val_precision: 0.9795 - val_recall: 0.9795\n",
      "Epoch 6/100\n",
      " — val_aps:  0.414255 — val_g: 0.961191\n"
     ]
    },
    {
     "name": "stderr",
     "output_type": "stream",
     "text": [
      "[I 2021-04-09 18:03:32,945] Trial 14 pruned. Trial was pruned at epoch 5.\n"
     ]
    },
    {
     "name": "stdout",
     "output_type": "stream",
     "text": [
      "3 0.14057899953878705\n",
      "4 0.4442990602707344\n",
      "Epoch 1/100\n",
      " — val_aps:  0.386579 — val_g: 0.954056\n",
      "1547/1547 - 552s - loss: 0.4852 - accuracy: 0.9644 - auc: 0.9936 - precision: 0.9644 - recall: 0.9644 - val_loss: 0.0704 - val_accuracy: 0.9882 - val_auc: 0.9987 - val_precision: 0.9882 - val_recall: 0.9882\n",
      "Epoch 2/100\n",
      " — val_aps:  0.417612 — val_g: 0.953048\n",
      "1547/1547 - 492s - loss: 0.0928 - accuracy: 0.9796 - auc: 0.9963 - precision: 0.9796 - recall: 0.9796 - val_loss: 0.0705 - val_accuracy: 0.9888 - val_auc: 0.9966 - val_precision: 0.9888 - val_recall: 0.9888\n",
      "Epoch 3/100\n",
      " — val_aps:  0.421699 — val_g: 0.955987\n",
      "1547/1547 - 476s - loss: 0.0822 - accuracy: 0.9821 - auc: 0.9967 - precision: 0.9821 - recall: 0.9821 - val_loss: 0.0629 - val_accuracy: 0.9889 - val_auc: 0.9970 - val_precision: 0.9889 - val_recall: 0.9889\n",
      "Epoch 4/100\n",
      " — val_aps:  0.388636 — val_g: 0.951096\n",
      "1547/1547 - 476s - loss: 0.0757 - accuracy: 0.9837 - auc: 0.9969 - precision: 0.9837 - recall: 0.9837 - val_loss: 0.0669 - val_accuracy: 0.9853 - val_auc: 0.9982 - val_precision: 0.9853 - val_recall: 0.9853\n",
      "Epoch 5/100\n",
      " — val_aps:  0.411511 — val_g: 0.956705\n",
      "1547/1547 - 513s - loss: 0.0724 - accuracy: 0.9843 - auc: 0.9970 - precision: 0.9843 - recall: 0.9843 - val_loss: 0.0590 - val_accuracy: 0.9886 - val_auc: 0.9977 - val_precision: 0.9886 - val_recall: 0.9886\n",
      "Epoch 6/100\n",
      " — val_aps:  0.429617 — val_g: 0.959138\n"
     ]
    },
    {
     "name": "stderr",
     "output_type": "stream",
     "text": [
      "[I 2021-04-09 18:53:29,072] Trial 15 pruned. Trial was pruned at epoch 5.\n"
     ]
    },
    {
     "name": "stdout",
     "output_type": "stream",
     "text": [
      "3 0.09593859106923179\n",
      "4 0.30321332486078195\n",
      "Epoch 1/100\n",
      " — val_aps:  0.411215 — val_g: 0.959757\n",
      "1547/1547 - 471s - loss: 0.1033 - accuracy: 0.9692 - auc: 0.9947 - precision: 0.9692 - recall: 0.9692 - val_loss: 0.0507 - val_accuracy: 0.9865 - val_auc: 0.9980 - val_precision: 0.9865 - val_recall: 0.9865\n",
      "Epoch 2/100\n",
      " — val_aps:  0.414428 — val_g: 0.958661\n",
      "1547/1547 - 458s - loss: 0.0674 - accuracy: 0.9815 - auc: 0.9968 - precision: 0.9815 - recall: 0.9815 - val_loss: 0.0555 - val_accuracy: 0.9848 - val_auc: 0.9979 - val_precision: 0.9848 - val_recall: 0.9848\n",
      "Epoch 3/100\n",
      " — val_aps:  0.423853 — val_g: 0.964518\n",
      "1547/1547 - 478s - loss: 0.0604 - accuracy: 0.9842 - auc: 0.9972 - precision: 0.9842 - recall: 0.9842 - val_loss: 0.0490 - val_accuracy: 0.9846 - val_auc: 0.9983 - val_precision: 0.9846 - val_recall: 0.9846\n",
      "Epoch 4/100\n",
      " — val_aps:  0.405601 — val_g: 0.963725\n",
      "1547/1547 - 467s - loss: 0.0582 - accuracy: 0.9847 - auc: 0.9973 - precision: 0.9847 - recall: 0.9847 - val_loss: 0.0486 - val_accuracy: 0.9869 - val_auc: 0.9978 - val_precision: 0.9869 - val_recall: 0.9869\n",
      "Epoch 5/100\n",
      " — val_aps:  0.465350 — val_g: 0.965985\n",
      "1547/1547 - 463s - loss: 0.0554 - accuracy: 0.9856 - auc: 0.9975 - precision: 0.9856 - recall: 0.9856 - val_loss: 0.0438 - val_accuracy: 0.9877 - val_auc: 0.9985 - val_precision: 0.9877 - val_recall: 0.9877\n",
      "Epoch 6/100\n",
      " — val_aps:  0.364921 — val_g: 0.963028\n",
      "1547/1547 - 474s - loss: 0.0539 - accuracy: 0.9860 - auc: 0.9976 - precision: 0.9860 - recall: 0.9860 - val_loss: 0.0804 - val_accuracy: 0.9789 - val_auc: 0.9953 - val_precision: 0.9789 - val_recall: 0.9789\n",
      "Epoch 7/100\n",
      " — val_aps:  0.443844 — val_g: 0.965228\n",
      "1547/1547 - 464s - loss: 0.0527 - accuracy: 0.9867 - auc: 0.9976 - precision: 0.9867 - recall: 0.9867 - val_loss: 0.0467 - val_accuracy: 0.9889 - val_auc: 0.9976 - val_precision: 0.9889 - val_recall: 0.9889\n",
      "Epoch 8/100\n",
      " — val_aps:  0.447897 — val_g: 0.964140\n",
      "1547/1547 - 468s - loss: 0.0519 - accuracy: 0.9867 - auc: 0.9977 - precision: 0.9867 - recall: 0.9867 - val_loss: 0.0436 - val_accuracy: 0.9882 - val_auc: 0.9982 - val_precision: 0.9882 - val_recall: 0.9882\n",
      "Epoch 9/100\n",
      " — val_aps:  0.434203 — val_g: 0.964727\n",
      "1547/1547 - 478s - loss: 0.0507 - accuracy: 0.9871 - auc: 0.9978 - precision: 0.9871 - recall: 0.9871 - val_loss: 0.0675 - val_accuracy: 0.9816 - val_auc: 0.9965 - val_precision: 0.9816 - val_recall: 0.9816\n",
      "Epoch 10/100\n",
      " — val_aps:  0.393428 — val_g: 0.963452\n",
      "1547/1547 - 485s - loss: 0.0494 - accuracy: 0.9875 - auc: 0.9979 - precision: 0.9875 - recall: 0.9875 - val_loss: 0.0524 - val_accuracy: 0.9852 - val_auc: 0.9979 - val_precision: 0.9852 - val_recall: 0.9852\n",
      "Epoch 11/100\n",
      " — val_aps:  0.455705 — val_g: 0.966683\n",
      "1547/1547 - 479s - loss: 0.0496 - accuracy: 0.9874 - auc: 0.9979 - precision: 0.9874 - recall: 0.9874 - val_loss: 0.0463 - val_accuracy: 0.9885 - val_auc: 0.9980 - val_precision: 0.9885 - val_recall: 0.9885\n",
      "Epoch 12/100\n",
      " — val_aps:  0.383831 — val_g: 0.957649\n",
      "1547/1547 - 488s - loss: 0.0496 - accuracy: 0.9874 - auc: 0.9979 - precision: 0.9874 - recall: 0.9874 - val_loss: 0.1258 - val_accuracy: 0.9519 - val_auc: 0.9914 - val_precision: 0.9519 - val_recall: 0.9519\n",
      "Epoch 13/100\n",
      " — val_aps:  0.463999 — val_g: 0.966189\n"
     ]
    },
    {
     "name": "stderr",
     "output_type": "stream",
     "text": [
      "[I 2021-04-09 20:36:10,925] Trial 16 pruned. Trial was pruned at epoch 12.\n"
     ]
    },
    {
     "name": "stdout",
     "output_type": "stream",
     "text": [
      "3 0.131322590936922\n",
      "4 0.4150442380228646\n",
      "Epoch 1/100\n",
      " — val_aps:  0.396270 — val_g: 0.956487\n",
      "1547/1547 - 485s - loss: 0.1234 - accuracy: 0.9687 - auc: 0.9945 - precision: 0.9687 - recall: 0.9687 - val_loss: 0.0603 - val_accuracy: 0.9827 - val_auc: 0.9981 - val_precision: 0.9827 - val_recall: 0.9827\n",
      "Epoch 2/100\n",
      " — val_aps:  0.435115 — val_g: 0.960257\n",
      "1547/1547 - 464s - loss: 0.0760 - accuracy: 0.9794 - auc: 0.9965 - precision: 0.9794 - recall: 0.9794 - val_loss: 0.0625 - val_accuracy: 0.9829 - val_auc: 0.9980 - val_precision: 0.9829 - val_recall: 0.9829\n",
      "Epoch 3/100\n",
      " — val_aps:  0.428174 — val_g: 0.960185\n",
      "1547/1547 - 468s - loss: 0.0687 - accuracy: 0.9822 - auc: 0.9969 - precision: 0.9822 - recall: 0.9822 - val_loss: 0.0587 - val_accuracy: 0.9834 - val_auc: 0.9982 - val_precision: 0.9834 - val_recall: 0.9834\n",
      "Epoch 4/100\n",
      " — val_aps:  0.426424 — val_g: 0.955680\n",
      "1547/1547 - 441s - loss: 0.0662 - accuracy: 0.9831 - auc: 0.9971 - precision: 0.9831 - recall: 0.9831 - val_loss: 0.0595 - val_accuracy: 0.9844 - val_auc: 0.9974 - val_precision: 0.9844 - val_recall: 0.9844\n",
      "Epoch 5/100\n",
      " — val_aps:  0.440029 — val_g: 0.963865\n",
      "1547/1547 - 436s - loss: 0.0643 - accuracy: 0.9838 - auc: 0.9972 - precision: 0.9838 - recall: 0.9838 - val_loss: 0.0566 - val_accuracy: 0.9854 - val_auc: 0.9979 - val_precision: 0.9854 - val_recall: 0.9854\n",
      "Epoch 6/100\n",
      " — val_aps:  0.431256 — val_g: 0.961388\n"
     ]
    },
    {
     "name": "stderr",
     "output_type": "stream",
     "text": [
      "[I 2021-04-09 21:21:47,754] Trial 17 pruned. Trial was pruned at epoch 5.\n"
     ]
    },
    {
     "name": "stdout",
     "output_type": "stream",
     "text": [
      "3 0.07019775753382868\n",
      "4 0.2218595793661746\n",
      "Epoch 1/100\n",
      " — val_aps:  0.413880 — val_g: 0.959160\n",
      "1547/1547 - 419s - loss: 0.0969 - accuracy: 0.9700 - auc: 0.9950 - precision: 0.9700 - recall: 0.9700 - val_loss: 0.0646 - val_accuracy: 0.9800 - val_auc: 0.9977 - val_precision: 0.9800 - val_recall: 0.9800\n",
      "Epoch 2/100\n",
      " — val_aps:  0.437272 — val_g: 0.963336\n",
      "1547/1547 - 400s - loss: 0.0637 - accuracy: 0.9828 - auc: 0.9970 - precision: 0.9828 - recall: 0.9828 - val_loss: 0.0535 - val_accuracy: 0.9840 - val_auc: 0.9978 - val_precision: 0.9840 - val_recall: 0.9840\n",
      "Epoch 3/100\n",
      " — val_aps:  0.448001 — val_g: 0.966828\n",
      "1547/1547 - 412s - loss: 0.0588 - accuracy: 0.9848 - auc: 0.9973 - precision: 0.9848 - recall: 0.9848 - val_loss: 0.0770 - val_accuracy: 0.9783 - val_auc: 0.9966 - val_precision: 0.9783 - val_recall: 0.9783\n",
      "Epoch 4/100\n",
      " — val_aps:  0.413234 — val_g: 0.965175\n",
      "1547/1547 - 403s - loss: 0.0556 - accuracy: 0.9857 - auc: 0.9975 - precision: 0.9857 - recall: 0.9857 - val_loss: 0.0497 - val_accuracy: 0.9859 - val_auc: 0.9982 - val_precision: 0.9859 - val_recall: 0.9859\n",
      "Epoch 5/100\n",
      " — val_aps:  0.443694 — val_g: 0.967142\n",
      "1547/1547 - 414s - loss: 0.0532 - accuracy: 0.9865 - auc: 0.9976 - precision: 0.9865 - recall: 0.9865 - val_loss: 0.0440 - val_accuracy: 0.9889 - val_auc: 0.9980 - val_precision: 0.9889 - val_recall: 0.9889\n",
      "Epoch 6/100\n",
      " — val_aps:  0.464609 — val_g: 0.968047\n",
      "1547/1547 - 405s - loss: 0.0524 - accuracy: 0.9867 - auc: 0.9977 - precision: 0.9867 - recall: 0.9867 - val_loss: 0.0491 - val_accuracy: 0.9889 - val_auc: 0.9972 - val_precision: 0.9889 - val_recall: 0.9889\n",
      "Epoch 7/100\n",
      " — val_aps:  0.412578 — val_g: 0.966911\n",
      "1547/1547 - 407s - loss: 0.0513 - accuracy: 0.9871 - auc: 0.9977 - precision: 0.9871 - recall: 0.9871 - val_loss: 0.0596 - val_accuracy: 0.9811 - val_auc: 0.9978 - val_precision: 0.9811 - val_recall: 0.9811\n",
      "Epoch 8/100\n",
      " — val_aps:  0.431387 — val_g: 0.967642\n",
      "1547/1547 - 397s - loss: 0.0498 - accuracy: 0.9876 - auc: 0.9978 - precision: 0.9876 - recall: 0.9876 - val_loss: 0.0505 - val_accuracy: 0.9842 - val_auc: 0.9983 - val_precision: 0.9842 - val_recall: 0.9842\n",
      "Epoch 9/100\n",
      " — val_aps:  0.438448 — val_g: 0.967700\n",
      "1547/1547 - 400s - loss: 0.0495 - accuracy: 0.9876 - auc: 0.9978 - precision: 0.9876 - recall: 0.9876 - val_loss: 0.0420 - val_accuracy: 0.9889 - val_auc: 0.9981 - val_precision: 0.9889 - val_recall: 0.9889\n",
      "Epoch 10/100\n",
      " — val_aps:  0.457376 — val_g: 0.968447\n",
      "1547/1547 - 398s - loss: 0.0487 - accuracy: 0.9878 - auc: 0.9979 - precision: 0.9878 - recall: 0.9878 - val_loss: 0.0431 - val_accuracy: 0.9891 - val_auc: 0.9978 - val_precision: 0.9891 - val_recall: 0.9891\n",
      "Epoch 11/100\n",
      " — val_aps:  0.350830 — val_g: 0.961798\n",
      "1547/1547 - 402s - loss: 0.0484 - accuracy: 0.9879 - auc: 0.9979 - precision: 0.9879 - recall: 0.9879 - val_loss: 0.0558 - val_accuracy: 0.9845 - val_auc: 0.9977 - val_precision: 0.9845 - val_recall: 0.9845\n",
      "Epoch 12/100\n",
      " — val_aps:  0.456752 — val_g: 0.967963\n",
      "1547/1547 - 395s - loss: 0.0472 - accuracy: 0.9882 - auc: 0.9980 - precision: 0.9882 - recall: 0.9882 - val_loss: 0.0454 - val_accuracy: 0.9891 - val_auc: 0.9975 - val_precision: 0.9891 - val_recall: 0.9891\n",
      "Epoch 13/100\n",
      " — val_aps:  0.467397 — val_g: 0.969071\n"
     ]
    },
    {
     "name": "stderr",
     "output_type": "stream",
     "text": [
      "[I 2021-04-09 22:49:33,157] Trial 18 pruned. Trial was pruned at epoch 12.\n"
     ]
    },
    {
     "name": "stdout",
     "output_type": "stream",
     "text": [
      "3 0.09957041838596756\n",
      "4 0.3146916926766382\n",
      "Epoch 1/100\n",
      " — val_aps:  0.435518 — val_g: 0.959204\n",
      "1547/1547 - 402s - loss: 0.1317 - accuracy: 0.9674 - auc: 0.9941 - precision: 0.9674 - recall: 0.9674 - val_loss: 0.0547 - val_accuracy: 0.9888 - val_auc: 0.9973 - val_precision: 0.9888 - val_recall: 0.9888\n",
      "Epoch 2/100\n",
      " — val_aps:  0.438646 — val_g: 0.964447\n",
      "1547/1547 - 406s - loss: 0.0702 - accuracy: 0.9822 - auc: 0.9967 - precision: 0.9822 - recall: 0.9822 - val_loss: 0.0538 - val_accuracy: 0.9853 - val_auc: 0.9981 - val_precision: 0.9853 - val_recall: 0.9853\n",
      "Epoch 3/100\n",
      " — val_aps:  0.454113 — val_g: 0.966484\n",
      "1547/1547 - 397s - loss: 0.0614 - accuracy: 0.9846 - auc: 0.9971 - precision: 0.9846 - recall: 0.9846 - val_loss: 0.0440 - val_accuracy: 0.9887 - val_auc: 0.9981 - val_precision: 0.9887 - val_recall: 0.9887\n",
      "Epoch 4/100\n",
      " — val_aps:  0.460424 — val_g: 0.965618\n",
      "1547/1547 - 400s - loss: 0.0569 - accuracy: 0.9856 - auc: 0.9974 - precision: 0.9856 - recall: 0.9856 - val_loss: 0.0453 - val_accuracy: 0.9884 - val_auc: 0.9979 - val_precision: 0.9884 - val_recall: 0.9884\n",
      "Epoch 5/100\n",
      " — val_aps:  0.407215 — val_g: 0.963912\n",
      "1547/1547 - 404s - loss: 0.0540 - accuracy: 0.9862 - auc: 0.9975 - precision: 0.9862 - recall: 0.9862 - val_loss: 0.0569 - val_accuracy: 0.9827 - val_auc: 0.9978 - val_precision: 0.9827 - val_recall: 0.9827\n",
      "Epoch 6/100\n",
      " — val_aps:  0.456891 — val_g: 0.965734\n",
      "1547/1547 - 397s - loss: 0.0523 - accuracy: 0.9866 - auc: 0.9976 - precision: 0.9866 - recall: 0.9866 - val_loss: 0.0428 - val_accuracy: 0.9883 - val_auc: 0.9988 - val_precision: 0.9883 - val_recall: 0.9883\n",
      "Epoch 7/100\n",
      " — val_aps:  0.423786 — val_g: 0.965269\n",
      "1547/1547 - 405s - loss: 0.0508 - accuracy: 0.9871 - auc: 0.9977 - precision: 0.9871 - recall: 0.9871 - val_loss: 0.0624 - val_accuracy: 0.9814 - val_auc: 0.9971 - val_precision: 0.9814 - val_recall: 0.9814\n",
      "Epoch 8/100\n",
      " — val_aps:  0.462554 — val_g: 0.967780\n",
      "1547/1547 - 397s - loss: 0.0502 - accuracy: 0.9871 - auc: 0.9977 - precision: 0.9871 - recall: 0.9871 - val_loss: 0.0419 - val_accuracy: 0.9891 - val_auc: 0.9983 - val_precision: 0.9891 - val_recall: 0.9891\n",
      "Epoch 9/100\n",
      " — val_aps:  0.455731 — val_g: 0.967312\n",
      "1547/1547 - 404s - loss: 0.0485 - accuracy: 0.9877 - auc: 0.9979 - precision: 0.9877 - recall: 0.9877 - val_loss: 0.0441 - val_accuracy: 0.9884 - val_auc: 0.9976 - val_precision: 0.9884 - val_recall: 0.9884\n",
      "Epoch 10/100\n",
      " — val_aps:  0.383326 — val_g: 0.965772\n",
      "1547/1547 - 402s - loss: 0.0483 - accuracy: 0.9876 - auc: 0.9979 - precision: 0.9876 - recall: 0.9876 - val_loss: 0.0561 - val_accuracy: 0.9823 - val_auc: 0.9979 - val_precision: 0.9823 - val_recall: 0.9823\n",
      "Epoch 11/100\n",
      " — val_aps:  0.419978 — val_g: 0.966005\n",
      "1547/1547 - 405s - loss: 0.0471 - accuracy: 0.9878 - auc: 0.9980 - precision: 0.9878 - recall: 0.9878 - val_loss: 0.0448 - val_accuracy: 0.9878 - val_auc: 0.9986 - val_precision: 0.9878 - val_recall: 0.9878\n",
      "Epoch 12/100\n",
      " — val_aps:  0.413529 — val_g: 0.968287\n",
      "1547/1547 - 401s - loss: 0.0470 - accuracy: 0.9879 - auc: 0.9980 - precision: 0.9879 - recall: 0.9879 - val_loss: 0.0454 - val_accuracy: 0.9875 - val_auc: 0.9983 - val_precision: 0.9875 - val_recall: 0.9875\n",
      "Epoch 13/100\n",
      " — val_aps:  0.479162 — val_g: 0.969312\n",
      "1547/1547 - 406s - loss: 0.0471 - accuracy: 0.9879 - auc: 0.9980 - precision: 0.9879 - recall: 0.9879 - val_loss: 0.0424 - val_accuracy: 0.9888 - val_auc: 0.9981 - val_precision: 0.9888 - val_recall: 0.9888\n"
     ]
    },
    {
     "name": "stderr",
     "output_type": "stream",
     "text": [
      "[I 2021-04-10 00:16:47,835] Trial 19 finished with value: 0.479162431256781 and parameters: {'reg': 0.0008821837365501469, 'reg_dense': 0.002888049962245456, 'n_kernel': 4, 'n_filters': 7, 'hidden': 30, 'drop_out_conv': 0.001229264424518118, 'gl_pool_max': False, 'drop_out': 0.36623271653489725, 'learning_rate': 0.002900019681507893}. Best is trial 7 with value: 0.48176652139197446.\n"
     ]
    },
    {
     "name": "stdout",
     "output_type": "stream",
     "text": [
      "3 0.10921478144592388\n",
      "4 0.34517264259452485\n",
      "Epoch 1/100\n",
      " — val_aps:  0.403986 — val_g: 0.957147\n",
      "1547/1547 - 400s - loss: 0.1411 - accuracy: 0.9651 - auc: 0.9939 - precision: 0.9651 - recall: 0.9651 - val_loss: 0.0559 - val_accuracy: 0.9884 - val_auc: 0.9979 - val_precision: 0.9884 - val_recall: 0.9884\n",
      "Epoch 2/100\n",
      " — val_aps:  0.418189 — val_g: 0.959612\n",
      "1547/1547 - 401s - loss: 0.0714 - accuracy: 0.9820 - auc: 0.9969 - precision: 0.9820 - recall: 0.9820 - val_loss: 0.0598 - val_accuracy: 0.9825 - val_auc: 0.9981 - val_precision: 0.9825 - val_recall: 0.9825\n",
      "Epoch 3/100\n",
      " — val_aps:  0.424948 — val_g: 0.962067\n",
      "1547/1547 - 398s - loss: 0.0612 - accuracy: 0.9844 - auc: 0.9973 - precision: 0.9844 - recall: 0.9844 - val_loss: 0.0504 - val_accuracy: 0.9868 - val_auc: 0.9980 - val_precision: 0.9868 - val_recall: 0.9868\n",
      "Epoch 4/100\n",
      " — val_aps:  0.377731 — val_g: 0.960417\n",
      "1547/1547 - 407s - loss: 0.0557 - accuracy: 0.9859 - auc: 0.9975 - precision: 0.9859 - recall: 0.9859 - val_loss: 0.0506 - val_accuracy: 0.9858 - val_auc: 0.9982 - val_precision: 0.9858 - val_recall: 0.9858\n",
      "Epoch 5/100\n",
      " — val_aps:  0.451408 — val_g: 0.964010\n",
      "1547/1547 - 397s - loss: 0.0526 - accuracy: 0.9865 - auc: 0.9977 - precision: 0.9865 - recall: 0.9865 - val_loss: 0.0487 - val_accuracy: 0.9864 - val_auc: 0.9982 - val_precision: 0.9864 - val_recall: 0.9864\n",
      "Epoch 6/100\n",
      " — val_aps:  0.456216 — val_g: 0.966161\n"
     ]
    },
    {
     "name": "stderr",
     "output_type": "stream",
     "text": [
      "[I 2021-04-10 00:57:00,364] Trial 20 pruned. Trial was pruned at epoch 5.\n"
     ]
    },
    {
     "name": "stdout",
     "output_type": "stream",
     "text": [
      "3 0.09355392516428093\n",
      "4 0.2956766029883447\n",
      "Epoch 1/100\n",
      " — val_aps:  0.421417 — val_g: 0.954131\n",
      "1547/1547 - 404s - loss: 0.1652 - accuracy: 0.9678 - auc: 0.9940 - precision: 0.9678 - recall: 0.9678 - val_loss: 0.0833 - val_accuracy: 0.9744 - val_auc: 0.9971 - val_precision: 0.9744 - val_recall: 0.9744\n",
      "Epoch 2/100\n",
      " — val_aps:  0.414119 — val_g: 0.956693\n",
      "1547/1547 - 403s - loss: 0.0756 - accuracy: 0.9814 - auc: 0.9964 - precision: 0.9814 - recall: 0.9814 - val_loss: 0.1023 - val_accuracy: 0.9645 - val_auc: 0.9960 - val_precision: 0.9645 - val_recall: 0.9645\n",
      "Epoch 3/100\n",
      " — val_aps:  0.400785 — val_g: 0.957540\n",
      "1547/1547 - 401s - loss: 0.0680 - accuracy: 0.9839 - auc: 0.9968 - precision: 0.9839 - recall: 0.9839 - val_loss: 0.0579 - val_accuracy: 0.9835 - val_auc: 0.9981 - val_precision: 0.9835 - val_recall: 0.9835\n",
      "Epoch 4/100\n",
      " — val_aps:  0.424024 — val_g: 0.961828\n",
      "1547/1547 - 403s - loss: 0.0639 - accuracy: 0.9850 - auc: 0.9971 - precision: 0.9850 - recall: 0.9850 - val_loss: 0.0779 - val_accuracy: 0.9757 - val_auc: 0.9972 - val_precision: 0.9757 - val_recall: 0.9757\n",
      "Epoch 5/100\n",
      " — val_aps:  0.430951 — val_g: 0.962906\n",
      "1547/1547 - 397s - loss: 0.0613 - accuracy: 0.9858 - auc: 0.9972 - precision: 0.9858 - recall: 0.9858 - val_loss: 0.0687 - val_accuracy: 0.9780 - val_auc: 0.9977 - val_precision: 0.9780 - val_recall: 0.9780\n",
      "Epoch 6/100\n",
      " — val_aps:  0.453756 — val_g: 0.963017\n"
     ]
    },
    {
     "name": "stderr",
     "output_type": "stream",
     "text": [
      "[I 2021-04-10 01:37:12,898] Trial 21 pruned. Trial was pruned at epoch 5.\n"
     ]
    },
    {
     "name": "stdout",
     "output_type": "stream",
     "text": [
      "3 0.08829611638241176\n",
      "4 0.2790593307888569\n",
      "Epoch 1/100\n",
      " — val_aps:  0.407119 — val_g: 0.957544\n",
      "1547/1547 - 400s - loss: 0.1303 - accuracy: 0.9655 - auc: 0.9937 - precision: 0.9655 - recall: 0.9655 - val_loss: 0.0955 - val_accuracy: 0.9683 - val_auc: 0.9964 - val_precision: 0.9683 - val_recall: 0.9683\n",
      "Epoch 2/100\n",
      " — val_aps:  0.440043 — val_g: 0.963277\n",
      "1547/1547 - 395s - loss: 0.0709 - accuracy: 0.9818 - auc: 0.9967 - precision: 0.9818 - recall: 0.9818 - val_loss: 0.0477 - val_accuracy: 0.9886 - val_auc: 0.9981 - val_precision: 0.9886 - val_recall: 0.9886\n",
      "Epoch 3/100\n",
      " — val_aps:  0.427585 — val_g: 0.961048\n",
      "1547/1547 - 402s - loss: 0.0646 - accuracy: 0.9835 - auc: 0.9970 - precision: 0.9835 - recall: 0.9835 - val_loss: 0.0593 - val_accuracy: 0.9809 - val_auc: 0.9980 - val_precision: 0.9809 - val_recall: 0.9809\n",
      "Epoch 4/100\n",
      " — val_aps:  0.411677 — val_g: 0.963572\n",
      "1547/1547 - 398s - loss: 0.0600 - accuracy: 0.9851 - auc: 0.9972 - precision: 0.9851 - recall: 0.9851 - val_loss: 0.0665 - val_accuracy: 0.9797 - val_auc: 0.9974 - val_precision: 0.9797 - val_recall: 0.9797\n",
      "Epoch 5/100\n",
      " — val_aps:  0.453919 — val_g: 0.966034\n",
      "1547/1547 - 406s - loss: 0.0571 - accuracy: 0.9858 - auc: 0.9974 - precision: 0.9858 - recall: 0.9858 - val_loss: 0.0436 - val_accuracy: 0.9888 - val_auc: 0.9982 - val_precision: 0.9888 - val_recall: 0.9888\n",
      "Epoch 6/100\n",
      " — val_aps:  0.414314 — val_g: 0.962728\n"
     ]
    },
    {
     "name": "stderr",
     "output_type": "stream",
     "text": [
      "[I 2021-04-10 02:17:16,944] Trial 22 pruned. Trial was pruned at epoch 5.\n"
     ]
    },
    {
     "name": "stdout",
     "output_type": "stream",
     "text": [
      "3 0.1301535475715512\n",
      "4 0.41134948368292723\n",
      "Epoch 1/100\n",
      " — val_aps:  0.412416 — val_g: 0.955618\n",
      "1547/1547 - 403s - loss: 0.1232 - accuracy: 0.9658 - auc: 0.9939 - precision: 0.9658 - recall: 0.9658 - val_loss: 0.0651 - val_accuracy: 0.9789 - val_auc: 0.9978 - val_precision: 0.9789 - val_recall: 0.9789\n",
      "Epoch 2/100\n",
      " — val_aps:  0.443183 — val_g: 0.962368\n",
      "1547/1547 - 393s - loss: 0.0696 - accuracy: 0.9821 - auc: 0.9967 - precision: 0.9821 - recall: 0.9821 - val_loss: 0.0456 - val_accuracy: 0.9882 - val_auc: 0.9982 - val_precision: 0.9882 - val_recall: 0.9882\n",
      "Epoch 3/100\n",
      " — val_aps:  0.430912 — val_g: 0.962654\n",
      "1547/1547 - 398s - loss: 0.0627 - accuracy: 0.9838 - auc: 0.9970 - precision: 0.9838 - recall: 0.9838 - val_loss: 0.0459 - val_accuracy: 0.9864 - val_auc: 0.9985 - val_precision: 0.9864 - val_recall: 0.9864\n",
      "Epoch 4/100\n",
      " — val_aps:  0.435859 — val_g: 0.960243\n",
      "1547/1547 - 390s - loss: 0.0583 - accuracy: 0.9850 - auc: 0.9972 - precision: 0.9850 - recall: 0.9850 - val_loss: 0.0460 - val_accuracy: 0.9889 - val_auc: 0.9976 - val_precision: 0.9889 - val_recall: 0.9889\n",
      "Epoch 5/100\n",
      " — val_aps:  0.452086 — val_g: 0.963873\n",
      "1547/1547 - 398s - loss: 0.0558 - accuracy: 0.9856 - auc: 0.9974 - precision: 0.9856 - recall: 0.9856 - val_loss: 0.0427 - val_accuracy: 0.9887 - val_auc: 0.9981 - val_precision: 0.9887 - val_recall: 0.9887\n",
      "Epoch 6/100\n",
      " — val_aps:  0.436870 — val_g: 0.963623\n"
     ]
    },
    {
     "name": "stderr",
     "output_type": "stream",
     "text": [
      "[I 2021-04-10 02:56:56,206] Trial 23 pruned. Trial was pruned at epoch 5.\n"
     ]
    },
    {
     "name": "stdout",
     "output_type": "stream",
     "text": [
      "3 0.06820942555737042\n",
      "4 0.21557546842823244\n",
      "Epoch 1/100\n",
      " — val_aps:  0.407431 — val_g: 0.958186\n",
      "1547/1547 - 398s - loss: 0.2325 - accuracy: 0.9585 - auc: 0.9920 - precision: 0.9585 - recall: 0.9585 - val_loss: 0.0874 - val_accuracy: 0.9875 - val_auc: 0.9982 - val_precision: 0.9875 - val_recall: 0.9875\n",
      "Epoch 2/100\n",
      " — val_aps:  0.433329 — val_g: 0.962968\n",
      "1547/1547 - 390s - loss: 0.0974 - accuracy: 0.9802 - auc: 0.9966 - precision: 0.9802 - recall: 0.9802 - val_loss: 0.0742 - val_accuracy: 0.9824 - val_auc: 0.9981 - val_precision: 0.9824 - val_recall: 0.9824\n",
      "Epoch 3/100\n",
      " — val_aps:  0.444654 — val_g: 0.964827\n",
      "1547/1547 - 403s - loss: 0.0754 - accuracy: 0.9836 - auc: 0.9970 - precision: 0.9836 - recall: 0.9836 - val_loss: 0.0598 - val_accuracy: 0.9854 - val_auc: 0.9983 - val_precision: 0.9854 - val_recall: 0.9854\n",
      "Epoch 4/100\n",
      " — val_aps:  0.442903 — val_g: 0.964986\n",
      "1547/1547 - 397s - loss: 0.0655 - accuracy: 0.9855 - auc: 0.9973 - precision: 0.9855 - recall: 0.9855 - val_loss: 0.0514 - val_accuracy: 0.9879 - val_auc: 0.9982 - val_precision: 0.9879 - val_recall: 0.9879\n",
      "Epoch 5/100\n",
      " — val_aps:  0.441635 — val_g: 0.965988\n",
      "1547/1547 - 404s - loss: 0.0594 - accuracy: 0.9864 - auc: 0.9975 - precision: 0.9864 - recall: 0.9864 - val_loss: 0.0549 - val_accuracy: 0.9857 - val_auc: 0.9983 - val_precision: 0.9857 - val_recall: 0.9857\n",
      "Epoch 6/100\n",
      " — val_aps:  0.423273 — val_g: 0.963777\n"
     ]
    },
    {
     "name": "stderr",
     "output_type": "stream",
     "text": [
      "[I 2021-04-10 03:36:50,228] Trial 24 pruned. Trial was pruned at epoch 5.\n"
     ]
    },
    {
     "name": "stdout",
     "output_type": "stream",
     "text": [
      "3 0.10112859669778446\n",
      "4 0.3196163056127509\n",
      "Epoch 1/100\n",
      " — val_aps:  0.454848 — val_g: 0.962873\n",
      "1547/1547 - 400s - loss: 0.0998 - accuracy: 0.9698 - auc: 0.9947 - precision: 0.9698 - recall: 0.9698 - val_loss: 0.0440 - val_accuracy: 0.9892 - val_auc: 0.9980 - val_precision: 0.9892 - val_recall: 0.9892\n",
      "Epoch 2/100\n",
      " — val_aps:  0.446157 — val_g: 0.964932\n",
      "1547/1547 - 390s - loss: 0.0669 - accuracy: 0.9815 - auc: 0.9968 - precision: 0.9815 - recall: 0.9815 - val_loss: 0.0481 - val_accuracy: 0.9853 - val_auc: 0.9983 - val_precision: 0.9853 - val_recall: 0.9853\n",
      "Epoch 3/100\n",
      " — val_aps:  0.451286 — val_g: 0.966346\n",
      "1547/1547 - 396s - loss: 0.0594 - accuracy: 0.9840 - auc: 0.9972 - precision: 0.9840 - recall: 0.9840 - val_loss: 0.0426 - val_accuracy: 0.9876 - val_auc: 0.9984 - val_precision: 0.9876 - val_recall: 0.9876\n",
      "Epoch 4/100\n",
      " — val_aps:  0.482575 — val_g: 0.966170\n",
      "1547/1547 - 393s - loss: 0.0558 - accuracy: 0.9852 - auc: 0.9974 - precision: 0.9852 - recall: 0.9852 - val_loss: 0.0388 - val_accuracy: 0.9889 - val_auc: 0.9987 - val_precision: 0.9889 - val_recall: 0.9889\n",
      "Epoch 5/100\n",
      " — val_aps:  0.411524 — val_g: 0.966764\n",
      "1547/1547 - 399s - loss: 0.0540 - accuracy: 0.9858 - auc: 0.9975 - precision: 0.9858 - recall: 0.9858 - val_loss: 0.0559 - val_accuracy: 0.9834 - val_auc: 0.9978 - val_precision: 0.9834 - val_recall: 0.9834\n",
      "Epoch 6/100\n",
      " — val_aps:  0.480608 — val_g: 0.968514\n",
      "1547/1547 - 391s - loss: 0.0523 - accuracy: 0.9863 - auc: 0.9975 - precision: 0.9863 - recall: 0.9863 - val_loss: 0.0473 - val_accuracy: 0.9892 - val_auc: 0.9971 - val_precision: 0.9892 - val_recall: 0.9892\n",
      "Epoch 7/100\n",
      " — val_aps:  0.374031 — val_g: 0.961666\n",
      "1547/1547 - 398s - loss: 0.0510 - accuracy: 0.9868 - auc: 0.9977 - precision: 0.9868 - recall: 0.9868 - val_loss: 0.0932 - val_accuracy: 0.9735 - val_auc: 0.9945 - val_precision: 0.9735 - val_recall: 0.9735\n",
      "Epoch 8/100\n",
      " — val_aps:  0.465474 — val_g: 0.967360\n",
      "1547/1547 - 391s - loss: 0.0501 - accuracy: 0.9869 - auc: 0.9977 - precision: 0.9869 - recall: 0.9869 - val_loss: 0.0427 - val_accuracy: 0.9887 - val_auc: 0.9978 - val_precision: 0.9887 - val_recall: 0.9887\n",
      "Epoch 9/100\n",
      " — val_aps:  0.420559 — val_g: 0.968120\n",
      "1547/1547 - 397s - loss: 0.0488 - accuracy: 0.9872 - auc: 0.9978 - precision: 0.9872 - recall: 0.9872 - val_loss: 0.0603 - val_accuracy: 0.9814 - val_auc: 0.9974 - val_precision: 0.9814 - val_recall: 0.9814\n"
     ]
    },
    {
     "name": "stderr",
     "output_type": "stream",
     "text": [
      "[I 2021-04-10 04:36:12,881] Trial 25 finished with value: 0.42055877924430196 and parameters: {'reg': 0.00017512619790721788, 'reg_dense': 0.0031152004776860104, 'n_kernel': 7, 'n_filters': 20, 'hidden': 30, 'drop_out_conv': 0.0012485011937998082, 'gl_pool_max': False, 'drop_out': 0.3678578877708847, 'learning_rate': 0.006061220878567747}. Best is trial 7 with value: 0.48176652139197446.\n"
     ]
    },
    {
     "name": "stdout",
     "output_type": "stream",
     "text": [
      "3 0.11088831280169995\n",
      "4 0.35046182811401466\n",
      "Epoch 1/100\n",
      " — val_aps:  0.401573 — val_g: 0.954091\n",
      "1547/1547 - 395s - loss: 0.1911 - accuracy: 0.9655 - auc: 0.9936 - precision: 0.9655 - recall: 0.9655 - val_loss: 0.0564 - val_accuracy: 0.9871 - val_auc: 0.9982 - val_precision: 0.9871 - val_recall: 0.9871\n",
      "Epoch 2/100\n",
      " — val_aps:  0.386820 — val_g: 0.956719\n",
      "1547/1547 - 399s - loss: 0.0753 - accuracy: 0.9813 - auc: 0.9965 - precision: 0.9813 - recall: 0.9813 - val_loss: 0.0525 - val_accuracy: 0.9876 - val_auc: 0.9979 - val_precision: 0.9876 - val_recall: 0.9876\n",
      "Epoch 3/100\n",
      " — val_aps:  0.403764 — val_g: 0.953820\n",
      "1547/1547 - 403s - loss: 0.0677 - accuracy: 0.9835 - auc: 0.9969 - precision: 0.9835 - recall: 0.9835 - val_loss: 0.0549 - val_accuracy: 0.9887 - val_auc: 0.9969 - val_precision: 0.9887 - val_recall: 0.9887\n",
      "Epoch 4/100\n",
      " — val_aps:  0.419241 — val_g: 0.960548\n",
      "1547/1547 - 390s - loss: 0.0623 - accuracy: 0.9851 - auc: 0.9971 - precision: 0.9851 - recall: 0.9851 - val_loss: 0.0499 - val_accuracy: 0.9889 - val_auc: 0.9982 - val_precision: 0.9889 - val_recall: 0.9889\n",
      "Epoch 5/100\n",
      " — val_aps:  0.438153 — val_g: 0.961880\n",
      "1547/1547 - 404s - loss: 0.0598 - accuracy: 0.9856 - auc: 0.9973 - precision: 0.9856 - recall: 0.9856 - val_loss: 0.0555 - val_accuracy: 0.9857 - val_auc: 0.9982 - val_precision: 0.9857 - val_recall: 0.9857\n",
      "Epoch 6/100\n",
      " — val_aps:  0.397481 — val_g: 0.958422\n"
     ]
    },
    {
     "name": "stderr",
     "output_type": "stream",
     "text": [
      "[I 2021-04-10 05:16:08,570] Trial 26 pruned. Trial was pruned at epoch 5.\n"
     ]
    },
    {
     "name": "stdout",
     "output_type": "stream",
     "text": [
      "3 0.14523568754862418\n",
      "4 0.45901649398083694\n",
      "Epoch 1/100\n",
      " — val_aps:  0.418310 — val_g: 0.956045\n",
      "1547/1547 - 402s - loss: 0.1156 - accuracy: 0.9683 - auc: 0.9944 - precision: 0.9683 - recall: 0.9683 - val_loss: 0.0808 - val_accuracy: 0.9720 - val_auc: 0.9970 - val_precision: 0.9720 - val_recall: 0.9720\n",
      "Epoch 2/100\n",
      " — val_aps:  0.433395 — val_g: 0.960214\n",
      "1547/1547 - 392s - loss: 0.0688 - accuracy: 0.9812 - auc: 0.9967 - precision: 0.9812 - recall: 0.9812 - val_loss: 0.0480 - val_accuracy: 0.9882 - val_auc: 0.9976 - val_precision: 0.9882 - val_recall: 0.9882\n",
      "Epoch 3/100\n",
      " — val_aps:  0.450212 — val_g: 0.962332\n",
      "1547/1547 - 397s - loss: 0.0624 - accuracy: 0.9833 - auc: 0.9971 - precision: 0.9833 - recall: 0.9833 - val_loss: 0.0465 - val_accuracy: 0.9871 - val_auc: 0.9982 - val_precision: 0.9871 - val_recall: 0.9871\n",
      "Epoch 4/100\n",
      " — val_aps:  0.437191 — val_g: 0.964322\n",
      "1547/1547 - 382s - loss: 0.0583 - accuracy: 0.9845 - auc: 0.9973 - precision: 0.9845 - recall: 0.9845 - val_loss: 0.0496 - val_accuracy: 0.9866 - val_auc: 0.9978 - val_precision: 0.9866 - val_recall: 0.9866\n",
      "Epoch 5/100\n",
      " — val_aps:  0.416396 — val_g: 0.964056\n",
      "1547/1547 - 400s - loss: 0.0558 - accuracy: 0.9854 - auc: 0.9974 - precision: 0.9854 - recall: 0.9854 - val_loss: 0.0460 - val_accuracy: 0.9874 - val_auc: 0.9980 - val_precision: 0.9874 - val_recall: 0.9874\n",
      "Epoch 6/100\n",
      " — val_aps:  0.428574 — val_g: 0.963775\n"
     ]
    },
    {
     "name": "stderr",
     "output_type": "stream",
     "text": [
      "[I 2021-04-10 05:55:37,613] Trial 27 pruned. Trial was pruned at epoch 5.\n"
     ]
    },
    {
     "name": "stdout",
     "output_type": "stream",
     "text": [
      "3 0.1325377722641393\n",
      "4 0.4188848111064155\n",
      "Epoch 1/100\n",
      " — val_aps:  0.415901 — val_g: 0.953039\n",
      "1547/1547 - 404s - loss: 0.1218 - accuracy: 0.9701 - auc: 0.9948 - precision: 0.9701 - recall: 0.9701 - val_loss: 0.0558 - val_accuracy: 0.9889 - val_auc: 0.9966 - val_precision: 0.9889 - val_recall: 0.9889\n",
      "Epoch 2/100\n",
      " — val_aps:  0.449792 — val_g: 0.959301\n",
      "1547/1547 - 402s - loss: 0.0733 - accuracy: 0.9804 - auc: 0.9966 - precision: 0.9804 - recall: 0.9804 - val_loss: 0.0533 - val_accuracy: 0.9863 - val_auc: 0.9982 - val_precision: 0.9863 - val_recall: 0.9863\n",
      "Epoch 3/100\n",
      " — val_aps:  0.403458 — val_g: 0.948703\n",
      "1547/1547 - 409s - loss: 0.0666 - accuracy: 0.9828 - auc: 0.9970 - precision: 0.9828 - recall: 0.9828 - val_loss: 0.1379 - val_accuracy: 0.9504 - val_auc: 0.9914 - val_precision: 0.9504 - val_recall: 0.9504\n",
      "Epoch 4/100\n",
      " — val_aps:  0.454075 — val_g: 0.959409\n",
      "1547/1547 - 407s - loss: 0.0633 - accuracy: 0.9840 - auc: 0.9972 - precision: 0.9840 - recall: 0.9840 - val_loss: 0.0460 - val_accuracy: 0.9891 - val_auc: 0.9984 - val_precision: 0.9891 - val_recall: 0.9891\n",
      "Epoch 5/100\n",
      " — val_aps:  0.396754 — val_g: 0.960631\n",
      "1547/1547 - 411s - loss: 0.0613 - accuracy: 0.9846 - auc: 0.9973 - precision: 0.9846 - recall: 0.9846 - val_loss: 0.0516 - val_accuracy: 0.9859 - val_auc: 0.9983 - val_precision: 0.9859 - val_recall: 0.9859\n",
      "Epoch 6/100\n",
      " — val_aps:  0.448733 — val_g: 0.961242\n"
     ]
    },
    {
     "name": "stderr",
     "output_type": "stream",
     "text": [
      "[I 2021-04-10 06:36:21,689] Trial 28 pruned. Trial was pruned at epoch 5.\n"
     ]
    },
    {
     "name": "stdout",
     "output_type": "stream",
     "text": [
      "3 0.06077752552199974\n",
      "4 0.19208699424236955\n",
      "Epoch 1/100\n",
      " — val_aps:  0.385255 — val_g: 0.952194\n",
      "1547/1547 - 406s - loss: 0.1763 - accuracy: 0.9677 - auc: 0.9943 - precision: 0.9677 - recall: 0.9677 - val_loss: 0.0690 - val_accuracy: 0.9886 - val_auc: 0.9958 - val_precision: 0.9886 - val_recall: 0.9886\n",
      "Epoch 2/100\n",
      " — val_aps:  0.414587 — val_g: 0.960315\n",
      "1547/1547 - 397s - loss: 0.0833 - accuracy: 0.9800 - auc: 0.9963 - precision: 0.9800 - recall: 0.9800 - val_loss: 0.0570 - val_accuracy: 0.9886 - val_auc: 0.9972 - val_precision: 0.9886 - val_recall: 0.9886\n",
      "Epoch 3/100\n",
      " — val_aps:  0.404393 — val_g: 0.958330\n",
      "1547/1547 - 405s - loss: 0.0756 - accuracy: 0.9824 - auc: 0.9967 - precision: 0.9824 - recall: 0.9824 - val_loss: 0.0966 - val_accuracy: 0.9657 - val_auc: 0.9962 - val_precision: 0.9657 - val_recall: 0.9657\n",
      "Epoch 4/100\n",
      " — val_aps:  0.398257 — val_g: 0.957480\n",
      "1547/1547 - 398s - loss: 0.0732 - accuracy: 0.9830 - auc: 0.9967 - precision: 0.9830 - recall: 0.9830 - val_loss: 0.0933 - val_accuracy: 0.9688 - val_auc: 0.9963 - val_precision: 0.9688 - val_recall: 0.9688\n",
      "Epoch 5/100\n",
      " — val_aps:  0.439794 — val_g: 0.961862\n",
      "1547/1547 - 404s - loss: 0.0708 - accuracy: 0.9838 - auc: 0.9969 - precision: 0.9838 - recall: 0.9838 - val_loss: 0.0580 - val_accuracy: 0.9888 - val_auc: 0.9969 - val_precision: 0.9888 - val_recall: 0.9888\n",
      "Epoch 6/100\n",
      " — val_aps:  0.449632 — val_g: 0.963475\n"
     ]
    },
    {
     "name": "stderr",
     "output_type": "stream",
     "text": [
      "[I 2021-04-10 07:16:30,597] Trial 29 pruned. Trial was pruned at epoch 5.\n"
     ]
    },
    {
     "name": "stdout",
     "output_type": "stream",
     "text": [
      "Study statistics: \n",
      "  Number of finished trials:  30\n",
      "  Number of pruned trials:  18\n",
      "  Number of complete trials:  12\n",
      "Best trial:\n",
      "  Value:  0.48176652139197446\n",
      "  Params: \n",
      "    reg: 0.000478109401975365\n",
      "    reg_dense: 0.008311940396624909\n",
      "    n_kernel: 7\n",
      "    n_filters: 15\n",
      "    hidden: 50\n",
      "    drop_out_conv: 0.0015258026726022882\n",
      "    gl_pool_max: False\n",
      "    drop_out: 0.35220530008422524\n",
      "    learning_rate: 0.00805063630839906\n"
     ]
    }
   ],
   "source": [
    "#study = optuna.create_study(direction=\"maximize\", pruner=optuna.pruners.MedianPruner(n_startup_trials=2))\n",
    "\n",
    "#Prune if the trial’s best intermediate result is worse than median of intermediate results \n",
    "#of previous trials at the same step\n",
    "#n_startup_trials - кол-во испытаний, на которых рассчитывается медиана\n",
    "#n_warmup_steps - минимальное кол-во эпох, которые отрабатывает каждая модель\n",
    "#interval_steps - шаг, с которым осуществляется проверка, если параметр не передается, то модель обучится до конца\n",
    "#по дефолту - n_startup_trials=5, n_warmup_steps=0, interval_steps=1\n",
    "\n",
    "#study = optuna.create_study(direction=\"maximize\", pruner=optuna.pruners.MedianPruner(n_startup_trials=2))\n",
    "\n",
    "study = optuna.create_study(direction=\"maximize\", pruner=optuna.pruners.MedianPruner(n_startup_trials=5, n_warmup_steps=5))\n",
    "\n",
    "#n_trials – The number of trials. If this argument is set to None, there is no limitation on the number of trials. \n",
    "#If timeout is also set to None, the study continues to create trials until it receives a termination signal \n",
    "#such as Ctrl+C or SIGTERM.\n",
    "study.optimize(objective, n_trials=30)\n",
    "show_result(study)"
   ]
  },
  {
   "cell_type": "code",
   "execution_count": 401,
   "metadata": {},
   "outputs": [
    {
     "name": "stdout",
     "output_type": "stream",
     "text": [
      "Study statistics: \n",
      "  Number of finished trials:  30\n",
      "Best trial:\n",
      "  Value:  0.48176652139197446\n",
      "  Params: \n",
      "    reg: 0.000478109401975365\n",
      "    reg_dense: 0.008311940396624909\n",
      "    n_kernel: 7\n",
      "    n_filters: 15\n",
      "    hidden: 50\n",
      "    drop_out_conv: 0.0015258026726022882\n",
      "    gl_pool_max: False\n",
      "    drop_out: 0.35220530008422524\n",
      "    learning_rate: 0.00805063630839906\n"
     ]
    }
   ],
   "source": [
    "print(\"Study statistics: \")\n",
    "print(\"  Number of finished trials: \", len(study.trials))\n",
    "print(\"Best trial:\")\n",
    "trial = study.best_trial\n",
    "\n",
    "print(\"  Value: \", trial.value)\n",
    "\n",
    "print(\"  Params: \")\n",
    "for key, value in trial.params.items():\n",
    "    print(\"    {}: {}\".format(key, value))"
   ]
  },
  {
   "cell_type": "code",
   "execution_count": 402,
   "metadata": {},
   "outputs": [
    {
     "name": "stdout",
     "output_type": "stream",
     "text": [
      "3 0.12359001648078535\n",
      "4 0.3906054841861858\n"
     ]
    }
   ],
   "source": [
    "model_best = spider_model(reg = trial.params['reg'] , reg_dense = trial.params['reg_dense'],\n",
    "                          n_features = inp_shape, n_pool = 2, n_kernel = 5, n_filters = 5, n_strides = 1,classes = 2, \n",
    "                          hidden = trial.params['hidden'] , drop_out = trial.params['drop_out'], \n",
    "                          drop_out_conv = trial.params['drop_out_conv'], drop_out_rate = 4 ,\n",
    "                 padding_pool = 'valid' ,\n",
    "                gl_pool_max = trial.params['gl_pool_max'])\n",
    "    \n",
    "        # Compile model.\n",
    "model_best.compile(loss='categorical_crossentropy', \n",
    "                 optimizer=tf.keras.optimizers.Adam(learning_rate=trial.params['learning_rate']), \n",
    "              metrics=['accuracy', tf.keras.metrics.AUC(), tf.keras.metrics.Precision(),tf.keras.metrics.Recall()])"
   ]
  },
  {
   "cell_type": "code",
   "execution_count": 403,
   "metadata": {},
   "outputs": [],
   "source": [
    "#learning_rate=0.005\n",
    "initial_learning_rate = trial.params['learning_rate']\n",
    "\n",
    "def lr_step_decay(epoch, lr):\n",
    "    drop_rate = 0.1\n",
    "    epochs_drop = 20.0\n",
    "    \n",
    "    return initial_learning_rate * math.pow(drop_rate, math.floor(epoch/epochs_drop))"
   ]
  },
  {
   "cell_type": "code",
   "execution_count": 404,
   "metadata": {},
   "outputs": [
    {
     "name": "stdout",
     "output_type": "stream",
     "text": [
      "train_begin | time:  12.04.2021 10:17:26\n",
      "\n",
      "Epoch 00001: LearningRateScheduler reducing learning rate to 0.00805063630839906.\n",
      "Epoch 1/150\n",
      "epoch_end | time:  12.04.2021 10:23:57\n",
      " — val_aps:  0.405753 — val_g: 0.963815\n",
      "1547/1547 - 409s - loss: 0.0404 - accuracy: 0.9311 - auc_1: 0.9785 - precision_1: 0.9311 - recall_1: 0.9311 - val_loss: 0.0870 - val_accuracy: 0.9718 - val_auc_1: 0.9957 - val_precision_1: 0.9718 - val_recall_1: 0.9718\n",
      "\n",
      "Epoch 00002: LearningRateScheduler reducing learning rate to 0.00805063630839906.\n",
      "Epoch 2/150\n",
      "epoch_end | time:  12.04.2021 10:30:58\n",
      " — val_aps:  0.427387 — val_g: 0.966950\n",
      "1547/1547 - 419s - loss: 0.0278 - accuracy: 0.9574 - auc_1: 0.9865 - precision_1: 0.9574 - recall_1: 0.9574 - val_loss: 0.1434 - val_accuracy: 0.9522 - val_auc_1: 0.9881 - val_precision_1: 0.9522 - val_recall_1: 0.9522\n",
      "\n",
      "Epoch 00003: LearningRateScheduler reducing learning rate to 0.00805063630839906.\n",
      "Epoch 3/150\n",
      "epoch_end | time:  12.04.2021 10:37:58\n",
      " — val_aps:  0.428377 — val_g: 0.966674\n",
      "1547/1547 - 420s - loss: 0.0260 - accuracy: 0.9613 - auc_1: 0.9881 - precision_1: 0.9613 - recall_1: 0.9613 - val_loss: 0.1724 - val_accuracy: 0.9390 - val_auc_1: 0.9845 - val_precision_1: 0.9390 - val_recall_1: 0.9390\n",
      "\n",
      "Epoch 00004: LearningRateScheduler reducing learning rate to 0.00805063630839906.\n",
      "Epoch 4/150\n",
      "epoch_end | time:  12.04.2021 10:45:07\n",
      " — val_aps:  0.416347 — val_g: 0.960113\n",
      "1547/1547 - 428s - loss: 0.0249 - accuracy: 0.9637 - auc_1: 0.9891 - precision_1: 0.9637 - recall_1: 0.9637 - val_loss: 0.0675 - val_accuracy: 0.9822 - val_auc_1: 0.9963 - val_precision_1: 0.9822 - val_recall_1: 0.9822\n",
      "\n",
      "Epoch 00005: LearningRateScheduler reducing learning rate to 0.00805063630839906.\n",
      "Epoch 5/150\n",
      "epoch_end | time:  12.04.2021 10:52:11\n",
      " — val_aps:  0.472268 — val_g: 0.970523\n",
      "1547/1547 - 424s - loss: 0.0241 - accuracy: 0.9660 - auc_1: 0.9897 - precision_1: 0.9660 - recall_1: 0.9660 - val_loss: 0.1118 - val_accuracy: 0.9686 - val_auc_1: 0.9925 - val_precision_1: 0.9686 - val_recall_1: 0.9686\n",
      "\n",
      "Epoch 00006: LearningRateScheduler reducing learning rate to 0.00805063630839906.\n",
      "Epoch 6/150\n",
      "epoch_end | time:  12.04.2021 10:59:23\n",
      " — val_aps:  0.464778 — val_g: 0.970303\n",
      "1547/1547 - 432s - loss: 0.0238 - accuracy: 0.9665 - auc_1: 0.9900 - precision_1: 0.9665 - recall_1: 0.9665 - val_loss: 0.1235 - val_accuracy: 0.9669 - val_auc_1: 0.9896 - val_precision_1: 0.9669 - val_recall_1: 0.9669\n",
      "\n",
      "Epoch 00007: LearningRateScheduler reducing learning rate to 0.00805063630839906.\n",
      "Epoch 7/150\n",
      "epoch_end | time:  12.04.2021 11:06:41\n",
      " — val_aps:  0.463417 — val_g: 0.970328\n",
      "1547/1547 - 432s - loss: 0.0231 - accuracy: 0.9685 - auc_1: 0.9905 - precision_1: 0.9685 - recall_1: 0.9685 - val_loss: 0.1353 - val_accuracy: 0.9535 - val_auc_1: 0.9894 - val_precision_1: 0.9535 - val_recall_1: 0.9535\n",
      "\n",
      "Epoch 00008: LearningRateScheduler reducing learning rate to 0.00805063630839906.\n",
      "Epoch 8/150\n",
      "epoch_end | time:  12.04.2021 11:13:50\n",
      " — val_aps:  0.468392 — val_g: 0.970363\n",
      "1547/1547 - 434s - loss: 0.0234 - accuracy: 0.9672 - auc_1: 0.9905 - precision_1: 0.9672 - recall_1: 0.9672 - val_loss: 0.0651 - val_accuracy: 0.9801 - val_auc_1: 0.9972 - val_precision_1: 0.9801 - val_recall_1: 0.9801\n",
      "\n",
      "Epoch 00009: LearningRateScheduler reducing learning rate to 0.00805063630839906.\n",
      "Epoch 9/150\n",
      "epoch_end | time:  12.04.2021 11:21:00\n",
      " — val_aps:  0.415437 — val_g: 0.966074\n",
      "1547/1547 - 429s - loss: 0.0227 - accuracy: 0.9694 - auc_1: 0.9910 - precision_1: 0.9694 - recall_1: 0.9694 - val_loss: 0.2697 - val_accuracy: 0.8994 - val_auc_1: 0.9674 - val_precision_1: 0.8994 - val_recall_1: 0.8994\n",
      "\n",
      "Epoch 00010: LearningRateScheduler reducing learning rate to 0.00805063630839906.\n",
      "Epoch 10/150\n",
      "epoch_end | time:  12.04.2021 11:28:11\n",
      " — val_aps:  0.450996 — val_g: 0.968203\n",
      "1547/1547 - 430s - loss: 0.0228 - accuracy: 0.9689 - auc_1: 0.9910 - precision_1: 0.9689 - recall_1: 0.9689 - val_loss: 0.2299 - val_accuracy: 0.9224 - val_auc_1: 0.9737 - val_precision_1: 0.9224 - val_recall_1: 0.9224\n",
      "\n",
      "Epoch 00011: LearningRateScheduler reducing learning rate to 0.00805063630839906.\n",
      "Epoch 11/150\n",
      "epoch_end | time:  12.04.2021 11:35:21\n",
      " — val_aps:  0.458568 — val_g: 0.970584\n",
      "1547/1547 - 429s - loss: 0.0223 - accuracy: 0.9697 - auc_1: 0.9913 - precision_1: 0.9697 - recall_1: 0.9697 - val_loss: 0.0627 - val_accuracy: 0.9804 - val_auc_1: 0.9977 - val_precision_1: 0.9804 - val_recall_1: 0.9804\n",
      "\n",
      "Epoch 00012: LearningRateScheduler reducing learning rate to 0.00805063630839906.\n",
      "Epoch 12/150\n",
      "epoch_end | time:  12.04.2021 11:42:27\n",
      " — val_aps:  0.425997 — val_g: 0.967026\n",
      "1547/1547 - 426s - loss: 0.0221 - accuracy: 0.9704 - auc_1: 0.9915 - precision_1: 0.9704 - recall_1: 0.9704 - val_loss: 0.0503 - val_accuracy: 0.9864 - val_auc_1: 0.9982 - val_precision_1: 0.9864 - val_recall_1: 0.9864\n",
      "\n",
      "Epoch 00013: LearningRateScheduler reducing learning rate to 0.00805063630839906.\n",
      "Epoch 13/150\n",
      "epoch_end | time:  12.04.2021 11:49:30\n",
      " — val_aps:  0.470122 — val_g: 0.971984\n",
      "1547/1547 - 423s - loss: 0.0220 - accuracy: 0.9700 - auc_1: 0.9915 - precision_1: 0.9700 - recall_1: 0.9700 - val_loss: 0.0867 - val_accuracy: 0.9758 - val_auc_1: 0.9941 - val_precision_1: 0.9758 - val_recall_1: 0.9758\n",
      "\n",
      "Epoch 00014: LearningRateScheduler reducing learning rate to 0.00805063630839906.\n",
      "Epoch 14/150\n",
      "epoch_end | time:  12.04.2021 11:56:27\n",
      " — val_aps:  0.464668 — val_g: 0.970672\n",
      "1547/1547 - 415s - loss: 0.0220 - accuracy: 0.9703 - auc_1: 0.9916 - precision_1: 0.9703 - recall_1: 0.9703 - val_loss: 0.0971 - val_accuracy: 0.9722 - val_auc_1: 0.9933 - val_precision_1: 0.9722 - val_recall_1: 0.9722\n",
      "\n",
      "Epoch 00015: LearningRateScheduler reducing learning rate to 0.00805063630839906.\n",
      "Epoch 15/150\n",
      "epoch_end | time:  12.04.2021 12:04:05\n",
      " — val_aps:  0.453782 — val_g: 0.969495\n",
      "1547/1547 - 459s - loss: 0.0218 - accuracy: 0.9706 - auc_1: 0.9918 - precision_1: 0.9706 - recall_1: 0.9706 - val_loss: 0.1791 - val_accuracy: 0.9418 - val_auc_1: 0.9808 - val_precision_1: 0.9418 - val_recall_1: 0.9418\n",
      "\n",
      "Epoch 00016: LearningRateScheduler reducing learning rate to 0.00805063630839906.\n",
      "Epoch 16/150\n",
      "epoch_end | time:  12.04.2021 12:11:04\n",
      " — val_aps:  0.443400 — val_g: 0.967647\n",
      "1547/1547 - 418s - loss: 0.0215 - accuracy: 0.9717 - auc_1: 0.9919 - precision_1: 0.9717 - recall_1: 0.9717 - val_loss: 0.0541 - val_accuracy: 0.9872 - val_auc_1: 0.9979 - val_precision_1: 0.9872 - val_recall_1: 0.9872\n",
      "\n",
      "Epoch 00017: LearningRateScheduler reducing learning rate to 0.00805063630839906.\n",
      "Epoch 17/150\n",
      "epoch_end | time:  12.04.2021 12:17:58\n",
      " — val_aps:  0.451401 — val_g: 0.968244\n",
      "1547/1547 - 414s - loss: 0.0215 - accuracy: 0.9718 - auc_1: 0.9920 - precision_1: 0.9718 - recall_1: 0.9718 - val_loss: 0.0581 - val_accuracy: 0.9828 - val_auc_1: 0.9975 - val_precision_1: 0.9828 - val_recall_1: 0.9828\n",
      "\n",
      "Epoch 00018: LearningRateScheduler reducing learning rate to 0.00805063630839906.\n",
      "Epoch 18/150\n",
      "epoch_end | time:  12.04.2021 12:24:56\n",
      " — val_aps:  0.473572 — val_g: 0.968700\n",
      "1547/1547 - 418s - loss: 0.0216 - accuracy: 0.9713 - auc_1: 0.9920 - precision_1: 0.9713 - recall_1: 0.9713 - val_loss: 0.0497 - val_accuracy: 0.9865 - val_auc_1: 0.9977 - val_precision_1: 0.9865 - val_recall_1: 0.9865\n",
      "\n",
      "Epoch 00019: LearningRateScheduler reducing learning rate to 0.00805063630839906.\n",
      "Epoch 19/150\n",
      "epoch_end | time:  12.04.2021 12:31:41\n",
      " — val_aps:  0.465821 — val_g: 0.971426\n",
      "1547/1547 - 405s - loss: 0.0213 - accuracy: 0.9718 - auc_1: 0.9921 - precision_1: 0.9718 - recall_1: 0.9718 - val_loss: 0.1071 - val_accuracy: 0.9687 - val_auc_1: 0.9920 - val_precision_1: 0.9687 - val_recall_1: 0.9687\n",
      "\n",
      "Epoch 00020: LearningRateScheduler reducing learning rate to 0.00805063630839906.\n",
      "Epoch 20/150\n",
      "epoch_end | time:  12.04.2021 12:38:31\n",
      " — val_aps:  0.477999 — val_g: 0.972100\n",
      "1547/1547 - 408s - loss: 0.0212 - accuracy: 0.9720 - auc_1: 0.9922 - precision_1: 0.9720 - recall_1: 0.9720 - val_loss: 0.0639 - val_accuracy: 0.9811 - val_auc_1: 0.9969 - val_precision_1: 0.9811 - val_recall_1: 0.9811\n",
      "\n",
      "Epoch 00021: LearningRateScheduler reducing learning rate to 0.000805063630839906.\n",
      "Epoch 21/150\n",
      "epoch_end | time:  12.04.2021 12:45:20\n",
      " — val_aps:  0.480990 — val_g: 0.973314\n",
      "1547/1547 - 409s - loss: 0.0178 - accuracy: 0.9786 - auc_1: 0.9944 - precision_1: 0.9786 - recall_1: 0.9786 - val_loss: 0.0633 - val_accuracy: 0.9834 - val_auc_1: 0.9968 - val_precision_1: 0.9834 - val_recall_1: 0.9834\n"
     ]
    },
    {
     "name": "stdout",
     "output_type": "stream",
     "text": [
      "\n",
      "Epoch 00022: LearningRateScheduler reducing learning rate to 0.000805063630839906.\n",
      "Epoch 22/150\n",
      "epoch_end | time:  12.04.2021 12:52:21\n",
      " — val_aps:  0.484260 — val_g: 0.973938\n",
      "1547/1547 - 420s - loss: 0.0168 - accuracy: 0.9796 - auc_1: 0.9948 - precision_1: 0.9796 - recall_1: 0.9796 - val_loss: 0.0779 - val_accuracy: 0.9795 - val_auc_1: 0.9950 - val_precision_1: 0.9795 - val_recall_1: 0.9795\n",
      "\n",
      "Epoch 00023: LearningRateScheduler reducing learning rate to 0.000805063630839906.\n",
      "Epoch 23/150\n",
      "epoch_end | time:  12.04.2021 12:59:07\n",
      " — val_aps:  0.489675 — val_g: 0.973827\n",
      "1547/1547 - 405s - loss: 0.0163 - accuracy: 0.9796 - auc_1: 0.9948 - precision_1: 0.9796 - recall_1: 0.9796 - val_loss: 0.0700 - val_accuracy: 0.9796 - val_auc_1: 0.9961 - val_precision_1: 0.9796 - val_recall_1: 0.9796\n",
      "\n",
      "Epoch 00024: LearningRateScheduler reducing learning rate to 0.000805063630839906.\n",
      "Epoch 24/150\n",
      "epoch_end | time:  12.04.2021 13:05:44\n",
      " — val_aps:  0.488969 — val_g: 0.974131\n",
      "1547/1547 - 396s - loss: 0.0160 - accuracy: 0.9800 - auc_1: 0.9949 - precision_1: 0.9800 - recall_1: 0.9800 - val_loss: 0.0653 - val_accuracy: 0.9822 - val_auc_1: 0.9968 - val_precision_1: 0.9822 - val_recall_1: 0.9822\n",
      "\n",
      "Epoch 00025: LearningRateScheduler reducing learning rate to 0.000805063630839906.\n",
      "Epoch 25/150\n",
      "epoch_end | time:  12.04.2021 13:12:28\n",
      " — val_aps:  0.492535 — val_g: 0.973958\n",
      "1547/1547 - 403s - loss: 0.0159 - accuracy: 0.9796 - auc_1: 0.9950 - precision_1: 0.9796 - recall_1: 0.9796 - val_loss: 0.0627 - val_accuracy: 0.9824 - val_auc_1: 0.9963 - val_precision_1: 0.9824 - val_recall_1: 0.9824\n",
      "\n",
      "Epoch 00026: LearningRateScheduler reducing learning rate to 0.000805063630839906.\n",
      "Epoch 26/150\n",
      "epoch_end | time:  12.04.2021 13:19:10\n",
      " — val_aps:  0.489584 — val_g: 0.973897\n",
      "1547/1547 - 402s - loss: 0.0155 - accuracy: 0.9803 - auc_1: 0.9951 - precision_1: 0.9803 - recall_1: 0.9803 - val_loss: 0.0580 - val_accuracy: 0.9831 - val_auc_1: 0.9970 - val_precision_1: 0.9831 - val_recall_1: 0.9831\n",
      "\n",
      "Epoch 00027: LearningRateScheduler reducing learning rate to 0.000805063630839906.\n",
      "Epoch 27/150\n",
      "epoch_end | time:  12.04.2021 13:25:50\n",
      " — val_aps:  0.495835 — val_g: 0.974226\n",
      "1547/1547 - 400s - loss: 0.0152 - accuracy: 0.9801 - auc_1: 0.9953 - precision_1: 0.9801 - recall_1: 0.9801 - val_loss: 0.0632 - val_accuracy: 0.9820 - val_auc_1: 0.9964 - val_precision_1: 0.9820 - val_recall_1: 0.9820\n",
      "\n",
      "Epoch 00028: LearningRateScheduler reducing learning rate to 0.000805063630839906.\n",
      "Epoch 28/150\n",
      "epoch_end | time:  12.04.2021 13:32:36\n",
      " — val_aps:  0.486529 — val_g: 0.973287\n",
      "1547/1547 - 406s - loss: 0.0152 - accuracy: 0.9802 - auc_1: 0.9951 - precision_1: 0.9802 - recall_1: 0.9802 - val_loss: 0.0942 - val_accuracy: 0.9745 - val_auc_1: 0.9933 - val_precision_1: 0.9745 - val_recall_1: 0.9745\n",
      "\n",
      "Epoch 00029: LearningRateScheduler reducing learning rate to 0.000805063630839906.\n",
      "Epoch 29/150\n",
      "epoch_end | time:  12.04.2021 13:39:28\n",
      " — val_aps:  0.485314 — val_g: 0.973904\n",
      "1547/1547 - 411s - loss: 0.0150 - accuracy: 0.9798 - auc_1: 0.9953 - precision_1: 0.9798 - recall_1: 0.9798 - val_loss: 0.0678 - val_accuracy: 0.9818 - val_auc_1: 0.9958 - val_precision_1: 0.9818 - val_recall_1: 0.9818\n",
      "\n",
      "Epoch 00030: LearningRateScheduler reducing learning rate to 0.000805063630839906.\n",
      "Epoch 30/150\n",
      "epoch_end | time:  12.04.2021 13:46:31\n",
      " — val_aps:  0.487240 — val_g: 0.973819\n",
      "1547/1547 - 423s - loss: 0.0148 - accuracy: 0.9805 - auc_1: 0.9953 - precision_1: 0.9805 - recall_1: 0.9805 - val_loss: 0.0750 - val_accuracy: 0.9796 - val_auc_1: 0.9955 - val_precision_1: 0.9796 - val_recall_1: 0.9796\n",
      "\n",
      "Epoch 00031: LearningRateScheduler reducing learning rate to 0.000805063630839906.\n",
      "Epoch 31/150\n",
      "epoch_end | time:  12.04.2021 13:53:57\n",
      " — val_aps:  0.493954 — val_g: 0.974617\n",
      "1547/1547 - 447s - loss: 0.0148 - accuracy: 0.9808 - auc_1: 0.9954 - precision_1: 0.9808 - recall_1: 0.9808 - val_loss: 0.0649 - val_accuracy: 0.9810 - val_auc_1: 0.9967 - val_precision_1: 0.9810 - val_recall_1: 0.9810\n",
      "\n",
      "Epoch 00032: LearningRateScheduler reducing learning rate to 0.000805063630839906.\n",
      "Epoch 32/150\n",
      "epoch_end | time:  12.04.2021 14:01:44\n",
      " — val_aps:  0.492428 — val_g: 0.974241\n",
      "1547/1547 - 467s - loss: 0.0147 - accuracy: 0.9807 - auc_1: 0.9954 - precision_1: 0.9807 - recall_1: 0.9807 - val_loss: 0.0577 - val_accuracy: 0.9834 - val_auc_1: 0.9970 - val_precision_1: 0.9834 - val_recall_1: 0.9834\n",
      "\n",
      "Epoch 00033: LearningRateScheduler reducing learning rate to 0.000805063630839906.\n",
      "Epoch 33/150\n",
      "epoch_end | time:  12.04.2021 14:09:24\n",
      " — val_aps:  0.495348 — val_g: 0.974172\n",
      "1547/1547 - 458s - loss: 0.0147 - accuracy: 0.9811 - auc_1: 0.9954 - precision_1: 0.9811 - recall_1: 0.9811 - val_loss: 0.0765 - val_accuracy: 0.9776 - val_auc_1: 0.9952 - val_precision_1: 0.9776 - val_recall_1: 0.9776\n",
      "\n",
      "Epoch 00034: LearningRateScheduler reducing learning rate to 0.000805063630839906.\n",
      "Epoch 34/150\n",
      "epoch_end | time:  12.04.2021 14:16:52\n",
      " — val_aps:  0.497169 — val_g: 0.973969\n",
      "1547/1547 - 450s - loss: 0.0146 - accuracy: 0.9805 - auc_1: 0.9955 - precision_1: 0.9805 - recall_1: 0.9805 - val_loss: 0.0788 - val_accuracy: 0.9773 - val_auc_1: 0.9947 - val_precision_1: 0.9773 - val_recall_1: 0.9773\n",
      "\n",
      "Epoch 00035: LearningRateScheduler reducing learning rate to 0.000805063630839906.\n",
      "Epoch 35/150\n",
      "epoch_end | time:  12.04.2021 14:25:17\n",
      " — val_aps:  0.503031 — val_g: 0.974646\n",
      "1547/1547 - 503s - loss: 0.0147 - accuracy: 0.9808 - auc_1: 0.9953 - precision_1: 0.9808 - recall_1: 0.9808 - val_loss: 0.0980 - val_accuracy: 0.9710 - val_auc_1: 0.9929 - val_precision_1: 0.9710 - val_recall_1: 0.9710\n",
      "\n",
      "Epoch 00036: LearningRateScheduler reducing learning rate to 0.000805063630839906.\n",
      "Epoch 36/150\n",
      "epoch_end | time:  12.04.2021 14:33:38\n",
      " — val_aps:  0.499154 — val_g: 0.973716\n",
      "1547/1547 - 501s - loss: 0.0144 - accuracy: 0.9809 - auc_1: 0.9955 - precision_1: 0.9809 - recall_1: 0.9809 - val_loss: 0.0870 - val_accuracy: 0.9733 - val_auc_1: 0.9940 - val_precision_1: 0.9733 - val_recall_1: 0.9733\n",
      "\n",
      "Epoch 00037: LearningRateScheduler reducing learning rate to 0.000805063630839906.\n",
      "Epoch 37/150\n",
      "epoch_end | time:  12.04.2021 14:42:11\n",
      " — val_aps:  0.499407 — val_g: 0.974708\n",
      "1547/1547 - 512s - loss: 0.0144 - accuracy: 0.9810 - auc_1: 0.9955 - precision_1: 0.9810 - recall_1: 0.9810 - val_loss: 0.0840 - val_accuracy: 0.9785 - val_auc_1: 0.9942 - val_precision_1: 0.9785 - val_recall_1: 0.9785\n",
      "\n",
      "Epoch 00038: LearningRateScheduler reducing learning rate to 0.000805063630839906.\n",
      "Epoch 38/150\n",
      "epoch_end | time:  12.04.2021 14:50:40\n",
      " — val_aps:  0.491027 — val_g: 0.974489\n",
      "1547/1547 - 509s - loss: 0.0143 - accuracy: 0.9810 - auc_1: 0.9956 - precision_1: 0.9810 - recall_1: 0.9810 - val_loss: 0.0727 - val_accuracy: 0.9808 - val_auc_1: 0.9952 - val_precision_1: 0.9808 - val_recall_1: 0.9808\n"
     ]
    }
   ],
   "source": [
    "VERBOSE = 2\n",
    "BATCH_SIZE = 512\n",
    "NB_EPOCH = 150\n",
    "class_weighting = {0:0.1 , 1:1} #{0:0.00163 , 1:1}\n",
    "\n",
    "with tf.device('/GPU:0'):\n",
    "    history_XX = model_best.fit_generator(generator=training_generator, \n",
    "                    validation_data= (X_2_2, Y_test_2) ,\n",
    "                                     epochs=NB_EPOCH, verbose=VERBOSE, class_weight=class_weighting,\n",
    "                                     callbacks=[_time , EarlyStopping(monitor='val_loss', patience=20)\n",
    "                                       , LearningRateScheduler(lr_step_decay, verbose=1),\n",
    "                                               Metrics(valid_data=(X_2_2, Y_test_2))])"
   ]
  },
  {
   "cell_type": "code",
   "execution_count": 405,
   "metadata": {},
   "outputs": [],
   "source": [
    "test = pd.DataFrame.from_dict(model_15.get_config()['layers'])\n",
    "c  = str(sum(test['class_name']=='Conv1D')) + 'china_opt'\n",
    "dd = str(200000 + datetime.now().month*100 + datetime.now().day) + '_' + str(datetime.now().hour)"
   ]
  },
  {
   "cell_type": "code",
   "execution_count": 406,
   "metadata": {},
   "outputs": [],
   "source": [
    "test = pd.DataFrame.from_dict(model_best.get_config()['layers'])\n",
    "c  = str(sum(test['class_name']=='Conv1D')) + 'china_opt'\n",
    "dd = str(200000 + datetime.now().month*100 + datetime.now().day) + '_' + str(datetime.now().hour)"
   ]
  },
  {
   "cell_type": "code",
   "execution_count": 407,
   "metadata": {},
   "outputs": [],
   "source": [
    "res_model_cnn3 = pd.DataFrame(history_XX.history, columns = history_XX.history.keys())\n",
    "model_best.save('model_spider_' + c + '_' + dd +'.h5')\n",
    "res_model_cnn3.to_csv('model_spider_' + c + '_' + dd + '.csv')"
   ]
  },
  {
   "cell_type": "code",
   "execution_count": 409,
   "metadata": {
    "scrolled": true
   },
   "outputs": [
    {
     "data": {
      "text/plain": [
       "(0.49102683714014594, 0.9744892240709412, 0.9489784481418824)"
      ]
     },
     "execution_count": 409,
     "metadata": {},
     "output_type": "execute_result"
    }
   ],
   "source": [
    "predict_class_val = model_best.predict(X_2_2)\n",
    "APS = metrics.average_precision_score(y_val, predict_class_val[:,1])\n",
    "AUC = metrics.roc_auc_score(y_val, predict_class_val[:,1])\n",
    "GINI = 2*AUC - 1\n",
    "APS, AUC, GINI"
   ]
  },
  {
   "cell_type": "code",
   "execution_count": 410,
   "metadata": {},
   "outputs": [
    {
     "data": {
      "text/plain": [
       "(0.4818376280668306, 0.976254886163402, 0.9525097723268039)"
      ]
     },
     "execution_count": 410,
     "metadata": {},
     "output_type": "execute_result"
    }
   ],
   "source": [
    "predict_class_val = model_best.predict(X_3_2)\n",
    "APS = metrics.average_precision_score(y_test, predict_class_val[:,1])\n",
    "AUC = metrics.roc_auc_score(y_test, predict_class_val[:,1])\n",
    "GINI = 2*AUC - 1\n",
    "APS, AUC, GINI"
   ]
  },
  {
   "cell_type": "markdown",
   "metadata": {},
   "source": [
    "## Manual GridSearch"
   ]
  },
  {
   "cell_type": "code",
   "execution_count": 337,
   "metadata": {},
   "outputs": [],
   "source": [
    "gl_p = [True, False]\n",
    "l2_batch = [None, 1E-5, 1E-4]\n",
    "n_ker = [3, 5, 7]\n",
    "n_fil = [ 5, 10]\n",
    "d_hidden = [30, 64, 100] \n",
    "drop_out = [0.15, 0.25]\n",
    "drop_out_conv = [0.001, 0.0015]"
   ]
  },
  {
   "cell_type": "code",
   "execution_count": 338,
   "metadata": {},
   "outputs": [],
   "source": [
    "param = itertools.product(gl_p, l2_batch, n_ker, n_fil, d_hidden)"
   ]
  },
  {
   "cell_type": "code",
   "execution_count": 322,
   "metadata": {},
   "outputs": [],
   "source": [
    "def lr_step_decay(epoch, lr):\n",
    "    drop_rate = 0.1\n",
    "    epochs_drop = 20.0\n",
    "    initial_learning_rate = 0.005\n",
    "    \n",
    "    return initial_learning_rate * math.pow(drop_rate, math.floor(epoch/epochs_drop))"
   ]
  },
  {
   "cell_type": "code",
   "execution_count": null,
   "metadata": {},
   "outputs": [
    {
     "name": "stdout",
     "output_type": "stream",
     "text": [
      "3 0.081\n",
      "4 0.256\n",
      "train_begin | time:  05.04.2021 09:40:02\n",
      "\n",
      "Epoch 00001: LearningRateScheduler reducing learning rate to 0.005.\n",
      "Epoch 1/150\n",
      "epoch_end | time:  05.04.2021 09:48:02\n",
      "2945/2945 - 477s - loss: 0.0103 - accuracy: 0.9671 - auc_11: 0.9923 - precision_11: 0.9671 - recall_11: 0.9671 - val_loss: 0.0460 - val_accuracy: 0.9914 - val_auc_11: 0.9989 - val_precision_11: 0.9914 - val_recall_11: 0.9914\n",
      "\n",
      "Epoch 00002: LearningRateScheduler reducing learning rate to 0.005.\n",
      "Epoch 2/150\n"
     ]
    }
   ],
   "source": [
    "VERBOSE = 2\n",
    "BATCH_SIZE = 512\n",
    "NB_EPOCH = 150\n",
    "class_weighting = {0:0.05 , 1:1}\n",
    "\n",
    "result_all = pd.DataFrame()\n",
    "result_all['name_model'] = None\n",
    "result_all['params'] = None\n",
    "result_all['val_GINI'] = None\n",
    "result_all['val_APS'] = None\n",
    "result_all['test_GINI'] = None\n",
    "result_all['test_APS'] = None\n",
    "j = 0\n",
    "\n",
    "for p in param:\n",
    "    \n",
    "    model_grid = spider_model(gl_pool_max = p[0], reg = p[1],\n",
    "                             n_kernel = p[2], n_filters = p[3], hidden = p[4])\n",
    "    model_grid.compile(loss='categorical_crossentropy', \n",
    "                 optimizer=tf.keras.optimizers.Adam(learning_rate=0.005),\n",
    "              metrics=['accuracy', tf.keras.metrics.AUC(), tf.keras.metrics.Precision(),tf.keras.metrics.Recall()])\n",
    "    \n",
    "    history_XX = model_grid.fit_generator(generator=training_generator,  #training_aug,\n",
    "                    validation_data= (X_2_2, Y_test_2) , \n",
    "                                     epochs=NB_EPOCH, verbose=VERBOSE, class_weight=class_weighting,\n",
    "                                     callbacks=[_time , EarlyStopping(monitor='val_loss', patience=20)\n",
    "                                       , LearningRateScheduler(lr_step_decay, verbose=1)])\n",
    "    \n",
    "    res_model_ = pd.DataFrame(history_XX.history, columns = history_XX.history.keys())\n",
    "    name_m = 'model_spider6_grid' + str(p[0]) + '_' + str(p[1]) + '_' + str(p[2]) + '_' + str(p[3]) + '_' + str(p[4])\n",
    "    model_grid.save( name_m + '.h5')\n",
    "    res_model_.to_csv(name_m + '.csv')\n",
    "    \n",
    "    predict_class_val = model_grid.predict(X_2_2)\n",
    "    APS = metrics.average_precision_score(y_test, predict_class_val[:,1])\n",
    "    GINI = 2*(metrics.roc_auc_score(y_test, predict_class_val[:,1])) - 1\n",
    "\n",
    "    predict_class_test = model_grid.predict(X_3_2)\n",
    "    APS_t = metrics.average_precision_score(y_val, predict_class_test[:,1])\n",
    "    GINI_t = 2*(metrics.roc_auc_score(y_val, predict_class_test[:,1])) - 1\n",
    "    \n",
    "    result_all.at[j , 'name_model'] = name_m\n",
    "    result_all.at[j ,'params'] = str(p)\n",
    "    result_all.at[j ,'val_GINI'] = GINI\n",
    "    result_all.at[j ,'val_APS'] = APS\n",
    "    result_all.at[j ,'test_GINI'] = GINI_t\n",
    "    result_all.at[j ,'test_APS'] = APS_t\n",
    "    j += 1\n",
    "    print(name_m, 'test: ', GINI, APS, '| val: ', GINI_t, APS_t)\n",
    "    "
   ]
  },
  {
   "cell_type": "code",
   "execution_count": 332,
   "metadata": {},
   "outputs": [
    {
     "data": {
      "text/plain": [
       "tensorflow.python.keras.engine.functional.Functional"
      ]
     },
     "execution_count": 332,
     "metadata": {},
     "output_type": "execute_result"
    }
   ],
   "source": [
    "type(model_grid)"
   ]
  },
  {
   "cell_type": "code",
   "execution_count": 336,
   "metadata": {},
   "outputs": [
    {
     "data": {
      "text/plain": [
       "0.06532434118120521"
      ]
     },
     "execution_count": 336,
     "metadata": {},
     "output_type": "execute_result"
    }
   ],
   "source": [
    "APS_t"
   ]
  },
  {
   "cell_type": "code",
   "execution_count": 333,
   "metadata": {},
   "outputs": [
    {
     "data": {
      "text/plain": [
       "tensorflow.python.keras.engine.functional.Functional"
      ]
     },
     "execution_count": 333,
     "metadata": {},
     "output_type": "execute_result"
    }
   ],
   "source": [
    "type(model_15)"
   ]
  },
  {
   "cell_type": "code",
   "execution_count": 325,
   "metadata": {},
   "outputs": [
    {
     "data": {
      "text/plain": [
       "'1e-05'"
      ]
     },
     "execution_count": 325,
     "metadata": {},
     "output_type": "execute_result"
    }
   ],
   "source": [
    "str(1E-5)"
   ]
  },
  {
   "cell_type": "code",
   "execution_count": 327,
   "metadata": {},
   "outputs": [
    {
     "name": "stdout",
     "output_type": "stream",
     "text": [
      "(True, None, 3, 5, 30)\n",
      "(True, None, 3, 5, 64)\n",
      "(True, None, 3, 5, 100)\n",
      "(True, None, 3, 10, 30)\n",
      "(True, None, 3, 10, 64)\n",
      "(True, None, 3, 10, 100)\n",
      "(True, None, 5, 5, 30)\n",
      "(True, None, 5, 5, 64)\n",
      "(True, None, 5, 5, 100)\n",
      "(True, None, 5, 10, 30)\n",
      "(True, None, 5, 10, 64)\n",
      "(True, None, 5, 10, 100)\n",
      "(True, None, 7, 5, 30)\n",
      "(True, None, 7, 5, 64)\n",
      "(True, None, 7, 5, 100)\n",
      "(True, None, 7, 10, 30)\n",
      "(True, None, 7, 10, 64)\n",
      "(True, None, 7, 10, 100)\n",
      "(True, 1e-05, 3, 5, 30)\n",
      "(True, 1e-05, 3, 5, 64)\n",
      "(True, 1e-05, 3, 5, 100)\n",
      "(True, 1e-05, 3, 10, 30)\n",
      "(True, 1e-05, 3, 10, 64)\n",
      "(True, 1e-05, 3, 10, 100)\n",
      "(True, 1e-05, 5, 5, 30)\n",
      "(True, 1e-05, 5, 5, 64)\n",
      "(True, 1e-05, 5, 5, 100)\n",
      "(True, 1e-05, 5, 10, 30)\n",
      "(True, 1e-05, 5, 10, 64)\n",
      "(True, 1e-05, 5, 10, 100)\n",
      "(True, 1e-05, 7, 5, 30)\n",
      "(True, 1e-05, 7, 5, 64)\n",
      "(True, 1e-05, 7, 5, 100)\n",
      "(True, 1e-05, 7, 10, 30)\n",
      "(True, 1e-05, 7, 10, 64)\n",
      "(True, 1e-05, 7, 10, 100)\n",
      "(True, 0.0001, 3, 5, 30)\n",
      "(True, 0.0001, 3, 5, 64)\n",
      "(True, 0.0001, 3, 5, 100)\n",
      "(True, 0.0001, 3, 10, 30)\n",
      "(True, 0.0001, 3, 10, 64)\n",
      "(True, 0.0001, 3, 10, 100)\n",
      "(True, 0.0001, 5, 5, 30)\n",
      "(True, 0.0001, 5, 5, 64)\n",
      "(True, 0.0001, 5, 5, 100)\n",
      "(True, 0.0001, 5, 10, 30)\n",
      "(True, 0.0001, 5, 10, 64)\n",
      "(True, 0.0001, 5, 10, 100)\n",
      "(True, 0.0001, 7, 5, 30)\n",
      "(True, 0.0001, 7, 5, 64)\n",
      "(True, 0.0001, 7, 5, 100)\n",
      "(True, 0.0001, 7, 10, 30)\n",
      "(True, 0.0001, 7, 10, 64)\n",
      "(True, 0.0001, 7, 10, 100)\n",
      "(False, None, 3, 5, 30)\n",
      "(False, None, 3, 5, 64)\n",
      "(False, None, 3, 5, 100)\n",
      "(False, None, 3, 10, 30)\n",
      "(False, None, 3, 10, 64)\n",
      "(False, None, 3, 10, 100)\n",
      "(False, None, 5, 5, 30)\n",
      "(False, None, 5, 5, 64)\n",
      "(False, None, 5, 5, 100)\n",
      "(False, None, 5, 10, 30)\n",
      "(False, None, 5, 10, 64)\n",
      "(False, None, 5, 10, 100)\n",
      "(False, None, 7, 5, 30)\n",
      "(False, None, 7, 5, 64)\n",
      "(False, None, 7, 5, 100)\n",
      "(False, None, 7, 10, 30)\n",
      "(False, None, 7, 10, 64)\n",
      "(False, None, 7, 10, 100)\n",
      "(False, 1e-05, 3, 5, 30)\n",
      "(False, 1e-05, 3, 5, 64)\n",
      "(False, 1e-05, 3, 5, 100)\n",
      "(False, 1e-05, 3, 10, 30)\n",
      "(False, 1e-05, 3, 10, 64)\n",
      "(False, 1e-05, 3, 10, 100)\n",
      "(False, 1e-05, 5, 5, 30)\n",
      "(False, 1e-05, 5, 5, 64)\n",
      "(False, 1e-05, 5, 5, 100)\n",
      "(False, 1e-05, 5, 10, 30)\n",
      "(False, 1e-05, 5, 10, 64)\n",
      "(False, 1e-05, 5, 10, 100)\n",
      "(False, 1e-05, 7, 5, 30)\n",
      "(False, 1e-05, 7, 5, 64)\n",
      "(False, 1e-05, 7, 5, 100)\n",
      "(False, 1e-05, 7, 10, 30)\n",
      "(False, 1e-05, 7, 10, 64)\n",
      "(False, 1e-05, 7, 10, 100)\n",
      "(False, 0.0001, 3, 5, 30)\n",
      "(False, 0.0001, 3, 5, 64)\n",
      "(False, 0.0001, 3, 5, 100)\n",
      "(False, 0.0001, 3, 10, 30)\n",
      "(False, 0.0001, 3, 10, 64)\n",
      "(False, 0.0001, 3, 10, 100)\n",
      "(False, 0.0001, 5, 5, 30)\n",
      "(False, 0.0001, 5, 5, 64)\n",
      "(False, 0.0001, 5, 5, 100)\n",
      "(False, 0.0001, 5, 10, 30)\n",
      "(False, 0.0001, 5, 10, 64)\n",
      "(False, 0.0001, 5, 10, 100)\n",
      "(False, 0.0001, 7, 5, 30)\n",
      "(False, 0.0001, 7, 5, 64)\n",
      "(False, 0.0001, 7, 5, 100)\n",
      "(False, 0.0001, 7, 10, 30)\n",
      "(False, 0.0001, 7, 10, 64)\n",
      "(False, 0.0001, 7, 10, 100)\n"
     ]
    }
   ],
   "source": [
    "for p in param:\n",
    "    print(str(p))"
   ]
  },
  {
   "cell_type": "code",
   "execution_count": null,
   "metadata": {},
   "outputs": [],
   "source": [
    "#TEST_APS\tTEST_GINI\tVal_APS\tVal_GINI\n",
    "#6.79%\t85.18%\t8.13%\t86.00%\n"
   ]
  },
  {
   "cell_type": "code",
   "execution_count": null,
   "metadata": {},
   "outputs": [],
   "source": [
    "#исходное качество\n",
    "#val =\n",
    "\n",
    "\n",
    "#ex1\n",
    "#val =  0.08138178423169082\n",
    "#test =  0.05068273665791778\n",
    "\n",
    "#ex2\n",
    "#val = 0.0558353651779883\n",
    "#test = 0.05884736936949478\n",
    "\n",
    "\n",
    "#ex3\n",
    "#val = (0.05789951994963481, 0.9353994224854298, 0.8707988449708597)\n",
    "#test = (0.0635927685602869, 0.9313785208292422, 0.8627570416584844)\n",
    "\n"
   ]
  },
  {
   "cell_type": "code",
   "execution_count": 93,
   "metadata": {},
   "outputs": [
    {
     "data": {
      "text/html": [
       "<div>\n",
       "<style scoped>\n",
       "    .dataframe tbody tr th:only-of-type {\n",
       "        vertical-align: middle;\n",
       "    }\n",
       "\n",
       "    .dataframe tbody tr th {\n",
       "        vertical-align: top;\n",
       "    }\n",
       "\n",
       "    .dataframe thead th {\n",
       "        text-align: right;\n",
       "    }\n",
       "</style>\n",
       "<table border=\"1\" class=\"dataframe\">\n",
       "  <thead>\n",
       "    <tr style=\"text-align: right;\">\n",
       "      <th></th>\n",
       "      <th>RULE_SAME_MOB_6_3_7</th>\n",
       "      <th>W_TEST_AGE_6_60D</th>\n",
       "      <th>SUB_CHANNEL_LOCALS_RBT</th>\n",
       "      <th>RULE_DIFF_INC_3_30</th>\n",
       "      <th>RULE_1_TRE7_SHARE_30</th>\n",
       "      <th>RULE_1_TRE3_SHARE_7</th>\n",
       "      <th>B_TEST_FIFTH_NUMBER_3_7D</th>\n",
       "      <th>RULE_2_TRE5_SHARE_60</th>\n",
       "      <th>RULE_1_TRE3_COUNT_7</th>\n",
       "      <th>RULE_3_TRE3_COUNT_60</th>\n",
       "      <th>...</th>\n",
       "      <th>B_TEST_PASP_D_10_30D</th>\n",
       "      <th>RULE_3_TRE5_SHARE_7</th>\n",
       "      <th>RULE_1_TRE3_SHARE_60</th>\n",
       "      <th>BUREAU_HIT_DEV_30</th>\n",
       "      <th>DIVISION_Северо-Западный</th>\n",
       "      <th>RULE_1_TRE7_SHARE_14</th>\n",
       "      <th>RULE_SAME_MOB8_3_60</th>\n",
       "      <th>FUNDED_AV_60</th>\n",
       "      <th>RULE_1_TRE3_COUNT_60</th>\n",
       "      <th>RULE_1_TRE5_COUNT_60</th>\n",
       "    </tr>\n",
       "  </thead>\n",
       "  <tbody>\n",
       "    <tr>\n",
       "      <td>0</td>\n",
       "      <td>-0.158926</td>\n",
       "      <td>-0.244914</td>\n",
       "      <td>0.0</td>\n",
       "      <td>-0.137402</td>\n",
       "      <td>-0.162228</td>\n",
       "      <td>-0.239375</td>\n",
       "      <td>0.095256</td>\n",
       "      <td>-0.358137</td>\n",
       "      <td>-0.289927</td>\n",
       "      <td>-0.357479</td>\n",
       "      <td>...</td>\n",
       "      <td>-0.046856</td>\n",
       "      <td>-0.114735</td>\n",
       "      <td>-0.511114</td>\n",
       "      <td>0.049269</td>\n",
       "      <td>0.0</td>\n",
       "      <td>-0.124007</td>\n",
       "      <td>-0.142178</td>\n",
       "      <td>-1.191339</td>\n",
       "      <td>-0.544446</td>\n",
       "      <td>-0.384259</td>\n",
       "    </tr>\n",
       "    <tr>\n",
       "      <td>1</td>\n",
       "      <td>-0.158926</td>\n",
       "      <td>-0.393576</td>\n",
       "      <td>0.0</td>\n",
       "      <td>-0.137402</td>\n",
       "      <td>-0.162228</td>\n",
       "      <td>-0.239375</td>\n",
       "      <td>-0.307357</td>\n",
       "      <td>-0.358137</td>\n",
       "      <td>-0.289927</td>\n",
       "      <td>-0.357479</td>\n",
       "      <td>...</td>\n",
       "      <td>0.269880</td>\n",
       "      <td>-0.114735</td>\n",
       "      <td>-0.511114</td>\n",
       "      <td>-0.242174</td>\n",
       "      <td>0.0</td>\n",
       "      <td>-0.124007</td>\n",
       "      <td>-0.142178</td>\n",
       "      <td>-1.221075</td>\n",
       "      <td>-0.544446</td>\n",
       "      <td>-0.384259</td>\n",
       "    </tr>\n",
       "    <tr>\n",
       "      <td>2</td>\n",
       "      <td>-0.158926</td>\n",
       "      <td>-0.213598</td>\n",
       "      <td>0.0</td>\n",
       "      <td>-0.137402</td>\n",
       "      <td>-0.162228</td>\n",
       "      <td>-0.239375</td>\n",
       "      <td>-0.457697</td>\n",
       "      <td>-0.358137</td>\n",
       "      <td>-0.289927</td>\n",
       "      <td>-0.357479</td>\n",
       "      <td>...</td>\n",
       "      <td>1.013864</td>\n",
       "      <td>-0.114735</td>\n",
       "      <td>-0.511114</td>\n",
       "      <td>0.099361</td>\n",
       "      <td>0.0</td>\n",
       "      <td>-0.124007</td>\n",
       "      <td>-0.142178</td>\n",
       "      <td>-1.134120</td>\n",
       "      <td>-0.544446</td>\n",
       "      <td>-0.384259</td>\n",
       "    </tr>\n",
       "    <tr>\n",
       "      <td>3</td>\n",
       "      <td>-0.158926</td>\n",
       "      <td>-0.047949</td>\n",
       "      <td>0.0</td>\n",
       "      <td>-0.137402</td>\n",
       "      <td>-0.162228</td>\n",
       "      <td>-0.239375</td>\n",
       "      <td>-0.319934</td>\n",
       "      <td>-0.358137</td>\n",
       "      <td>-0.289927</td>\n",
       "      <td>-0.357479</td>\n",
       "      <td>...</td>\n",
       "      <td>-0.881406</td>\n",
       "      <td>-0.114735</td>\n",
       "      <td>-0.511114</td>\n",
       "      <td>0.331268</td>\n",
       "      <td>0.0</td>\n",
       "      <td>-0.124007</td>\n",
       "      <td>-0.142178</td>\n",
       "      <td>-1.358886</td>\n",
       "      <td>-0.544446</td>\n",
       "      <td>-0.384259</td>\n",
       "    </tr>\n",
       "    <tr>\n",
       "      <td>4</td>\n",
       "      <td>-0.158926</td>\n",
       "      <td>-0.098913</td>\n",
       "      <td>0.0</td>\n",
       "      <td>-0.137402</td>\n",
       "      <td>-0.162228</td>\n",
       "      <td>-0.239375</td>\n",
       "      <td>-0.323938</td>\n",
       "      <td>-0.358137</td>\n",
       "      <td>-0.289927</td>\n",
       "      <td>-0.357479</td>\n",
       "      <td>...</td>\n",
       "      <td>-0.675116</td>\n",
       "      <td>-0.114735</td>\n",
       "      <td>-0.511114</td>\n",
       "      <td>0.795081</td>\n",
       "      <td>0.0</td>\n",
       "      <td>-0.124007</td>\n",
       "      <td>-0.142178</td>\n",
       "      <td>-1.340692</td>\n",
       "      <td>-0.544446</td>\n",
       "      <td>-0.384259</td>\n",
       "    </tr>\n",
       "  </tbody>\n",
       "</table>\n",
       "<p>5 rows × 163 columns</p>\n",
       "</div>"
      ],
      "text/plain": [
       "   RULE_SAME_MOB_6_3_7  W_TEST_AGE_6_60D  SUB_CHANNEL_LOCALS_RBT  \\\n",
       "0            -0.158926         -0.244914                     0.0   \n",
       "1            -0.158926         -0.393576                     0.0   \n",
       "2            -0.158926         -0.213598                     0.0   \n",
       "3            -0.158926         -0.047949                     0.0   \n",
       "4            -0.158926         -0.098913                     0.0   \n",
       "\n",
       "   RULE_DIFF_INC_3_30  RULE_1_TRE7_SHARE_30  RULE_1_TRE3_SHARE_7  \\\n",
       "0           -0.137402             -0.162228            -0.239375   \n",
       "1           -0.137402             -0.162228            -0.239375   \n",
       "2           -0.137402             -0.162228            -0.239375   \n",
       "3           -0.137402             -0.162228            -0.239375   \n",
       "4           -0.137402             -0.162228            -0.239375   \n",
       "\n",
       "   B_TEST_FIFTH_NUMBER_3_7D  RULE_2_TRE5_SHARE_60  RULE_1_TRE3_COUNT_7  \\\n",
       "0                  0.095256             -0.358137            -0.289927   \n",
       "1                 -0.307357             -0.358137            -0.289927   \n",
       "2                 -0.457697             -0.358137            -0.289927   \n",
       "3                 -0.319934             -0.358137            -0.289927   \n",
       "4                 -0.323938             -0.358137            -0.289927   \n",
       "\n",
       "   RULE_3_TRE3_COUNT_60  ...  B_TEST_PASP_D_10_30D  RULE_3_TRE5_SHARE_7  \\\n",
       "0             -0.357479  ...             -0.046856            -0.114735   \n",
       "1             -0.357479  ...              0.269880            -0.114735   \n",
       "2             -0.357479  ...              1.013864            -0.114735   \n",
       "3             -0.357479  ...             -0.881406            -0.114735   \n",
       "4             -0.357479  ...             -0.675116            -0.114735   \n",
       "\n",
       "   RULE_1_TRE3_SHARE_60  BUREAU_HIT_DEV_30  DIVISION_Северо-Западный  \\\n",
       "0             -0.511114           0.049269                       0.0   \n",
       "1             -0.511114          -0.242174                       0.0   \n",
       "2             -0.511114           0.099361                       0.0   \n",
       "3             -0.511114           0.331268                       0.0   \n",
       "4             -0.511114           0.795081                       0.0   \n",
       "\n",
       "   RULE_1_TRE7_SHARE_14  RULE_SAME_MOB8_3_60  FUNDED_AV_60  \\\n",
       "0             -0.124007            -0.142178     -1.191339   \n",
       "1             -0.124007            -0.142178     -1.221075   \n",
       "2             -0.124007            -0.142178     -1.134120   \n",
       "3             -0.124007            -0.142178     -1.358886   \n",
       "4             -0.124007            -0.142178     -1.340692   \n",
       "\n",
       "   RULE_1_TRE3_COUNT_60  RULE_1_TRE5_COUNT_60  \n",
       "0             -0.544446             -0.384259  \n",
       "1             -0.544446             -0.384259  \n",
       "2             -0.544446             -0.384259  \n",
       "3             -0.544446             -0.384259  \n",
       "4             -0.544446             -0.384259  \n",
       "\n",
       "[5 rows x 163 columns]"
      ]
     },
     "execution_count": 93,
     "metadata": {},
     "output_type": "execute_result"
    }
   ],
   "source": [
    "X_3_2.head()"
   ]
  },
  {
   "cell_type": "code",
   "execution_count": 95,
   "metadata": {},
   "outputs": [
    {
     "data": {
      "text/html": [
       "<div>\n",
       "<style scoped>\n",
       "    .dataframe tbody tr th:only-of-type {\n",
       "        vertical-align: middle;\n",
       "    }\n",
       "\n",
       "    .dataframe tbody tr th {\n",
       "        vertical-align: top;\n",
       "    }\n",
       "\n",
       "    .dataframe thead th {\n",
       "        text-align: right;\n",
       "    }\n",
       "</style>\n",
       "<table border=\"1\" class=\"dataframe\">\n",
       "  <thead>\n",
       "    <tr style=\"text-align: right;\">\n",
       "      <th></th>\n",
       "      <th>RULE_SAME_MOB_6_3_7</th>\n",
       "      <th>W_TEST_AGE_6_60D</th>\n",
       "      <th>SUB_CHANNEL_LOCALS_RBT</th>\n",
       "      <th>RULE_DIFF_INC_3_30</th>\n",
       "      <th>RULE_1_TRE7_SHARE_30</th>\n",
       "      <th>RULE_1_TRE3_SHARE_7</th>\n",
       "      <th>B_TEST_FIFTH_NUMBER_3_7D</th>\n",
       "      <th>RULE_2_TRE5_SHARE_60</th>\n",
       "      <th>RULE_1_TRE3_COUNT_7</th>\n",
       "      <th>RULE_3_TRE3_COUNT_60</th>\n",
       "      <th>...</th>\n",
       "      <th>B_TEST_PASP_D_10_30D</th>\n",
       "      <th>RULE_3_TRE5_SHARE_7</th>\n",
       "      <th>RULE_1_TRE3_SHARE_60</th>\n",
       "      <th>BUREAU_HIT_DEV_30</th>\n",
       "      <th>DIVISION_Северо-Западный</th>\n",
       "      <th>RULE_1_TRE7_SHARE_14</th>\n",
       "      <th>RULE_SAME_MOB8_3_60</th>\n",
       "      <th>FUNDED_AV_60</th>\n",
       "      <th>RULE_1_TRE3_COUNT_60</th>\n",
       "      <th>RULE_1_TRE5_COUNT_60</th>\n",
       "    </tr>\n",
       "  </thead>\n",
       "  <tbody>\n",
       "    <tr>\n",
       "      <td>0</td>\n",
       "      <td>-0.158926</td>\n",
       "      <td>0.237348</td>\n",
       "      <td>0.0</td>\n",
       "      <td>-0.137402</td>\n",
       "      <td>-0.162228</td>\n",
       "      <td>-0.239375</td>\n",
       "      <td>0.251769</td>\n",
       "      <td>-0.358137</td>\n",
       "      <td>-0.289927</td>\n",
       "      <td>-0.357479</td>\n",
       "      <td>...</td>\n",
       "      <td>-0.188412</td>\n",
       "      <td>-0.114735</td>\n",
       "      <td>-0.511114</td>\n",
       "      <td>-0.217887</td>\n",
       "      <td>0.0</td>\n",
       "      <td>-0.124007</td>\n",
       "      <td>-0.142178</td>\n",
       "      <td>-0.798834</td>\n",
       "      <td>-0.544446</td>\n",
       "      <td>-0.384259</td>\n",
       "    </tr>\n",
       "    <tr>\n",
       "      <td>1</td>\n",
       "      <td>-0.158926</td>\n",
       "      <td>0.731132</td>\n",
       "      <td>0.0</td>\n",
       "      <td>-0.137402</td>\n",
       "      <td>-0.162228</td>\n",
       "      <td>-0.239375</td>\n",
       "      <td>-0.476948</td>\n",
       "      <td>-0.358137</td>\n",
       "      <td>-0.289927</td>\n",
       "      <td>-0.357479</td>\n",
       "      <td>...</td>\n",
       "      <td>1.328494</td>\n",
       "      <td>-0.114735</td>\n",
       "      <td>-0.511114</td>\n",
       "      <td>-2.670868</td>\n",
       "      <td>0.0</td>\n",
       "      <td>-0.124007</td>\n",
       "      <td>-0.142178</td>\n",
       "      <td>-0.585539</td>\n",
       "      <td>-0.544446</td>\n",
       "      <td>-0.384259</td>\n",
       "    </tr>\n",
       "    <tr>\n",
       "      <td>2</td>\n",
       "      <td>-0.158926</td>\n",
       "      <td>0.645422</td>\n",
       "      <td>0.0</td>\n",
       "      <td>-0.137402</td>\n",
       "      <td>-0.162228</td>\n",
       "      <td>-0.239375</td>\n",
       "      <td>-0.507907</td>\n",
       "      <td>-0.358137</td>\n",
       "      <td>-0.289927</td>\n",
       "      <td>-0.357479</td>\n",
       "      <td>...</td>\n",
       "      <td>1.496973</td>\n",
       "      <td>-0.114735</td>\n",
       "      <td>-0.511114</td>\n",
       "      <td>-2.584129</td>\n",
       "      <td>0.0</td>\n",
       "      <td>-0.124007</td>\n",
       "      <td>-0.142178</td>\n",
       "      <td>-0.865564</td>\n",
       "      <td>-0.544446</td>\n",
       "      <td>-0.384259</td>\n",
       "    </tr>\n",
       "    <tr>\n",
       "      <td>3</td>\n",
       "      <td>-0.158926</td>\n",
       "      <td>0.356371</td>\n",
       "      <td>0.0</td>\n",
       "      <td>-0.137402</td>\n",
       "      <td>-0.162228</td>\n",
       "      <td>-0.239375</td>\n",
       "      <td>-0.753915</td>\n",
       "      <td>-0.358137</td>\n",
       "      <td>-0.289927</td>\n",
       "      <td>-0.357479</td>\n",
       "      <td>...</td>\n",
       "      <td>0.927259</td>\n",
       "      <td>-0.114735</td>\n",
       "      <td>-0.511114</td>\n",
       "      <td>-1.570366</td>\n",
       "      <td>0.0</td>\n",
       "      <td>-0.124007</td>\n",
       "      <td>-0.142178</td>\n",
       "      <td>-0.956220</td>\n",
       "      <td>-0.544446</td>\n",
       "      <td>-0.384259</td>\n",
       "    </tr>\n",
       "    <tr>\n",
       "      <td>4</td>\n",
       "      <td>-0.158926</td>\n",
       "      <td>-0.371433</td>\n",
       "      <td>0.0</td>\n",
       "      <td>-0.137402</td>\n",
       "      <td>-0.162228</td>\n",
       "      <td>-0.239375</td>\n",
       "      <td>-0.508881</td>\n",
       "      <td>-0.358137</td>\n",
       "      <td>-0.289927</td>\n",
       "      <td>-0.357479</td>\n",
       "      <td>...</td>\n",
       "      <td>0.319908</td>\n",
       "      <td>-0.114735</td>\n",
       "      <td>-0.511114</td>\n",
       "      <td>-0.930304</td>\n",
       "      <td>0.0</td>\n",
       "      <td>-0.124007</td>\n",
       "      <td>-0.142178</td>\n",
       "      <td>-1.062752</td>\n",
       "      <td>-0.544446</td>\n",
       "      <td>-0.384259</td>\n",
       "    </tr>\n",
       "  </tbody>\n",
       "</table>\n",
       "<p>5 rows × 163 columns</p>\n",
       "</div>"
      ],
      "text/plain": [
       "   RULE_SAME_MOB_6_3_7  W_TEST_AGE_6_60D  SUB_CHANNEL_LOCALS_RBT  \\\n",
       "0            -0.158926          0.237348                     0.0   \n",
       "1            -0.158926          0.731132                     0.0   \n",
       "2            -0.158926          0.645422                     0.0   \n",
       "3            -0.158926          0.356371                     0.0   \n",
       "4            -0.158926         -0.371433                     0.0   \n",
       "\n",
       "   RULE_DIFF_INC_3_30  RULE_1_TRE7_SHARE_30  RULE_1_TRE3_SHARE_7  \\\n",
       "0           -0.137402             -0.162228            -0.239375   \n",
       "1           -0.137402             -0.162228            -0.239375   \n",
       "2           -0.137402             -0.162228            -0.239375   \n",
       "3           -0.137402             -0.162228            -0.239375   \n",
       "4           -0.137402             -0.162228            -0.239375   \n",
       "\n",
       "   B_TEST_FIFTH_NUMBER_3_7D  RULE_2_TRE5_SHARE_60  RULE_1_TRE3_COUNT_7  \\\n",
       "0                  0.251769             -0.358137            -0.289927   \n",
       "1                 -0.476948             -0.358137            -0.289927   \n",
       "2                 -0.507907             -0.358137            -0.289927   \n",
       "3                 -0.753915             -0.358137            -0.289927   \n",
       "4                 -0.508881             -0.358137            -0.289927   \n",
       "\n",
       "   RULE_3_TRE3_COUNT_60  ...  B_TEST_PASP_D_10_30D  RULE_3_TRE5_SHARE_7  \\\n",
       "0             -0.357479  ...             -0.188412            -0.114735   \n",
       "1             -0.357479  ...              1.328494            -0.114735   \n",
       "2             -0.357479  ...              1.496973            -0.114735   \n",
       "3             -0.357479  ...              0.927259            -0.114735   \n",
       "4             -0.357479  ...              0.319908            -0.114735   \n",
       "\n",
       "   RULE_1_TRE3_SHARE_60  BUREAU_HIT_DEV_30  DIVISION_Северо-Западный  \\\n",
       "0             -0.511114          -0.217887                       0.0   \n",
       "1             -0.511114          -2.670868                       0.0   \n",
       "2             -0.511114          -2.584129                       0.0   \n",
       "3             -0.511114          -1.570366                       0.0   \n",
       "4             -0.511114          -0.930304                       0.0   \n",
       "\n",
       "   RULE_1_TRE7_SHARE_14  RULE_SAME_MOB8_3_60  FUNDED_AV_60  \\\n",
       "0             -0.124007            -0.142178     -0.798834   \n",
       "1             -0.124007            -0.142178     -0.585539   \n",
       "2             -0.124007            -0.142178     -0.865564   \n",
       "3             -0.124007            -0.142178     -0.956220   \n",
       "4             -0.124007            -0.142178     -1.062752   \n",
       "\n",
       "   RULE_1_TRE3_COUNT_60  RULE_1_TRE5_COUNT_60  \n",
       "0             -0.544446             -0.384259  \n",
       "1             -0.544446             -0.384259  \n",
       "2             -0.544446             -0.384259  \n",
       "3             -0.544446             -0.384259  \n",
       "4             -0.544446             -0.384259  \n",
       "\n",
       "[5 rows x 163 columns]"
      ]
     },
     "execution_count": 95,
     "metadata": {},
     "output_type": "execute_result"
    }
   ],
   "source": [
    "X_2_2.head()"
   ]
  },
  {
   "cell_type": "code",
   "execution_count": 102,
   "metadata": {},
   "outputs": [],
   "source": [
    "train_for = pd.read_csv(PATH + 'train_163_prep.csv')\n",
    "valid_for = pd.read_csv(PATH + 'valid_163_prep.csv')\n",
    "test_for = pd.read_csv(PATH + 'test_163_prep.csv')\n",
    "\n",
    "\n",
    "y_train_163 = train_for[target]\n",
    "y_val_163 = valid_for[target]\n",
    "y_test_163 = test_for[target]\n",
    "\n",
    "train_for.drop('Unnamed: 0', axis = 1, inplace = True)\n",
    "valid_for.drop('Unnamed: 0', axis = 1, inplace = True)\n",
    "test_for.drop('Unnamed: 0', axis = 1, inplace = True)\n",
    "\n",
    "\n",
    "col = train_for.columns.to_list()\n",
    "col.remove(target)\n",
    "\n",
    "\n",
    "X_1_2_163 = train_for[new_order]\n",
    "X_2_2_163 = valid_for[new_order]\n",
    "X_3_2_163 = test_for[new_order]"
   ]
  },
  {
   "cell_type": "code",
   "execution_count": 107,
   "metadata": {},
   "outputs": [
    {
     "data": {
      "text/plain": [
       "((1507599, 163), 1507599, (185400, 163), 185400, (187500, 163), 187500)"
      ]
     },
     "execution_count": 107,
     "metadata": {},
     "output_type": "execute_result"
    }
   ],
   "source": [
    "X_1_2_163.shape, len(y_train_163),  X_2_2_163.shape, len(y_val_163), X_3_2_163.shape, len(y_test_163)"
   ]
  },
  {
   "cell_type": "code",
   "execution_count": 108,
   "metadata": {},
   "outputs": [
    {
     "name": "stdout",
     "output_type": "stream",
     "text": [
      "val =  0.08138178423169082 0.9224049682719846 0.8448099365439692\n"
     ]
    }
   ],
   "source": [
    "predict_class_val  = model_15.predict(X_2_2_163)\n",
    "APS = metrics.average_precision_score(y_val_163, predict_class_val[:,1])\n",
    "AUC = metrics.roc_auc_score(y_val_163, predict_class_val[:,1])\n",
    "GINI = 2*AUC - 1\n",
    "print('val = ', APS, AUC, GINI)"
   ]
  },
  {
   "cell_type": "code",
   "execution_count": 110,
   "metadata": {},
   "outputs": [
    {
     "name": "stdout",
     "output_type": "stream",
     "text": [
      "test =  0.05068273665791778 0.9026076130641253 0.8052152261282506\n"
     ]
    }
   ],
   "source": [
    "predict_class_test = model_15.predict(X_3_2_163)\n",
    "APS = metrics.average_precision_score(y_test_163, predict_class_test[:,1])\n",
    "AUC = metrics.roc_auc_score(y_test_163, predict_class_test[:,1])\n",
    "GINI = 2*AUC - 1\n",
    "print('test = ', APS, AUC, GINI)"
   ]
  },
  {
   "cell_type": "code",
   "execution_count": 112,
   "metadata": {},
   "outputs": [
    {
     "name": "stdout",
     "output_type": "stream",
     "text": [
      "train =  0.26936843885642575 0.9855894969317757 0.9711789938635513\n"
     ]
    }
   ],
   "source": [
    "predict_class_train = model_15.predict(X_1_2_163)\n",
    "APS = metrics.average_precision_score(y_train_163, predict_class_train[:,1])\n",
    "AUC = metrics.roc_auc_score(y_train_163, predict_class_train[:,1])\n",
    "GINI = 2*AUC - 1\n",
    "print('train = ', APS, AUC, GINI)"
   ]
  },
  {
   "cell_type": "code",
   "execution_count": 113,
   "metadata": {},
   "outputs": [
    {
     "data": {
      "text/plain": [
       "(22, 10)"
      ]
     },
     "execution_count": 113,
     "metadata": {},
     "output_type": "execute_result"
    }
   ],
   "source": [
    "res_model_cnn3.shape"
   ]
  },
  {
   "cell_type": "code",
   "execution_count": 120,
   "metadata": {},
   "outputs": [],
   "source": [
    "dd_all = pd.DataFrame()\n",
    "dd_all['Conv'] = None\n",
    "dd_all['Conv_filter'] = None\n",
    "dd_all['Conv_kernel_size'] = None\n",
    "dd_all['Conv_kernel_reg'] = None\n",
    "dd_all['Dense'] = None\n",
    "dd_all['Dense_shape'] = None\n",
    "dd_all['Dropupt'] = None\n",
    "dd_all['Dropupt_rate'] = None\n",
    "dd_all['Opt_name'] = None\n",
    "dd_all['Opt_Rate'] = None"
   ]
  },
  {
   "cell_type": "code",
   "execution_count": 121,
   "metadata": {},
   "outputs": [],
   "source": [
    "j = 0\n",
    "model_X = model_15\n",
    "test = pd.DataFrame.from_dict(model_X.get_config()['layers'])\n",
    "dd_all.at[j, 'Conv' ] = sum(test['class_name']=='Conv1D')\n",
    "dd_all.at[j, 'Conv_kernel_size'] = test[test['class_name'] =='Conv1D']['config'][1]['kernel_size'][0]\n",
    "dd_all.at[j, 'Conv_kernel_reg'] = test[test['class_name'] =='Conv1D']['config'][1]['kernel_regularizer']\n",
    "c = []\n",
    "for i in test[test['class_name'] =='Conv1D'].index:\n",
    "    c.append(test[test['class_name'] =='Conv1D']['config'][i]['filters'])\n",
    "dd_all.at[j, 'Conv_filter' ] = c\n",
    "    \n",
    "dd_all.at[j, 'Dense' ] = sum(test['class_name']=='Dense')\n",
    "\n",
    "k = []\n",
    "for i in test[test['class_name'] =='Dense'].index:\n",
    "    k.append(test[test['class_name'] =='Dense']['config'][i]['units'])\n",
    "        \n",
    "dd_all.at[j, 'Dense_shape' ] = k  \n",
    "dd_all.at[j, 'Dropupt' ] = sum(test['class_name']=='Dropout')\n",
    "    \n",
    "if sum(test['class_name']=='Dropout') > 0:\n",
    "    do = []\n",
    "    for i in test[test['class_name'] =='Dropout'].index:\n",
    "        do.append(test[test['class_name'] =='Dropout']['config'][i]['rate'])\n",
    "        #i = test[test['class_name'] =='Dropout'].index[0]\n",
    "    dd_all.at[j, 'Dropupt_rate' ] = do\n",
    "        \n",
    "dd_all.at[j, 'Opt_name'] = model_X.optimizer.get_config()['name']\n",
    "dd_all.at[j, 'Opt_Rate'] = model_X.optimizer.get_config()['learning_rate']"
   ]
  },
  {
   "cell_type": "code",
   "execution_count": 122,
   "metadata": {},
   "outputs": [
    {
     "data": {
      "text/html": [
       "<div>\n",
       "<style scoped>\n",
       "    .dataframe tbody tr th:only-of-type {\n",
       "        vertical-align: middle;\n",
       "    }\n",
       "\n",
       "    .dataframe tbody tr th {\n",
       "        vertical-align: top;\n",
       "    }\n",
       "\n",
       "    .dataframe thead th {\n",
       "        text-align: right;\n",
       "    }\n",
       "</style>\n",
       "<table border=\"1\" class=\"dataframe\">\n",
       "  <thead>\n",
       "    <tr style=\"text-align: right;\">\n",
       "      <th></th>\n",
       "      <th>Conv</th>\n",
       "      <th>Conv_filter</th>\n",
       "      <th>Conv_kernel_size</th>\n",
       "      <th>Conv_kernel_reg</th>\n",
       "      <th>Dense</th>\n",
       "      <th>Dense_shape</th>\n",
       "      <th>Dropupt</th>\n",
       "      <th>Dropupt_rate</th>\n",
       "      <th>Opt_name</th>\n",
       "      <th>Opt_Rate</th>\n",
       "    </tr>\n",
       "  </thead>\n",
       "  <tbody>\n",
       "    <tr>\n",
       "      <td>0</td>\n",
       "      <td>6</td>\n",
       "      <td>[5, 10, 20, 25, 30, 35]</td>\n",
       "      <td>5</td>\n",
       "      <td>None</td>\n",
       "      <td>3</td>\n",
       "      <td>[64, 64, 2]</td>\n",
       "      <td>4</td>\n",
       "      <td>[0.081, 0.256, 0.25, 0.25]</td>\n",
       "      <td>Adam</td>\n",
       "      <td>0.005</td>\n",
       "    </tr>\n",
       "  </tbody>\n",
       "</table>\n",
       "</div>"
      ],
      "text/plain": [
       "  Conv              Conv_filter Conv_kernel_size Conv_kernel_reg Dense  \\\n",
       "0    6  [5, 10, 20, 25, 30, 35]                5            None     3   \n",
       "\n",
       "   Dense_shape Dropupt                Dropupt_rate Opt_name Opt_Rate  \n",
       "0  [64, 64, 2]       4  [0.081, 0.256, 0.25, 0.25]     Adam    0.005  "
      ]
     },
     "execution_count": 122,
     "metadata": {},
     "output_type": "execute_result"
    }
   ],
   "source": [
    "dd_all"
   ]
  },
  {
   "cell_type": "code",
   "execution_count": 491,
   "metadata": {},
   "outputs": [],
   "source": [
    "res_model_fin_15 = pd.DataFrame(history_XX.history, columns = history_XX.history.keys())\n",
    "model_15.save('spider_NN_six_0924_drop.h5')\n",
    "res_model_fin_15.to_csv('spider_NN_six_0924_drop.csv')"
   ]
  },
  {
   "cell_type": "code",
   "execution_count": 494,
   "metadata": {},
   "outputs": [
    {
     "name": "stdout",
     "output_type": "stream",
     "text": [
      "Model: \"model_27\"\n",
      "__________________________________________________________________________________________________\n",
      "Layer (type)                    Output Shape         Param #     Connected to                     \n",
      "==================================================================================================\n",
      "input_11 (InputLayer)           [(None, 163, 1)]     0                                            \n",
      "__________________________________________________________________________________________________\n",
      "conv1d_60 (Conv1D)              (None, 163, 5)       30          input_11[0][0]                   \n",
      "__________________________________________________________________________________________________\n",
      "batch_normalization_60 (BatchNo (None, 163, 5)       20          conv1d_60[0][0]                  \n",
      "__________________________________________________________________________________________________\n",
      "re_lu_60 (ReLU)                 (None, 163, 5)       0           batch_normalization_60[0][0]     \n",
      "__________________________________________________________________________________________________\n",
      "max_pooling1d_150 (MaxPooling1D (None, 81, 5)        0           re_lu_60[0][0]                   \n",
      "__________________________________________________________________________________________________\n",
      "conv1d_61 (Conv1D)              (None, 81, 10)       260         max_pooling1d_150[0][0]          \n",
      "__________________________________________________________________________________________________\n",
      "batch_normalization_61 (BatchNo (None, 81, 10)       40          conv1d_61[0][0]                  \n",
      "__________________________________________________________________________________________________\n",
      "re_lu_61 (ReLU)                 (None, 81, 10)       0           batch_normalization_61[0][0]     \n",
      "__________________________________________________________________________________________________\n",
      "max_pooling1d_155 (MaxPooling1D (None, 40, 10)       0           re_lu_61[0][0]                   \n",
      "__________________________________________________________________________________________________\n",
      "max_pooling1d_151 (MaxPooling1D (None, 40, 5)        0           max_pooling1d_150[0][0]          \n",
      "__________________________________________________________________________________________________\n",
      "concatenate_40 (Concatenate)    (None, 40, 15)       0           max_pooling1d_151[0][0]          \n",
      "                                                                 max_pooling1d_155[0][0]          \n",
      "__________________________________________________________________________________________________\n",
      "conv1d_62 (Conv1D)              (None, 40, 20)       1520        concatenate_40[0][0]             \n",
      "__________________________________________________________________________________________________\n",
      "batch_normalization_62 (BatchNo (None, 40, 20)       80          conv1d_62[0][0]                  \n",
      "__________________________________________________________________________________________________\n",
      "re_lu_62 (ReLU)                 (None, 40, 20)       0           batch_normalization_62[0][0]     \n",
      "__________________________________________________________________________________________________\n",
      "max_pooling1d_156 (MaxPooling1D (None, 20, 10)       0           max_pooling1d_155[0][0]          \n",
      "__________________________________________________________________________________________________\n",
      "max_pooling1d_152 (MaxPooling1D (None, 20, 5)        0           max_pooling1d_151[0][0]          \n",
      "__________________________________________________________________________________________________\n",
      "max_pooling1d_159 (MaxPooling1D (None, 20, 20)       0           re_lu_62[0][0]                   \n",
      "__________________________________________________________________________________________________\n",
      "concatenate_41 (Concatenate)    (None, 20, 35)       0           max_pooling1d_156[0][0]          \n",
      "                                                                 max_pooling1d_152[0][0]          \n",
      "                                                                 max_pooling1d_159[0][0]          \n",
      "__________________________________________________________________________________________________\n",
      "dropout_12 (Dropout)            (None, 20, 35)       0           concatenate_41[0][0]             \n",
      "__________________________________________________________________________________________________\n",
      "conv1d_63 (Conv1D)              (None, 20, 25)       4400        dropout_12[0][0]                 \n",
      "__________________________________________________________________________________________________\n",
      "batch_normalization_63 (BatchNo (None, 20, 25)       100         conv1d_63[0][0]                  \n",
      "__________________________________________________________________________________________________\n",
      "re_lu_63 (ReLU)                 (None, 20, 25)       0           batch_normalization_63[0][0]     \n",
      "__________________________________________________________________________________________________\n",
      "max_pooling1d_162 (MaxPooling1D (None, 10, 25)       0           re_lu_63[0][0]                   \n",
      "__________________________________________________________________________________________________\n",
      "max_pooling1d_160 (MaxPooling1D (None, 10, 20)       0           max_pooling1d_159[0][0]          \n",
      "__________________________________________________________________________________________________\n",
      "max_pooling1d_157 (MaxPooling1D (None, 10, 10)       0           max_pooling1d_156[0][0]          \n",
      "__________________________________________________________________________________________________\n",
      "max_pooling1d_153 (MaxPooling1D (None, 10, 5)        0           max_pooling1d_152[0][0]          \n",
      "__________________________________________________________________________________________________\n",
      "concatenate_42 (Concatenate)    (None, 10, 60)       0           max_pooling1d_160[0][0]          \n",
      "                                                                 max_pooling1d_157[0][0]          \n",
      "                                                                 max_pooling1d_153[0][0]          \n",
      "                                                                 max_pooling1d_162[0][0]          \n",
      "__________________________________________________________________________________________________\n",
      "conv1d_64 (Conv1D)              (None, 10, 30)       9030        concatenate_42[0][0]             \n",
      "__________________________________________________________________________________________________\n",
      "batch_normalization_64 (BatchNo (None, 10, 30)       120         conv1d_64[0][0]                  \n",
      "__________________________________________________________________________________________________\n",
      "re_lu_64 (ReLU)                 (None, 10, 30)       0           batch_normalization_64[0][0]     \n",
      "__________________________________________________________________________________________________\n",
      "max_pooling1d_163 (MaxPooling1D (None, 5, 25)        0           max_pooling1d_162[0][0]          \n",
      "__________________________________________________________________________________________________\n",
      "max_pooling1d_161 (MaxPooling1D (None, 5, 20)        0           max_pooling1d_160[0][0]          \n",
      "__________________________________________________________________________________________________\n",
      "max_pooling1d_158 (MaxPooling1D (None, 5, 10)        0           max_pooling1d_157[0][0]          \n",
      "__________________________________________________________________________________________________\n",
      "max_pooling1d_154 (MaxPooling1D (None, 5, 5)         0           max_pooling1d_153[0][0]          \n",
      "__________________________________________________________________________________________________\n",
      "max_pooling1d_164 (MaxPooling1D (None, 5, 30)        0           re_lu_64[0][0]                   \n",
      "__________________________________________________________________________________________________\n",
      "concatenate_43 (Concatenate)    (None, 5, 90)        0           max_pooling1d_163[0][0]          \n",
      "                                                                 max_pooling1d_161[0][0]          \n",
      "                                                                 max_pooling1d_158[0][0]          \n",
      "                                                                 max_pooling1d_154[0][0]          \n",
      "                                                                 max_pooling1d_164[0][0]          \n",
      "__________________________________________________________________________________________________\n",
      "dropout_13 (Dropout)            (None, 5, 90)        0           concatenate_43[0][0]             \n",
      "__________________________________________________________________________________________________\n",
      "conv1d_65 (Conv1D)              (None, 5, 35)        15785       dropout_13[0][0]                 \n",
      "__________________________________________________________________________________________________\n",
      "batch_normalization_65 (BatchNo (None, 5, 35)        140         conv1d_65[0][0]                  \n",
      "__________________________________________________________________________________________________\n",
      "re_lu_65 (ReLU)                 (None, 5, 35)        0           batch_normalization_65[0][0]     \n",
      "__________________________________________________________________________________________________\n",
      "global_average_pooling1d_10 (Gl (None, 35)           0           re_lu_65[0][0]                   \n",
      "__________________________________________________________________________________________________\n",
      "dense_22 (Dense)                (None, 64)           2304        global_average_pooling1d_10[0][0]\n",
      "__________________________________________________________________________________________________\n",
      "dropout_14 (Dropout)            (None, 64)           0           dense_22[0][0]                   \n",
      "__________________________________________________________________________________________________\n",
      "dense_23 (Dense)                (None, 64)           4160        dropout_14[0][0]                 \n",
      "__________________________________________________________________________________________________\n",
      "dropout_15 (Dropout)            (None, 64)           0           dense_23[0][0]                   \n",
      "__________________________________________________________________________________________________\n",
      "dense_24 (Dense)                (None, 2)            130         dropout_15[0][0]                 \n",
      "==================================================================================================\n",
      "Total params: 38,119\n",
      "Trainable params: 37,869\n",
      "Non-trainable params: 250\n",
      "__________________________________________________________________________________________________\n"
     ]
    }
   ],
   "source": [
    " model_15.summary()"
   ]
  },
  {
   "cell_type": "code",
   "execution_count": 492,
   "metadata": {},
   "outputs": [
    {
     "data": {
      "text/plain": [
       "(0.0723886687017554, 0.9360746793382695, 0.872149358676539)"
      ]
     },
     "execution_count": 492,
     "metadata": {},
     "output_type": "execute_result"
    }
   ],
   "source": [
    "#model_X = load_model('spider_NN_six_0907.h5')\n",
    "predict_class_val = model_15.predict(X_2_2)\n",
    "APS = metrics.average_precision_score(y_test, predict_class_val[:,1])\n",
    "AUC = metrics.roc_auc_score(y_test, predict_class_val[:,1])\n",
    "GINI = 2*AUC - 1\n",
    "APS, AUC, GINI"
   ]
  },
  {
   "cell_type": "code",
   "execution_count": 493,
   "metadata": {},
   "outputs": [
    {
     "data": {
      "text/plain": [
       "(0.07965363365340526, 0.9299535872759723, 0.8599071745519447)"
      ]
     },
     "execution_count": 493,
     "metadata": {},
     "output_type": "execute_result"
    }
   ],
   "source": [
    "predict_class_val = model_15.predict(X_3_2)\n",
    "APS = metrics.average_precision_score(y_val, predict_class_val[:,1])\n",
    "AUC = metrics.roc_auc_score(y_val, predict_class_val[:,1])\n",
    "GINI = 2*AUC - 1\n",
    "APS, AUC, GINI"
   ]
  },
  {
   "cell_type": "code",
   "execution_count": 458,
   "metadata": {},
   "outputs": [
    {
     "data": {
      "text/plain": [
       "<Figure size 432x288 with 0 Axes>"
      ]
     },
     "metadata": {},
     "output_type": "display_data"
    },
    {
     "data": {
      "image/png": "[encoded data removed]",
      "text/plain": [
       "<Figure size 720x720 with 1 Axes>"
      ]
     },
     "metadata": {
      "needs_background": "light"
     },
     "output_type": "display_data"
    }
   ],
   "source": [
    "import matplotlib.pyplot as plt\n",
    "plt.figure()\n",
    "lw = 2\n",
    "\n",
    "\n",
    "plt.figure(figsize = (10, 10))\n",
    "plt.plot(res_model_fin_15.index, res_model_fin_15['loss'], color='darkorange',\n",
    "         lw=lw, label='Loss train')\n",
    "plt.plot(res_model_fin_15.index, res_model_fin_15['val_loss'], color='green',\n",
    "         lw=lw, label='Loss valid')\n",
    "\n",
    "\n",
    "#plt.ylim(0, 1)\n",
    "plt.ylabel('LOSS')\n",
    "plt.legend(loc=\"best\", fontsize = 20)\n",
    "plt.show()"
   ]
  },
  {
   "cell_type": "code",
   "execution_count": 423,
   "metadata": {},
   "outputs": [
    {
     "data": {
      "text/plain": [
       "<Figure size 432x288 with 0 Axes>"
      ]
     },
     "metadata": {},
     "output_type": "display_data"
    },
    {
     "data": {
      "image/png": "[encoded data removed]",
      "text/plain": [
       "<Figure size 720x720 with 1 Axes>"
      ]
     },
     "metadata": {
      "needs_background": "light"
     },
     "output_type": "display_data"
    }
   ],
   "source": [
    "import matplotlib.pyplot as plt\n",
    "plt.figure()\n",
    "lw = 2\n",
    "\n",
    "\n",
    "plt.figure(figsize = (10, 10))\n",
    "plt.plot(res_model_6.index, res_model_6['loss'], color='darkorange',\n",
    "         lw=lw, label='Loss train')\n",
    "plt.plot(res_model_6.index, res_model_6['val_loss'], color='green',\n",
    "         lw=lw, label='Loss valid')\n",
    "\n",
    "\n",
    "\n",
    "plt.ylabel('LOSS')\n",
    "plt.legend(loc=\"best\", fontsize = 20)\n",
    "plt.show()"
   ]
  },
  {
   "cell_type": "code",
   "execution_count": 420,
   "metadata": {},
   "outputs": [
    {
     "data": {
      "text/plain": [
       "<Figure size 432x288 with 0 Axes>"
      ]
     },
     "metadata": {},
     "output_type": "display_data"
    },
    {
     "data": {
      "image/png": "[encoded data removed]",
      "text/plain": [
       "<Figure size 720x720 with 1 Axes>"
      ]
     },
     "metadata": {
      "needs_background": "light"
     },
     "output_type": "display_data"
    }
   ],
   "source": [
    "import matplotlib.pyplot as plt\n",
    "plt.figure()\n",
    "lw = 2\n",
    "\n",
    "\n",
    "plt.figure(figsize = (10, 10))\n",
    "plt.plot(res_model_9.index, res_model_9['auc_8'], color='darkorange',\n",
    "         lw=lw, label='AUC train')\n",
    "plt.plot(res_model_9.index, res_model_9['val_auc_8'], color='green',\n",
    "         lw=lw, label='AUC valid')\n",
    "\n",
    "\n",
    "\n",
    "plt.ylabel('AUC')\n",
    "plt.legend(loc=\"best\", fontsize = 20)\n",
    "plt.show()"
   ]
  },
  {
   "cell_type": "code",
   "execution_count": 62,
   "metadata": {},
   "outputs": [
    {
     "name": "stdout",
     "output_type": "stream",
     "text": [
      "train_begin | time:  01.09.2020 13:42:15\n",
      "Epoch 1/100\n",
      "epoch_end | time:  01.09.2020 13:49:10\n",
      "5655/5655 - 412s - loss: 0.0014 - accuracy: 0.8118 - auc: 0.8808 - precision: 0.8118 - recall: 0.8118 - val_loss: 0.5702 - val_accuracy: 0.7160 - val_auc: 0.8067 - val_precision: 0.7160 - val_recall: 0.7160\n",
      "Epoch 2/100\n",
      "epoch_end | time:  01.09.2020 13:55:07\n",
      "5655/5655 - 357s - loss: 9.9712e-04 - accuracy: 0.8543 - auc: 0.9358 - precision: 0.8543 - recall: 0.8543 - val_loss: 0.1418 - val_accuracy: 0.9448 - val_auc: 0.9891 - val_precision: 0.9448 - val_recall: 0.9448\n",
      "Epoch 3/100\n",
      "epoch_end | time:  01.09.2020 14:01:56\n",
      "5655/5655 - 409s - loss: 8.8400e-04 - accuracy: 0.8688 - auc: 0.9488 - precision: 0.8688 - recall: 0.8688 - val_loss: 0.3639 - val_accuracy: 0.8405 - val_auc: 0.9271 - val_precision: 0.8405 - val_recall: 0.8405\n",
      "Epoch 4/100\n",
      "epoch_end | time:  01.09.2020 14:08:02\n",
      "5655/5655 - 366s - loss: 8.0387e-04 - accuracy: 0.8805 - auc: 0.9572 - precision: 0.8805 - recall: 0.8805 - val_loss: 0.3450 - val_accuracy: 0.8446 - val_auc: 0.9321 - val_precision: 0.8446 - val_recall: 0.8446\n",
      "Epoch 5/100\n",
      "epoch_end | time:  01.09.2020 14:13:55\n",
      "5655/5655 - 353s - loss: 7.5241e-04 - accuracy: 0.8869 - auc: 0.9619 - precision: 0.8869 - recall: 0.8869 - val_loss: 0.2598 - val_accuracy: 0.8904 - val_auc: 0.9627 - val_precision: 0.8904 - val_recall: 0.8904\n",
      "Epoch 6/100\n",
      "epoch_end | time:  01.09.2020 14:19:52\n",
      "5655/5655 - 356s - loss: 6.8874e-04 - accuracy: 0.8964 - auc: 0.9679 - precision: 0.8964 - recall: 0.8964 - val_loss: 0.5534 - val_accuracy: 0.7616 - val_auc: 0.8504 - val_precision: 0.7616 - val_recall: 0.7616\n",
      "Epoch 7/100\n",
      "epoch_end | time:  01.09.2020 14:25:51\n",
      "5655/5655 - 360s - loss: 6.3661e-04 - accuracy: 0.9029 - auc: 0.9720 - precision: 0.9029 - recall: 0.9029 - val_loss: 0.1080 - val_accuracy: 0.9532 - val_auc: 0.9930 - val_precision: 0.9532 - val_recall: 0.9532\n",
      "Epoch 8/100\n",
      "epoch_end | time:  01.09.2020 14:31:46\n",
      "5655/5655 - 354s - loss: 5.8754e-04 - accuracy: 0.9092 - auc: 0.9757 - precision: 0.9092 - recall: 0.9092 - val_loss: 0.1868 - val_accuracy: 0.9235 - val_auc: 0.9815 - val_precision: 0.9235 - val_recall: 0.9235\n",
      "Epoch 9/100\n",
      "epoch_end | time:  01.09.2020 14:37:35\n",
      "5655/5655 - 350s - loss: 5.3921e-04 - accuracy: 0.9162 - auc: 0.9793 - precision: 0.9162 - recall: 0.9162 - val_loss: 0.1634 - val_accuracy: 0.9298 - val_auc: 0.9856 - val_precision: 0.9298 - val_recall: 0.9298\n",
      "Epoch 10/100\n",
      "epoch_end | time:  01.09.2020 14:43:33\n",
      "5655/5655 - 358s - loss: 5.1072e-04 - accuracy: 0.9204 - auc: 0.9813 - precision: 0.9204 - recall: 0.9204 - val_loss: 0.0883 - val_accuracy: 0.9635 - val_auc: 0.9954 - val_precision: 0.9635 - val_recall: 0.9635\n",
      "Epoch 11/100\n",
      "epoch_end | time:  01.09.2020 14:50:22\n",
      "5655/5655 - 409s - loss: 4.7068e-04 - accuracy: 0.9266 - auc: 0.9840 - precision: 0.9266 - recall: 0.9266 - val_loss: 0.1533 - val_accuracy: 0.9399 - val_auc: 0.9882 - val_precision: 0.9399 - val_recall: 0.9399\n",
      "Epoch 12/100\n",
      "epoch_end | time:  01.09.2020 14:58:04\n",
      "5655/5655 - 462s - loss: 4.4905e-04 - accuracy: 0.9293 - auc: 0.9852 - precision: 0.9293 - recall: 0.9293 - val_loss: 0.1510 - val_accuracy: 0.9399 - val_auc: 0.9889 - val_precision: 0.9399 - val_recall: 0.9399\n",
      "Epoch 13/100\n",
      "epoch_end | time:  01.09.2020 15:05:52\n",
      "5655/5655 - 468s - loss: 4.4470e-04 - accuracy: 0.9322 - auc: 0.9860 - precision: 0.9322 - recall: 0.9322 - val_loss: 0.5007 - val_accuracy: 0.8202 - val_auc: 0.9149 - val_precision: 0.8202 - val_recall: 0.8202\n",
      "Epoch 14/100\n",
      "epoch_end | time:  01.09.2020 15:12:56\n",
      "5655/5655 - 424s - loss: 4.2141e-04 - accuracy: 0.9340 - auc: 0.9867 - precision: 0.9340 - recall: 0.9340 - val_loss: 0.1266 - val_accuracy: 0.9481 - val_auc: 0.9917 - val_precision: 0.9481 - val_recall: 0.9481\n",
      "Epoch 15/100\n",
      "epoch_end | time:  01.09.2020 15:20:08\n",
      "5655/5655 - 432s - loss: 3.9991e-04 - accuracy: 0.9379 - auc: 0.9880 - precision: 0.9379 - recall: 0.9379 - val_loss: 0.4288 - val_accuracy: 0.8482 - val_auc: 0.9365 - val_precision: 0.8482 - val_recall: 0.8482\n",
      "Epoch 16/100\n",
      "epoch_end | time:  01.09.2020 15:27:49\n",
      "5655/5655 - 461s - loss: 3.7666e-04 - accuracy: 0.9418 - auc: 0.9891 - precision: 0.9418 - recall: 0.9418 - val_loss: 0.1625 - val_accuracy: 0.9367 - val_auc: 0.9871 - val_precision: 0.9367 - val_recall: 0.9367\n",
      "Epoch 17/100\n",
      "epoch_end | time:  01.09.2020 15:35:45\n",
      "5655/5655 - 476s - loss: 3.8197e-04 - accuracy: 0.9427 - auc: 0.9894 - precision: 0.9427 - recall: 0.9427 - val_loss: 0.2046 - val_accuracy: 0.9195 - val_auc: 0.9804 - val_precision: 0.9195 - val_recall: 0.9195\n",
      "Epoch 18/100\n",
      "epoch_end | time:  01.09.2020 15:44:48\n",
      "5655/5655 - 543s - loss: 3.5605e-04 - accuracy: 0.9452 - auc: 0.9903 - precision: 0.9452 - recall: 0.9452 - val_loss: 0.1831 - val_accuracy: 0.9317 - val_auc: 0.9847 - val_precision: 0.9317 - val_recall: 0.9317\n",
      "Epoch 19/100\n",
      "epoch_end | time:  01.09.2020 15:53:12\n",
      "5655/5655 - 504s - loss: 3.3866e-04 - accuracy: 0.9487 - auc: 0.9909 - precision: 0.9487 - recall: 0.9487 - val_loss: 0.2221 - val_accuracy: 0.9159 - val_auc: 0.9789 - val_precision: 0.9159 - val_recall: 0.9159\n",
      "Epoch 20/100\n",
      "epoch_end | time:  01.09.2020 16:02:34\n",
      "5655/5655 - 562s - loss: 3.3161e-04 - accuracy: 0.9498 - auc: 0.9913 - precision: 0.9498 - recall: 0.9498 - val_loss: 0.2074 - val_accuracy: 0.9258 - val_auc: 0.9811 - val_precision: 0.9258 - val_recall: 0.9258\n"
     ]
    }
   ],
   "source": [
    "with tf.device('/device:GPU:2'):\n",
    "    history_X = model.fit(X_1_2, Y_train_2,\n",
    "                                        batch_size=BATCH_SIZE,\n",
    "                                        epochs=NB_EPOCH,\n",
    "                                        verbose=VERBOSE,\n",
    "                                        #validation_split=VALIDATION_SPLIT,\n",
    "                          validation_data = (X_2_2, Y_test_2), \n",
    "                                        class_weight=class_weighting,\n",
    "                                        callbacks=[_time, EarlyStopping(monitor='val_loss', patience=40)])"
   ]
  },
  {
   "cell_type": "code",
   "execution_count": 65,
   "metadata": {},
   "outputs": [],
   "source": [
    "#res_model = pd.DataFrame(history_X.history, columns = history_X.history.keys())\n",
    "res_model_2 = pd.DataFrame(history_X.history, columns = history_X.history.keys())"
   ]
  },
  {
   "cell_type": "code",
   "execution_count": 66,
   "metadata": {},
   "outputs": [],
   "source": [
    "model.save('spider_NN_six.h5')"
   ]
  },
  {
   "cell_type": "code",
   "execution_count": 71,
   "metadata": {},
   "outputs": [
    {
     "data": {
      "text/plain": [
       "0.8102689637219846"
      ]
     },
     "execution_count": 71,
     "metadata": {},
     "output_type": "execute_result"
    }
   ],
   "source": [
    "AUC*2-1"
   ]
  },
  {
   "cell_type": "code",
   "execution_count": 633,
   "metadata": {},
   "outputs": [
    {
     "data": {
      "text/plain": [
       "0.98977"
      ]
     },
     "execution_count": 633,
     "metadata": {},
     "output_type": "execute_result"
    }
   ],
   "source": [
    "2*0.994885 - 1"
   ]
  },
  {
   "cell_type": "code",
   "execution_count": 67,
   "metadata": {},
   "outputs": [
    {
     "data": {
      "text/html": [
       "<div>\n",
       "<style scoped>\n",
       "    .dataframe tbody tr th:only-of-type {\n",
       "        vertical-align: middle;\n",
       "    }\n",
       "\n",
       "    .dataframe tbody tr th {\n",
       "        vertical-align: top;\n",
       "    }\n",
       "\n",
       "    .dataframe thead th {\n",
       "        text-align: right;\n",
       "    }\n",
       "</style>\n",
       "<table border=\"1\" class=\"dataframe\">\n",
       "  <thead>\n",
       "    <tr style=\"text-align: right;\">\n",
       "      <th></th>\n",
       "      <th>loss</th>\n",
       "      <th>accuracy</th>\n",
       "      <th>auc</th>\n",
       "      <th>precision</th>\n",
       "      <th>recall</th>\n",
       "      <th>val_loss</th>\n",
       "      <th>val_accuracy</th>\n",
       "      <th>val_auc</th>\n",
       "      <th>val_precision</th>\n",
       "      <th>val_recall</th>\n",
       "    </tr>\n",
       "  </thead>\n",
       "  <tbody>\n",
       "    <tr>\n",
       "      <td>0</td>\n",
       "      <td>0.001382</td>\n",
       "      <td>0.811846</td>\n",
       "      <td>0.880822</td>\n",
       "      <td>0.811846</td>\n",
       "      <td>0.811846</td>\n",
       "      <td>0.570157</td>\n",
       "      <td>0.715968</td>\n",
       "      <td>0.806669</td>\n",
       "      <td>0.715968</td>\n",
       "      <td>0.715968</td>\n",
       "    </tr>\n",
       "    <tr>\n",
       "      <td>1</td>\n",
       "      <td>0.000997</td>\n",
       "      <td>0.854292</td>\n",
       "      <td>0.935795</td>\n",
       "      <td>0.854292</td>\n",
       "      <td>0.854292</td>\n",
       "      <td>0.141777</td>\n",
       "      <td>0.944839</td>\n",
       "      <td>0.989076</td>\n",
       "      <td>0.944839</td>\n",
       "      <td>0.944839</td>\n",
       "    </tr>\n",
       "    <tr>\n",
       "      <td>2</td>\n",
       "      <td>0.000884</td>\n",
       "      <td>0.868828</td>\n",
       "      <td>0.948778</td>\n",
       "      <td>0.868828</td>\n",
       "      <td>0.868828</td>\n",
       "      <td>0.363947</td>\n",
       "      <td>0.840457</td>\n",
       "      <td>0.927111</td>\n",
       "      <td>0.840457</td>\n",
       "      <td>0.840457</td>\n",
       "    </tr>\n",
       "    <tr>\n",
       "      <td>3</td>\n",
       "      <td>0.000804</td>\n",
       "      <td>0.880527</td>\n",
       "      <td>0.957214</td>\n",
       "      <td>0.880527</td>\n",
       "      <td>0.880527</td>\n",
       "      <td>0.345042</td>\n",
       "      <td>0.844621</td>\n",
       "      <td>0.932069</td>\n",
       "      <td>0.844621</td>\n",
       "      <td>0.844621</td>\n",
       "    </tr>\n",
       "    <tr>\n",
       "      <td>4</td>\n",
       "      <td>0.000752</td>\n",
       "      <td>0.886883</td>\n",
       "      <td>0.961919</td>\n",
       "      <td>0.886883</td>\n",
       "      <td>0.886883</td>\n",
       "      <td>0.259769</td>\n",
       "      <td>0.890376</td>\n",
       "      <td>0.962675</td>\n",
       "      <td>0.890376</td>\n",
       "      <td>0.890376</td>\n",
       "    </tr>\n",
       "  </tbody>\n",
       "</table>\n",
       "</div>"
      ],
      "text/plain": [
       "       loss  accuracy       auc  precision    recall  val_loss  val_accuracy  \\\n",
       "0  0.001382  0.811846  0.880822   0.811846  0.811846  0.570157      0.715968   \n",
       "1  0.000997  0.854292  0.935795   0.854292  0.854292  0.141777      0.944839   \n",
       "2  0.000884  0.868828  0.948778   0.868828  0.868828  0.363947      0.840457   \n",
       "3  0.000804  0.880527  0.957214   0.880527  0.880527  0.345042      0.844621   \n",
       "4  0.000752  0.886883  0.961919   0.886883  0.886883  0.259769      0.890376   \n",
       "\n",
       "    val_auc  val_precision  val_recall  \n",
       "0  0.806669       0.715968    0.715968  \n",
       "1  0.989076       0.944839    0.944839  \n",
       "2  0.927111       0.840457    0.840457  \n",
       "3  0.932069       0.844621    0.844621  \n",
       "4  0.962675       0.890376    0.890376  "
      ]
     },
     "execution_count": 67,
     "metadata": {},
     "output_type": "execute_result"
    }
   ],
   "source": [
    "res_model_2.head()"
   ]
  },
  {
   "cell_type": "code",
   "execution_count": 69,
   "metadata": {},
   "outputs": [
    {
     "data": {
      "text/plain": [
       "<Figure size 432x288 with 0 Axes>"
      ]
     },
     "metadata": {},
     "output_type": "display_data"
    },
    {
     "data": {
      "image/png": "[encoded data removed]",
      "text/plain": [
       "<Figure size 720x720 with 1 Axes>"
      ]
     },
     "metadata": {
      "needs_background": "light"
     },
     "output_type": "display_data"
    }
   ],
   "source": [
    "import matplotlib.pyplot as plt\n",
    "plt.figure()\n",
    "lw = 2\n",
    "\n",
    "\n",
    "plt.figure(figsize = (10, 10))\n",
    "plt.plot(res_model_2.index, res_model_2['auc'], color='darkorange',\n",
    "         lw=lw, label='TRAIN')\n",
    "plt.plot(res_model_2.index, res_model_2['val_auc'], color='green',\n",
    "         lw=lw, label='valid')\n",
    "\n",
    "\n",
    "\n",
    "plt.ylabel('AUC ')\n",
    "plt.legend(loc=\"lower left\")\n",
    "plt.show()"
   ]
  },
  {
   "cell_type": "code",
   "execution_count": 70,
   "metadata": {},
   "outputs": [
    {
     "data": {
      "text/plain": [
       "<Figure size 432x288 with 0 Axes>"
      ]
     },
     "metadata": {},
     "output_type": "display_data"
    },
    {
     "data": {
      "image/png": "[encoded data removed]",
      "text/plain": [
       "<Figure size 720x720 with 1 Axes>"
      ]
     },
     "metadata": {
      "needs_background": "light"
     },
     "output_type": "display_data"
    }
   ],
   "source": [
    "import matplotlib.pyplot as plt\n",
    "plt.figure()\n",
    "lw = 2\n",
    "\n",
    "\n",
    "plt.figure(figsize = (10, 10))\n",
    "plt.plot(res_model_2.index, res_model_2['loss'], color='darkorange',\n",
    "         lw=lw, label='TRAIN')\n",
    "plt.plot(res_model_2.index, res_model_2['val_loss'], color='green',\n",
    "         lw=lw, label='valid')\n",
    "\n",
    "\n",
    "\n",
    "plt.ylabel('LOSS')\n",
    "plt.legend(loc=\"lower left\")\n",
    "plt.show()"
   ]
  },
  {
   "cell_type": "code",
   "execution_count": 80,
   "metadata": {},
   "outputs": [
    {
     "data": {
      "text/plain": [
       "354592.0"
      ]
     },
     "execution_count": 80,
     "metadata": {},
     "output_type": "execute_result"
    }
   ],
   "source": [
    "sum(Y_test_2[:,0])"
   ]
  },
  {
   "cell_type": "code",
   "execution_count": 81,
   "metadata": {},
   "outputs": [
    {
     "data": {
      "text/plain": [
       "604.0"
      ]
     },
     "execution_count": 81,
     "metadata": {},
     "output_type": "execute_result"
    }
   ],
   "source": [
    "sum(Y_test_2[:,1])"
   ]
  },
  {
   "cell_type": "code",
   "execution_count": 83,
   "metadata": {},
   "outputs": [],
   "source": [
    "predict_class_train = model.predict(X_1_2)"
   ]
  },
  {
   "cell_type": "code",
   "execution_count": 84,
   "metadata": {},
   "outputs": [
    {
     "data": {
      "text/plain": [
       "array([[9.9996161e-01, 3.8382463e-05],\n",
       "       [1.0000000e+00, 4.4071404e-09],\n",
       "       [9.9999869e-01, 1.3394175e-06],\n",
       "       ...,\n",
       "       [9.9999809e-01, 1.9658321e-06],\n",
       "       [3.5410479e-02, 9.6458954e-01],\n",
       "       [9.9999344e-01, 6.6111629e-06]], dtype=float32)"
      ]
     },
     "execution_count": 84,
     "metadata": {},
     "output_type": "execute_result"
    }
   ],
   "source": [
    "predict_class_train"
   ]
  },
  {
   "cell_type": "code",
   "execution_count": 87,
   "metadata": {},
   "outputs": [],
   "source": [
    "APS = metrics.average_precision_score(y_train, predict_class_train[:,1])\n",
    "AUC = metrics.roc_auc_score(y_train, predict_class_train[:,1])"
   ]
  },
  {
   "cell_type": "code",
   "execution_count": 88,
   "metadata": {},
   "outputs": [
    {
     "data": {
      "text/plain": [
       "(0.15623161804592345, 0.9921058914628333)"
      ]
     },
     "execution_count": 88,
     "metadata": {},
     "output_type": "execute_result"
    }
   ],
   "source": [
    "APS, AUC"
   ]
  },
  {
   "cell_type": "code",
   "execution_count": 89,
   "metadata": {},
   "outputs": [],
   "source": [
    "predict_class_val = model.predict(X_2_2)\n",
    "APS = metrics.average_precision_score(y_test, predict_class_val[:,1])\n",
    "AUC = metrics.roc_auc_score(y_test, predict_class_val[:,1])\n",
    "APS, AUC"
   ]
  },
  {
   "cell_type": "code",
   "execution_count": 90,
   "metadata": {},
   "outputs": [
    {
     "data": {
      "text/plain": [
       "(0.03934633938332663, 0.9263021639533036)"
      ]
     },
     "execution_count": 90,
     "metadata": {},
     "output_type": "execute_result"
    }
   ],
   "source": [
    "APS, AUC"
   ]
  },
  {
   "cell_type": "code",
   "execution_count": 91,
   "metadata": {},
   "outputs": [
    {
     "data": {
      "text/plain": [
       "0.8526043279066071"
      ]
     },
     "execution_count": 91,
     "metadata": {},
     "output_type": "execute_result"
    }
   ],
   "source": [
    "2*AUC-1"
   ]
  },
  {
   "cell_type": "code",
   "execution_count": 397,
   "metadata": {},
   "outputs": [],
   "source": [
    "def s_l( pool_size, stride):\n",
    "    \"\"\" \n",
    "    A single convolutional \"layer\" as defined by Huang et al. Defined as H_l in the original paper\n",
    "    \n",
    "    :param k: кол-во фильтров в свертке\n",
    "    :param kernel_width: размер свертки\n",
    "    :param pool_size: размер пулинга\n",
    "    \"\"\"\n",
    "\n",
    "    def f(x): \n",
    "        x = MaxPooling1D(\n",
    "            pool_size=pool_size,\n",
    "            strides=stride,\n",
    "            padding=\"same\")(x)\n",
    "\n",
    "        return x\n",
    "    return f\n",
    "\n",
    "\n",
    "def pool_block(k, num_layers, kernel_width, pool_size, stride):\n",
    "    \"\"\"\n",
    "    :param num_layers: кол-во слоев пулинга\n",
    "    :param kernel_width: размер ядра свертки\n",
    "    \n",
    "    :param k: кол-во фильтров в свертке\n",
    "    :param kernel_width: размер свертки\n",
    "    \"\"\"\n",
    "    def f(x):\n",
    "        x = Conv1D(\n",
    "            k,\n",
    "            kernel_width,\n",
    "            strides=1,\n",
    "            padding=\"same\",\n",
    "            dilation_rate=1)(x)\n",
    "        x = BatchNormalization()(x)\n",
    "        x = Activation(\"relu\")(x)\n",
    "        layers_to_concat = [x]\n",
    "        for _ in range(num_layers):\n",
    "            x = s_l(pool_size, stride)(x)\n",
    "            layers_to_concat.append(x)\n",
    "            x = Concatenate(axis=-1)(layers_to_concat)\n",
    "        return x\n",
    "    return f\n"
   ]
  },
  {
   "cell_type": "code",
   "execution_count": 398,
   "metadata": {},
   "outputs": [],
   "source": [
    "k = pool_block(3, 5, 3, 2, 1)"
   ]
  },
  {
   "cell_type": "code",
   "execution_count": 395,
   "metadata": {},
   "outputs": [
    {
     "data": {
      "text/plain": [
       "<function __main__.pool_block.<locals>.f(x)>"
      ]
     },
     "execution_count": 395,
     "metadata": {},
     "output_type": "execute_result"
    }
   ],
   "source": [
    "k"
   ]
  },
  {
   "cell_type": "code",
   "execution_count": 403,
   "metadata": {},
   "outputs": [
    {
     "data": {
      "text/plain": [
       "<tf.Tensor: shape=(1, 7, 6), dtype=float32, numpy=\n",
       "array([[[1.667719  , 0.100654  , 0.9134741 , 2.3894887 , 0.53350765,\n",
       "         2.2931623 ],\n",
       "        [2.3894887 , 0.53350765, 2.2931623 , 3.1112587 , 0.9663613 ,\n",
       "         3.6728508 ],\n",
       "        [3.1112587 , 0.9663613 , 3.6728508 , 3.8330286 , 1.399215  ,\n",
       "         5.0525393 ],\n",
       "        [3.8330286 , 1.399215  , 5.0525393 , 4.554798  , 1.8320686 ,\n",
       "         6.432227  ],\n",
       "        [4.554798  , 1.8320686 , 6.432227  , 5.2765684 , 2.264922  ,\n",
       "         7.811916  ],\n",
       "        [5.2765684 , 2.264922  , 7.811916  , 5.2765684 , 2.264922  ,\n",
       "         8.34999   ],\n",
       "        [0.3692714 , 1.9939451 , 8.34999   , 0.3692714 , 1.9939451 ,\n",
       "         8.34999   ]]], dtype=float32)>"
      ]
     },
     "execution_count": 403,
     "metadata": {},
     "output_type": "execute_result"
    }
   ],
   "source": [
    "k #свертка 2 раза, а не 1!!!"
   ]
  },
  {
   "cell_type": "code",
   "execution_count": 436,
   "metadata": {},
   "outputs": [],
   "source": [
    "import tensorflow as tf\n",
    "x = tf.constant([1., 2., 3., 4., 5., 6., 7])\n",
    "x = tf.reshape(x, [1, 7, 1])\n",
    "conv_1d = Conv1D(filters=25, kernel_size=3, padding='same', activation='relu',\n",
    "                         input_shape=([1, 7, 1]))\n",
    "\n",
    "conv_1d_5 = Conv1D(filters=5, kernel_size=3, padding='same', activation='relu',\n",
    "                         input_shape=([1, 7, 25]))\n",
    "#max_pool_1d = tf.keras.layers.MaxPooling1D(pool_size=2, strides=1, padding='same')\n",
    "k = conv_1d(x)\n",
    "kk2 = conv_1d_5(k)\n",
    "#kk = max_pool_1d(k)"
   ]
  },
  {
   "cell_type": "code",
   "execution_count": 437,
   "metadata": {},
   "outputs": [
    {
     "data": {
      "text/plain": [
       "<tf.Tensor: shape=(1, 7, 5), dtype=float32, numpy=\n",
       "array([[[0.        , 0.60671216, 0.694368  , 0.        , 0.        ],\n",
       "        [0.        , 0.71469116, 0.98949367, 0.        , 0.        ],\n",
       "        [0.        , 0.7249126 , 1.2461513 , 0.        , 0.        ],\n",
       "        [0.        , 0.78070444, 1.5122572 , 0.        , 0.        ],\n",
       "        [0.        , 0.8325567 , 1.771276  , 0.        , 0.        ],\n",
       "        [0.        , 0.        , 0.6524774 , 0.        , 0.28409478],\n",
       "        [0.        , 0.6246696 , 0.04834281, 0.        , 1.1027939 ]]],\n",
       "      dtype=float32)>"
      ]
     },
     "execution_count": 437,
     "metadata": {},
     "output_type": "execute_result"
    }
   ],
   "source": [
    "kk2"
   ]
  },
  {
   "cell_type": "code",
   "execution_count": 413,
   "metadata": {},
   "outputs": [
    {
     "data": {
      "text/plain": [
       "<tf.Tensor: shape=(1, 7, 5), dtype=float32, numpy=\n",
       "array([[[0.        , 0.        , 0.        , 0.12775722, 1.3829485 ],\n",
       "        [0.43955427, 0.        , 0.        , 0.3751788 , 2.5296407 ],\n",
       "        [0.89064807, 0.        , 0.        , 0.7073235 , 3.9164488 ],\n",
       "        [1.3417419 , 0.        , 0.        , 1.0394682 , 5.3032575 ],\n",
       "        [1.7928356 , 0.        , 0.        , 1.3716128 , 6.6900654 ],\n",
       "        [3.9878983 , 0.        , 0.        , 2.5080829 , 6.4465575 ],\n",
       "        [3.9132476 , 0.        , 0.        , 0.7996154 , 6.130576  ]]],\n",
       "      dtype=float32)>"
      ]
     },
     "execution_count": 413,
     "metadata": {},
     "output_type": "execute_result"
    }
   ],
   "source": [
    "k"
   ]
  },
  {
   "cell_type": "code",
   "execution_count": 414,
   "metadata": {},
   "outputs": [],
   "source": [
    "import tensorflow as tf\n",
    "x = tf.constant([1., 2., 3., 4., 5., 6., 7])\n",
    "x = tf.reshape(x, [1, 7, 1])\n",
    "max_pool_1d = tf.keras.layers.MaxPooling1D(pool_size=2, strides=1, padding='same')\n",
    "kk = max_pool_1d(x)"
   ]
  },
  {
   "cell_type": "code",
   "execution_count": 415,
   "metadata": {},
   "outputs": [
    {
     "data": {
      "text/plain": [
       "<tf.Tensor: shape=(1, 7, 1), dtype=float32, numpy=\n",
       "array([[[2.],\n",
       "        [3.],\n",
       "        [4.],\n",
       "        [5.],\n",
       "        [6.],\n",
       "        [7.],\n",
       "        [7.]]], dtype=float32)>"
      ]
     },
     "execution_count": 415,
     "metadata": {},
     "output_type": "execute_result"
    }
   ],
   "source": [
    "kk"
   ]
  },
  {
   "cell_type": "code",
   "execution_count": 416,
   "metadata": {},
   "outputs": [
    {
     "data": {
      "text/plain": [
       "<tf.Tensor: shape=(1, 7, 6), dtype=float32, numpy=\n",
       "array([[[2.        , 0.        , 0.        , 0.        , 0.12775722,\n",
       "         1.3829485 ],\n",
       "        [3.        , 0.43955427, 0.        , 0.        , 0.3751788 ,\n",
       "         2.5296407 ],\n",
       "        [4.        , 0.89064807, 0.        , 0.        , 0.7073235 ,\n",
       "         3.9164488 ],\n",
       "        [5.        , 1.3417419 , 0.        , 0.        , 1.0394682 ,\n",
       "         5.3032575 ],\n",
       "        [6.        , 1.7928356 , 0.        , 0.        , 1.3716128 ,\n",
       "         6.6900654 ],\n",
       "        [7.        , 3.9878983 , 0.        , 0.        , 2.5080829 ,\n",
       "         6.4465575 ],\n",
       "        [7.        , 3.9132476 , 0.        , 0.        , 0.7996154 ,\n",
       "         6.130576  ]]], dtype=float32)>"
      ]
     },
     "execution_count": 416,
     "metadata": {},
     "output_type": "execute_result"
    }
   ],
   "source": [
    "Concatenate(axis=-1)([kk, k])"
   ]
  },
  {
   "cell_type": "code",
   "execution_count": 544,
   "metadata": {},
   "outputs": [],
   "source": [
    "from keras.layers import ReLU"
   ]
  },
  {
   "cell_type": "code",
   "execution_count": 410,
   "metadata": {},
   "outputs": [
    {
     "data": {
      "text/plain": [
       "(10000, 50)"
      ]
     },
     "execution_count": 410,
     "metadata": {},
     "output_type": "execute_result"
    }
   ],
   "source": [
    "time_steps, n_features"
   ]
  }
 ],
 "metadata": {
  "kernelspec": {
   "display_name": "Python 3",
   "language": "python",
   "name": "python3"
  },
  "language_info": {
   "codemirror_mode": {
    "name": "ipython",
    "version": 3
   },
   "file_extension": ".py",
   "mimetype": "text/x-python",
   "name": "python",
   "nbconvert_exporter": "python",
   "pygments_lexer": "ipython3",
   "version": "3.8.3"
  }
 },
 "nbformat": 4,
 "nbformat_minor": 2
}
